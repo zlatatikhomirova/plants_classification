{
  "nbformat": 4,
  "nbformat_minor": 0,
  "metadata": {
    "colab": {
      "provenance": [],
      "gpuType": "T4"
    },
    "kernelspec": {
      "name": "python3",
      "display_name": "Python 3"
    },
    "language_info": {
      "name": "python"
    },
    "accelerator": "GPU"
  },
  "cells": [
    {
      "cell_type": "markdown",
      "source": [
        "# Классификация P. multifida и P. turczaninovii\n",
        "\n",
        "Этапы:\n",
        "1. Переименовать фотографии.\n",
        "2. Сделать датасет.\n",
        "3. Fine tune some NNs."
      ],
      "metadata": {
        "id": "Hc_keiiMzDuP"
      }
    },
    {
      "cell_type": "markdown",
      "source": [
        "## Installation"
      ],
      "metadata": {
        "id": "n9yayXbcId-B"
      }
    },
    {
      "cell_type": "markdown",
      "source": [
        "## Импорт библиотек"
      ],
      "metadata": {
        "id": "UJe9Wj8q0JYA"
      }
    },
    {
      "cell_type": "code",
      "source": [
        "import os\n",
        "import re\n",
        "import torch\n",
        "from torch.utils.data import Dataset, DataLoader, Subset\n",
        "import torchvision.transforms.v2 as v2\n",
        "import torchvision.transforms as T\n",
        "import PIL\n",
        "import numpy as np\n",
        "import torchvision\n",
        "import torch.nn as nn\n",
        "import torch.optim as optim\n",
        "import torch.nn.functional as F\n",
        "import torchvision.transforms as transforms\n",
        "from tqdm import tqdm\n",
        "import pandas as pd\n",
        "from PIL import Image\n",
        "from sklearn.metrics import f1_score, accuracy_score\n",
        "import matplotlib.pyplot as plt\n",
        "from sklearn.model_selection import train_test_split"
      ],
      "metadata": {
        "id": "2PuDjxHZ0Mly"
      },
      "execution_count": 1,
      "outputs": []
    },
    {
      "cell_type": "code",
      "source": [
        "from torchvision import models\n",
        "import cv2"
      ],
      "metadata": {
        "id": "4hCgOGWTJEat"
      },
      "execution_count": 2,
      "outputs": []
    },
    {
      "cell_type": "code",
      "source": [
        "import random\n",
        "\n",
        "def seed_everything(seed):\n",
        "    random.seed(seed)\n",
        "    os.environ['PYTHONHASHSEED'] = str(seed)\n",
        "    np.random.seed(seed)\n",
        "    torch.manual_seed(seed)\n",
        "    torch.cuda.manual_seed(seed)\n",
        "    torch.backends.cudnn.deterministic = True\n",
        "    torch.backends.cudnn.benchmark = True\n",
        "\n",
        "seed_everything(42)"
      ],
      "metadata": {
        "id": "Xf6vpU0bGKYu"
      },
      "execution_count": 3,
      "outputs": []
    },
    {
      "cell_type": "markdown",
      "source": [
        "## Важные переменные"
      ],
      "metadata": {
        "id": "F78rduht0PKm"
      }
    },
    {
      "cell_type": "code",
      "source": [
        "from google.colab import drive\n",
        "drive.mount('/content/drive')"
      ],
      "metadata": {
        "colab": {
          "base_uri": "https://localhost:8080/"
        },
        "id": "QtVMgI1y1W9v",
        "outputId": "fe714b2f-e094-4dbc-b09f-e0de31250169"
      },
      "execution_count": 4,
      "outputs": [
        {
          "output_type": "stream",
          "name": "stdout",
          "text": [
            "Mounted at /content/drive\n"
          ]
        }
      ]
    },
    {
      "cell_type": "code",
      "source": [
        "class1_folder = '/content/drive/MyDrive/plants_classification/P. multifida'\n",
        "class2_folder = '/content/drive/MyDrive/plants_classification/P. turczaninovii'\n",
        "hybrid_class_folder = '/content/drive/MyDrive/plants_classification/Hybrid'\n",
        "project_folder = '/content/drive/MyDrive/plants_classification'"
      ],
      "metadata": {
        "id": "5pWVN_-t0YEa"
      },
      "execution_count": 5,
      "outputs": []
    },
    {
      "cell_type": "code",
      "source": [
        "device = torch.device(\"cuda\" if torch.cuda.is_available() else \"cpu\")\n",
        "\n",
        "in_channel = 3\n",
        "num_classes = 2\n",
        "learning_rate = 3e-4\n",
        "batch_size = 20\n",
        "num_epochs = 500"
      ],
      "metadata": {
        "id": "PknRM3jRdahM"
      },
      "execution_count": 6,
      "outputs": []
    },
    {
      "cell_type": "code",
      "source": [
        "def balance_dataset(new_df: pd.DataFrame, colname: str) -> pd.DataFrame:\n",
        "    col_vals  = sorted(dict(new_df[colname].value_counts()).items(),\n",
        "                   key=lambda x: x[-1], reverse=True)\n",
        "\n",
        "    print(col_vals)\n",
        "\n",
        "    max_col_val = col_vals.pop(0)\n",
        "\n",
        "    for col_val in col_vals:\n",
        "\n",
        "        if (max_col_val[1] > col_val[1]):\n",
        "            nrecords = max_col_val[1] - col_val[1]\n",
        "            d, m = divmod(nrecords, col_val[1])\n",
        "            while d:\n",
        "                tmp = new_df.loc[new_df[colname] == col_val[0]].sample(n = col_val[1])\n",
        "                new_df = pd.concat([new_df, tmp], ignore_index=True)\n",
        "                d -= 1\n",
        "            if m:\n",
        "                tmp = new_df.loc[new_df[colname] == col_val[0]].sample(n = nrecords % col_val[1])\n",
        "                new_df = pd.concat([new_df, tmp], ignore_index=True)\n",
        "        else:\n",
        "            continue\n",
        "\n",
        "    return new_df"
      ],
      "metadata": {
        "id": "rRe1wHsX-58w"
      },
      "execution_count": 13,
      "outputs": []
    },
    {
      "cell_type": "code",
      "source": [
        "# SUPPORTED_IMAGE_FORMATS = (\"jpg\", \"png\", \"tif\", \"jpeg\", \"svg\")"
      ],
      "metadata": {
        "id": "DXUX3Yjf5RU2"
      },
      "execution_count": null,
      "outputs": []
    },
    {
      "cell_type": "markdown",
      "source": [
        "## Работа с данными"
      ],
      "metadata": {
        "id": "GYqNp9rU4Xn8"
      }
    },
    {
      "cell_type": "markdown",
      "source": [
        "### Переименование файлов"
      ],
      "metadata": {
        "id": "9heXcNuAy_Ts"
      }
    },
    {
      "cell_type": "code",
      "source": [
        "# def rename_files(directory, pattern):\n",
        "#     files = [f for f in os.listdir(directory) if os.path.isfile(os.path.join(directory, f))]\n",
        "#     files.sort()\n",
        "\n",
        "#     for i, filename in enumerate(files):\n",
        "#         base, ext = os.path.splitext(filename)\n",
        "#         if re.search(r'\\.(jpg|jpeg|png|gif|bmp)$', ext, re.IGNORECASE):\n",
        "#             new_filename = pattern.format(i+1) + ext\n",
        "#             old_path = os.path.join(directory, filename)\n",
        "#             new_path = os.path.join(directory, new_filename)\n",
        "#             os.rename(old_path, new_path)\n",
        "#             img = Image.open(new_path)\n",
        "#             img = img.resize((512, 512))\n",
        "#             img.save(new_path)\n",
        "#             print(f\"Переименован файл: {filename} -> {new_filename}\")"
      ],
      "metadata": {
        "id": "gerUjuLZznSi"
      },
      "execution_count": null,
      "outputs": []
    },
    {
      "cell_type": "code",
      "source": [
        "# for folder in (class1_folder, class2_folder):\n",
        "#   rename_files(os.path.join(folder, 'test'), \"image_{:03d}\")\n",
        "#   rename_files(os.path.join(folder, 'train'), \"image_{:03d}\")"
      ],
      "metadata": {
        "id": "m5P_4PK80FId"
      },
      "execution_count": null,
      "outputs": []
    },
    {
      "cell_type": "code",
      "source": [
        "# rename_files(hybrid_class_folder, \"image_{:03d}\")"
      ],
      "metadata": {
        "id": "5I5xU06m2sXD"
      },
      "execution_count": null,
      "outputs": []
    },
    {
      "cell_type": "markdown",
      "source": [
        "### Создание аннотаций"
      ],
      "metadata": {
        "id": "f08gSfFo6CQh"
      }
    },
    {
      "cell_type": "code",
      "source": [
        "annot_dict = {'name': [],\n",
        "              'target': [],\n",
        "              'mode': []}\n",
        "\n",
        "for mode in (\"train\", \"test\"):\n",
        "  for folder, label in ((class1_folder, 'P. multifida'),\n",
        "                        (class2_folder, 'P. turczaninovii'),\n",
        "                        (hybrid_class_folder, 'Hybrid')):\n",
        "    for f in os.listdir(os.path.join(folder, mode)):\n",
        "      annot_dict['name'] += [os.path.join(folder, mode, f)]\n",
        "      annot_dict['target'] += [label]\n",
        "      annot_dict['mode'] += [mode]"
      ],
      "metadata": {
        "id": "1KxKqOh26GAZ"
      },
      "execution_count": 7,
      "outputs": []
    },
    {
      "cell_type": "code",
      "source": [
        "# list(map(len, [annot_dict[key] for key in annot_dict.keys()]))"
      ],
      "metadata": {
        "id": "7ec55wlLMB_S"
      },
      "execution_count": null,
      "outputs": []
    },
    {
      "cell_type": "code",
      "source": [
        "annot_df = pd.DataFrame(annot_dict)"
      ],
      "metadata": {
        "id": "NStrx_y76crJ"
      },
      "execution_count": 8,
      "outputs": []
    },
    {
      "cell_type": "code",
      "source": [
        "annot_df.target.value_counts()"
      ],
      "metadata": {
        "colab": {
          "base_uri": "https://localhost:8080/",
          "height": 209
        },
        "id": "_3lRVaP36eUZ",
        "outputId": "45e19935-380d-45bc-96f3-8af070e81a46"
      },
      "execution_count": 10,
      "outputs": [
        {
          "output_type": "execute_result",
          "data": {
            "text/plain": [
              "target\n",
              "P. multifida        52\n",
              "P. turczaninovii    52\n",
              "Hybrid              10\n",
              "Name: count, dtype: int64"
            ],
            "text/html": [
              "<div>\n",
              "<style scoped>\n",
              "    .dataframe tbody tr th:only-of-type {\n",
              "        vertical-align: middle;\n",
              "    }\n",
              "\n",
              "    .dataframe tbody tr th {\n",
              "        vertical-align: top;\n",
              "    }\n",
              "\n",
              "    .dataframe thead th {\n",
              "        text-align: right;\n",
              "    }\n",
              "</style>\n",
              "<table border=\"1\" class=\"dataframe\">\n",
              "  <thead>\n",
              "    <tr style=\"text-align: right;\">\n",
              "      <th></th>\n",
              "      <th>count</th>\n",
              "    </tr>\n",
              "    <tr>\n",
              "      <th>target</th>\n",
              "      <th></th>\n",
              "    </tr>\n",
              "  </thead>\n",
              "  <tbody>\n",
              "    <tr>\n",
              "      <th>P. multifida</th>\n",
              "      <td>52</td>\n",
              "    </tr>\n",
              "    <tr>\n",
              "      <th>P. turczaninovii</th>\n",
              "      <td>52</td>\n",
              "    </tr>\n",
              "    <tr>\n",
              "      <th>Hybrid</th>\n",
              "      <td>10</td>\n",
              "    </tr>\n",
              "  </tbody>\n",
              "</table>\n",
              "</div><br><label><b>dtype:</b> int64</label>"
            ]
          },
          "metadata": {},
          "execution_count": 10
        }
      ]
    },
    {
      "cell_type": "code",
      "source": [
        "os.makedirs('/content/drive/MyDrive/plants_classification/annotations', exist_ok=True)"
      ],
      "metadata": {
        "id": "0fSfDKViAh1z"
      },
      "execution_count": 17,
      "outputs": []
    },
    {
      "cell_type": "code",
      "source": [
        "annot_df = pd.DataFrame(annot_dict)\n",
        "annot_df.to_csv(os.path.join('/content/drive/MyDrive/plants_classification/annotations', 'annotations_3_classes.csv'))"
      ],
      "metadata": {
        "id": "svHu-8yP_oTM"
      },
      "execution_count": 18,
      "outputs": []
    },
    {
      "cell_type": "markdown",
      "source": [
        "### Преобразование меток"
      ],
      "metadata": {
        "id": "O0YBu9eN_1io"
      }
    },
    {
      "cell_type": "code",
      "source": [
        "annot_df = pd.read_csv('/content/drive/MyDrive/plants_classification/annotations/annotations_3_classes.csv')\n",
        "\n",
        "annot_df = annot_df.drop(columns=['mode'])\n",
        "\n",
        "df_multifida = annot_df.copy()\n",
        "df_turczaninovii = annot_df.copy()\n",
        "df_hybrid = annot_df.copy()"
      ],
      "metadata": {
        "id": "EOjDhiKNeb3z"
      },
      "execution_count": 27,
      "outputs": []
    },
    {
      "cell_type": "code",
      "source": [
        "df_multifida['target'] = df_multifida['target'].map({'P. multifida': 1, 'P. turczaninovii': 0, 'Hybrid': 0})\n",
        "df_turczaninovii['target'] = df_turczaninovii['target'].map({'P. multifida': 0, 'P. turczaninovii': 1, 'Hybrid': 0})\n",
        "df_hybrid['target'] = df_hybrid['target'].map({'P. multifida': 0, 'P. turczaninovii': 0, 'Hybrid': 1})"
      ],
      "metadata": {
        "id": "GbqM_uM__8bU"
      },
      "execution_count": 28,
      "outputs": []
    },
    {
      "cell_type": "code",
      "source": [
        "df_multifida = balance_dataset(df_multifida, 'target')\n",
        "df_turczaninovii = balance_dataset(df_turczaninovii, 'target')\n",
        "df_hybrid = balance_dataset(df_hybrid, 'target')"
      ],
      "metadata": {
        "colab": {
          "base_uri": "https://localhost:8080/"
        },
        "id": "kBBQngRM-jqf",
        "outputId": "2dabe456-f99c-4822-e585-e0846aa08375"
      },
      "execution_count": 29,
      "outputs": [
        {
          "output_type": "stream",
          "name": "stdout",
          "text": [
            "[(0, np.int64(62)), (1, np.int64(52))]\n",
            "[(0, np.int64(62)), (1, np.int64(52))]\n",
            "[(0, np.int64(104)), (1, np.int64(10))]\n"
          ]
        }
      ]
    },
    {
      "cell_type": "markdown",
      "source": [
        "### Создание датасета"
      ],
      "metadata": {
        "id": "KB5zpezbzm-q"
      }
    },
    {
      "cell_type": "code",
      "source": [
        "train_img_preprocessing = v2.Compose([\n",
        "        T.RandomHorizontalFlip(),\n",
        "        T.RandomVerticalFlip(),\n",
        "        T.RandomRotation(40),\n",
        "        T.Resize((224, 224)),\n",
        "        T.ToTensor(),\n",
        "        T.Normalize([0.485, 0.456, 0.406], [0.229, 0.224, 0.225])\n",
        "    ])\n",
        "\n",
        "base_img_preprocessing = v2.Compose([\n",
        "        T.Resize((224, 224)),\n",
        "        T.ToTensor(),\n",
        "        T.Normalize([0.485, 0.456, 0.406], [0.229, 0.224, 0.225])\n",
        "    ])"
      ],
      "metadata": {
        "id": "iKErdm6v0CI0"
      },
      "execution_count": 32,
      "outputs": []
    },
    {
      "cell_type": "code",
      "source": [
        "class PlantsDataset(Dataset):\n",
        "  def __init__(self,\n",
        "               annot_df: pd.DataFrame,\n",
        "               preprocessing: v2.Compose = base_img_preprocessing):\n",
        "\n",
        "    self.X_ids = annot_df.name.values\n",
        "    self.y_vals = annot_df.target.values\n",
        "    self.img_preprocessing = preprocessing\n",
        "\n",
        "  def __len__(self):\n",
        "    return self.X_ids.__len__()\n",
        "\n",
        "  def __getitem__(self, index: int):\n",
        "    X = Image.open(self.X_ids[index]).convert('RGB')\n",
        "    X = self.img_preprocessing(X)\n",
        "    y = torch.tensor(int(self.y_vals[index]))\n",
        "    return (X, y)"
      ],
      "metadata": {
        "id": "yjxWHUc04f1N"
      },
      "execution_count": 33,
      "outputs": []
    },
    {
      "cell_type": "code",
      "source": [
        "# Load Data\n",
        "dataset = PlantsDataset(\n",
        "    annot_df,\n",
        "    preprocessing = train_img_preprocessing\n",
        ")\n",
        "\n",
        "train_records = annot_df\n",
        "train_indexes = train_records.index.values\n",
        "train_targets = train_records.target.values\n",
        "train_indices, val_indices, _, _ = train_test_split(train_indexes, train_targets,\n",
        "                                                    train_size=0.8,\n",
        "                                                    stratify=train_targets)\n",
        "\n",
        "train_set, val_set = Subset(dataset, train_indices), Subset(dataset, val_indices)\n",
        "\n",
        "train_loader = DataLoader(dataset=train_set, batch_size=batch_size,\n",
        "                          drop_last=True)\n",
        "val_loader = DataLoader(dataset=val_set, batch_size=batch_size,\n",
        "                        drop_last=True)"
      ],
      "metadata": {
        "id": "0HogllpSMDrn"
      },
      "execution_count": null,
      "outputs": []
    },
    {
      "cell_type": "code",
      "execution_count": null,
      "metadata": {
        "id": "6xFtyZsinSrA"
      },
      "outputs": [],
      "source": [
        "model = torchvision.models.resnet50(weights=\"DEFAULT\")\n",
        "\n",
        "for param in model.parameters():\n",
        "    param.requires_grad = False\n",
        "for param in model.fc.parameters():\n",
        "    param.requires_grad = False\n",
        "\n",
        "model.fc = nn.Linear(in_features=2048, out_features=3, bias=True)\n",
        "model.to(device);"
      ]
    },
    {
      "cell_type": "code",
      "source": [
        "# Путь для сохранения модели и графиков\n",
        "model_save_path = \"/content/drive/MyDrive/plants_classification/models/resnet50_3classes_500ep.pth\"\n",
        "plots_save_dir = \"/content/drive/MyDrive/plants_classification/training_plots\"\n",
        "os.makedirs(plots_save_dir, exist_ok=True) # Создаем папку, если ее нет\n",
        "\n",
        "# Loss function and optimizer\n",
        "criterion = nn.CrossEntropyLoss()  # Подходит для многоклассовой классификации\n",
        "optimizer = optim.Adam(model.parameters(), lr=learning_rate)\n",
        "\n",
        "# Списки для хранения значений loss и метрик\n",
        "train_losses = []\n",
        "val_losses = []\n",
        "val_f1_scores = []\n",
        "val_accuracies = []\n",
        "\n",
        "best_val_loss = float('inf')  # Для сохранения лучшей модели\n",
        "\n",
        "# Train Network\n",
        "for epoch in range(num_epochs):\n",
        "    train_losses_epoch = [] # Loss за батч в эпоху\n",
        "    model.train() # Переводим модель в режим обучения\n",
        "\n",
        "    loop = tqdm(train_loader, desc=f\"Epoch {epoch+1}/{num_epochs}\")\n",
        "    for batch_idx, (data, targets) in enumerate(train_loader):\n",
        "        # Get data to device\n",
        "        data = data.to(device)\n",
        "        targets = targets.to(device)\n",
        "\n",
        "        # forward\n",
        "        scores = model(data)\n",
        "        loss = criterion(scores, targets)\n",
        "\n",
        "        train_losses_epoch.append(loss.item())\n",
        "\n",
        "        # backward\n",
        "        optimizer.zero_grad()\n",
        "        loss.backward()\n",
        "\n",
        "        # gradient descent or adam step\n",
        "        optimizer.step()\n",
        "\n",
        "        # Обновляем tqdm progress bar с информацией о loss\n",
        "        loop.set_postfix(loss=loss.item())\n",
        "\n",
        "    # Вычисляем средний loss за эпоху (обучение)\n",
        "    train_loss_epoch = sum(train_losses_epoch) / len(train_losses_epoch)\n",
        "    train_losses.append(train_loss_epoch) # Сохраняем средний loss за эпоху\n",
        "\n",
        "\n",
        "    # --- Validation phase ---\n",
        "    model.eval()  # Переводим модель в режим оценки\n",
        "    val_loss_epoch = 0.0\n",
        "    all_predictions = []\n",
        "    all_targets = []\n",
        "\n",
        "    with torch.no_grad():\n",
        "        for data, targets in val_loader:\n",
        "            data = data.to(device)\n",
        "            targets = targets.to(device)\n",
        "\n",
        "            scores = model(data)\n",
        "            loss = criterion(scores, targets)\n",
        "\n",
        "            val_loss_epoch += loss.item()\n",
        "\n",
        "            _, predictions = torch.max(scores, dim=1)\n",
        "\n",
        "            all_predictions.extend(predictions.cpu().numpy())\n",
        "            all_targets.extend(targets.cpu().numpy())\n",
        "\n",
        "\n",
        "\n",
        "    val_loss_epoch /= len(val_loader) # Важно! Делим на кол-во батчей\n",
        "    val_losses.append(val_loss_epoch)\n",
        "\n",
        "\n",
        "    # Вычисляем метрики (F1 score и Accuracy)\n",
        "    val_f1 = f1_score(all_targets, all_predictions, average='weighted')\n",
        "    val_accuracy = accuracy_score(all_targets, all_predictions)\n",
        "    val_f1_scores.append(val_f1)\n",
        "    val_accuracies.append(val_accuracy)\n",
        "\n",
        "    print(f\"Epoch {epoch+1}/{num_epochs}, Train Loss: {train_loss_epoch:.4f}, Validation Loss: {val_loss_epoch:.4f}, F1 Score: {val_f1:.4f}, Accuracy: {val_accuracy:.4f}\")\n",
        "\n",
        "\n",
        "    # Save the best model based on F1 score\n",
        "    if val_loss_epoch < best_val_loss:\n",
        "        best_val_loss = val_loss_epoch\n",
        "        torch.save(model.state_dict(), model_save_path)  # Сохраняем веса модели\n",
        "        print(f\"Best model saved with F1 score: {val_loss_epoch:.4f}\")"
      ],
      "metadata": {
        "colab": {
          "base_uri": "https://localhost:8080/"
        },
        "id": "rL2J11_zKEsI",
        "outputId": "eb1b19a3-4336-417d-b5e9-f19e3ac5e4b5"
      },
      "execution_count": null,
      "outputs": [
        {
          "output_type": "stream",
          "name": "stderr",
          "text": [
            "Epoch 1/500:   0%|          | 0/4 [00:35<?, ?it/s, loss=0.713]\n",
            "Epoch 1/500:   0%|          | 0/4 [00:14<?, ?it/s, loss=0.673]"
          ]
        },
        {
          "output_type": "stream",
          "name": "stdout",
          "text": [
            "Epoch 1/500, Train Loss: 0.6724, Validation Loss: 0.7350, F1 Score: 0.2793, Accuracy: 0.4500\n",
            "Best model saved with F1 score: 0.7350\n"
          ]
        },
        {
          "output_type": "stream",
          "name": "stderr",
          "text": [
            "\n",
            "Epoch 1/500:   0%|          | 0/4 [00:22<?, ?it/s, loss=0.673]\n",
            "\n",
            "Epoch 2/500:   0%|          | 0/4 [00:00<?, ?it/s, loss=0.674]\u001b[A\n",
            "Epoch 2/500:   0%|          | 0/4 [00:00<?, ?it/s, loss=0.657]\u001b[A\n",
            "Epoch 2/500:   0%|          | 0/4 [00:00<?, ?it/s, loss=0.665]\u001b[A\n",
            "Epoch 2/500:   0%|          | 0/4 [00:01<?, ?it/s, loss=0.655]\u001b[A"
          ]
        },
        {
          "output_type": "stream",
          "name": "stdout",
          "text": [
            "Epoch 2/500, Train Loss: 0.6627, Validation Loss: 0.7157, F1 Score: 0.2793, Accuracy: 0.4500\n",
            "Best model saved with F1 score: 0.7157\n"
          ]
        },
        {
          "output_type": "stream",
          "name": "stderr",
          "text": [
            "Epoch 2/500:   0%|          | 0/4 [00:01<?, ?it/s, loss=0.655]\n",
            "Epoch 3/500:   0%|          | 0/4 [00:01<?, ?it/s, loss=0.65]"
          ]
        },
        {
          "output_type": "stream",
          "name": "stdout",
          "text": [
            "Epoch 3/500, Train Loss: 0.6500, Validation Loss: 0.6792, F1 Score: 0.3810, Accuracy: 0.5000\n",
            "Best model saved with F1 score: 0.6792\n"
          ]
        },
        {
          "output_type": "stream",
          "name": "stderr",
          "text": [
            "\n",
            "Epoch 3/500:   0%|          | 0/4 [00:01<?, ?it/s, loss=0.65]\n",
            "\n",
            "Epoch 4/500:   0%|          | 0/4 [00:00<?, ?it/s, loss=0.627]\u001b[A\n",
            "Epoch 4/500:   0%|          | 0/4 [00:00<?, ?it/s, loss=0.632]\u001b[A\n",
            "Epoch 4/500:   0%|          | 0/4 [00:01<?, ?it/s, loss=0.64] \u001b[A\n",
            "Epoch 4/500:   0%|          | 0/4 [00:01<?, ?it/s, loss=0.629]\u001b[A"
          ]
        },
        {
          "output_type": "stream",
          "name": "stdout",
          "text": [
            "Epoch 4/500, Train Loss: 0.6319, Validation Loss: 0.6311, F1 Score: 0.4692, Accuracy: 0.5500\n",
            "Best model saved with F1 score: 0.6311\n"
          ]
        },
        {
          "output_type": "stream",
          "name": "stderr",
          "text": [
            "Epoch 4/500:   0%|          | 0/4 [00:02<?, ?it/s, loss=0.629]\n",
            "Epoch 5/500:   0%|          | 0/4 [00:01<?, ?it/s, loss=0.607]"
          ]
        },
        {
          "output_type": "stream",
          "name": "stdout",
          "text": [
            "Epoch 5/500, Train Loss: 0.6150, Validation Loss: 0.6127, F1 Score: 0.8489, Accuracy: 0.8500\n",
            "Best model saved with F1 score: 0.6127\n"
          ]
        },
        {
          "output_type": "stream",
          "name": "stderr",
          "text": [
            "\n",
            "Epoch 5/500:   0%|          | 0/4 [00:02<?, ?it/s, loss=0.607]\n",
            "\n",
            "Epoch 6/500:   0%|          | 0/4 [00:00<?, ?it/s, loss=0.604]\u001b[A\n",
            "Epoch 6/500:   0%|          | 0/4 [00:00<?, ?it/s, loss=0.611]\u001b[A\n",
            "Epoch 6/500:   0%|          | 0/4 [00:01<?, ?it/s, loss=0.609]\u001b[A\n",
            "Epoch 6/500:   0%|          | 0/4 [00:01<?, ?it/s, loss=0.602]\u001b[A"
          ]
        },
        {
          "output_type": "stream",
          "name": "stdout",
          "text": [
            "Epoch 6/500, Train Loss: 0.6065, Validation Loss: 0.5962, F1 Score: 0.6173, Accuracy: 0.6500\n",
            "Best model saved with F1 score: 0.5962\n"
          ]
        },
        {
          "output_type": "stream",
          "name": "stderr",
          "text": [
            "Epoch 6/500:   0%|          | 0/4 [00:02<?, ?it/s, loss=0.602]\n",
            "Epoch 7/500:   0%|          | 0/4 [00:01<?, ?it/s, loss=0.563]"
          ]
        },
        {
          "output_type": "stream",
          "name": "stdout",
          "text": [
            "Epoch 7/500, Train Loss: 0.5928, Validation Loss: 0.6084, F1 Score: 0.7404, Accuracy: 0.7500\n"
          ]
        },
        {
          "output_type": "stream",
          "name": "stderr",
          "text": [
            "\n",
            "Epoch 7/500:   0%|          | 0/4 [00:01<?, ?it/s, loss=0.563]\n",
            "\n",
            "Epoch 8/500:   0%|          | 0/4 [00:00<?, ?it/s, loss=0.537]\u001b[A\n",
            "Epoch 8/500:   0%|          | 0/4 [00:00<?, ?it/s, loss=0.575]\u001b[A\n",
            "Epoch 8/500:   0%|          | 0/4 [00:00<?, ?it/s, loss=0.58] \u001b[A\n",
            "Epoch 8/500:   0%|          | 0/4 [00:00<?, ?it/s, loss=0.564]\u001b[A"
          ]
        },
        {
          "output_type": "stream",
          "name": "stdout",
          "text": [
            "Epoch 8/500, Train Loss: 0.5641, Validation Loss: 0.6163, F1 Score: 0.6813, Accuracy: 0.7000\n"
          ]
        },
        {
          "output_type": "stream",
          "name": "stderr",
          "text": [
            "Epoch 8/500:   0%|          | 0/4 [00:01<?, ?it/s, loss=0.564]\n",
            "Epoch 9/500:   0%|          | 0/4 [00:00<?, ?it/s, loss=0.524]"
          ]
        },
        {
          "output_type": "stream",
          "name": "stdout",
          "text": [
            "Epoch 9/500, Train Loss: 0.5482, Validation Loss: 0.5844, F1 Score: 0.8489, Accuracy: 0.8500\n",
            "Best model saved with F1 score: 0.5844\n"
          ]
        },
        {
          "output_type": "stream",
          "name": "stderr",
          "text": [
            "\n",
            "Epoch 9/500:   0%|          | 0/4 [00:01<?, ?it/s, loss=0.524]\n",
            "\n",
            "Epoch 10/500:   0%|          | 0/4 [00:00<?, ?it/s, loss=0.561]\u001b[A\n",
            "Epoch 10/500:   0%|          | 0/4 [00:00<?, ?it/s, loss=0.571]\u001b[A\n",
            "Epoch 10/500:   0%|          | 0/4 [00:00<?, ?it/s, loss=0.568]\u001b[A\n",
            "Epoch 10/500:   0%|          | 0/4 [00:01<?, ?it/s, loss=0.559]\u001b[A"
          ]
        },
        {
          "output_type": "stream",
          "name": "stdout",
          "text": [
            "Epoch 10/500, Train Loss: 0.5651, Validation Loss: 0.5629, F1 Score: 0.8504, Accuracy: 0.8500\n",
            "Best model saved with F1 score: 0.5629\n"
          ]
        },
        {
          "output_type": "stream",
          "name": "stderr",
          "text": [
            "Epoch 10/500:   0%|          | 0/4 [00:02<?, ?it/s, loss=0.559]\n",
            "Epoch 11/500:   0%|          | 0/4 [00:01<?, ?it/s, loss=0.514]"
          ]
        },
        {
          "output_type": "stream",
          "name": "stdout",
          "text": [
            "Epoch 11/500, Train Loss: 0.5385, Validation Loss: 0.5350, F1 Score: 0.9501, Accuracy: 0.9500\n",
            "Best model saved with F1 score: 0.5350\n"
          ]
        },
        {
          "output_type": "stream",
          "name": "stderr",
          "text": [
            "\n",
            "Epoch 11/500:   0%|          | 0/4 [00:01<?, ?it/s, loss=0.514]\n",
            "\n",
            "Epoch 12/500:   0%|          | 0/4 [00:00<?, ?it/s, loss=0.517]\u001b[A\n",
            "Epoch 12/500:   0%|          | 0/4 [00:00<?, ?it/s, loss=0.569]\u001b[A\n",
            "Epoch 12/500:   0%|          | 0/4 [00:00<?, ?it/s, loss=0.553]\u001b[A\n",
            "Epoch 12/500:   0%|          | 0/4 [00:01<?, ?it/s, loss=0.556]\u001b[A"
          ]
        },
        {
          "output_type": "stream",
          "name": "stdout",
          "text": [
            "Epoch 12/500, Train Loss: 0.5488, Validation Loss: 0.5249, F1 Score: 1.0000, Accuracy: 1.0000\n",
            "Best model saved with F1 score: 0.5249\n"
          ]
        },
        {
          "output_type": "stream",
          "name": "stderr",
          "text": [
            "Epoch 12/500:   0%|          | 0/4 [00:02<?, ?it/s, loss=0.556]\n",
            "Epoch 13/500:   0%|          | 0/4 [00:01<?, ?it/s, loss=0.456]"
          ]
        },
        {
          "output_type": "stream",
          "name": "stdout",
          "text": [
            "Epoch 13/500, Train Loss: 0.4880, Validation Loss: 0.5149, F1 Score: 1.0000, Accuracy: 1.0000\n",
            "Best model saved with F1 score: 0.5149\n"
          ]
        },
        {
          "output_type": "stream",
          "name": "stderr",
          "text": [
            "\n",
            "Epoch 13/500:   0%|          | 0/4 [00:02<?, ?it/s, loss=0.456]\n",
            "\n",
            "Epoch 14/500:   0%|          | 0/4 [00:00<?, ?it/s, loss=0.49]\u001b[A\n",
            "Epoch 14/500:   0%|          | 0/4 [00:00<?, ?it/s, loss=0.506]\u001b[A\n",
            "Epoch 14/500:   0%|          | 0/4 [00:00<?, ?it/s, loss=0.53] \u001b[A\n",
            "Epoch 14/500:   0%|          | 0/4 [00:01<?, ?it/s, loss=0.542]\u001b[A"
          ]
        },
        {
          "output_type": "stream",
          "name": "stdout",
          "text": [
            "Epoch 14/500, Train Loss: 0.5169, Validation Loss: 0.4875, F1 Score: 1.0000, Accuracy: 1.0000\n",
            "Best model saved with F1 score: 0.4875\n"
          ]
        },
        {
          "output_type": "stream",
          "name": "stderr",
          "text": [
            "Epoch 14/500:   0%|          | 0/4 [00:01<?, ?it/s, loss=0.542]\n",
            "Epoch 15/500:   0%|          | 0/4 [00:01<?, ?it/s, loss=0.484]"
          ]
        },
        {
          "output_type": "stream",
          "name": "stdout",
          "text": [
            "Epoch 15/500, Train Loss: 0.4955, Validation Loss: 0.4957, F1 Score: 0.9501, Accuracy: 0.9500\n"
          ]
        },
        {
          "output_type": "stream",
          "name": "stderr",
          "text": [
            "\n",
            "Epoch 15/500:   0%|          | 0/4 [00:01<?, ?it/s, loss=0.484]\n",
            "\n",
            "Epoch 16/500:   0%|          | 0/4 [00:00<?, ?it/s, loss=0.433]\u001b[A\n",
            "Epoch 16/500:   0%|          | 0/4 [00:00<?, ?it/s, loss=0.45] \u001b[A\n",
            "Epoch 16/500:   0%|          | 0/4 [00:00<?, ?it/s, loss=0.534]\u001b[A\n",
            "Epoch 16/500:   0%|          | 0/4 [00:00<?, ?it/s, loss=0.448]\u001b[A"
          ]
        },
        {
          "output_type": "stream",
          "name": "stdout",
          "text": [
            "Epoch 16/500, Train Loss: 0.4662, Validation Loss: 0.5016, F1 Score: 0.9501, Accuracy: 0.9500\n"
          ]
        },
        {
          "output_type": "stream",
          "name": "stderr",
          "text": [
            "Epoch 16/500:   0%|          | 0/4 [00:01<?, ?it/s, loss=0.448]\n",
            "Epoch 17/500:   0%|          | 0/4 [00:00<?, ?it/s, loss=0.491]"
          ]
        },
        {
          "output_type": "stream",
          "name": "stdout",
          "text": [
            "Epoch 17/500, Train Loss: 0.4483, Validation Loss: 0.4772, F1 Score: 0.9501, Accuracy: 0.9500\n",
            "Best model saved with F1 score: 0.4772\n"
          ]
        },
        {
          "output_type": "stream",
          "name": "stderr",
          "text": [
            "\n",
            "Epoch 17/500:   0%|          | 0/4 [00:01<?, ?it/s, loss=0.491]\n",
            "\n",
            "Epoch 18/500:   0%|          | 0/4 [00:00<?, ?it/s, loss=0.467]\u001b[A\n",
            "Epoch 18/500:   0%|          | 0/4 [00:00<?, ?it/s, loss=0.43] \u001b[A\n",
            "Epoch 18/500:   0%|          | 0/4 [00:01<?, ?it/s, loss=0.506]\u001b[A\n",
            "Epoch 18/500:   0%|          | 0/4 [00:01<?, ?it/s, loss=0.467]\u001b[A"
          ]
        },
        {
          "output_type": "stream",
          "name": "stdout",
          "text": [
            "Epoch 18/500, Train Loss: 0.4673, Validation Loss: 0.4769, F1 Score: 1.0000, Accuracy: 1.0000\n",
            "Best model saved with F1 score: 0.4769\n"
          ]
        },
        {
          "output_type": "stream",
          "name": "stderr",
          "text": [
            "Epoch 18/500:   0%|          | 0/4 [00:02<?, ?it/s, loss=0.467]\n",
            "Epoch 19/500:   0%|          | 0/4 [00:01<?, ?it/s, loss=0.457]"
          ]
        },
        {
          "output_type": "stream",
          "name": "stdout",
          "text": [
            "Epoch 19/500, Train Loss: 0.4302, Validation Loss: 0.4762, F1 Score: 0.9000, Accuracy: 0.9000\n",
            "Best model saved with F1 score: 0.4762\n"
          ]
        },
        {
          "output_type": "stream",
          "name": "stderr",
          "text": [
            "\n",
            "Epoch 19/500:   0%|          | 0/4 [00:02<?, ?it/s, loss=0.457]\n",
            "\n",
            "Epoch 20/500:   0%|          | 0/4 [00:00<?, ?it/s, loss=0.41]\u001b[A\n",
            "Epoch 20/500:   0%|          | 0/4 [00:00<?, ?it/s, loss=0.479]\u001b[A\n",
            "Epoch 20/500:   0%|          | 0/4 [00:01<?, ?it/s, loss=0.502]\u001b[A\n",
            "Epoch 20/500:   0%|          | 0/4 [00:01<?, ?it/s, loss=0.45] \u001b[A"
          ]
        },
        {
          "output_type": "stream",
          "name": "stdout",
          "text": [
            "Epoch 20/500, Train Loss: 0.4602, Validation Loss: 0.4608, F1 Score: 1.0000, Accuracy: 1.0000\n",
            "Best model saved with F1 score: 0.4608\n"
          ]
        },
        {
          "output_type": "stream",
          "name": "stderr",
          "text": [
            "Epoch 20/500:   0%|          | 0/4 [00:02<?, ?it/s, loss=0.45]\n",
            "Epoch 21/500:   0%|          | 0/4 [00:01<?, ?it/s, loss=0.422]"
          ]
        },
        {
          "output_type": "stream",
          "name": "stdout",
          "text": [
            "Epoch 21/500, Train Loss: 0.4604, Validation Loss: 0.4541, F1 Score: 1.0000, Accuracy: 1.0000\n",
            "Best model saved with F1 score: 0.4541\n"
          ]
        },
        {
          "output_type": "stream",
          "name": "stderr",
          "text": [
            "\n",
            "Epoch 21/500:   0%|          | 0/4 [00:01<?, ?it/s, loss=0.422]\n",
            "\n",
            "Epoch 22/500:   0%|          | 0/4 [00:00<?, ?it/s, loss=0.433]\u001b[A\n",
            "Epoch 22/500:   0%|          | 0/4 [00:01<?, ?it/s, loss=0.471]\u001b[A\n",
            "Epoch 22/500:   0%|          | 0/4 [00:01<?, ?it/s, loss=0.469]\u001b[A\n",
            "Epoch 22/500:   0%|          | 0/4 [00:01<?, ?it/s, loss=0.435]\u001b[A"
          ]
        },
        {
          "output_type": "stream",
          "name": "stdout",
          "text": [
            "Epoch 22/500, Train Loss: 0.4521, Validation Loss: 0.4040, F1 Score: 1.0000, Accuracy: 1.0000\n",
            "Best model saved with F1 score: 0.4040\n"
          ]
        },
        {
          "output_type": "stream",
          "name": "stderr",
          "text": [
            "Epoch 22/500:   0%|          | 0/4 [00:02<?, ?it/s, loss=0.435]\n",
            "Epoch 23/500:   0%|          | 0/4 [00:01<?, ?it/s, loss=0.43] "
          ]
        },
        {
          "output_type": "stream",
          "name": "stdout",
          "text": [
            "Epoch 23/500, Train Loss: 0.4332, Validation Loss: 0.4368, F1 Score: 1.0000, Accuracy: 1.0000\n"
          ]
        },
        {
          "output_type": "stream",
          "name": "stderr",
          "text": [
            "\n",
            "Epoch 23/500:   0%|          | 0/4 [00:01<?, ?it/s, loss=0.43]\n",
            "\n",
            "Epoch 24/500:   0%|          | 0/4 [00:00<?, ?it/s, loss=0.319]\u001b[A\n",
            "Epoch 24/500:   0%|          | 0/4 [00:00<?, ?it/s, loss=0.37] \u001b[A\n",
            "Epoch 24/500:   0%|          | 0/4 [00:01<?, ?it/s, loss=0.411]\u001b[A\n",
            "Epoch 24/500:   0%|          | 0/4 [00:01<?, ?it/s, loss=0.44] \u001b[A"
          ]
        },
        {
          "output_type": "stream",
          "name": "stdout",
          "text": [
            "Epoch 24/500, Train Loss: 0.3851, Validation Loss: 0.4386, F1 Score: 1.0000, Accuracy: 1.0000\n"
          ]
        },
        {
          "output_type": "stream",
          "name": "stderr",
          "text": [
            "Epoch 24/500:   0%|          | 0/4 [00:02<?, ?it/s, loss=0.44]\n",
            "Epoch 25/500:   0%|          | 0/4 [00:01<?, ?it/s, loss=0.327]"
          ]
        },
        {
          "output_type": "stream",
          "name": "stdout",
          "text": [
            "Epoch 25/500, Train Loss: 0.3706, Validation Loss: 0.4162, F1 Score: 1.0000, Accuracy: 1.0000\n"
          ]
        },
        {
          "output_type": "stream",
          "name": "stderr",
          "text": [
            "\n",
            "Epoch 25/500:   0%|          | 0/4 [00:01<?, ?it/s, loss=0.327]\n",
            "\n",
            "Epoch 26/500:   0%|          | 0/4 [00:00<?, ?it/s, loss=0.367]\u001b[A\n",
            "Epoch 26/500:   0%|          | 0/4 [00:00<?, ?it/s, loss=0.448]\u001b[A\n",
            "Epoch 26/500:   0%|          | 0/4 [00:00<?, ?it/s, loss=0.445]\u001b[A\n",
            "Epoch 26/500:   0%|          | 0/4 [00:01<?, ?it/s, loss=0.372]\u001b[A"
          ]
        },
        {
          "output_type": "stream",
          "name": "stdout",
          "text": [
            "Epoch 26/500, Train Loss: 0.4080, Validation Loss: 0.4275, F1 Score: 1.0000, Accuracy: 1.0000\n"
          ]
        },
        {
          "output_type": "stream",
          "name": "stderr",
          "text": [
            "Epoch 26/500:   0%|          | 0/4 [00:01<?, ?it/s, loss=0.372]\n",
            "Epoch 27/500:   0%|          | 0/4 [00:01<?, ?it/s, loss=0.392]"
          ]
        },
        {
          "output_type": "stream",
          "name": "stdout",
          "text": [
            "Epoch 27/500, Train Loss: 0.3856, Validation Loss: 0.3818, F1 Score: 1.0000, Accuracy: 1.0000\n",
            "Best model saved with F1 score: 0.3818\n"
          ]
        },
        {
          "output_type": "stream",
          "name": "stderr",
          "text": [
            "\n",
            "Epoch 27/500:   0%|          | 0/4 [00:02<?, ?it/s, loss=0.392]\n",
            "\n",
            "Epoch 28/500:   0%|          | 0/4 [00:00<?, ?it/s, loss=0.409]\u001b[A\n",
            "Epoch 28/500:   0%|          | 0/4 [00:00<?, ?it/s, loss=0.377]\u001b[A\n",
            "Epoch 28/500:   0%|          | 0/4 [00:01<?, ?it/s, loss=0.439]\u001b[A\n",
            "Epoch 28/500:   0%|          | 0/4 [00:01<?, ?it/s, loss=0.434]\u001b[A"
          ]
        },
        {
          "output_type": "stream",
          "name": "stdout",
          "text": [
            "Epoch 28/500, Train Loss: 0.4149, Validation Loss: 0.4091, F1 Score: 1.0000, Accuracy: 1.0000\n"
          ]
        },
        {
          "output_type": "stream",
          "name": "stderr",
          "text": [
            "Epoch 28/500:   0%|          | 0/4 [00:01<?, ?it/s, loss=0.434]\n",
            "Epoch 29/500:   0%|          | 0/4 [00:00<?, ?it/s, loss=0.396]"
          ]
        },
        {
          "output_type": "stream",
          "name": "stdout",
          "text": [
            "Epoch 29/500, Train Loss: 0.3911, Validation Loss: 0.3928, F1 Score: 1.0000, Accuracy: 1.0000\n"
          ]
        },
        {
          "output_type": "stream",
          "name": "stderr",
          "text": [
            "\n",
            "Epoch 29/500:   0%|          | 0/4 [00:01<?, ?it/s, loss=0.396]\n",
            "\n",
            "Epoch 30/500:   0%|          | 0/4 [00:00<?, ?it/s, loss=0.327]\u001b[A\n",
            "Epoch 30/500:   0%|          | 0/4 [00:00<?, ?it/s, loss=0.425]\u001b[A\n",
            "Epoch 30/500:   0%|          | 0/4 [00:00<?, ?it/s, loss=0.418]\u001b[A\n",
            "Epoch 30/500:   0%|          | 0/4 [00:01<?, ?it/s, loss=0.414]\u001b[A"
          ]
        },
        {
          "output_type": "stream",
          "name": "stdout",
          "text": [
            "Epoch 30/500, Train Loss: 0.3960, Validation Loss: 0.3940, F1 Score: 1.0000, Accuracy: 1.0000\n"
          ]
        },
        {
          "output_type": "stream",
          "name": "stderr",
          "text": [
            "Epoch 30/500:   0%|          | 0/4 [00:01<?, ?it/s, loss=0.414]\n",
            "Epoch 31/500:   0%|          | 0/4 [00:00<?, ?it/s, loss=0.387]"
          ]
        },
        {
          "output_type": "stream",
          "name": "stdout",
          "text": [
            "Epoch 31/500, Train Loss: 0.3849, Validation Loss: 0.3738, F1 Score: 1.0000, Accuracy: 1.0000\n",
            "Best model saved with F1 score: 0.3738\n"
          ]
        },
        {
          "output_type": "stream",
          "name": "stderr",
          "text": [
            "\n",
            "Epoch 31/500:   0%|          | 0/4 [00:01<?, ?it/s, loss=0.387]\n",
            "\n",
            "Epoch 32/500:   0%|          | 0/4 [00:00<?, ?it/s, loss=0.328]\u001b[A\n",
            "Epoch 32/500:   0%|          | 0/4 [00:00<?, ?it/s, loss=0.379]\u001b[A\n",
            "Epoch 32/500:   0%|          | 0/4 [00:01<?, ?it/s, loss=0.459]\u001b[A\n",
            "Epoch 32/500:   0%|          | 0/4 [00:01<?, ?it/s, loss=0.384]\u001b[A"
          ]
        },
        {
          "output_type": "stream",
          "name": "stdout",
          "text": [
            "Epoch 32/500, Train Loss: 0.3876, Validation Loss: 0.3445, F1 Score: 1.0000, Accuracy: 1.0000\n",
            "Best model saved with F1 score: 0.3445\n"
          ]
        },
        {
          "output_type": "stream",
          "name": "stderr",
          "text": [
            "Epoch 32/500:   0%|          | 0/4 [00:02<?, ?it/s, loss=0.384]\n",
            "Epoch 33/500:   0%|          | 0/4 [00:01<?, ?it/s, loss=0.348]"
          ]
        },
        {
          "output_type": "stream",
          "name": "stdout",
          "text": [
            "Epoch 33/500, Train Loss: 0.3368, Validation Loss: 0.3442, F1 Score: 1.0000, Accuracy: 1.0000\n",
            "Best model saved with F1 score: 0.3442\n"
          ]
        },
        {
          "output_type": "stream",
          "name": "stderr",
          "text": [
            "\n",
            "Epoch 33/500:   0%|          | 0/4 [00:01<?, ?it/s, loss=0.348]\n",
            "\n",
            "Epoch 34/500:   0%|          | 0/4 [00:00<?, ?it/s, loss=0.314]\u001b[A\n",
            "Epoch 34/500:   0%|          | 0/4 [00:00<?, ?it/s, loss=0.444]\u001b[A\n",
            "Epoch 34/500:   0%|          | 0/4 [00:01<?, ?it/s, loss=0.358]\u001b[A\n",
            "Epoch 34/500:   0%|          | 0/4 [00:01<?, ?it/s, loss=0.381]\u001b[A"
          ]
        },
        {
          "output_type": "stream",
          "name": "stdout",
          "text": [
            "Epoch 34/500, Train Loss: 0.3743, Validation Loss: 0.3627, F1 Score: 1.0000, Accuracy: 1.0000\n"
          ]
        },
        {
          "output_type": "stream",
          "name": "stderr",
          "text": [
            "Epoch 34/500:   0%|          | 0/4 [00:01<?, ?it/s, loss=0.381]\n",
            "Epoch 35/500:   0%|          | 0/4 [00:01<?, ?it/s, loss=0.405]"
          ]
        },
        {
          "output_type": "stream",
          "name": "stdout",
          "text": [
            "Epoch 35/500, Train Loss: 0.3209, Validation Loss: 0.3257, F1 Score: 1.0000, Accuracy: 1.0000\n",
            "Best model saved with F1 score: 0.3257\n"
          ]
        },
        {
          "output_type": "stream",
          "name": "stderr",
          "text": [
            "\n",
            "Epoch 35/500:   0%|          | 0/4 [00:01<?, ?it/s, loss=0.405]\n",
            "\n",
            "Epoch 36/500:   0%|          | 0/4 [00:00<?, ?it/s, loss=0.374]\u001b[A\n",
            "Epoch 36/500:   0%|          | 0/4 [00:00<?, ?it/s, loss=0.246]\u001b[A\n",
            "Epoch 36/500:   0%|          | 0/4 [00:01<?, ?it/s, loss=0.351]\u001b[A\n",
            "Epoch 36/500:   0%|          | 0/4 [00:01<?, ?it/s, loss=0.281]\u001b[A"
          ]
        },
        {
          "output_type": "stream",
          "name": "stdout",
          "text": [
            "Epoch 36/500, Train Loss: 0.3132, Validation Loss: 0.3358, F1 Score: 1.0000, Accuracy: 1.0000\n"
          ]
        },
        {
          "output_type": "stream",
          "name": "stderr",
          "text": [
            "Epoch 36/500:   0%|          | 0/4 [00:01<?, ?it/s, loss=0.281]\n",
            "Epoch 37/500:   0%|          | 0/4 [00:00<?, ?it/s, loss=0.317]"
          ]
        },
        {
          "output_type": "stream",
          "name": "stdout",
          "text": [
            "Epoch 37/500, Train Loss: 0.3162, Validation Loss: 0.3479, F1 Score: 1.0000, Accuracy: 1.0000\n"
          ]
        },
        {
          "output_type": "stream",
          "name": "stderr",
          "text": [
            "\n",
            "Epoch 37/500:   0%|          | 0/4 [00:01<?, ?it/s, loss=0.317]\n",
            "\n",
            "Epoch 38/500:   0%|          | 0/4 [00:00<?, ?it/s, loss=0.302]\u001b[A\n",
            "Epoch 38/500:   0%|          | 0/4 [00:00<?, ?it/s, loss=0.368]\u001b[A\n",
            "Epoch 38/500:   0%|          | 0/4 [00:00<?, ?it/s, loss=0.402]\u001b[A\n",
            "Epoch 38/500:   0%|          | 0/4 [00:00<?, ?it/s, loss=0.379]\u001b[A"
          ]
        },
        {
          "output_type": "stream",
          "name": "stdout",
          "text": [
            "Epoch 38/500, Train Loss: 0.3626, Validation Loss: 0.3410, F1 Score: 1.0000, Accuracy: 1.0000\n"
          ]
        },
        {
          "output_type": "stream",
          "name": "stderr",
          "text": [
            "Epoch 38/500:   0%|          | 0/4 [00:01<?, ?it/s, loss=0.379]\n",
            "Epoch 39/500:   0%|          | 0/4 [00:00<?, ?it/s, loss=0.329]"
          ]
        },
        {
          "output_type": "stream",
          "name": "stdout",
          "text": [
            "Epoch 39/500, Train Loss: 0.3375, Validation Loss: 0.3163, F1 Score: 1.0000, Accuracy: 1.0000\n",
            "Best model saved with F1 score: 0.3163\n"
          ]
        },
        {
          "output_type": "stream",
          "name": "stderr",
          "text": [
            "\n",
            "Epoch 39/500:   0%|          | 0/4 [00:01<?, ?it/s, loss=0.329]\n",
            "\n",
            "Epoch 40/500:   0%|          | 0/4 [00:00<?, ?it/s, loss=0.221]\u001b[A\n",
            "Epoch 40/500:   0%|          | 0/4 [00:00<?, ?it/s, loss=0.356]\u001b[A\n",
            "Epoch 40/500:   0%|          | 0/4 [00:00<?, ?it/s, loss=0.252]\u001b[A\n",
            "Epoch 40/500:   0%|          | 0/4 [00:01<?, ?it/s, loss=0.286]\u001b[A"
          ]
        },
        {
          "output_type": "stream",
          "name": "stdout",
          "text": [
            "Epoch 40/500, Train Loss: 0.2788, Validation Loss: 0.3162, F1 Score: 1.0000, Accuracy: 1.0000\n",
            "Best model saved with F1 score: 0.3162\n"
          ]
        },
        {
          "output_type": "stream",
          "name": "stderr",
          "text": [
            "Epoch 40/500:   0%|          | 0/4 [00:01<?, ?it/s, loss=0.286]\n",
            "Epoch 41/500:   0%|          | 0/4 [00:01<?, ?it/s, loss=0.319]"
          ]
        },
        {
          "output_type": "stream",
          "name": "stdout",
          "text": [
            "Epoch 41/500, Train Loss: 0.3177, Validation Loss: 0.3217, F1 Score: 1.0000, Accuracy: 1.0000\n"
          ]
        },
        {
          "output_type": "stream",
          "name": "stderr",
          "text": [
            "\n",
            "Epoch 41/500:   0%|          | 0/4 [00:01<?, ?it/s, loss=0.319]\n",
            "\n",
            "Epoch 42/500:   0%|          | 0/4 [00:00<?, ?it/s, loss=0.214]\u001b[A\n",
            "Epoch 42/500:   0%|          | 0/4 [00:00<?, ?it/s, loss=0.333]\u001b[A\n",
            "Epoch 42/500:   0%|          | 0/4 [00:00<?, ?it/s, loss=0.342]\u001b[A\n",
            "Epoch 42/500:   0%|          | 0/4 [00:01<?, ?it/s, loss=0.33] \u001b[A"
          ]
        },
        {
          "output_type": "stream",
          "name": "stdout",
          "text": [
            "Epoch 42/500, Train Loss: 0.3048, Validation Loss: 0.3263, F1 Score: 1.0000, Accuracy: 1.0000\n"
          ]
        },
        {
          "output_type": "stream",
          "name": "stderr",
          "text": [
            "Epoch 42/500:   0%|          | 0/4 [00:01<?, ?it/s, loss=0.33]\n",
            "Epoch 43/500:   0%|          | 0/4 [00:01<?, ?it/s, loss=0.307]"
          ]
        },
        {
          "output_type": "stream",
          "name": "stdout",
          "text": [
            "Epoch 43/500, Train Loss: 0.3023, Validation Loss: 0.3112, F1 Score: 1.0000, Accuracy: 1.0000\n",
            "Best model saved with F1 score: 0.3112\n"
          ]
        },
        {
          "output_type": "stream",
          "name": "stderr",
          "text": [
            "\n",
            "Epoch 43/500:   0%|          | 0/4 [00:02<?, ?it/s, loss=0.307]\n",
            "\n",
            "Epoch 44/500:   0%|          | 0/4 [00:00<?, ?it/s, loss=0.283]\u001b[A\n",
            "Epoch 44/500:   0%|          | 0/4 [00:00<?, ?it/s, loss=0.303]\u001b[A\n",
            "Epoch 44/500:   0%|          | 0/4 [00:01<?, ?it/s, loss=0.287]\u001b[A\n",
            "Epoch 44/500:   0%|          | 0/4 [00:01<?, ?it/s, loss=0.195]\u001b[A"
          ]
        },
        {
          "output_type": "stream",
          "name": "stdout",
          "text": [
            "Epoch 44/500, Train Loss: 0.2670, Validation Loss: 0.3025, F1 Score: 1.0000, Accuracy: 1.0000\n",
            "Best model saved with F1 score: 0.3025\n"
          ]
        },
        {
          "output_type": "stream",
          "name": "stderr",
          "text": [
            "Epoch 44/500:   0%|          | 0/4 [00:02<?, ?it/s, loss=0.195]\n",
            "Epoch 45/500:   0%|          | 0/4 [00:01<?, ?it/s, loss=0.188]"
          ]
        },
        {
          "output_type": "stream",
          "name": "stdout",
          "text": [
            "Epoch 45/500, Train Loss: 0.2624, Validation Loss: 0.2715, F1 Score: 1.0000, Accuracy: 1.0000\n",
            "Best model saved with F1 score: 0.2715\n"
          ]
        },
        {
          "output_type": "stream",
          "name": "stderr",
          "text": [
            "\n",
            "Epoch 45/500:   0%|          | 0/4 [00:01<?, ?it/s, loss=0.188]\n",
            "\n",
            "Epoch 46/500:   0%|          | 0/4 [00:00<?, ?it/s, loss=0.25]\u001b[A\n",
            "Epoch 46/500:   0%|          | 0/4 [00:00<?, ?it/s, loss=0.29]\u001b[A\n",
            "Epoch 46/500:   0%|          | 0/4 [00:01<?, ?it/s, loss=0.28]\u001b[A\n",
            "Epoch 46/500:   0%|          | 0/4 [00:01<?, ?it/s, loss=0.239]\u001b[A"
          ]
        },
        {
          "output_type": "stream",
          "name": "stdout",
          "text": [
            "Epoch 46/500, Train Loss: 0.2649, Validation Loss: 0.2840, F1 Score: 1.0000, Accuracy: 1.0000\n"
          ]
        },
        {
          "output_type": "stream",
          "name": "stderr",
          "text": [
            "Epoch 46/500:   0%|          | 0/4 [00:01<?, ?it/s, loss=0.239]\n",
            "Epoch 47/500:   0%|          | 0/4 [00:00<?, ?it/s, loss=0.308]"
          ]
        },
        {
          "output_type": "stream",
          "name": "stdout",
          "text": [
            "Epoch 47/500, Train Loss: 0.2952, Validation Loss: 0.2782, F1 Score: 0.9501, Accuracy: 0.9500\n"
          ]
        },
        {
          "output_type": "stream",
          "name": "stderr",
          "text": [
            "\n",
            "Epoch 47/500:   0%|          | 0/4 [00:01<?, ?it/s, loss=0.308]\n",
            "\n",
            "Epoch 48/500:   0%|          | 0/4 [00:00<?, ?it/s, loss=0.253]\u001b[A\n",
            "Epoch 48/500:   0%|          | 0/4 [00:00<?, ?it/s, loss=0.314]\u001b[A\n",
            "Epoch 48/500:   0%|          | 0/4 [00:00<?, ?it/s, loss=0.335]\u001b[A\n",
            "Epoch 48/500:   0%|          | 0/4 [00:00<?, ?it/s, loss=0.296]\u001b[A"
          ]
        },
        {
          "output_type": "stream",
          "name": "stdout",
          "text": [
            "Epoch 48/500, Train Loss: 0.2995, Validation Loss: 0.2786, F1 Score: 1.0000, Accuracy: 1.0000\n"
          ]
        },
        {
          "output_type": "stream",
          "name": "stderr",
          "text": [
            "Epoch 48/500:   0%|          | 0/4 [00:01<?, ?it/s, loss=0.296]\n",
            "Epoch 49/500:   0%|          | 0/4 [00:00<?, ?it/s, loss=0.282]"
          ]
        },
        {
          "output_type": "stream",
          "name": "stdout",
          "text": [
            "Epoch 49/500, Train Loss: 0.2799, Validation Loss: 0.2732, F1 Score: 1.0000, Accuracy: 1.0000\n"
          ]
        },
        {
          "output_type": "stream",
          "name": "stderr",
          "text": [
            "\n",
            "Epoch 49/500:   0%|          | 0/4 [00:01<?, ?it/s, loss=0.282]\n",
            "\n",
            "Epoch 50/500:   0%|          | 0/4 [00:00<?, ?it/s, loss=0.216]\u001b[A\n",
            "Epoch 50/500:   0%|          | 0/4 [00:00<?, ?it/s, loss=0.28] \u001b[A\n",
            "Epoch 50/500:   0%|          | 0/4 [00:00<?, ?it/s, loss=0.298]\u001b[A\n",
            "Epoch 50/500:   0%|          | 0/4 [00:01<?, ?it/s, loss=0.285]\u001b[A"
          ]
        },
        {
          "output_type": "stream",
          "name": "stdout",
          "text": [
            "Epoch 50/500, Train Loss: 0.2699, Validation Loss: 0.3079, F1 Score: 0.9501, Accuracy: 0.9500\n"
          ]
        },
        {
          "output_type": "stream",
          "name": "stderr",
          "text": [
            "Epoch 50/500:   0%|          | 0/4 [00:01<?, ?it/s, loss=0.285]\n",
            "Epoch 51/500:   0%|          | 0/4 [00:01<?, ?it/s, loss=0.273]"
          ]
        },
        {
          "output_type": "stream",
          "name": "stdout",
          "text": [
            "Epoch 51/500, Train Loss: 0.2812, Validation Loss: 0.2826, F1 Score: 1.0000, Accuracy: 1.0000\n"
          ]
        },
        {
          "output_type": "stream",
          "name": "stderr",
          "text": [
            "\n",
            "Epoch 51/500:   0%|          | 0/4 [00:01<?, ?it/s, loss=0.273]\n",
            "\n",
            "Epoch 52/500:   0%|          | 0/4 [00:00<?, ?it/s, loss=0.24]\u001b[A\n",
            "Epoch 52/500:   0%|          | 0/4 [00:00<?, ?it/s, loss=0.219]\u001b[A\n",
            "Epoch 52/500:   0%|          | 0/4 [00:00<?, ?it/s, loss=0.266]\u001b[A\n",
            "Epoch 52/500:   0%|          | 0/4 [00:01<?, ?it/s, loss=0.325]\u001b[A"
          ]
        },
        {
          "output_type": "stream",
          "name": "stdout",
          "text": [
            "Epoch 52/500, Train Loss: 0.2625, Validation Loss: 0.3246, F1 Score: 1.0000, Accuracy: 1.0000\n"
          ]
        },
        {
          "output_type": "stream",
          "name": "stderr",
          "text": [
            "Epoch 52/500:   0%|          | 0/4 [00:01<?, ?it/s, loss=0.325]\n",
            "Epoch 53/500:   0%|          | 0/4 [00:01<?, ?it/s, loss=0.322]"
          ]
        },
        {
          "output_type": "stream",
          "name": "stdout",
          "text": [
            "Epoch 53/500, Train Loss: 0.2950, Validation Loss: 0.2700, F1 Score: 1.0000, Accuracy: 1.0000\n",
            "Best model saved with F1 score: 0.2700\n"
          ]
        },
        {
          "output_type": "stream",
          "name": "stderr",
          "text": [
            "\n",
            "Epoch 53/500:   0%|          | 0/4 [00:01<?, ?it/s, loss=0.322]\n",
            "\n",
            "Epoch 54/500:   0%|          | 0/4 [00:00<?, ?it/s, loss=0.298]\u001b[A\n",
            "Epoch 54/500:   0%|          | 0/4 [00:00<?, ?it/s, loss=0.283]\u001b[A\n",
            "Epoch 54/500:   0%|          | 0/4 [00:01<?, ?it/s, loss=0.315]\u001b[A\n",
            "Epoch 54/500:   0%|          | 0/4 [00:01<?, ?it/s, loss=0.201]\u001b[A"
          ]
        },
        {
          "output_type": "stream",
          "name": "stdout",
          "text": [
            "Epoch 54/500, Train Loss: 0.2744, Validation Loss: 0.2714, F1 Score: 1.0000, Accuracy: 1.0000\n"
          ]
        },
        {
          "output_type": "stream",
          "name": "stderr",
          "text": [
            "Epoch 54/500:   0%|          | 0/4 [00:01<?, ?it/s, loss=0.201]\n",
            "Epoch 55/500:   0%|          | 0/4 [00:00<?, ?it/s, loss=0.254]"
          ]
        },
        {
          "output_type": "stream",
          "name": "stdout",
          "text": [
            "Epoch 55/500, Train Loss: 0.2613, Validation Loss: 0.2697, F1 Score: 1.0000, Accuracy: 1.0000\n",
            "Best model saved with F1 score: 0.2697\n"
          ]
        },
        {
          "output_type": "stream",
          "name": "stderr",
          "text": [
            "\n",
            "Epoch 55/500:   0%|          | 0/4 [00:01<?, ?it/s, loss=0.254]\n",
            "\n",
            "Epoch 56/500:   0%|          | 0/4 [00:00<?, ?it/s, loss=0.232]\u001b[A\n",
            "Epoch 56/500:   0%|          | 0/4 [00:00<?, ?it/s, loss=0.325]\u001b[A\n",
            "Epoch 56/500:   0%|          | 0/4 [00:00<?, ?it/s, loss=0.302]\u001b[A\n",
            "Epoch 56/500:   0%|          | 0/4 [00:01<?, ?it/s, loss=0.244]\u001b[A"
          ]
        },
        {
          "output_type": "stream",
          "name": "stdout",
          "text": [
            "Epoch 56/500, Train Loss: 0.2759, Validation Loss: 0.2572, F1 Score: 1.0000, Accuracy: 1.0000\n",
            "Best model saved with F1 score: 0.2572\n"
          ]
        },
        {
          "output_type": "stream",
          "name": "stderr",
          "text": [
            "Epoch 56/500:   0%|          | 0/4 [00:01<?, ?it/s, loss=0.244]\n",
            "Epoch 57/500:   0%|          | 0/4 [00:01<?, ?it/s, loss=0.202]"
          ]
        },
        {
          "output_type": "stream",
          "name": "stdout",
          "text": [
            "Epoch 57/500, Train Loss: 0.2674, Validation Loss: 0.2398, F1 Score: 1.0000, Accuracy: 1.0000\n",
            "Best model saved with F1 score: 0.2398\n"
          ]
        },
        {
          "output_type": "stream",
          "name": "stderr",
          "text": [
            "\n",
            "Epoch 57/500:   0%|          | 0/4 [00:02<?, ?it/s, loss=0.202]\n",
            "\n",
            "Epoch 58/500:   0%|          | 0/4 [00:00<?, ?it/s, loss=0.203]\u001b[A\n",
            "Epoch 58/500:   0%|          | 0/4 [00:00<?, ?it/s, loss=0.303]\u001b[A\n",
            "Epoch 58/500:   0%|          | 0/4 [00:01<?, ?it/s, loss=0.177]\u001b[A\n",
            "Epoch 58/500:   0%|          | 0/4 [00:01<?, ?it/s, loss=0.163]\u001b[A"
          ]
        },
        {
          "output_type": "stream",
          "name": "stdout",
          "text": [
            "Epoch 58/500, Train Loss: 0.2117, Validation Loss: 0.2322, F1 Score: 1.0000, Accuracy: 1.0000\n",
            "Best model saved with F1 score: 0.2322\n"
          ]
        },
        {
          "output_type": "stream",
          "name": "stderr",
          "text": [
            "Epoch 58/500:   0%|          | 0/4 [00:01<?, ?it/s, loss=0.163]\n",
            "Epoch 59/500:   0%|          | 0/4 [00:01<?, ?it/s, loss=0.302]"
          ]
        },
        {
          "output_type": "stream",
          "name": "stdout",
          "text": [
            "Epoch 59/500, Train Loss: 0.2604, Validation Loss: 0.2599, F1 Score: 1.0000, Accuracy: 1.0000\n"
          ]
        },
        {
          "output_type": "stream",
          "name": "stderr",
          "text": [
            "\n",
            "Epoch 59/500:   0%|          | 0/4 [00:01<?, ?it/s, loss=0.302]\n",
            "\n",
            "Epoch 60/500:   0%|          | 0/4 [00:00<?, ?it/s, loss=0.231]\u001b[A\n",
            "Epoch 60/500:   0%|          | 0/4 [00:00<?, ?it/s, loss=0.225]\u001b[A\n",
            "Epoch 60/500:   0%|          | 0/4 [00:00<?, ?it/s, loss=0.278]\u001b[A\n",
            "Epoch 60/500:   0%|          | 0/4 [00:01<?, ?it/s, loss=0.287]\u001b[A"
          ]
        },
        {
          "output_type": "stream",
          "name": "stdout",
          "text": [
            "Epoch 60/500, Train Loss: 0.2553, Validation Loss: 0.2711, F1 Score: 1.0000, Accuracy: 1.0000\n"
          ]
        },
        {
          "output_type": "stream",
          "name": "stderr",
          "text": [
            "Epoch 60/500:   0%|          | 0/4 [00:01<?, ?it/s, loss=0.287]\n",
            "Epoch 61/500:   0%|          | 0/4 [00:01<?, ?it/s, loss=0.194]"
          ]
        },
        {
          "output_type": "stream",
          "name": "stdout",
          "text": [
            "Epoch 61/500, Train Loss: 0.2625, Validation Loss: 0.2202, F1 Score: 1.0000, Accuracy: 1.0000\n",
            "Best model saved with F1 score: 0.2202\n"
          ]
        },
        {
          "output_type": "stream",
          "name": "stderr",
          "text": [
            "\n",
            "Epoch 61/500:   0%|          | 0/4 [00:02<?, ?it/s, loss=0.194]\n",
            "\n",
            "Epoch 62/500:   0%|          | 0/4 [00:00<?, ?it/s, loss=0.244]\u001b[A\n",
            "Epoch 62/500:   0%|          | 0/4 [00:00<?, ?it/s, loss=0.319]\u001b[A\n",
            "Epoch 62/500:   0%|          | 0/4 [00:01<?, ?it/s, loss=0.267]\u001b[A\n",
            "Epoch 62/500:   0%|          | 0/4 [00:01<?, ?it/s, loss=0.18] \u001b[A"
          ]
        },
        {
          "output_type": "stream",
          "name": "stdout",
          "text": [
            "Epoch 62/500, Train Loss: 0.2525, Validation Loss: 0.3163, F1 Score: 0.9501, Accuracy: 0.9500\n"
          ]
        },
        {
          "output_type": "stream",
          "name": "stderr",
          "text": [
            "Epoch 62/500:   0%|          | 0/4 [00:01<?, ?it/s, loss=0.18]\n",
            "Epoch 63/500:   0%|          | 0/4 [00:00<?, ?it/s, loss=0.243]"
          ]
        },
        {
          "output_type": "stream",
          "name": "stdout",
          "text": [
            "Epoch 63/500, Train Loss: 0.2192, Validation Loss: 0.2069, F1 Score: 1.0000, Accuracy: 1.0000\n",
            "Best model saved with F1 score: 0.2069\n"
          ]
        },
        {
          "output_type": "stream",
          "name": "stderr",
          "text": [
            "\n",
            "Epoch 63/500:   0%|          | 0/4 [00:01<?, ?it/s, loss=0.243]\n",
            "\n",
            "Epoch 64/500:   0%|          | 0/4 [00:00<?, ?it/s, loss=0.179]\u001b[A\n",
            "Epoch 64/500:   0%|          | 0/4 [00:00<?, ?it/s, loss=0.319]\u001b[A\n",
            "Epoch 64/500:   0%|          | 0/4 [00:01<?, ?it/s, loss=0.3]  \u001b[A\n",
            "Epoch 64/500:   0%|          | 0/4 [00:01<?, ?it/s, loss=0.246]\u001b[A"
          ]
        },
        {
          "output_type": "stream",
          "name": "stdout",
          "text": [
            "Epoch 64/500, Train Loss: 0.2613, Validation Loss: 0.2242, F1 Score: 1.0000, Accuracy: 1.0000\n"
          ]
        },
        {
          "output_type": "stream",
          "name": "stderr",
          "text": [
            "Epoch 64/500:   0%|          | 0/4 [00:01<?, ?it/s, loss=0.246]\n",
            "Epoch 65/500:   0%|          | 0/4 [00:00<?, ?it/s, loss=0.12] "
          ]
        },
        {
          "output_type": "stream",
          "name": "stdout",
          "text": [
            "Epoch 65/500, Train Loss: 0.2037, Validation Loss: 0.2582, F1 Score: 1.0000, Accuracy: 1.0000\n"
          ]
        },
        {
          "output_type": "stream",
          "name": "stderr",
          "text": [
            "\n",
            "Epoch 65/500:   0%|          | 0/4 [00:01<?, ?it/s, loss=0.12]\n",
            "\n",
            "Epoch 66/500:   0%|          | 0/4 [00:00<?, ?it/s, loss=0.188]\u001b[A\n",
            "Epoch 66/500:   0%|          | 0/4 [00:00<?, ?it/s, loss=0.218]\u001b[A\n",
            "Epoch 66/500:   0%|          | 0/4 [00:00<?, ?it/s, loss=0.263]\u001b[A\n",
            "Epoch 66/500:   0%|          | 0/4 [00:00<?, ?it/s, loss=0.171]\u001b[A"
          ]
        },
        {
          "output_type": "stream",
          "name": "stdout",
          "text": [
            "Epoch 66/500, Train Loss: 0.2100, Validation Loss: 0.2472, F1 Score: 0.9501, Accuracy: 0.9500\n"
          ]
        },
        {
          "output_type": "stream",
          "name": "stderr",
          "text": [
            "Epoch 66/500:   0%|          | 0/4 [00:01<?, ?it/s, loss=0.171]\n",
            "Epoch 67/500:   0%|          | 0/4 [00:01<?, ?it/s, loss=0.139]"
          ]
        },
        {
          "output_type": "stream",
          "name": "stdout",
          "text": [
            "Epoch 67/500, Train Loss: 0.2096, Validation Loss: 0.2015, F1 Score: 1.0000, Accuracy: 1.0000\n",
            "Best model saved with F1 score: 0.2015\n"
          ]
        },
        {
          "output_type": "stream",
          "name": "stderr",
          "text": [
            "\n",
            "Epoch 67/500:   0%|          | 0/4 [00:01<?, ?it/s, loss=0.139]\n",
            "\n",
            "Epoch 68/500:   0%|          | 0/4 [00:00<?, ?it/s, loss=0.184]\u001b[A\n",
            "Epoch 68/500:   0%|          | 0/4 [00:01<?, ?it/s, loss=0.188]\u001b[A\n",
            "Epoch 68/500:   0%|          | 0/4 [00:01<?, ?it/s, loss=0.27] \u001b[A\n",
            "Epoch 68/500:   0%|          | 0/4 [00:01<?, ?it/s, loss=0.198]\u001b[A"
          ]
        },
        {
          "output_type": "stream",
          "name": "stdout",
          "text": [
            "Epoch 68/500, Train Loss: 0.2099, Validation Loss: 0.2207, F1 Score: 1.0000, Accuracy: 1.0000\n"
          ]
        },
        {
          "output_type": "stream",
          "name": "stderr",
          "text": [
            "Epoch 68/500:   0%|          | 0/4 [00:02<?, ?it/s, loss=0.198]\n",
            "Epoch 69/500:   0%|          | 0/4 [00:00<?, ?it/s, loss=0.243]"
          ]
        },
        {
          "output_type": "stream",
          "name": "stdout",
          "text": [
            "Epoch 69/500, Train Loss: 0.2352, Validation Loss: 0.2102, F1 Score: 1.0000, Accuracy: 1.0000\n"
          ]
        },
        {
          "output_type": "stream",
          "name": "stderr",
          "text": [
            "\n",
            "Epoch 69/500:   0%|          | 0/4 [00:01<?, ?it/s, loss=0.243]\n",
            "\n",
            "Epoch 70/500:   0%|          | 0/4 [00:00<?, ?it/s, loss=0.194]\u001b[A\n",
            "Epoch 70/500:   0%|          | 0/4 [00:00<?, ?it/s, loss=0.222]\u001b[A\n",
            "Epoch 70/500:   0%|          | 0/4 [00:00<?, ?it/s, loss=0.247]\u001b[A\n",
            "Epoch 70/500:   0%|          | 0/4 [00:00<?, ?it/s, loss=0.209]\u001b[A"
          ]
        },
        {
          "output_type": "stream",
          "name": "stdout",
          "text": [
            "Epoch 70/500, Train Loss: 0.2182, Validation Loss: 0.2190, F1 Score: 1.0000, Accuracy: 1.0000\n"
          ]
        },
        {
          "output_type": "stream",
          "name": "stderr",
          "text": [
            "Epoch 70/500:   0%|          | 0/4 [00:01<?, ?it/s, loss=0.209]\n",
            "Epoch 71/500:   0%|          | 0/4 [00:00<?, ?it/s, loss=0.227]"
          ]
        },
        {
          "output_type": "stream",
          "name": "stdout",
          "text": [
            "Epoch 71/500, Train Loss: 0.2565, Validation Loss: 0.2632, F1 Score: 0.9501, Accuracy: 0.9500\n"
          ]
        },
        {
          "output_type": "stream",
          "name": "stderr",
          "text": [
            "\n",
            "Epoch 71/500:   0%|          | 0/4 [00:01<?, ?it/s, loss=0.227]\n",
            "\n",
            "Epoch 72/500:   0%|          | 0/4 [00:00<?, ?it/s, loss=0.176]\u001b[A\n",
            "Epoch 72/500:   0%|          | 0/4 [00:00<?, ?it/s, loss=0.251]\u001b[A\n",
            "Epoch 72/500:   0%|          | 0/4 [00:00<?, ?it/s, loss=0.191]\u001b[A\n",
            "Epoch 72/500:   0%|          | 0/4 [00:00<?, ?it/s, loss=0.176]\u001b[A"
          ]
        },
        {
          "output_type": "stream",
          "name": "stdout",
          "text": [
            "Epoch 72/500, Train Loss: 0.1983, Validation Loss: 0.2435, F1 Score: 0.9501, Accuracy: 0.9500\n"
          ]
        },
        {
          "output_type": "stream",
          "name": "stderr",
          "text": [
            "Epoch 72/500:   0%|          | 0/4 [00:01<?, ?it/s, loss=0.176]\n",
            "Epoch 73/500:   0%|          | 0/4 [00:01<?, ?it/s, loss=0.246]"
          ]
        },
        {
          "output_type": "stream",
          "name": "stdout",
          "text": [
            "Epoch 73/500, Train Loss: 0.2048, Validation Loss: 0.2255, F1 Score: 0.9501, Accuracy: 0.9500\n"
          ]
        },
        {
          "output_type": "stream",
          "name": "stderr",
          "text": [
            "\n",
            "Epoch 73/500:   0%|          | 0/4 [00:01<?, ?it/s, loss=0.246]\n",
            "\n",
            "Epoch 74/500:   0%|          | 0/4 [00:00<?, ?it/s, loss=0.196]\u001b[A\n",
            "Epoch 74/500:   0%|          | 0/4 [00:00<?, ?it/s, loss=0.188]\u001b[A\n",
            "Epoch 74/500:   0%|          | 0/4 [00:00<?, ?it/s, loss=0.199]\u001b[A\n",
            "Epoch 74/500:   0%|          | 0/4 [00:01<?, ?it/s, loss=0.152]\u001b[A"
          ]
        },
        {
          "output_type": "stream",
          "name": "stdout",
          "text": [
            "Epoch 74/500, Train Loss: 0.1839, Validation Loss: 0.2119, F1 Score: 1.0000, Accuracy: 1.0000\n"
          ]
        },
        {
          "output_type": "stream",
          "name": "stderr",
          "text": [
            "Epoch 74/500:   0%|          | 0/4 [00:01<?, ?it/s, loss=0.152]\n",
            "Epoch 75/500:   0%|          | 0/4 [00:00<?, ?it/s, loss=0.199]"
          ]
        },
        {
          "output_type": "stream",
          "name": "stdout",
          "text": [
            "Epoch 75/500, Train Loss: 0.2083, Validation Loss: 0.1865, F1 Score: 1.0000, Accuracy: 1.0000\n",
            "Best model saved with F1 score: 0.1865\n"
          ]
        },
        {
          "output_type": "stream",
          "name": "stderr",
          "text": [
            "\n",
            "Epoch 75/500:   0%|          | 0/4 [00:01<?, ?it/s, loss=0.199]\n",
            "\n",
            "Epoch 76/500:   0%|          | 0/4 [00:00<?, ?it/s, loss=0.171]\u001b[A\n",
            "Epoch 76/500:   0%|          | 0/4 [00:00<?, ?it/s, loss=0.207]\u001b[A\n",
            "Epoch 76/500:   0%|          | 0/4 [00:00<?, ?it/s, loss=0.176]\u001b[A\n",
            "Epoch 76/500:   0%|          | 0/4 [00:01<?, ?it/s, loss=0.246]\u001b[A"
          ]
        },
        {
          "output_type": "stream",
          "name": "stdout",
          "text": [
            "Epoch 76/500, Train Loss: 0.2001, Validation Loss: 0.1965, F1 Score: 1.0000, Accuracy: 1.0000\n"
          ]
        },
        {
          "output_type": "stream",
          "name": "stderr",
          "text": [
            "Epoch 76/500:   0%|          | 0/4 [00:01<?, ?it/s, loss=0.246]\n",
            "Epoch 77/500:   0%|          | 0/4 [00:01<?, ?it/s, loss=0.111]"
          ]
        },
        {
          "output_type": "stream",
          "name": "stdout",
          "text": [
            "Epoch 77/500, Train Loss: 0.1975, Validation Loss: 0.2056, F1 Score: 0.9501, Accuracy: 0.9500\n"
          ]
        },
        {
          "output_type": "stream",
          "name": "stderr",
          "text": [
            "\n",
            "Epoch 77/500:   0%|          | 0/4 [00:01<?, ?it/s, loss=0.111]\n",
            "\n",
            "Epoch 78/500:   0%|          | 0/4 [00:00<?, ?it/s, loss=0.153]\u001b[A\n",
            "Epoch 78/500:   0%|          | 0/4 [00:00<?, ?it/s, loss=0.182]\u001b[A\n",
            "Epoch 78/500:   0%|          | 0/4 [00:00<?, ?it/s, loss=0.254]\u001b[A\n",
            "Epoch 78/500:   0%|          | 0/4 [00:01<?, ?it/s, loss=0.129]\u001b[A"
          ]
        },
        {
          "output_type": "stream",
          "name": "stdout",
          "text": [
            "Epoch 78/500, Train Loss: 0.1798, Validation Loss: 0.2214, F1 Score: 0.9496, Accuracy: 0.9500\n"
          ]
        },
        {
          "output_type": "stream",
          "name": "stderr",
          "text": [
            "Epoch 78/500:   0%|          | 0/4 [00:01<?, ?it/s, loss=0.129]\n",
            "Epoch 79/500:   0%|          | 0/4 [00:00<?, ?it/s, loss=0.116]"
          ]
        },
        {
          "output_type": "stream",
          "name": "stdout",
          "text": [
            "Epoch 79/500, Train Loss: 0.1774, Validation Loss: 0.2201, F1 Score: 1.0000, Accuracy: 1.0000\n"
          ]
        },
        {
          "output_type": "stream",
          "name": "stderr",
          "text": [
            "\n",
            "Epoch 79/500:   0%|          | 0/4 [00:01<?, ?it/s, loss=0.116]\n",
            "\n",
            "Epoch 80/500:   0%|          | 0/4 [00:00<?, ?it/s, loss=0.22]\u001b[A\n",
            "Epoch 80/500:   0%|          | 0/4 [00:00<?, ?it/s, loss=0.205]\u001b[A\n",
            "Epoch 80/500:   0%|          | 0/4 [00:00<?, ?it/s, loss=0.123]\u001b[A\n",
            "Epoch 80/500:   0%|          | 0/4 [00:00<?, ?it/s, loss=0.166]\u001b[A"
          ]
        },
        {
          "output_type": "stream",
          "name": "stdout",
          "text": [
            "Epoch 80/500, Train Loss: 0.1785, Validation Loss: 0.2437, F1 Score: 1.0000, Accuracy: 1.0000\n"
          ]
        },
        {
          "output_type": "stream",
          "name": "stderr",
          "text": [
            "Epoch 80/500:   0%|          | 0/4 [00:01<?, ?it/s, loss=0.166]\n",
            "Epoch 81/500:   0%|          | 0/4 [00:00<?, ?it/s, loss=0.129]"
          ]
        },
        {
          "output_type": "stream",
          "name": "stdout",
          "text": [
            "Epoch 81/500, Train Loss: 0.1812, Validation Loss: 0.2384, F1 Score: 1.0000, Accuracy: 1.0000\n"
          ]
        },
        {
          "output_type": "stream",
          "name": "stderr",
          "text": [
            "\n",
            "Epoch 81/500:   0%|          | 0/4 [00:01<?, ?it/s, loss=0.129]\n",
            "\n",
            "Epoch 82/500:   0%|          | 0/4 [00:00<?, ?it/s, loss=0.152]\u001b[A\n",
            "Epoch 82/500:   0%|          | 0/4 [00:00<?, ?it/s, loss=0.231]\u001b[A\n",
            "Epoch 82/500:   0%|          | 0/4 [00:00<?, ?it/s, loss=0.174]\u001b[A\n",
            "Epoch 82/500:   0%|          | 0/4 [00:00<?, ?it/s, loss=0.245]\u001b[A"
          ]
        },
        {
          "output_type": "stream",
          "name": "stdout",
          "text": [
            "Epoch 82/500, Train Loss: 0.2005, Validation Loss: 0.2005, F1 Score: 1.0000, Accuracy: 1.0000\n"
          ]
        },
        {
          "output_type": "stream",
          "name": "stderr",
          "text": [
            "Epoch 82/500:   0%|          | 0/4 [00:01<?, ?it/s, loss=0.245]\n",
            "Epoch 83/500:   0%|          | 0/4 [00:01<?, ?it/s, loss=0.198]"
          ]
        },
        {
          "output_type": "stream",
          "name": "stdout",
          "text": [
            "Epoch 83/500, Train Loss: 0.2029, Validation Loss: 0.1793, F1 Score: 1.0000, Accuracy: 1.0000\n",
            "Best model saved with F1 score: 0.1793\n"
          ]
        },
        {
          "output_type": "stream",
          "name": "stderr",
          "text": [
            "\n",
            "Epoch 83/500:   0%|          | 0/4 [00:01<?, ?it/s, loss=0.198]\n",
            "\n",
            "Epoch 84/500:   0%|          | 0/4 [00:00<?, ?it/s, loss=0.203]\u001b[A\n",
            "Epoch 84/500:   0%|          | 0/4 [00:00<?, ?it/s, loss=0.246]\u001b[A\n",
            "Epoch 84/500:   0%|          | 0/4 [00:00<?, ?it/s, loss=0.221]\u001b[A\n",
            "Epoch 84/500:   0%|          | 0/4 [00:01<?, ?it/s, loss=0.211]\u001b[A"
          ]
        },
        {
          "output_type": "stream",
          "name": "stdout",
          "text": [
            "Epoch 84/500, Train Loss: 0.2204, Validation Loss: 0.1978, F1 Score: 1.0000, Accuracy: 1.0000\n"
          ]
        },
        {
          "output_type": "stream",
          "name": "stderr",
          "text": [
            "Epoch 84/500:   0%|          | 0/4 [00:01<?, ?it/s, loss=0.211]\n",
            "Epoch 85/500:   0%|          | 0/4 [00:00<?, ?it/s, loss=0.167]"
          ]
        },
        {
          "output_type": "stream",
          "name": "stdout",
          "text": [
            "Epoch 85/500, Train Loss: 0.2124, Validation Loss: 0.2018, F1 Score: 1.0000, Accuracy: 1.0000\n"
          ]
        },
        {
          "output_type": "stream",
          "name": "stderr",
          "text": [
            "\n",
            "Epoch 85/500:   0%|          | 0/4 [00:01<?, ?it/s, loss=0.167]\n",
            "\n",
            "Epoch 86/500:   0%|          | 0/4 [00:00<?, ?it/s, loss=0.156]\u001b[A\n",
            "Epoch 86/500:   0%|          | 0/4 [00:00<?, ?it/s, loss=0.244]\u001b[A\n",
            "Epoch 86/500:   0%|          | 0/4 [00:00<?, ?it/s, loss=0.226]\u001b[A\n",
            "Epoch 86/500:   0%|          | 0/4 [00:01<?, ?it/s, loss=0.121]\u001b[A"
          ]
        },
        {
          "output_type": "stream",
          "name": "stdout",
          "text": [
            "Epoch 86/500, Train Loss: 0.1867, Validation Loss: 0.1936, F1 Score: 1.0000, Accuracy: 1.0000\n"
          ]
        },
        {
          "output_type": "stream",
          "name": "stderr",
          "text": [
            "Epoch 86/500:   0%|          | 0/4 [00:01<?, ?it/s, loss=0.121]\n",
            "Epoch 87/500:   0%|          | 0/4 [00:01<?, ?it/s, loss=0.21] "
          ]
        },
        {
          "output_type": "stream",
          "name": "stdout",
          "text": [
            "Epoch 87/500, Train Loss: 0.2088, Validation Loss: 0.1557, F1 Score: 1.0000, Accuracy: 1.0000\n",
            "Best model saved with F1 score: 0.1557\n"
          ]
        },
        {
          "output_type": "stream",
          "name": "stderr",
          "text": [
            "\n",
            "Epoch 87/500:   0%|          | 0/4 [00:01<?, ?it/s, loss=0.21]\n",
            "\n",
            "Epoch 88/500:   0%|          | 0/4 [00:00<?, ?it/s, loss=0.191]\u001b[A\n",
            "Epoch 88/500:   0%|          | 0/4 [00:00<?, ?it/s, loss=0.168]\u001b[A\n",
            "Epoch 88/500:   0%|          | 0/4 [00:01<?, ?it/s, loss=0.182]\u001b[A\n",
            "Epoch 88/500:   0%|          | 0/4 [00:01<?, ?it/s, loss=0.0873]\u001b[A"
          ]
        },
        {
          "output_type": "stream",
          "name": "stdout",
          "text": [
            "Epoch 88/500, Train Loss: 0.1568, Validation Loss: 0.1718, F1 Score: 1.0000, Accuracy: 1.0000\n"
          ]
        },
        {
          "output_type": "stream",
          "name": "stderr",
          "text": [
            "Epoch 88/500:   0%|          | 0/4 [00:01<?, ?it/s, loss=0.0873]\n",
            "Epoch 89/500:   0%|          | 0/4 [00:00<?, ?it/s, loss=0.184]"
          ]
        },
        {
          "output_type": "stream",
          "name": "stdout",
          "text": [
            "Epoch 89/500, Train Loss: 0.1597, Validation Loss: 0.1498, F1 Score: 1.0000, Accuracy: 1.0000\n",
            "Best model saved with F1 score: 0.1498\n"
          ]
        },
        {
          "output_type": "stream",
          "name": "stderr",
          "text": [
            "\n",
            "Epoch 89/500:   0%|          | 0/4 [00:01<?, ?it/s, loss=0.184]\n",
            "\n",
            "Epoch 90/500:   0%|          | 0/4 [00:00<?, ?it/s, loss=0.162]\u001b[A\n",
            "Epoch 90/500:   0%|          | 0/4 [00:00<?, ?it/s, loss=0.247]\u001b[A\n",
            "Epoch 90/500:   0%|          | 0/4 [00:01<?, ?it/s, loss=0.154]\u001b[A\n",
            "Epoch 90/500:   0%|          | 0/4 [00:01<?, ?it/s, loss=0.161]\u001b[A"
          ]
        },
        {
          "output_type": "stream",
          "name": "stdout",
          "text": [
            "Epoch 90/500, Train Loss: 0.1811, Validation Loss: 0.1557, F1 Score: 1.0000, Accuracy: 1.0000\n"
          ]
        },
        {
          "output_type": "stream",
          "name": "stderr",
          "text": [
            "Epoch 90/500:   0%|          | 0/4 [00:01<?, ?it/s, loss=0.161]\n",
            "Epoch 91/500:   0%|          | 0/4 [00:00<?, ?it/s, loss=0.11] "
          ]
        },
        {
          "output_type": "stream",
          "name": "stdout",
          "text": [
            "Epoch 91/500, Train Loss: 0.1508, Validation Loss: 0.2125, F1 Score: 0.9501, Accuracy: 0.9500\n"
          ]
        },
        {
          "output_type": "stream",
          "name": "stderr",
          "text": [
            "\n",
            "Epoch 91/500:   0%|          | 0/4 [00:01<?, ?it/s, loss=0.11]\n",
            "\n",
            "Epoch 92/500:   0%|          | 0/4 [00:00<?, ?it/s, loss=0.165]\u001b[A\n",
            "Epoch 92/500:   0%|          | 0/4 [00:00<?, ?it/s, loss=0.242]\u001b[A\n",
            "Epoch 92/500:   0%|          | 0/4 [00:00<?, ?it/s, loss=0.25] \u001b[A\n",
            "Epoch 92/500:   0%|          | 0/4 [00:00<?, ?it/s, loss=0.196]\u001b[A"
          ]
        },
        {
          "output_type": "stream",
          "name": "stdout",
          "text": [
            "Epoch 92/500, Train Loss: 0.2132, Validation Loss: 0.1853, F1 Score: 1.0000, Accuracy: 1.0000\n"
          ]
        },
        {
          "output_type": "stream",
          "name": "stderr",
          "text": [
            "Epoch 92/500:   0%|          | 0/4 [00:01<?, ?it/s, loss=0.196]\n",
            "Epoch 93/500:   0%|          | 0/4 [00:00<?, ?it/s, loss=0.183]"
          ]
        },
        {
          "output_type": "stream",
          "name": "stdout",
          "text": [
            "Epoch 93/500, Train Loss: 0.1820, Validation Loss: 0.2059, F1 Score: 1.0000, Accuracy: 1.0000\n"
          ]
        },
        {
          "output_type": "stream",
          "name": "stderr",
          "text": [
            "\n",
            "Epoch 93/500:   0%|          | 0/4 [00:01<?, ?it/s, loss=0.183]\n",
            "\n",
            "Epoch 94/500:   0%|          | 0/4 [00:00<?, ?it/s, loss=0.182]\u001b[A\n",
            "Epoch 94/500:   0%|          | 0/4 [00:00<?, ?it/s, loss=0.211]\u001b[A\n",
            "Epoch 94/500:   0%|          | 0/4 [00:00<?, ?it/s, loss=0.19] \u001b[A\n",
            "Epoch 94/500:   0%|          | 0/4 [00:01<?, ?it/s, loss=0.192]\u001b[A"
          ]
        },
        {
          "output_type": "stream",
          "name": "stdout",
          "text": [
            "Epoch 94/500, Train Loss: 0.1937, Validation Loss: 0.2174, F1 Score: 1.0000, Accuracy: 1.0000\n"
          ]
        },
        {
          "output_type": "stream",
          "name": "stderr",
          "text": [
            "Epoch 94/500:   0%|          | 0/4 [00:01<?, ?it/s, loss=0.192]\n",
            "Epoch 95/500:   0%|          | 0/4 [00:01<?, ?it/s, loss=0.205]"
          ]
        },
        {
          "output_type": "stream",
          "name": "stdout",
          "text": [
            "Epoch 95/500, Train Loss: 0.1745, Validation Loss: 0.1791, F1 Score: 1.0000, Accuracy: 1.0000\n"
          ]
        },
        {
          "output_type": "stream",
          "name": "stderr",
          "text": [
            "\n",
            "Epoch 95/500:   0%|          | 0/4 [00:01<?, ?it/s, loss=0.205]\n",
            "\n",
            "Epoch 96/500:   0%|          | 0/4 [00:00<?, ?it/s, loss=0.201]\u001b[A\n",
            "Epoch 96/500:   0%|          | 0/4 [00:00<?, ?it/s, loss=0.212]\u001b[A\n",
            "Epoch 96/500:   0%|          | 0/4 [00:00<?, ?it/s, loss=0.21] \u001b[A\n",
            "Epoch 96/500:   0%|          | 0/4 [00:01<?, ?it/s, loss=0.154]\u001b[A"
          ]
        },
        {
          "output_type": "stream",
          "name": "stdout",
          "text": [
            "Epoch 96/500, Train Loss: 0.1940, Validation Loss: 0.1660, F1 Score: 1.0000, Accuracy: 1.0000\n"
          ]
        },
        {
          "output_type": "stream",
          "name": "stderr",
          "text": [
            "Epoch 96/500:   0%|          | 0/4 [00:01<?, ?it/s, loss=0.154]\n",
            "Epoch 97/500:   0%|          | 0/4 [00:00<?, ?it/s, loss=0.148]"
          ]
        },
        {
          "output_type": "stream",
          "name": "stdout",
          "text": [
            "Epoch 97/500, Train Loss: 0.1568, Validation Loss: 0.1789, F1 Score: 1.0000, Accuracy: 1.0000\n"
          ]
        },
        {
          "output_type": "stream",
          "name": "stderr",
          "text": [
            "\n",
            "Epoch 97/500:   0%|          | 0/4 [00:01<?, ?it/s, loss=0.148]\n",
            "\n",
            "Epoch 98/500:   0%|          | 0/4 [00:00<?, ?it/s, loss=0.103]\u001b[A\n",
            "Epoch 98/500:   0%|          | 0/4 [00:00<?, ?it/s, loss=0.225]\u001b[A\n",
            "Epoch 98/500:   0%|          | 0/4 [00:00<?, ?it/s, loss=0.212]\u001b[A\n",
            "Epoch 98/500:   0%|          | 0/4 [00:00<?, ?it/s, loss=0.115]\u001b[A"
          ]
        },
        {
          "output_type": "stream",
          "name": "stdout",
          "text": [
            "Epoch 98/500, Train Loss: 0.1637, Validation Loss: 0.1421, F1 Score: 1.0000, Accuracy: 1.0000\n",
            "Best model saved with F1 score: 0.1421\n"
          ]
        },
        {
          "output_type": "stream",
          "name": "stderr",
          "text": [
            "Epoch 98/500:   0%|          | 0/4 [00:01<?, ?it/s, loss=0.115]\n",
            "Epoch 99/500:   0%|          | 0/4 [00:01<?, ?it/s, loss=0.138]"
          ]
        },
        {
          "output_type": "stream",
          "name": "stdout",
          "text": [
            "Epoch 99/500, Train Loss: 0.1434, Validation Loss: 0.1622, F1 Score: 1.0000, Accuracy: 1.0000\n"
          ]
        },
        {
          "output_type": "stream",
          "name": "stderr",
          "text": [
            "\n",
            "Epoch 99/500:   0%|          | 0/4 [00:01<?, ?it/s, loss=0.138]\n",
            "\n",
            "Epoch 100/500:   0%|          | 0/4 [00:00<?, ?it/s, loss=0.169]\u001b[A\n",
            "Epoch 100/500:   0%|          | 0/4 [00:00<?, ?it/s, loss=0.22] \u001b[A\n",
            "Epoch 100/500:   0%|          | 0/4 [00:00<?, ?it/s, loss=0.0935]\u001b[A\n",
            "Epoch 100/500:   0%|          | 0/4 [00:00<?, ?it/s, loss=0.145] \u001b[A"
          ]
        },
        {
          "output_type": "stream",
          "name": "stdout",
          "text": [
            "Epoch 100/500, Train Loss: 0.1568, Validation Loss: 0.1563, F1 Score: 1.0000, Accuracy: 1.0000\n"
          ]
        },
        {
          "output_type": "stream",
          "name": "stderr",
          "text": [
            "Epoch 100/500:   0%|          | 0/4 [00:01<?, ?it/s, loss=0.145]\n",
            "Epoch 101/500:   0%|          | 0/4 [00:00<?, ?it/s, loss=0.172]"
          ]
        },
        {
          "output_type": "stream",
          "name": "stdout",
          "text": [
            "Epoch 101/500, Train Loss: 0.1843, Validation Loss: 0.1932, F1 Score: 1.0000, Accuracy: 1.0000\n"
          ]
        },
        {
          "output_type": "stream",
          "name": "stderr",
          "text": [
            "\n",
            "Epoch 101/500:   0%|          | 0/4 [00:01<?, ?it/s, loss=0.172]\n",
            "\n",
            "Epoch 102/500:   0%|          | 0/4 [00:00<?, ?it/s, loss=0.16]\u001b[A\n",
            "Epoch 102/500:   0%|          | 0/4 [00:00<?, ?it/s, loss=0.22]\u001b[A\n",
            "Epoch 102/500:   0%|          | 0/4 [00:00<?, ?it/s, loss=0.179]\u001b[A\n",
            "Epoch 102/500:   0%|          | 0/4 [00:00<?, ?it/s, loss=0.178]\u001b[A"
          ]
        },
        {
          "output_type": "stream",
          "name": "stdout",
          "text": [
            "Epoch 102/500, Train Loss: 0.1845, Validation Loss: 0.1505, F1 Score: 1.0000, Accuracy: 1.0000\n"
          ]
        },
        {
          "output_type": "stream",
          "name": "stderr",
          "text": [
            "Epoch 102/500:   0%|          | 0/4 [00:01<?, ?it/s, loss=0.178]\n",
            "Epoch 103/500:   0%|          | 0/4 [00:00<?, ?it/s, loss=0.144]"
          ]
        },
        {
          "output_type": "stream",
          "name": "stdout",
          "text": [
            "Epoch 103/500, Train Loss: 0.1677, Validation Loss: 0.1702, F1 Score: 1.0000, Accuracy: 1.0000\n"
          ]
        },
        {
          "output_type": "stream",
          "name": "stderr",
          "text": [
            "\n",
            "Epoch 103/500:   0%|          | 0/4 [00:01<?, ?it/s, loss=0.144]\n",
            "\n",
            "Epoch 104/500:   0%|          | 0/4 [00:00<?, ?it/s, loss=0.154]\u001b[A\n",
            "Epoch 104/500:   0%|          | 0/4 [00:00<?, ?it/s, loss=0.18] \u001b[A\n",
            "Epoch 104/500:   0%|          | 0/4 [00:00<?, ?it/s, loss=0.112]\u001b[A\n",
            "Epoch 104/500:   0%|          | 0/4 [00:00<?, ?it/s, loss=0.0914]\u001b[A"
          ]
        },
        {
          "output_type": "stream",
          "name": "stdout",
          "text": [
            "Epoch 104/500, Train Loss: 0.1341, Validation Loss: 0.1505, F1 Score: 1.0000, Accuracy: 1.0000\n"
          ]
        },
        {
          "output_type": "stream",
          "name": "stderr",
          "text": [
            "Epoch 104/500:   0%|          | 0/4 [00:01<?, ?it/s, loss=0.0914]\n",
            "Epoch 105/500:   0%|          | 0/4 [00:01<?, ?it/s, loss=0.208]"
          ]
        },
        {
          "output_type": "stream",
          "name": "stdout",
          "text": [
            "Epoch 105/500, Train Loss: 0.1832, Validation Loss: 0.1435, F1 Score: 1.0000, Accuracy: 1.0000\n"
          ]
        },
        {
          "output_type": "stream",
          "name": "stderr",
          "text": [
            "\n",
            "Epoch 105/500:   0%|          | 0/4 [00:01<?, ?it/s, loss=0.208]\n",
            "\n",
            "Epoch 106/500:   0%|          | 0/4 [00:00<?, ?it/s, loss=0.111]\u001b[A\n",
            "Epoch 106/500:   0%|          | 0/4 [00:00<?, ?it/s, loss=0.212]\u001b[A\n",
            "Epoch 106/500:   0%|          | 0/4 [00:01<?, ?it/s, loss=0.141]\u001b[A\n",
            "Epoch 106/500:   0%|          | 0/4 [00:01<?, ?it/s, loss=0.173]\u001b[A"
          ]
        },
        {
          "output_type": "stream",
          "name": "stdout",
          "text": [
            "Epoch 106/500, Train Loss: 0.1592, Validation Loss: 0.1489, F1 Score: 1.0000, Accuracy: 1.0000\n"
          ]
        },
        {
          "output_type": "stream",
          "name": "stderr",
          "text": [
            "Epoch 106/500:   0%|          | 0/4 [00:01<?, ?it/s, loss=0.173]\n",
            "Epoch 107/500:   0%|          | 0/4 [00:00<?, ?it/s, loss=0.153]"
          ]
        },
        {
          "output_type": "stream",
          "name": "stdout",
          "text": [
            "Epoch 107/500, Train Loss: 0.1783, Validation Loss: 0.1887, F1 Score: 1.0000, Accuracy: 1.0000\n"
          ]
        },
        {
          "output_type": "stream",
          "name": "stderr",
          "text": [
            "\n",
            "Epoch 107/500:   0%|          | 0/4 [00:01<?, ?it/s, loss=0.153]\n",
            "\n",
            "Epoch 108/500:   0%|          | 0/4 [00:00<?, ?it/s, loss=0.0931]\u001b[A\n",
            "Epoch 108/500:   0%|          | 0/4 [00:00<?, ?it/s, loss=0.179] \u001b[A\n",
            "Epoch 108/500:   0%|          | 0/4 [00:00<?, ?it/s, loss=0.168]\u001b[A\n",
            "Epoch 108/500:   0%|          | 0/4 [00:00<?, ?it/s, loss=0.142]\u001b[A"
          ]
        },
        {
          "output_type": "stream",
          "name": "stdout",
          "text": [
            "Epoch 108/500, Train Loss: 0.1454, Validation Loss: 0.1340, F1 Score: 1.0000, Accuracy: 1.0000\n",
            "Best model saved with F1 score: 0.1340\n"
          ]
        },
        {
          "output_type": "stream",
          "name": "stderr",
          "text": [
            "Epoch 108/500:   0%|          | 0/4 [00:01<?, ?it/s, loss=0.142]\n",
            "Epoch 109/500:   0%|          | 0/4 [00:01<?, ?it/s, loss=0.153]"
          ]
        },
        {
          "output_type": "stream",
          "name": "stdout",
          "text": [
            "Epoch 109/500, Train Loss: 0.1268, Validation Loss: 0.1579, F1 Score: 1.0000, Accuracy: 1.0000\n"
          ]
        },
        {
          "output_type": "stream",
          "name": "stderr",
          "text": [
            "\n",
            "Epoch 109/500:   0%|          | 0/4 [00:01<?, ?it/s, loss=0.153]\n",
            "\n",
            "Epoch 110/500:   0%|          | 0/4 [00:00<?, ?it/s, loss=0.117]\u001b[A\n",
            "Epoch 110/500:   0%|          | 0/4 [00:00<?, ?it/s, loss=0.185]\u001b[A\n",
            "Epoch 110/500:   0%|          | 0/4 [00:00<?, ?it/s, loss=0.185]\u001b[A\n",
            "Epoch 110/500:   0%|          | 0/4 [00:00<?, ?it/s, loss=0.15] \u001b[A"
          ]
        },
        {
          "output_type": "stream",
          "name": "stdout",
          "text": [
            "Epoch 110/500, Train Loss: 0.1594, Validation Loss: 0.1575, F1 Score: 1.0000, Accuracy: 1.0000\n"
          ]
        },
        {
          "output_type": "stream",
          "name": "stderr",
          "text": [
            "Epoch 110/500:   0%|          | 0/4 [00:01<?, ?it/s, loss=0.15]\n",
            "Epoch 111/500:   0%|          | 0/4 [00:00<?, ?it/s, loss=0.131]"
          ]
        },
        {
          "output_type": "stream",
          "name": "stdout",
          "text": [
            "Epoch 111/500, Train Loss: 0.1365, Validation Loss: 0.1565, F1 Score: 1.0000, Accuracy: 1.0000\n"
          ]
        },
        {
          "output_type": "stream",
          "name": "stderr",
          "text": [
            "\n",
            "Epoch 111/500:   0%|          | 0/4 [00:01<?, ?it/s, loss=0.131]\n",
            "\n",
            "Epoch 112/500:   0%|          | 0/4 [00:00<?, ?it/s, loss=0.109]\u001b[A\n",
            "Epoch 112/500:   0%|          | 0/4 [00:00<?, ?it/s, loss=0.172]\u001b[A\n",
            "Epoch 112/500:   0%|          | 0/4 [00:00<?, ?it/s, loss=0.139]\u001b[A\n",
            "Epoch 112/500:   0%|          | 0/4 [00:00<?, ?it/s, loss=0.159]\u001b[A"
          ]
        },
        {
          "output_type": "stream",
          "name": "stdout",
          "text": [
            "Epoch 112/500, Train Loss: 0.1447, Validation Loss: 0.1363, F1 Score: 1.0000, Accuracy: 1.0000\n"
          ]
        },
        {
          "output_type": "stream",
          "name": "stderr",
          "text": [
            "Epoch 112/500:   0%|          | 0/4 [00:01<?, ?it/s, loss=0.159]\n",
            "Epoch 113/500:   0%|          | 0/4 [00:00<?, ?it/s, loss=0.164] "
          ]
        },
        {
          "output_type": "stream",
          "name": "stdout",
          "text": [
            "Epoch 113/500, Train Loss: 0.1380, Validation Loss: 0.1663, F1 Score: 1.0000, Accuracy: 1.0000\n"
          ]
        },
        {
          "output_type": "stream",
          "name": "stderr",
          "text": [
            "\n",
            "Epoch 113/500:   0%|          | 0/4 [00:01<?, ?it/s, loss=0.164]\n",
            "\n",
            "Epoch 114/500:   0%|          | 0/4 [00:00<?, ?it/s, loss=0.0898]\u001b[A\n",
            "Epoch 114/500:   0%|          | 0/4 [00:00<?, ?it/s, loss=0.135] \u001b[A\n",
            "Epoch 114/500:   0%|          | 0/4 [00:00<?, ?it/s, loss=0.144]\u001b[A\n",
            "Epoch 114/500:   0%|          | 0/4 [00:01<?, ?it/s, loss=0.158]\u001b[A"
          ]
        },
        {
          "output_type": "stream",
          "name": "stdout",
          "text": [
            "Epoch 114/500, Train Loss: 0.1318, Validation Loss: 0.1594, F1 Score: 1.0000, Accuracy: 1.0000\n"
          ]
        },
        {
          "output_type": "stream",
          "name": "stderr",
          "text": [
            "Epoch 114/500:   0%|          | 0/4 [00:01<?, ?it/s, loss=0.158]\n",
            "Epoch 115/500:   0%|          | 0/4 [00:01<?, ?it/s, loss=0.142]"
          ]
        },
        {
          "output_type": "stream",
          "name": "stdout",
          "text": [
            "Epoch 115/500, Train Loss: 0.1373, Validation Loss: 0.1183, F1 Score: 1.0000, Accuracy: 1.0000\n",
            "Best model saved with F1 score: 0.1183\n"
          ]
        },
        {
          "output_type": "stream",
          "name": "stderr",
          "text": [
            "\n",
            "Epoch 115/500:   0%|          | 0/4 [00:01<?, ?it/s, loss=0.142]\n",
            "\n",
            "Epoch 116/500:   0%|          | 0/4 [00:00<?, ?it/s, loss=0.133]\u001b[A\n",
            "Epoch 116/500:   0%|          | 0/4 [00:00<?, ?it/s, loss=0.18] \u001b[A\n",
            "Epoch 116/500:   0%|          | 0/4 [00:01<?, ?it/s, loss=0.182]\u001b[A\n",
            "Epoch 116/500:   0%|          | 0/4 [00:01<?, ?it/s, loss=0.153]\u001b[A"
          ]
        },
        {
          "output_type": "stream",
          "name": "stdout",
          "text": [
            "Epoch 116/500, Train Loss: 0.1622, Validation Loss: 0.1549, F1 Score: 1.0000, Accuracy: 1.0000\n"
          ]
        },
        {
          "output_type": "stream",
          "name": "stderr",
          "text": [
            "Epoch 116/500:   0%|          | 0/4 [00:01<?, ?it/s, loss=0.153]\n",
            "Epoch 117/500:   0%|          | 0/4 [00:00<?, ?it/s, loss=0.144]"
          ]
        },
        {
          "output_type": "stream",
          "name": "stdout",
          "text": [
            "Epoch 117/500, Train Loss: 0.1729, Validation Loss: 0.1672, F1 Score: 1.0000, Accuracy: 1.0000\n"
          ]
        },
        {
          "output_type": "stream",
          "name": "stderr",
          "text": [
            "\n",
            "Epoch 117/500:   0%|          | 0/4 [00:01<?, ?it/s, loss=0.144]\n",
            "\n",
            "Epoch 118/500:   0%|          | 0/4 [00:00<?, ?it/s, loss=0.144]\u001b[A\n",
            "Epoch 118/500:   0%|          | 0/4 [00:00<?, ?it/s, loss=0.15] \u001b[A\n",
            "Epoch 118/500:   0%|          | 0/4 [00:00<?, ?it/s, loss=0.172]\u001b[A\n",
            "Epoch 118/500:   0%|          | 0/4 [00:00<?, ?it/s, loss=0.176]\u001b[A"
          ]
        },
        {
          "output_type": "stream",
          "name": "stdout",
          "text": [
            "Epoch 118/500, Train Loss: 0.1605, Validation Loss: 0.1617, F1 Score: 1.0000, Accuracy: 1.0000\n"
          ]
        },
        {
          "output_type": "stream",
          "name": "stderr",
          "text": [
            "Epoch 118/500:   0%|          | 0/4 [00:01<?, ?it/s, loss=0.176]\n",
            "Epoch 119/500:   0%|          | 0/4 [00:00<?, ?it/s, loss=0.133]"
          ]
        },
        {
          "output_type": "stream",
          "name": "stdout",
          "text": [
            "Epoch 119/500, Train Loss: 0.1422, Validation Loss: 0.1489, F1 Score: 1.0000, Accuracy: 1.0000\n"
          ]
        },
        {
          "output_type": "stream",
          "name": "stderr",
          "text": [
            "\n",
            "Epoch 119/500:   0%|          | 0/4 [00:01<?, ?it/s, loss=0.133]\n",
            "\n",
            "Epoch 120/500:   0%|          | 0/4 [00:00<?, ?it/s, loss=0.14]\u001b[A\n",
            "Epoch 120/500:   0%|          | 0/4 [00:00<?, ?it/s, loss=0.153]\u001b[A\n",
            "Epoch 120/500:   0%|          | 0/4 [00:00<?, ?it/s, loss=0.139]\u001b[A\n",
            "Epoch 120/500:   0%|          | 0/4 [00:01<?, ?it/s, loss=0.141]\u001b[A"
          ]
        },
        {
          "output_type": "stream",
          "name": "stdout",
          "text": [
            "Epoch 120/500, Train Loss: 0.1431, Validation Loss: 0.1665, F1 Score: 1.0000, Accuracy: 1.0000\n"
          ]
        },
        {
          "output_type": "stream",
          "name": "stderr",
          "text": [
            "Epoch 120/500:   0%|          | 0/4 [00:01<?, ?it/s, loss=0.141]\n",
            "Epoch 121/500:   0%|          | 0/4 [00:01<?, ?it/s, loss=0.148]"
          ]
        },
        {
          "output_type": "stream",
          "name": "stdout",
          "text": [
            "Epoch 121/500, Train Loss: 0.1226, Validation Loss: 0.1448, F1 Score: 1.0000, Accuracy: 1.0000\n"
          ]
        },
        {
          "output_type": "stream",
          "name": "stderr",
          "text": [
            "\n",
            "Epoch 121/500:   0%|          | 0/4 [00:01<?, ?it/s, loss=0.148]\n",
            "\n",
            "Epoch 122/500:   0%|          | 0/4 [00:00<?, ?it/s, loss=0.129]\u001b[A\n",
            "Epoch 122/500:   0%|          | 0/4 [00:00<?, ?it/s, loss=0.184]\u001b[A\n",
            "Epoch 122/500:   0%|          | 0/4 [00:00<?, ?it/s, loss=0.126]\u001b[A\n",
            "Epoch 122/500:   0%|          | 0/4 [00:00<?, ?it/s, loss=0.103]\u001b[A"
          ]
        },
        {
          "output_type": "stream",
          "name": "stdout",
          "text": [
            "Epoch 122/500, Train Loss: 0.1355, Validation Loss: 0.1486, F1 Score: 1.0000, Accuracy: 1.0000\n"
          ]
        },
        {
          "output_type": "stream",
          "name": "stderr",
          "text": [
            "Epoch 122/500:   0%|          | 0/4 [00:01<?, ?it/s, loss=0.103]\n",
            "Epoch 123/500:   0%|          | 0/4 [00:00<?, ?it/s, loss=0.172]"
          ]
        },
        {
          "output_type": "stream",
          "name": "stdout",
          "text": [
            "Epoch 123/500, Train Loss: 0.1450, Validation Loss: 0.1242, F1 Score: 1.0000, Accuracy: 1.0000\n"
          ]
        },
        {
          "output_type": "stream",
          "name": "stderr",
          "text": [
            "\n",
            "Epoch 123/500:   0%|          | 0/4 [00:01<?, ?it/s, loss=0.172]\n",
            "\n",
            "Epoch 124/500:   0%|          | 0/4 [00:00<?, ?it/s, loss=0.125]\u001b[A\n",
            "Epoch 124/500:   0%|          | 0/4 [00:00<?, ?it/s, loss=0.222]\u001b[A\n",
            "Epoch 124/500:   0%|          | 0/4 [00:00<?, ?it/s, loss=0.106]\u001b[A\n",
            "Epoch 124/500:   0%|          | 0/4 [00:01<?, ?it/s, loss=0.156]\u001b[A"
          ]
        },
        {
          "output_type": "stream",
          "name": "stdout",
          "text": [
            "Epoch 124/500, Train Loss: 0.1522, Validation Loss: 0.1376, F1 Score: 1.0000, Accuracy: 1.0000\n"
          ]
        },
        {
          "output_type": "stream",
          "name": "stderr",
          "text": [
            "Epoch 124/500:   0%|          | 0/4 [00:01<?, ?it/s, loss=0.156]\n",
            "Epoch 125/500:   0%|          | 0/4 [00:01<?, ?it/s, loss=0.155] "
          ]
        },
        {
          "output_type": "stream",
          "name": "stdout",
          "text": [
            "Epoch 125/500, Train Loss: 0.1275, Validation Loss: 0.1603, F1 Score: 1.0000, Accuracy: 1.0000\n"
          ]
        },
        {
          "output_type": "stream",
          "name": "stderr",
          "text": [
            "\n",
            "Epoch 125/500:   0%|          | 0/4 [00:01<?, ?it/s, loss=0.155]\n",
            "\n",
            "Epoch 126/500:   0%|          | 0/4 [00:00<?, ?it/s, loss=0.124]\u001b[A\n",
            "Epoch 126/500:   0%|          | 0/4 [00:00<?, ?it/s, loss=0.203]\u001b[A\n",
            "Epoch 126/500:   0%|          | 0/4 [00:00<?, ?it/s, loss=0.0797]\u001b[A\n",
            "Epoch 126/500:   0%|          | 0/4 [00:01<?, ?it/s, loss=0.11]  \u001b[A"
          ]
        },
        {
          "output_type": "stream",
          "name": "stdout",
          "text": [
            "Epoch 126/500, Train Loss: 0.1291, Validation Loss: 0.1103, F1 Score: 1.0000, Accuracy: 1.0000\n",
            "Best model saved with F1 score: 0.1103\n"
          ]
        },
        {
          "output_type": "stream",
          "name": "stderr",
          "text": [
            "Epoch 126/500:   0%|          | 0/4 [00:01<?, ?it/s, loss=0.11]\n",
            "Epoch 127/500:   0%|          | 0/4 [00:01<?, ?it/s, loss=0.114]"
          ]
        },
        {
          "output_type": "stream",
          "name": "stdout",
          "text": [
            "Epoch 127/500, Train Loss: 0.1334, Validation Loss: 0.1395, F1 Score: 1.0000, Accuracy: 1.0000\n"
          ]
        },
        {
          "output_type": "stream",
          "name": "stderr",
          "text": [
            "\n",
            "Epoch 127/500:   0%|          | 0/4 [00:01<?, ?it/s, loss=0.114]\n",
            "\n",
            "Epoch 128/500:   0%|          | 0/4 [00:00<?, ?it/s, loss=0.121]\u001b[A\n",
            "Epoch 128/500:   0%|          | 0/4 [00:00<?, ?it/s, loss=0.177]\u001b[A\n",
            "Epoch 128/500:   0%|          | 0/4 [00:00<?, ?it/s, loss=0.0775]\u001b[A\n",
            "Epoch 128/500:   0%|          | 0/4 [00:00<?, ?it/s, loss=0.186] \u001b[A"
          ]
        },
        {
          "output_type": "stream",
          "name": "stdout",
          "text": [
            "Epoch 128/500, Train Loss: 0.1405, Validation Loss: 0.1533, F1 Score: 1.0000, Accuracy: 1.0000\n"
          ]
        },
        {
          "output_type": "stream",
          "name": "stderr",
          "text": [
            "Epoch 128/500:   0%|          | 0/4 [00:01<?, ?it/s, loss=0.186]\n",
            "Epoch 129/500:   0%|          | 0/4 [00:00<?, ?it/s, loss=0.123]"
          ]
        },
        {
          "output_type": "stream",
          "name": "stdout",
          "text": [
            "Epoch 129/500, Train Loss: 0.1647, Validation Loss: 0.0921, F1 Score: 1.0000, Accuracy: 1.0000\n",
            "Best model saved with F1 score: 0.0921\n"
          ]
        },
        {
          "output_type": "stream",
          "name": "stderr",
          "text": [
            "\n",
            "Epoch 129/500:   0%|          | 0/4 [00:01<?, ?it/s, loss=0.123]\n",
            "\n",
            "Epoch 130/500:   0%|          | 0/4 [00:00<?, ?it/s, loss=0.128]\u001b[A\n",
            "Epoch 130/500:   0%|          | 0/4 [00:00<?, ?it/s, loss=0.185]\u001b[A\n",
            "Epoch 130/500:   0%|          | 0/4 [00:01<?, ?it/s, loss=0.155]\u001b[A\n",
            "Epoch 130/500:   0%|          | 0/4 [00:01<?, ?it/s, loss=0.101]\u001b[A"
          ]
        },
        {
          "output_type": "stream",
          "name": "stdout",
          "text": [
            "Epoch 130/500, Train Loss: 0.1424, Validation Loss: 0.1540, F1 Score: 1.0000, Accuracy: 1.0000\n"
          ]
        },
        {
          "output_type": "stream",
          "name": "stderr",
          "text": [
            "Epoch 130/500:   0%|          | 0/4 [00:01<?, ?it/s, loss=0.101]\n",
            "Epoch 131/500:   0%|          | 0/4 [00:00<?, ?it/s, loss=0.139]"
          ]
        },
        {
          "output_type": "stream",
          "name": "stdout",
          "text": [
            "Epoch 131/500, Train Loss: 0.1568, Validation Loss: 0.1069, F1 Score: 1.0000, Accuracy: 1.0000\n"
          ]
        },
        {
          "output_type": "stream",
          "name": "stderr",
          "text": [
            "\n",
            "Epoch 131/500:   0%|          | 0/4 [00:01<?, ?it/s, loss=0.139]\n",
            "\n",
            "Epoch 132/500:   0%|          | 0/4 [00:00<?, ?it/s, loss=0.118]\u001b[A\n",
            "Epoch 132/500:   0%|          | 0/4 [00:00<?, ?it/s, loss=0.142]\u001b[A\n",
            "Epoch 132/500:   0%|          | 0/4 [00:00<?, ?it/s, loss=0.144]\u001b[A\n",
            "Epoch 132/500:   0%|          | 0/4 [00:00<?, ?it/s, loss=0.0812]\u001b[A"
          ]
        },
        {
          "output_type": "stream",
          "name": "stdout",
          "text": [
            "Epoch 132/500, Train Loss: 0.1214, Validation Loss: 0.1191, F1 Score: 1.0000, Accuracy: 1.0000\n"
          ]
        },
        {
          "output_type": "stream",
          "name": "stderr",
          "text": [
            "Epoch 132/500:   0%|          | 0/4 [00:01<?, ?it/s, loss=0.0812]\n",
            "Epoch 133/500:   0%|          | 0/4 [00:01<?, ?it/s, loss=0.111]"
          ]
        },
        {
          "output_type": "stream",
          "name": "stdout",
          "text": [
            "Epoch 133/500, Train Loss: 0.1341, Validation Loss: 0.1105, F1 Score: 1.0000, Accuracy: 1.0000\n"
          ]
        },
        {
          "output_type": "stream",
          "name": "stderr",
          "text": [
            "\n",
            "Epoch 133/500:   0%|          | 0/4 [00:01<?, ?it/s, loss=0.111]\n",
            "\n",
            "Epoch 134/500:   0%|          | 0/4 [00:00<?, ?it/s, loss=0.0786]\u001b[A\n",
            "Epoch 134/500:   0%|          | 0/4 [00:00<?, ?it/s, loss=0.153] \u001b[A\n",
            "Epoch 134/500:   0%|          | 0/4 [00:01<?, ?it/s, loss=0.0819]\u001b[A\n",
            "Epoch 134/500:   0%|          | 0/4 [00:01<?, ?it/s, loss=0.133] \u001b[A"
          ]
        },
        {
          "output_type": "stream",
          "name": "stdout",
          "text": [
            "Epoch 134/500, Train Loss: 0.1116, Validation Loss: 0.1309, F1 Score: 1.0000, Accuracy: 1.0000\n"
          ]
        },
        {
          "output_type": "stream",
          "name": "stderr",
          "text": [
            "Epoch 134/500:   0%|          | 0/4 [00:02<?, ?it/s, loss=0.133]\n",
            "Epoch 135/500:   0%|          | 0/4 [00:01<?, ?it/s, loss=0.108]"
          ]
        },
        {
          "output_type": "stream",
          "name": "stdout",
          "text": [
            "Epoch 135/500, Train Loss: 0.1083, Validation Loss: 0.0922, F1 Score: 1.0000, Accuracy: 1.0000\n"
          ]
        },
        {
          "output_type": "stream",
          "name": "stderr",
          "text": [
            "\n",
            "Epoch 135/500:   0%|          | 0/4 [00:01<?, ?it/s, loss=0.108]\n",
            "\n",
            "Epoch 136/500:   0%|          | 0/4 [00:00<?, ?it/s, loss=0.129]\u001b[A\n",
            "Epoch 136/500:   0%|          | 0/4 [00:00<?, ?it/s, loss=0.206]\u001b[A\n",
            "Epoch 136/500:   0%|          | 0/4 [00:00<?, ?it/s, loss=0.143]\u001b[A\n",
            "Epoch 136/500:   0%|          | 0/4 [00:00<?, ?it/s, loss=0.136]\u001b[A"
          ]
        },
        {
          "output_type": "stream",
          "name": "stdout",
          "text": [
            "Epoch 136/500, Train Loss: 0.1536, Validation Loss: 0.1030, F1 Score: 1.0000, Accuracy: 1.0000\n"
          ]
        },
        {
          "output_type": "stream",
          "name": "stderr",
          "text": [
            "Epoch 136/500:   0%|          | 0/4 [00:01<?, ?it/s, loss=0.136]\n",
            "Epoch 137/500:   0%|          | 0/4 [00:00<?, ?it/s, loss=0.138]"
          ]
        },
        {
          "output_type": "stream",
          "name": "stdout",
          "text": [
            "Epoch 137/500, Train Loss: 0.1141, Validation Loss: 0.1308, F1 Score: 1.0000, Accuracy: 1.0000\n"
          ]
        },
        {
          "output_type": "stream",
          "name": "stderr",
          "text": [
            "\n",
            "Epoch 137/500:   0%|          | 0/4 [00:01<?, ?it/s, loss=0.138]\n",
            "\n",
            "Epoch 138/500:   0%|          | 0/4 [00:00<?, ?it/s, loss=0.134]\u001b[A\n",
            "Epoch 138/500:   0%|          | 0/4 [00:00<?, ?it/s, loss=0.142]\u001b[A\n",
            "Epoch 138/500:   0%|          | 0/4 [00:00<?, ?it/s, loss=0.119]\u001b[A\n",
            "Epoch 138/500:   0%|          | 0/4 [00:00<?, ?it/s, loss=0.103]\u001b[A"
          ]
        },
        {
          "output_type": "stream",
          "name": "stdout",
          "text": [
            "Epoch 138/500, Train Loss: 0.1245, Validation Loss: 0.1409, F1 Score: 1.0000, Accuracy: 1.0000\n"
          ]
        },
        {
          "output_type": "stream",
          "name": "stderr",
          "text": [
            "Epoch 138/500:   0%|          | 0/4 [00:01<?, ?it/s, loss=0.103]\n",
            "Epoch 139/500:   0%|          | 0/4 [00:00<?, ?it/s, loss=0.129] "
          ]
        },
        {
          "output_type": "stream",
          "name": "stdout",
          "text": [
            "Epoch 139/500, Train Loss: 0.1044, Validation Loss: 0.1253, F1 Score: 1.0000, Accuracy: 1.0000\n"
          ]
        },
        {
          "output_type": "stream",
          "name": "stderr",
          "text": [
            "\n",
            "Epoch 139/500:   0%|          | 0/4 [00:01<?, ?it/s, loss=0.129]\n",
            "\n",
            "Epoch 140/500:   0%|          | 0/4 [00:00<?, ?it/s, loss=0.102]\u001b[A\n",
            "Epoch 140/500:   0%|          | 0/4 [00:00<?, ?it/s, loss=0.171]\u001b[A\n",
            "Epoch 140/500:   0%|          | 0/4 [00:00<?, ?it/s, loss=0.0801]\u001b[A\n",
            "Epoch 140/500:   0%|          | 0/4 [00:01<?, ?it/s, loss=0.114] \u001b[A"
          ]
        },
        {
          "output_type": "stream",
          "name": "stdout",
          "text": [
            "Epoch 140/500, Train Loss: 0.1167, Validation Loss: 0.1196, F1 Score: 1.0000, Accuracy: 1.0000\n"
          ]
        },
        {
          "output_type": "stream",
          "name": "stderr",
          "text": [
            "Epoch 140/500:   0%|          | 0/4 [00:01<?, ?it/s, loss=0.114]\n",
            "Epoch 141/500:   0%|          | 0/4 [00:00<?, ?it/s, loss=0.0587]"
          ]
        },
        {
          "output_type": "stream",
          "name": "stdout",
          "text": [
            "Epoch 141/500, Train Loss: 0.1091, Validation Loss: 0.1019, F1 Score: 1.0000, Accuracy: 1.0000\n"
          ]
        },
        {
          "output_type": "stream",
          "name": "stderr",
          "text": [
            "\n",
            "Epoch 141/500:   0%|          | 0/4 [00:01<?, ?it/s, loss=0.0587]\n",
            "\n",
            "Epoch 142/500:   0%|          | 0/4 [00:00<?, ?it/s, loss=0.116]\u001b[A\n",
            "Epoch 142/500:   0%|          | 0/4 [00:00<?, ?it/s, loss=0.144]\u001b[A\n",
            "Epoch 142/500:   0%|          | 0/4 [00:00<?, ?it/s, loss=0.127]\u001b[A\n",
            "Epoch 142/500:   0%|          | 0/4 [00:00<?, ?it/s, loss=0.141]\u001b[A"
          ]
        },
        {
          "output_type": "stream",
          "name": "stdout",
          "text": [
            "Epoch 142/500, Train Loss: 0.1320, Validation Loss: 0.1230, F1 Score: 1.0000, Accuracy: 1.0000\n"
          ]
        },
        {
          "output_type": "stream",
          "name": "stderr",
          "text": [
            "Epoch 142/500:   0%|          | 0/4 [00:01<?, ?it/s, loss=0.141]\n",
            "Epoch 143/500:   0%|          | 0/4 [00:01<?, ?it/s, loss=0.106]"
          ]
        },
        {
          "output_type": "stream",
          "name": "stdout",
          "text": [
            "Epoch 143/500, Train Loss: 0.1374, Validation Loss: 0.1285, F1 Score: 1.0000, Accuracy: 1.0000\n"
          ]
        },
        {
          "output_type": "stream",
          "name": "stderr",
          "text": [
            "\n",
            "Epoch 143/500:   0%|          | 0/4 [00:01<?, ?it/s, loss=0.106]\n",
            "\n",
            "Epoch 144/500:   0%|          | 0/4 [00:00<?, ?it/s, loss=0.0729]\u001b[A\n",
            "Epoch 144/500:   0%|          | 0/4 [00:00<?, ?it/s, loss=0.138] \u001b[A\n",
            "Epoch 144/500:   0%|          | 0/4 [00:00<?, ?it/s, loss=0.133]\u001b[A\n",
            "Epoch 144/500:   0%|          | 0/4 [00:01<?, ?it/s, loss=0.2]  \u001b[A"
          ]
        },
        {
          "output_type": "stream",
          "name": "stdout",
          "text": [
            "Epoch 144/500, Train Loss: 0.1361, Validation Loss: 0.1607, F1 Score: 0.9501, Accuracy: 0.9500\n"
          ]
        },
        {
          "output_type": "stream",
          "name": "stderr",
          "text": [
            "Epoch 144/500:   0%|          | 0/4 [00:01<?, ?it/s, loss=0.2]\n",
            "Epoch 145/500:   0%|          | 0/4 [00:01<?, ?it/s, loss=0.0869]"
          ]
        },
        {
          "output_type": "stream",
          "name": "stdout",
          "text": [
            "Epoch 145/500, Train Loss: 0.1350, Validation Loss: 0.1238, F1 Score: 1.0000, Accuracy: 1.0000\n"
          ]
        },
        {
          "output_type": "stream",
          "name": "stderr",
          "text": [
            "\n",
            "Epoch 145/500:   0%|          | 0/4 [00:01<?, ?it/s, loss=0.0869]\n",
            "\n",
            "Epoch 146/500:   0%|          | 0/4 [00:00<?, ?it/s, loss=0.0936]\u001b[A\n",
            "Epoch 146/500:   0%|          | 0/4 [00:00<?, ?it/s, loss=0.14]  \u001b[A\n",
            "Epoch 146/500:   0%|          | 0/4 [00:00<?, ?it/s, loss=0.146]\u001b[A\n",
            "Epoch 146/500:   0%|          | 0/4 [00:00<?, ?it/s, loss=0.0879]\u001b[A"
          ]
        },
        {
          "output_type": "stream",
          "name": "stdout",
          "text": [
            "Epoch 146/500, Train Loss: 0.1168, Validation Loss: 0.1161, F1 Score: 1.0000, Accuracy: 1.0000\n"
          ]
        },
        {
          "output_type": "stream",
          "name": "stderr",
          "text": [
            "Epoch 146/500:   0%|          | 0/4 [00:01<?, ?it/s, loss=0.0879]\n",
            "Epoch 147/500:   0%|          | 0/4 [00:01<?, ?it/s, loss=0.163]"
          ]
        },
        {
          "output_type": "stream",
          "name": "stdout",
          "text": [
            "Epoch 147/500, Train Loss: 0.1595, Validation Loss: 0.1319, F1 Score: 1.0000, Accuracy: 1.0000\n"
          ]
        },
        {
          "output_type": "stream",
          "name": "stderr",
          "text": [
            "\n",
            "Epoch 147/500:   0%|          | 0/4 [00:01<?, ?it/s, loss=0.163]\n",
            "\n",
            "Epoch 148/500:   0%|          | 0/4 [00:00<?, ?it/s, loss=0.15]\u001b[A\n",
            "Epoch 148/500:   0%|          | 0/4 [00:00<?, ?it/s, loss=0.143]\u001b[A\n",
            "Epoch 148/500:   0%|          | 0/4 [00:00<?, ?it/s, loss=0.125]\u001b[A\n",
            "Epoch 148/500:   0%|          | 0/4 [00:01<?, ?it/s, loss=0.127]\u001b[A"
          ]
        },
        {
          "output_type": "stream",
          "name": "stdout",
          "text": [
            "Epoch 148/500, Train Loss: 0.1361, Validation Loss: 0.1012, F1 Score: 1.0000, Accuracy: 1.0000\n"
          ]
        },
        {
          "output_type": "stream",
          "name": "stderr",
          "text": [
            "Epoch 148/500:   0%|          | 0/4 [00:01<?, ?it/s, loss=0.127]\n",
            "Epoch 149/500:   0%|          | 0/4 [00:00<?, ?it/s, loss=0.122] "
          ]
        },
        {
          "output_type": "stream",
          "name": "stdout",
          "text": [
            "Epoch 149/500, Train Loss: 0.1355, Validation Loss: 0.1560, F1 Score: 0.9496, Accuracy: 0.9500\n"
          ]
        },
        {
          "output_type": "stream",
          "name": "stderr",
          "text": [
            "\n",
            "Epoch 149/500:   0%|          | 0/4 [00:01<?, ?it/s, loss=0.122]\n",
            "\n",
            "Epoch 150/500:   0%|          | 0/4 [00:00<?, ?it/s, loss=0.0921]\u001b[A\n",
            "Epoch 150/500:   0%|          | 0/4 [00:00<?, ?it/s, loss=0.128] \u001b[A\n",
            "Epoch 150/500:   0%|          | 0/4 [00:00<?, ?it/s, loss=0.115]\u001b[A\n",
            "Epoch 150/500:   0%|          | 0/4 [00:01<?, ?it/s, loss=0.118]\u001b[A"
          ]
        },
        {
          "output_type": "stream",
          "name": "stdout",
          "text": [
            "Epoch 150/500, Train Loss: 0.1132, Validation Loss: 0.1087, F1 Score: 1.0000, Accuracy: 1.0000\n"
          ]
        },
        {
          "output_type": "stream",
          "name": "stderr",
          "text": [
            "Epoch 150/500:   0%|          | 0/4 [00:01<?, ?it/s, loss=0.118]\n",
            "Epoch 151/500:   0%|          | 0/4 [00:01<?, ?it/s, loss=0.106]"
          ]
        },
        {
          "output_type": "stream",
          "name": "stdout",
          "text": [
            "Epoch 151/500, Train Loss: 0.1124, Validation Loss: 0.1166, F1 Score: 1.0000, Accuracy: 1.0000\n"
          ]
        },
        {
          "output_type": "stream",
          "name": "stderr",
          "text": [
            "\n",
            "Epoch 151/500:   0%|          | 0/4 [00:01<?, ?it/s, loss=0.106]\n",
            "\n",
            "Epoch 152/500:   0%|          | 0/4 [00:00<?, ?it/s, loss=0.0839]\u001b[A\n",
            "Epoch 152/500:   0%|          | 0/4 [00:00<?, ?it/s, loss=0.122] \u001b[A\n",
            "Epoch 152/500:   0%|          | 0/4 [00:00<?, ?it/s, loss=0.0601]\u001b[A\n",
            "Epoch 152/500:   0%|          | 0/4 [00:01<?, ?it/s, loss=0.0885]\u001b[A"
          ]
        },
        {
          "output_type": "stream",
          "name": "stdout",
          "text": [
            "Epoch 152/500, Train Loss: 0.0886, Validation Loss: 0.1373, F1 Score: 1.0000, Accuracy: 1.0000\n"
          ]
        },
        {
          "output_type": "stream",
          "name": "stderr",
          "text": [
            "Epoch 152/500:   0%|          | 0/4 [00:01<?, ?it/s, loss=0.0885]\n",
            "Epoch 153/500:   0%|          | 0/4 [00:01<?, ?it/s, loss=0.135]"
          ]
        },
        {
          "output_type": "stream",
          "name": "stdout",
          "text": [
            "Epoch 153/500, Train Loss: 0.1208, Validation Loss: 0.1226, F1 Score: 1.0000, Accuracy: 1.0000\n"
          ]
        },
        {
          "output_type": "stream",
          "name": "stderr",
          "text": [
            "\n",
            "Epoch 153/500:   0%|          | 0/4 [00:01<?, ?it/s, loss=0.135]\n",
            "\n",
            "Epoch 154/500:   0%|          | 0/4 [00:00<?, ?it/s, loss=0.0624]\u001b[A\n",
            "Epoch 154/500:   0%|          | 0/4 [00:00<?, ?it/s, loss=0.155] \u001b[A\n",
            "Epoch 154/500:   0%|          | 0/4 [00:00<?, ?it/s, loss=0.133]\u001b[A\n",
            "Epoch 154/500:   0%|          | 0/4 [00:01<?, ?it/s, loss=0.156]\u001b[A"
          ]
        },
        {
          "output_type": "stream",
          "name": "stdout",
          "text": [
            "Epoch 154/500, Train Loss: 0.1266, Validation Loss: 0.1488, F1 Score: 0.9501, Accuracy: 0.9500\n"
          ]
        },
        {
          "output_type": "stream",
          "name": "stderr",
          "text": [
            "Epoch 154/500:   0%|          | 0/4 [00:01<?, ?it/s, loss=0.156]\n",
            "Epoch 155/500:   0%|          | 0/4 [00:01<?, ?it/s, loss=0.0555]"
          ]
        },
        {
          "output_type": "stream",
          "name": "stdout",
          "text": [
            "Epoch 155/500, Train Loss: 0.0732, Validation Loss: 0.1190, F1 Score: 1.0000, Accuracy: 1.0000\n"
          ]
        },
        {
          "output_type": "stream",
          "name": "stderr",
          "text": [
            "\n",
            "Epoch 155/500:   0%|          | 0/4 [00:01<?, ?it/s, loss=0.0555]\n",
            "\n",
            "Epoch 156/500:   0%|          | 0/4 [00:00<?, ?it/s, loss=0.0916]\u001b[A\n",
            "Epoch 156/500:   0%|          | 0/4 [00:00<?, ?it/s, loss=0.155] \u001b[A\n",
            "Epoch 156/500:   0%|          | 0/4 [00:00<?, ?it/s, loss=0.105]\u001b[A\n",
            "Epoch 156/500:   0%|          | 0/4 [00:01<?, ?it/s, loss=0.138]\u001b[A"
          ]
        },
        {
          "output_type": "stream",
          "name": "stdout",
          "text": [
            "Epoch 156/500, Train Loss: 0.1226, Validation Loss: 0.1189, F1 Score: 1.0000, Accuracy: 1.0000\n"
          ]
        },
        {
          "output_type": "stream",
          "name": "stderr",
          "text": [
            "Epoch 156/500:   0%|          | 0/4 [00:01<?, ?it/s, loss=0.138]\n",
            "Epoch 157/500:   0%|          | 0/4 [00:00<?, ?it/s, loss=0.106]"
          ]
        },
        {
          "output_type": "stream",
          "name": "stdout",
          "text": [
            "Epoch 157/500, Train Loss: 0.1219, Validation Loss: 0.1162, F1 Score: 1.0000, Accuracy: 1.0000\n"
          ]
        },
        {
          "output_type": "stream",
          "name": "stderr",
          "text": [
            "\n",
            "Epoch 157/500:   0%|          | 0/4 [00:01<?, ?it/s, loss=0.106]\n",
            "\n",
            "Epoch 158/500:   0%|          | 0/4 [00:00<?, ?it/s, loss=0.0867]\u001b[A\n",
            "Epoch 158/500:   0%|          | 0/4 [00:00<?, ?it/s, loss=0.163] \u001b[A\n",
            "Epoch 158/500:   0%|          | 0/4 [00:00<?, ?it/s, loss=0.12] \u001b[A\n",
            "Epoch 158/500:   0%|          | 0/4 [00:00<?, ?it/s, loss=0.174]\u001b[A"
          ]
        },
        {
          "output_type": "stream",
          "name": "stdout",
          "text": [
            "Epoch 158/500, Train Loss: 0.1358, Validation Loss: 0.1639, F1 Score: 1.0000, Accuracy: 1.0000\n"
          ]
        },
        {
          "output_type": "stream",
          "name": "stderr",
          "text": [
            "Epoch 158/500:   0%|          | 0/4 [00:01<?, ?it/s, loss=0.174]\n",
            "Epoch 159/500:   0%|          | 0/4 [00:00<?, ?it/s, loss=0.0761]"
          ]
        },
        {
          "output_type": "stream",
          "name": "stdout",
          "text": [
            "Epoch 159/500, Train Loss: 0.0949, Validation Loss: 0.1280, F1 Score: 0.9501, Accuracy: 0.9500\n"
          ]
        },
        {
          "output_type": "stream",
          "name": "stderr",
          "text": [
            "\n",
            "Epoch 159/500:   0%|          | 0/4 [00:01<?, ?it/s, loss=0.0761]\n",
            "\n",
            "Epoch 160/500:   0%|          | 0/4 [00:00<?, ?it/s, loss=0.0974]\u001b[A\n",
            "Epoch 160/500:   0%|          | 0/4 [00:00<?, ?it/s, loss=0.132] \u001b[A\n",
            "Epoch 160/500:   0%|          | 0/4 [00:00<?, ?it/s, loss=0.162]\u001b[A\n",
            "Epoch 160/500:   0%|          | 0/4 [00:00<?, ?it/s, loss=0.12] \u001b[A"
          ]
        },
        {
          "output_type": "stream",
          "name": "stdout",
          "text": [
            "Epoch 160/500, Train Loss: 0.1278, Validation Loss: 0.1146, F1 Score: 1.0000, Accuracy: 1.0000\n"
          ]
        },
        {
          "output_type": "stream",
          "name": "stderr",
          "text": [
            "Epoch 160/500:   0%|          | 0/4 [00:01<?, ?it/s, loss=0.12]\n",
            "Epoch 161/500:   0%|          | 0/4 [00:00<?, ?it/s, loss=0.091]"
          ]
        },
        {
          "output_type": "stream",
          "name": "stdout",
          "text": [
            "Epoch 161/500, Train Loss: 0.1019, Validation Loss: 0.1024, F1 Score: 1.0000, Accuracy: 1.0000\n"
          ]
        },
        {
          "output_type": "stream",
          "name": "stderr",
          "text": [
            "\n",
            "Epoch 161/500:   0%|          | 0/4 [00:01<?, ?it/s, loss=0.091]\n",
            "\n",
            "Epoch 162/500:   0%|          | 0/4 [00:00<?, ?it/s, loss=0.0605]\u001b[A\n",
            "Epoch 162/500:   0%|          | 0/4 [00:00<?, ?it/s, loss=0.125] \u001b[A\n",
            "Epoch 162/500:   0%|          | 0/4 [00:00<?, ?it/s, loss=0.0464]\u001b[A\n",
            "Epoch 162/500:   0%|          | 0/4 [00:01<?, ?it/s, loss=0.128] \u001b[A"
          ]
        },
        {
          "output_type": "stream",
          "name": "stdout",
          "text": [
            "Epoch 162/500, Train Loss: 0.0901, Validation Loss: 0.1132, F1 Score: 1.0000, Accuracy: 1.0000\n"
          ]
        },
        {
          "output_type": "stream",
          "name": "stderr",
          "text": [
            "Epoch 162/500:   0%|          | 0/4 [00:01<?, ?it/s, loss=0.128]\n",
            "Epoch 163/500:   0%|          | 0/4 [00:00<?, ?it/s, loss=0.059]"
          ]
        },
        {
          "output_type": "stream",
          "name": "stdout",
          "text": [
            "Epoch 163/500, Train Loss: 0.0895, Validation Loss: 0.0943, F1 Score: 1.0000, Accuracy: 1.0000\n"
          ]
        },
        {
          "output_type": "stream",
          "name": "stderr",
          "text": [
            "\n",
            "Epoch 163/500:   0%|          | 0/4 [00:01<?, ?it/s, loss=0.059]\n",
            "\n",
            "Epoch 164/500:   0%|          | 0/4 [00:00<?, ?it/s, loss=0.119]\u001b[A\n",
            "Epoch 164/500:   0%|          | 0/4 [00:00<?, ?it/s, loss=0.114]\u001b[A\n",
            "Epoch 164/500:   0%|          | 0/4 [00:00<?, ?it/s, loss=0.0925]\u001b[A\n",
            "Epoch 164/500:   0%|          | 0/4 [00:01<?, ?it/s, loss=0.0789]\u001b[A"
          ]
        },
        {
          "output_type": "stream",
          "name": "stdout",
          "text": [
            "Epoch 164/500, Train Loss: 0.1010, Validation Loss: 0.1089, F1 Score: 1.0000, Accuracy: 1.0000\n"
          ]
        },
        {
          "output_type": "stream",
          "name": "stderr",
          "text": [
            "Epoch 164/500:   0%|          | 0/4 [00:01<?, ?it/s, loss=0.0789]\n",
            "Epoch 165/500:   0%|          | 0/4 [00:01<?, ?it/s, loss=0.129]"
          ]
        },
        {
          "output_type": "stream",
          "name": "stdout",
          "text": [
            "Epoch 165/500, Train Loss: 0.1294, Validation Loss: 0.1364, F1 Score: 1.0000, Accuracy: 1.0000\n"
          ]
        },
        {
          "output_type": "stream",
          "name": "stderr",
          "text": [
            "\n",
            "Epoch 165/500:   0%|          | 0/4 [00:01<?, ?it/s, loss=0.129]\n",
            "\n",
            "Epoch 166/500:   0%|          | 0/4 [00:00<?, ?it/s, loss=0.0904]\u001b[A\n",
            "Epoch 166/500:   0%|          | 0/4 [00:00<?, ?it/s, loss=0.113] \u001b[A\n",
            "Epoch 166/500:   0%|          | 0/4 [00:00<?, ?it/s, loss=0.111]\u001b[A\n",
            "Epoch 166/500:   0%|          | 0/4 [00:00<?, ?it/s, loss=0.0469]\u001b[A"
          ]
        },
        {
          "output_type": "stream",
          "name": "stdout",
          "text": [
            "Epoch 166/500, Train Loss: 0.0902, Validation Loss: 0.1186, F1 Score: 1.0000, Accuracy: 1.0000\n"
          ]
        },
        {
          "output_type": "stream",
          "name": "stderr",
          "text": [
            "Epoch 166/500:   0%|          | 0/4 [00:01<?, ?it/s, loss=0.0469]\n",
            "Epoch 167/500:   0%|          | 0/4 [00:00<?, ?it/s, loss=0.135]"
          ]
        },
        {
          "output_type": "stream",
          "name": "stdout",
          "text": [
            "Epoch 167/500, Train Loss: 0.1350, Validation Loss: 0.1104, F1 Score: 1.0000, Accuracy: 1.0000\n"
          ]
        },
        {
          "output_type": "stream",
          "name": "stderr",
          "text": [
            "\n",
            "Epoch 167/500:   0%|          | 0/4 [00:01<?, ?it/s, loss=0.135]\n",
            "\n",
            "Epoch 168/500:   0%|          | 0/4 [00:00<?, ?it/s, loss=0.0899]\u001b[A\n",
            "Epoch 168/500:   0%|          | 0/4 [00:00<?, ?it/s, loss=0.139] \u001b[A\n",
            "Epoch 168/500:   0%|          | 0/4 [00:00<?, ?it/s, loss=0.137]\u001b[A\n",
            "Epoch 168/500:   0%|          | 0/4 [00:00<?, ?it/s, loss=0.135]\u001b[A"
          ]
        },
        {
          "output_type": "stream",
          "name": "stdout",
          "text": [
            "Epoch 168/500, Train Loss: 0.1253, Validation Loss: 0.1216, F1 Score: 1.0000, Accuracy: 1.0000\n"
          ]
        },
        {
          "output_type": "stream",
          "name": "stderr",
          "text": [
            "Epoch 168/500:   0%|          | 0/4 [00:01<?, ?it/s, loss=0.135]\n",
            "Epoch 169/500:   0%|          | 0/4 [00:00<?, ?it/s, loss=0.0515]"
          ]
        },
        {
          "output_type": "stream",
          "name": "stdout",
          "text": [
            "Epoch 169/500, Train Loss: 0.0827, Validation Loss: 0.1201, F1 Score: 1.0000, Accuracy: 1.0000\n"
          ]
        },
        {
          "output_type": "stream",
          "name": "stderr",
          "text": [
            "\n",
            "Epoch 169/500:   0%|          | 0/4 [00:01<?, ?it/s, loss=0.0515]\n",
            "\n",
            "Epoch 170/500:   0%|          | 0/4 [00:00<?, ?it/s, loss=0.11]\u001b[A\n",
            "Epoch 170/500:   0%|          | 0/4 [00:00<?, ?it/s, loss=0.117]\u001b[A\n",
            "Epoch 170/500:   0%|          | 0/4 [00:00<?, ?it/s, loss=0.118]\u001b[A\n",
            "Epoch 170/500:   0%|          | 0/4 [00:00<?, ?it/s, loss=0.102]\u001b[A"
          ]
        },
        {
          "output_type": "stream",
          "name": "stdout",
          "text": [
            "Epoch 170/500, Train Loss: 0.1121, Validation Loss: 0.1115, F1 Score: 1.0000, Accuracy: 1.0000\n"
          ]
        },
        {
          "output_type": "stream",
          "name": "stderr",
          "text": [
            "Epoch 170/500:   0%|          | 0/4 [00:01<?, ?it/s, loss=0.102]\n",
            "Epoch 171/500:   0%|          | 0/4 [00:00<?, ?it/s, loss=0.0313]"
          ]
        },
        {
          "output_type": "stream",
          "name": "stdout",
          "text": [
            "Epoch 171/500, Train Loss: 0.0828, Validation Loss: 0.0813, F1 Score: 1.0000, Accuracy: 1.0000\n",
            "Best model saved with F1 score: 0.0813\n"
          ]
        },
        {
          "output_type": "stream",
          "name": "stderr",
          "text": [
            "\n",
            "Epoch 171/500:   0%|          | 0/4 [00:01<?, ?it/s, loss=0.0313]\n",
            "\n",
            "Epoch 172/500:   0%|          | 0/4 [00:00<?, ?it/s, loss=0.0655]\u001b[A\n",
            "Epoch 172/500:   0%|          | 0/4 [00:00<?, ?it/s, loss=0.161] \u001b[A\n",
            "Epoch 172/500:   0%|          | 0/4 [00:01<?, ?it/s, loss=0.14] \u001b[A\n",
            "Epoch 172/500:   0%|          | 0/4 [00:01<?, ?it/s, loss=0.113]\u001b[A"
          ]
        },
        {
          "output_type": "stream",
          "name": "stdout",
          "text": [
            "Epoch 172/500, Train Loss: 0.1200, Validation Loss: 0.1067, F1 Score: 1.0000, Accuracy: 1.0000\n"
          ]
        },
        {
          "output_type": "stream",
          "name": "stderr",
          "text": [
            "Epoch 172/500:   0%|          | 0/4 [00:01<?, ?it/s, loss=0.113]\n",
            "Epoch 173/500:   0%|          | 0/4 [00:01<?, ?it/s, loss=0.09]  "
          ]
        },
        {
          "output_type": "stream",
          "name": "stdout",
          "text": [
            "Epoch 173/500, Train Loss: 0.1059, Validation Loss: 0.0776, F1 Score: 1.0000, Accuracy: 1.0000\n",
            "Best model saved with F1 score: 0.0776\n"
          ]
        },
        {
          "output_type": "stream",
          "name": "stderr",
          "text": [
            "\n",
            "Epoch 173/500:   0%|          | 0/4 [00:01<?, ?it/s, loss=0.09]\n",
            "\n",
            "Epoch 174/500:   0%|          | 0/4 [00:00<?, ?it/s, loss=0.0645]\u001b[A\n",
            "Epoch 174/500:   0%|          | 0/4 [00:00<?, ?it/s, loss=0.192] \u001b[A\n",
            "Epoch 174/500:   0%|          | 0/4 [00:00<?, ?it/s, loss=0.059]\u001b[A\n",
            "Epoch 174/500:   0%|          | 0/4 [00:01<?, ?it/s, loss=0.103]\u001b[A"
          ]
        },
        {
          "output_type": "stream",
          "name": "stdout",
          "text": [
            "Epoch 174/500, Train Loss: 0.1046, Validation Loss: 0.1167, F1 Score: 1.0000, Accuracy: 1.0000\n"
          ]
        },
        {
          "output_type": "stream",
          "name": "stderr",
          "text": [
            "Epoch 174/500:   0%|          | 0/4 [00:01<?, ?it/s, loss=0.103]\n",
            "Epoch 175/500:   0%|          | 0/4 [00:01<?, ?it/s, loss=0.0833]"
          ]
        },
        {
          "output_type": "stream",
          "name": "stdout",
          "text": [
            "Epoch 175/500, Train Loss: 0.1013, Validation Loss: 0.1036, F1 Score: 1.0000, Accuracy: 1.0000\n"
          ]
        },
        {
          "output_type": "stream",
          "name": "stderr",
          "text": [
            "\n",
            "Epoch 175/500:   0%|          | 0/4 [00:01<?, ?it/s, loss=0.0833]\n",
            "\n",
            "Epoch 176/500:   0%|          | 0/4 [00:00<?, ?it/s, loss=0.106]\u001b[A\n",
            "Epoch 176/500:   0%|          | 0/4 [00:00<?, ?it/s, loss=0.183]\u001b[A\n",
            "Epoch 176/500:   0%|          | 0/4 [00:00<?, ?it/s, loss=0.0577]\u001b[A\n",
            "Epoch 176/500:   0%|          | 0/4 [00:00<?, ?it/s, loss=0.0937]\u001b[A"
          ]
        },
        {
          "output_type": "stream",
          "name": "stdout",
          "text": [
            "Epoch 176/500, Train Loss: 0.1099, Validation Loss: 0.0967, F1 Score: 1.0000, Accuracy: 1.0000\n"
          ]
        },
        {
          "output_type": "stream",
          "name": "stderr",
          "text": [
            "Epoch 176/500:   0%|          | 0/4 [00:01<?, ?it/s, loss=0.0937]\n",
            "Epoch 177/500:   0%|          | 0/4 [00:00<?, ?it/s, loss=0.131]"
          ]
        },
        {
          "output_type": "stream",
          "name": "stdout",
          "text": [
            "Epoch 177/500, Train Loss: 0.1057, Validation Loss: 0.1158, F1 Score: 0.9496, Accuracy: 0.9500\n"
          ]
        },
        {
          "output_type": "stream",
          "name": "stderr",
          "text": [
            "\n",
            "Epoch 177/500:   0%|          | 0/4 [00:01<?, ?it/s, loss=0.131]\n",
            "\n",
            "Epoch 178/500:   0%|          | 0/4 [00:00<?, ?it/s, loss=0.0709]\u001b[A\n",
            "Epoch 178/500:   0%|          | 0/4 [00:00<?, ?it/s, loss=0.0966]\u001b[A\n",
            "Epoch 178/500:   0%|          | 0/4 [00:00<?, ?it/s, loss=0.0671]\u001b[A\n",
            "Epoch 178/500:   0%|          | 0/4 [00:00<?, ?it/s, loss=0.112] \u001b[A"
          ]
        },
        {
          "output_type": "stream",
          "name": "stdout",
          "text": [
            "Epoch 178/500, Train Loss: 0.0867, Validation Loss: 0.1186, F1 Score: 1.0000, Accuracy: 1.0000\n"
          ]
        },
        {
          "output_type": "stream",
          "name": "stderr",
          "text": [
            "Epoch 178/500:   0%|          | 0/4 [00:01<?, ?it/s, loss=0.112]\n",
            "Epoch 179/500:   0%|          | 0/4 [00:01<?, ?it/s, loss=0.102]"
          ]
        },
        {
          "output_type": "stream",
          "name": "stdout",
          "text": [
            "Epoch 179/500, Train Loss: 0.1349, Validation Loss: 0.1011, F1 Score: 1.0000, Accuracy: 1.0000\n"
          ]
        },
        {
          "output_type": "stream",
          "name": "stderr",
          "text": [
            "\n",
            "Epoch 179/500:   0%|          | 0/4 [00:01<?, ?it/s, loss=0.102]\n",
            "\n",
            "Epoch 180/500:   0%|          | 0/4 [00:00<?, ?it/s, loss=0.0889]\u001b[A\n",
            "Epoch 180/500:   0%|          | 0/4 [00:00<?, ?it/s, loss=0.149] \u001b[A\n",
            "Epoch 180/500:   0%|          | 0/4 [00:00<?, ?it/s, loss=0.0948]\u001b[A\n",
            "Epoch 180/500:   0%|          | 0/4 [00:00<?, ?it/s, loss=0.0837]\u001b[A"
          ]
        },
        {
          "output_type": "stream",
          "name": "stdout",
          "text": [
            "Epoch 180/500, Train Loss: 0.1042, Validation Loss: 0.1273, F1 Score: 1.0000, Accuracy: 1.0000\n"
          ]
        },
        {
          "output_type": "stream",
          "name": "stderr",
          "text": [
            "Epoch 180/500:   0%|          | 0/4 [00:01<?, ?it/s, loss=0.0837]\n",
            "Epoch 181/500:   0%|          | 0/4 [00:00<?, ?it/s, loss=0.0922]"
          ]
        },
        {
          "output_type": "stream",
          "name": "stdout",
          "text": [
            "Epoch 181/500, Train Loss: 0.0938, Validation Loss: 0.0688, F1 Score: 1.0000, Accuracy: 1.0000\n",
            "Best model saved with F1 score: 0.0688\n"
          ]
        },
        {
          "output_type": "stream",
          "name": "stderr",
          "text": [
            "\n",
            "Epoch 181/500:   0%|          | 0/4 [00:01<?, ?it/s, loss=0.0922]\n",
            "\n",
            "Epoch 182/500:   0%|          | 0/4 [00:00<?, ?it/s, loss=0.0623]\u001b[A\n",
            "Epoch 182/500:   0%|          | 0/4 [00:00<?, ?it/s, loss=0.086] \u001b[A\n",
            "Epoch 182/500:   0%|          | 0/4 [00:01<?, ?it/s, loss=0.0907]\u001b[A\n",
            "Epoch 182/500:   0%|          | 0/4 [00:01<?, ?it/s, loss=0.125] \u001b[A"
          ]
        },
        {
          "output_type": "stream",
          "name": "stdout",
          "text": [
            "Epoch 182/500, Train Loss: 0.0910, Validation Loss: 0.0838, F1 Score: 1.0000, Accuracy: 1.0000\n"
          ]
        },
        {
          "output_type": "stream",
          "name": "stderr",
          "text": [
            "Epoch 182/500:   0%|          | 0/4 [00:01<?, ?it/s, loss=0.125]\n",
            "Epoch 183/500:   0%|          | 0/4 [00:01<?, ?it/s, loss=0.129]"
          ]
        },
        {
          "output_type": "stream",
          "name": "stdout",
          "text": [
            "Epoch 183/500, Train Loss: 0.0995, Validation Loss: 0.0764, F1 Score: 1.0000, Accuracy: 1.0000\n"
          ]
        },
        {
          "output_type": "stream",
          "name": "stderr",
          "text": [
            "\n",
            "Epoch 183/500:   0%|          | 0/4 [00:01<?, ?it/s, loss=0.129]\n",
            "\n",
            "Epoch 184/500:   0%|          | 0/4 [00:00<?, ?it/s, loss=0.0321]\u001b[A\n",
            "Epoch 184/500:   0%|          | 0/4 [00:00<?, ?it/s, loss=0.128] \u001b[A\n",
            "Epoch 184/500:   0%|          | 0/4 [00:00<?, ?it/s, loss=0.0712]\u001b[A\n",
            "Epoch 184/500:   0%|          | 0/4 [00:01<?, ?it/s, loss=0.122] \u001b[A"
          ]
        },
        {
          "output_type": "stream",
          "name": "stdout",
          "text": [
            "Epoch 184/500, Train Loss: 0.0884, Validation Loss: 0.0607, F1 Score: 1.0000, Accuracy: 1.0000\n",
            "Best model saved with F1 score: 0.0607\n"
          ]
        },
        {
          "output_type": "stream",
          "name": "stderr",
          "text": [
            "Epoch 184/500:   0%|          | 0/4 [00:01<?, ?it/s, loss=0.122]\n",
            "Epoch 185/500:   0%|          | 0/4 [00:01<?, ?it/s, loss=0.0679]"
          ]
        },
        {
          "output_type": "stream",
          "name": "stdout",
          "text": [
            "Epoch 185/500, Train Loss: 0.0792, Validation Loss: 0.0778, F1 Score: 1.0000, Accuracy: 1.0000\n"
          ]
        },
        {
          "output_type": "stream",
          "name": "stderr",
          "text": [
            "\n",
            "Epoch 185/500:   0%|          | 0/4 [00:01<?, ?it/s, loss=0.0679]\n",
            "\n",
            "Epoch 186/500:   0%|          | 0/4 [00:00<?, ?it/s, loss=0.0632]\u001b[A\n",
            "Epoch 186/500:   0%|          | 0/4 [00:00<?, ?it/s, loss=0.178] \u001b[A\n",
            "Epoch 186/500:   0%|          | 0/4 [00:00<?, ?it/s, loss=0.11] \u001b[A\n",
            "Epoch 186/500:   0%|          | 0/4 [00:00<?, ?it/s, loss=0.0833]\u001b[A"
          ]
        },
        {
          "output_type": "stream",
          "name": "stdout",
          "text": [
            "Epoch 186/500, Train Loss: 0.1087, Validation Loss: 0.0915, F1 Score: 1.0000, Accuracy: 1.0000\n"
          ]
        },
        {
          "output_type": "stream",
          "name": "stderr",
          "text": [
            "Epoch 186/500:   0%|          | 0/4 [00:01<?, ?it/s, loss=0.0833]\n",
            "Epoch 187/500:   0%|          | 0/4 [00:00<?, ?it/s, loss=0.0932]"
          ]
        },
        {
          "output_type": "stream",
          "name": "stdout",
          "text": [
            "Epoch 187/500, Train Loss: 0.0970, Validation Loss: 0.0971, F1 Score: 1.0000, Accuracy: 1.0000\n"
          ]
        },
        {
          "output_type": "stream",
          "name": "stderr",
          "text": [
            "\n",
            "Epoch 187/500:   0%|          | 0/4 [00:01<?, ?it/s, loss=0.0932]\n",
            "\n",
            "Epoch 188/500:   0%|          | 0/4 [00:00<?, ?it/s, loss=0.0754]\u001b[A\n",
            "Epoch 188/500:   0%|          | 0/4 [00:00<?, ?it/s, loss=0.0991]\u001b[A\n",
            "Epoch 188/500:   0%|          | 0/4 [00:00<?, ?it/s, loss=0.143] \u001b[A\n",
            "Epoch 188/500:   0%|          | 0/4 [00:00<?, ?it/s, loss=0.105]\u001b[A"
          ]
        },
        {
          "output_type": "stream",
          "name": "stdout",
          "text": [
            "Epoch 188/500, Train Loss: 0.1057, Validation Loss: 0.0719, F1 Score: 1.0000, Accuracy: 1.0000\n"
          ]
        },
        {
          "output_type": "stream",
          "name": "stderr",
          "text": [
            "Epoch 188/500:   0%|          | 0/4 [00:01<?, ?it/s, loss=0.105]\n",
            "Epoch 189/500:   0%|          | 0/4 [00:00<?, ?it/s, loss=0.0428]"
          ]
        },
        {
          "output_type": "stream",
          "name": "stdout",
          "text": [
            "Epoch 189/500, Train Loss: 0.0688, Validation Loss: 0.1034, F1 Score: 1.0000, Accuracy: 1.0000\n"
          ]
        },
        {
          "output_type": "stream",
          "name": "stderr",
          "text": [
            "\n",
            "Epoch 189/500:   0%|          | 0/4 [00:01<?, ?it/s, loss=0.0428]\n",
            "\n",
            "Epoch 190/500:   0%|          | 0/4 [00:00<?, ?it/s, loss=0.106]\u001b[A\n",
            "Epoch 190/500:   0%|          | 0/4 [00:00<?, ?it/s, loss=0.1]  \u001b[A\n",
            "Epoch 190/500:   0%|          | 0/4 [00:00<?, ?it/s, loss=0.115]\u001b[A\n",
            "Epoch 190/500:   0%|          | 0/4 [00:00<?, ?it/s, loss=0.143]\u001b[A"
          ]
        },
        {
          "output_type": "stream",
          "name": "stdout",
          "text": [
            "Epoch 190/500, Train Loss: 0.1162, Validation Loss: 0.0983, F1 Score: 1.0000, Accuracy: 1.0000\n"
          ]
        },
        {
          "output_type": "stream",
          "name": "stderr",
          "text": [
            "Epoch 190/500:   0%|          | 0/4 [00:01<?, ?it/s, loss=0.143]\n",
            "Epoch 191/500:   0%|          | 0/4 [00:00<?, ?it/s, loss=0.0938]"
          ]
        },
        {
          "output_type": "stream",
          "name": "stdout",
          "text": [
            "Epoch 191/500, Train Loss: 0.0904, Validation Loss: 0.1124, F1 Score: 1.0000, Accuracy: 1.0000\n"
          ]
        },
        {
          "output_type": "stream",
          "name": "stderr",
          "text": [
            "\n",
            "Epoch 191/500:   0%|          | 0/4 [00:01<?, ?it/s, loss=0.0938]\n",
            "\n",
            "Epoch 192/500:   0%|          | 0/4 [00:00<?, ?it/s, loss=0.0984]\u001b[A\n",
            "Epoch 192/500:   0%|          | 0/4 [00:00<?, ?it/s, loss=0.132] \u001b[A\n",
            "Epoch 192/500:   0%|          | 0/4 [00:00<?, ?it/s, loss=0.0972]\u001b[A\n",
            "Epoch 192/500:   0%|          | 0/4 [00:01<?, ?it/s, loss=0.0731]\u001b[A"
          ]
        },
        {
          "output_type": "stream",
          "name": "stdout",
          "text": [
            "Epoch 192/500, Train Loss: 0.1002, Validation Loss: 0.1088, F1 Score: 1.0000, Accuracy: 1.0000\n"
          ]
        },
        {
          "output_type": "stream",
          "name": "stderr",
          "text": [
            "Epoch 192/500:   0%|          | 0/4 [00:01<?, ?it/s, loss=0.0731]\n",
            "Epoch 193/500:   0%|          | 0/4 [00:01<?, ?it/s, loss=0.0993]"
          ]
        },
        {
          "output_type": "stream",
          "name": "stdout",
          "text": [
            "Epoch 193/500, Train Loss: 0.0946, Validation Loss: 0.0888, F1 Score: 1.0000, Accuracy: 1.0000\n"
          ]
        },
        {
          "output_type": "stream",
          "name": "stderr",
          "text": [
            "\n",
            "Epoch 193/500:   0%|          | 0/4 [00:01<?, ?it/s, loss=0.0993]\n",
            "\n",
            "Epoch 194/500:   0%|          | 0/4 [00:00<?, ?it/s, loss=0.0759]\u001b[A\n",
            "Epoch 194/500:   0%|          | 0/4 [00:00<?, ?it/s, loss=0.0558]\u001b[A\n",
            "Epoch 194/500:   0%|          | 0/4 [00:00<?, ?it/s, loss=0.11]  \u001b[A\n",
            "Epoch 194/500:   0%|          | 0/4 [00:01<?, ?it/s, loss=0.113]\u001b[A"
          ]
        },
        {
          "output_type": "stream",
          "name": "stdout",
          "text": [
            "Epoch 194/500, Train Loss: 0.0888, Validation Loss: 0.0989, F1 Score: 1.0000, Accuracy: 1.0000\n"
          ]
        },
        {
          "output_type": "stream",
          "name": "stderr",
          "text": [
            "Epoch 194/500:   0%|          | 0/4 [00:01<?, ?it/s, loss=0.113]\n",
            "Epoch 195/500:   0%|          | 0/4 [00:00<?, ?it/s, loss=0.0478]"
          ]
        },
        {
          "output_type": "stream",
          "name": "stdout",
          "text": [
            "Epoch 195/500, Train Loss: 0.0659, Validation Loss: 0.1059, F1 Score: 1.0000, Accuracy: 1.0000\n"
          ]
        },
        {
          "output_type": "stream",
          "name": "stderr",
          "text": [
            "\n",
            "Epoch 195/500:   0%|          | 0/4 [00:01<?, ?it/s, loss=0.0478]\n",
            "\n",
            "Epoch 196/500:   0%|          | 0/4 [00:00<?, ?it/s, loss=0.0703]\u001b[A\n",
            "Epoch 196/500:   0%|          | 0/4 [00:00<?, ?it/s, loss=0.102] \u001b[A\n",
            "Epoch 196/500:   0%|          | 0/4 [00:00<?, ?it/s, loss=0.0448]\u001b[A\n",
            "Epoch 196/500:   0%|          | 0/4 [00:00<?, ?it/s, loss=0.13]  \u001b[A"
          ]
        },
        {
          "output_type": "stream",
          "name": "stdout",
          "text": [
            "Epoch 196/500, Train Loss: 0.0867, Validation Loss: 0.0880, F1 Score: 1.0000, Accuracy: 1.0000\n"
          ]
        },
        {
          "output_type": "stream",
          "name": "stderr",
          "text": [
            "Epoch 196/500:   0%|          | 0/4 [00:01<?, ?it/s, loss=0.13]\n",
            "Epoch 197/500:   0%|          | 0/4 [00:00<?, ?it/s, loss=0.0725]"
          ]
        },
        {
          "output_type": "stream",
          "name": "stdout",
          "text": [
            "Epoch 197/500, Train Loss: 0.0930, Validation Loss: 0.0856, F1 Score: 1.0000, Accuracy: 1.0000\n"
          ]
        },
        {
          "output_type": "stream",
          "name": "stderr",
          "text": [
            "\n",
            "Epoch 197/500:   0%|          | 0/4 [00:01<?, ?it/s, loss=0.0725]\n",
            "\n",
            "Epoch 198/500:   0%|          | 0/4 [00:00<?, ?it/s, loss=0.0682]\u001b[A\n",
            "Epoch 198/500:   0%|          | 0/4 [00:00<?, ?it/s, loss=0.105] \u001b[A\n",
            "Epoch 198/500:   0%|          | 0/4 [00:00<?, ?it/s, loss=0.12] \u001b[A\n",
            "Epoch 198/500:   0%|          | 0/4 [00:00<?, ?it/s, loss=0.0876]\u001b[A"
          ]
        },
        {
          "output_type": "stream",
          "name": "stdout",
          "text": [
            "Epoch 198/500, Train Loss: 0.0952, Validation Loss: 0.0812, F1 Score: 1.0000, Accuracy: 1.0000\n"
          ]
        },
        {
          "output_type": "stream",
          "name": "stderr",
          "text": [
            "Epoch 198/500:   0%|          | 0/4 [00:01<?, ?it/s, loss=0.0876]\n",
            "Epoch 199/500:   0%|          | 0/4 [00:00<?, ?it/s, loss=0.0871]"
          ]
        },
        {
          "output_type": "stream",
          "name": "stdout",
          "text": [
            "Epoch 199/500, Train Loss: 0.0797, Validation Loss: 0.0833, F1 Score: 1.0000, Accuracy: 1.0000\n"
          ]
        },
        {
          "output_type": "stream",
          "name": "stderr",
          "text": [
            "\n",
            "Epoch 199/500:   0%|          | 0/4 [00:01<?, ?it/s, loss=0.0871]\n",
            "\n",
            "Epoch 200/500:   0%|          | 0/4 [00:00<?, ?it/s, loss=0.0922]\u001b[A\n",
            "Epoch 200/500:   0%|          | 0/4 [00:00<?, ?it/s, loss=0.101] \u001b[A\n",
            "Epoch 200/500:   0%|          | 0/4 [00:00<?, ?it/s, loss=0.0818]\u001b[A\n",
            "Epoch 200/500:   0%|          | 0/4 [00:00<?, ?it/s, loss=0.0617]\u001b[A"
          ]
        },
        {
          "output_type": "stream",
          "name": "stdout",
          "text": [
            "Epoch 200/500, Train Loss: 0.0841, Validation Loss: 0.0607, F1 Score: 1.0000, Accuracy: 1.0000\n"
          ]
        },
        {
          "output_type": "stream",
          "name": "stderr",
          "text": [
            "Epoch 200/500:   0%|          | 0/4 [00:01<?, ?it/s, loss=0.0617]\n",
            "Epoch 201/500:   0%|          | 0/4 [00:00<?, ?it/s, loss=0.0694]"
          ]
        },
        {
          "output_type": "stream",
          "name": "stdout",
          "text": [
            "Epoch 201/500, Train Loss: 0.0859, Validation Loss: 0.0973, F1 Score: 1.0000, Accuracy: 1.0000\n"
          ]
        },
        {
          "output_type": "stream",
          "name": "stderr",
          "text": [
            "\n",
            "Epoch 201/500:   0%|          | 0/4 [00:01<?, ?it/s, loss=0.0694]\n",
            "\n",
            "Epoch 202/500:   0%|          | 0/4 [00:00<?, ?it/s, loss=0.0614]\u001b[A\n",
            "Epoch 202/500:   0%|          | 0/4 [00:00<?, ?it/s, loss=0.0966]\u001b[A\n",
            "Epoch 202/500:   0%|          | 0/4 [00:00<?, ?it/s, loss=0.0885]\u001b[A\n",
            "Epoch 202/500:   0%|          | 0/4 [00:01<?, ?it/s, loss=0.0829]\u001b[A"
          ]
        },
        {
          "output_type": "stream",
          "name": "stdout",
          "text": [
            "Epoch 202/500, Train Loss: 0.0823, Validation Loss: 0.0987, F1 Score: 1.0000, Accuracy: 1.0000\n"
          ]
        },
        {
          "output_type": "stream",
          "name": "stderr",
          "text": [
            "Epoch 202/500:   0%|          | 0/4 [00:01<?, ?it/s, loss=0.0829]\n",
            "Epoch 203/500:   0%|          | 0/4 [00:01<?, ?it/s, loss=0.085] "
          ]
        },
        {
          "output_type": "stream",
          "name": "stdout",
          "text": [
            "Epoch 203/500, Train Loss: 0.1022, Validation Loss: 0.0991, F1 Score: 1.0000, Accuracy: 1.0000\n"
          ]
        },
        {
          "output_type": "stream",
          "name": "stderr",
          "text": [
            "\n",
            "Epoch 203/500:   0%|          | 0/4 [00:01<?, ?it/s, loss=0.085]\n",
            "\n",
            "Epoch 204/500:   0%|          | 0/4 [00:00<?, ?it/s, loss=0.0425]\u001b[A\n",
            "Epoch 204/500:   0%|          | 0/4 [00:00<?, ?it/s, loss=0.0628]\u001b[A\n",
            "Epoch 204/500:   0%|          | 0/4 [00:00<?, ?it/s, loss=0.0841]\u001b[A\n",
            "Epoch 204/500:   0%|          | 0/4 [00:01<?, ?it/s, loss=0.101] \u001b[A"
          ]
        },
        {
          "output_type": "stream",
          "name": "stdout",
          "text": [
            "Epoch 204/500, Train Loss: 0.0727, Validation Loss: 0.0822, F1 Score: 1.0000, Accuracy: 1.0000\n"
          ]
        },
        {
          "output_type": "stream",
          "name": "stderr",
          "text": [
            "Epoch 204/500:   0%|          | 0/4 [00:01<?, ?it/s, loss=0.101]\n",
            "Epoch 205/500:   0%|          | 0/4 [00:00<?, ?it/s, loss=0.075]"
          ]
        },
        {
          "output_type": "stream",
          "name": "stdout",
          "text": [
            "Epoch 205/500, Train Loss: 0.0974, Validation Loss: 0.0788, F1 Score: 1.0000, Accuracy: 1.0000\n"
          ]
        },
        {
          "output_type": "stream",
          "name": "stderr",
          "text": [
            "\n",
            "Epoch 205/500:   0%|          | 0/4 [00:01<?, ?it/s, loss=0.075]\n",
            "\n",
            "Epoch 206/500:   0%|          | 0/4 [00:00<?, ?it/s, loss=0.0613]\u001b[A\n",
            "Epoch 206/500:   0%|          | 0/4 [00:00<?, ?it/s, loss=0.0911]\u001b[A\n",
            "Epoch 206/500:   0%|          | 0/4 [00:00<?, ?it/s, loss=0.101] \u001b[A\n",
            "Epoch 206/500:   0%|          | 0/4 [00:00<?, ?it/s, loss=0.0885]\u001b[A"
          ]
        },
        {
          "output_type": "stream",
          "name": "stdout",
          "text": [
            "Epoch 206/500, Train Loss: 0.0854, Validation Loss: 0.0895, F1 Score: 1.0000, Accuracy: 1.0000\n"
          ]
        },
        {
          "output_type": "stream",
          "name": "stderr",
          "text": [
            "Epoch 206/500:   0%|          | 0/4 [00:01<?, ?it/s, loss=0.0885]\n",
            "Epoch 207/500:   0%|          | 0/4 [00:01<?, ?it/s, loss=0.0801]"
          ]
        },
        {
          "output_type": "stream",
          "name": "stdout",
          "text": [
            "Epoch 207/500, Train Loss: 0.0755, Validation Loss: 0.0727, F1 Score: 1.0000, Accuracy: 1.0000\n"
          ]
        },
        {
          "output_type": "stream",
          "name": "stderr",
          "text": [
            "\n",
            "Epoch 207/500:   0%|          | 0/4 [00:01<?, ?it/s, loss=0.0801]\n",
            "\n",
            "Epoch 208/500:   0%|          | 0/4 [00:00<?, ?it/s, loss=0.0585]\u001b[A\n",
            "Epoch 208/500:   0%|          | 0/4 [00:00<?, ?it/s, loss=0.0846]\u001b[A\n",
            "Epoch 208/500:   0%|          | 0/4 [00:00<?, ?it/s, loss=0.07]  \u001b[A\n",
            "Epoch 208/500:   0%|          | 0/4 [00:00<?, ?it/s, loss=0.118]\u001b[A"
          ]
        },
        {
          "output_type": "stream",
          "name": "stdout",
          "text": [
            "Epoch 208/500, Train Loss: 0.0828, Validation Loss: 0.0701, F1 Score: 1.0000, Accuracy: 1.0000\n"
          ]
        },
        {
          "output_type": "stream",
          "name": "stderr",
          "text": [
            "Epoch 208/500:   0%|          | 0/4 [00:01<?, ?it/s, loss=0.118]\n",
            "Epoch 209/500:   0%|          | 0/4 [00:00<?, ?it/s, loss=0.0816]"
          ]
        },
        {
          "output_type": "stream",
          "name": "stdout",
          "text": [
            "Epoch 209/500, Train Loss: 0.0848, Validation Loss: 0.0750, F1 Score: 1.0000, Accuracy: 1.0000\n"
          ]
        },
        {
          "output_type": "stream",
          "name": "stderr",
          "text": [
            "\n",
            "Epoch 209/500:   0%|          | 0/4 [00:01<?, ?it/s, loss=0.0816]\n",
            "\n",
            "Epoch 210/500:   0%|          | 0/4 [00:00<?, ?it/s, loss=0.0724]\u001b[A\n",
            "Epoch 210/500:   0%|          | 0/4 [00:00<?, ?it/s, loss=0.0404]\u001b[A\n",
            "Epoch 210/500:   0%|          | 0/4 [00:00<?, ?it/s, loss=0.0906]\u001b[A\n",
            "Epoch 210/500:   0%|          | 0/4 [00:00<?, ?it/s, loss=0.0889]\u001b[A"
          ]
        },
        {
          "output_type": "stream",
          "name": "stdout",
          "text": [
            "Epoch 210/500, Train Loss: 0.0731, Validation Loss: 0.0664, F1 Score: 1.0000, Accuracy: 1.0000\n"
          ]
        },
        {
          "output_type": "stream",
          "name": "stderr",
          "text": [
            "Epoch 210/500:   0%|          | 0/4 [00:01<?, ?it/s, loss=0.0889]\n",
            "Epoch 211/500:   0%|          | 0/4 [00:00<?, ?it/s, loss=0.115]"
          ]
        },
        {
          "output_type": "stream",
          "name": "stdout",
          "text": [
            "Epoch 211/500, Train Loss: 0.0878, Validation Loss: 0.0941, F1 Score: 1.0000, Accuracy: 1.0000\n"
          ]
        },
        {
          "output_type": "stream",
          "name": "stderr",
          "text": [
            "\n",
            "Epoch 211/500:   0%|          | 0/4 [00:01<?, ?it/s, loss=0.115]\n",
            "\n",
            "Epoch 212/500:   0%|          | 0/4 [00:00<?, ?it/s, loss=0.0539]\u001b[A\n",
            "Epoch 212/500:   0%|          | 0/4 [00:00<?, ?it/s, loss=0.108] \u001b[A\n",
            "Epoch 212/500:   0%|          | 0/4 [00:00<?, ?it/s, loss=0.0702]\u001b[A\n",
            "Epoch 212/500:   0%|          | 0/4 [00:01<?, ?it/s, loss=0.0981]\u001b[A"
          ]
        },
        {
          "output_type": "stream",
          "name": "stdout",
          "text": [
            "Epoch 212/500, Train Loss: 0.0825, Validation Loss: 0.0657, F1 Score: 1.0000, Accuracy: 1.0000\n"
          ]
        },
        {
          "output_type": "stream",
          "name": "stderr",
          "text": [
            "Epoch 212/500:   0%|          | 0/4 [00:01<?, ?it/s, loss=0.0981]\n",
            "Epoch 213/500:   0%|          | 0/4 [00:01<?, ?it/s, loss=0.0602]"
          ]
        },
        {
          "output_type": "stream",
          "name": "stdout",
          "text": [
            "Epoch 213/500, Train Loss: 0.0904, Validation Loss: 0.0730, F1 Score: 1.0000, Accuracy: 1.0000\n"
          ]
        },
        {
          "output_type": "stream",
          "name": "stderr",
          "text": [
            "\n",
            "Epoch 213/500:   0%|          | 0/4 [00:01<?, ?it/s, loss=0.0602]\n",
            "\n",
            "Epoch 214/500:   0%|          | 0/4 [00:00<?, ?it/s, loss=0.0544]\u001b[A\n",
            "Epoch 214/500:   0%|          | 0/4 [00:00<?, ?it/s, loss=0.0791]\u001b[A\n",
            "Epoch 214/500:   0%|          | 0/4 [00:00<?, ?it/s, loss=0.0561]\u001b[A\n",
            "Epoch 214/500:   0%|          | 0/4 [00:01<?, ?it/s, loss=0.107] \u001b[A"
          ]
        },
        {
          "output_type": "stream",
          "name": "stdout",
          "text": [
            "Epoch 214/500, Train Loss: 0.0742, Validation Loss: 0.0767, F1 Score: 1.0000, Accuracy: 1.0000\n"
          ]
        },
        {
          "output_type": "stream",
          "name": "stderr",
          "text": [
            "Epoch 214/500:   0%|          | 0/4 [00:01<?, ?it/s, loss=0.107]\n",
            "Epoch 215/500:   0%|          | 0/4 [00:00<?, ?it/s, loss=0.0775]"
          ]
        },
        {
          "output_type": "stream",
          "name": "stdout",
          "text": [
            "Epoch 215/500, Train Loss: 0.1189, Validation Loss: 0.0865, F1 Score: 1.0000, Accuracy: 1.0000\n"
          ]
        },
        {
          "output_type": "stream",
          "name": "stderr",
          "text": [
            "\n",
            "Epoch 215/500:   0%|          | 0/4 [00:01<?, ?it/s, loss=0.0775]\n",
            "\n",
            "Epoch 216/500:   0%|          | 0/4 [00:00<?, ?it/s, loss=0.0792]\u001b[A\n",
            "Epoch 216/500:   0%|          | 0/4 [00:00<?, ?it/s, loss=0.139] \u001b[A\n",
            "Epoch 216/500:   0%|          | 0/4 [00:00<?, ?it/s, loss=0.0532]\u001b[A\n",
            "Epoch 216/500:   0%|          | 0/4 [00:00<?, ?it/s, loss=0.109] \u001b[A"
          ]
        },
        {
          "output_type": "stream",
          "name": "stdout",
          "text": [
            "Epoch 216/500, Train Loss: 0.0951, Validation Loss: 0.1053, F1 Score: 1.0000, Accuracy: 1.0000\n"
          ]
        },
        {
          "output_type": "stream",
          "name": "stderr",
          "text": [
            "Epoch 216/500:   0%|          | 0/4 [00:01<?, ?it/s, loss=0.109]\n",
            "Epoch 217/500:   0%|          | 0/4 [00:00<?, ?it/s, loss=0.0633]"
          ]
        },
        {
          "output_type": "stream",
          "name": "stdout",
          "text": [
            "Epoch 217/500, Train Loss: 0.0683, Validation Loss: 0.0843, F1 Score: 1.0000, Accuracy: 1.0000\n"
          ]
        },
        {
          "output_type": "stream",
          "name": "stderr",
          "text": [
            "\n",
            "Epoch 217/500:   0%|          | 0/4 [00:01<?, ?it/s, loss=0.0633]\n",
            "\n",
            "Epoch 218/500:   0%|          | 0/4 [00:00<?, ?it/s, loss=0.047]\u001b[A\n",
            "Epoch 218/500:   0%|          | 0/4 [00:00<?, ?it/s, loss=0.16] \u001b[A\n",
            "Epoch 218/500:   0%|          | 0/4 [00:00<?, ?it/s, loss=0.0965]\u001b[A\n",
            "Epoch 218/500:   0%|          | 0/4 [00:00<?, ?it/s, loss=0.0816]\u001b[A"
          ]
        },
        {
          "output_type": "stream",
          "name": "stdout",
          "text": [
            "Epoch 218/500, Train Loss: 0.0963, Validation Loss: 0.1021, F1 Score: 1.0000, Accuracy: 1.0000\n"
          ]
        },
        {
          "output_type": "stream",
          "name": "stderr",
          "text": [
            "Epoch 218/500:   0%|          | 0/4 [00:01<?, ?it/s, loss=0.0816]\n",
            "Epoch 219/500:   0%|          | 0/4 [00:00<?, ?it/s, loss=0.087]"
          ]
        },
        {
          "output_type": "stream",
          "name": "stdout",
          "text": [
            "Epoch 219/500, Train Loss: 0.1065, Validation Loss: 0.0809, F1 Score: 1.0000, Accuracy: 1.0000\n"
          ]
        },
        {
          "output_type": "stream",
          "name": "stderr",
          "text": [
            "\n",
            "Epoch 219/500:   0%|          | 0/4 [00:01<?, ?it/s, loss=0.087]\n",
            "\n",
            "Epoch 220/500:   0%|          | 0/4 [00:00<?, ?it/s, loss=0.0466]\u001b[A\n",
            "Epoch 220/500:   0%|          | 0/4 [00:00<?, ?it/s, loss=0.113] \u001b[A\n",
            "Epoch 220/500:   0%|          | 0/4 [00:00<?, ?it/s, loss=0.0984]\u001b[A\n",
            "Epoch 220/500:   0%|          | 0/4 [00:00<?, ?it/s, loss=0.0652]\u001b[A"
          ]
        },
        {
          "output_type": "stream",
          "name": "stdout",
          "text": [
            "Epoch 220/500, Train Loss: 0.0808, Validation Loss: 0.1126, F1 Score: 1.0000, Accuracy: 1.0000\n"
          ]
        },
        {
          "output_type": "stream",
          "name": "stderr",
          "text": [
            "Epoch 220/500:   0%|          | 0/4 [00:01<?, ?it/s, loss=0.0652]\n",
            "Epoch 221/500:   0%|          | 0/4 [00:00<?, ?it/s, loss=0.0753]"
          ]
        },
        {
          "output_type": "stream",
          "name": "stdout",
          "text": [
            "Epoch 221/500, Train Loss: 0.0883, Validation Loss: 0.1081, F1 Score: 1.0000, Accuracy: 1.0000\n"
          ]
        },
        {
          "output_type": "stream",
          "name": "stderr",
          "text": [
            "\n",
            "Epoch 221/500:   0%|          | 0/4 [00:01<?, ?it/s, loss=0.0753]\n",
            "\n",
            "Epoch 222/500:   0%|          | 0/4 [00:00<?, ?it/s, loss=0.0686]\u001b[A\n",
            "Epoch 222/500:   0%|          | 0/4 [00:00<?, ?it/s, loss=0.114] \u001b[A\n",
            "Epoch 222/500:   0%|          | 0/4 [00:00<?, ?it/s, loss=0.105]\u001b[A\n",
            "Epoch 222/500:   0%|          | 0/4 [00:00<?, ?it/s, loss=0.0848]\u001b[A"
          ]
        },
        {
          "output_type": "stream",
          "name": "stdout",
          "text": [
            "Epoch 222/500, Train Loss: 0.0930, Validation Loss: 0.0758, F1 Score: 1.0000, Accuracy: 1.0000\n"
          ]
        },
        {
          "output_type": "stream",
          "name": "stderr",
          "text": [
            "Epoch 222/500:   0%|          | 0/4 [00:01<?, ?it/s, loss=0.0848]\n",
            "Epoch 223/500:   0%|          | 0/4 [00:01<?, ?it/s, loss=0.107] "
          ]
        },
        {
          "output_type": "stream",
          "name": "stdout",
          "text": [
            "Epoch 223/500, Train Loss: 0.0944, Validation Loss: 0.0845, F1 Score: 1.0000, Accuracy: 1.0000\n"
          ]
        },
        {
          "output_type": "stream",
          "name": "stderr",
          "text": [
            "\n",
            "Epoch 223/500:   0%|          | 0/4 [00:01<?, ?it/s, loss=0.107]\n",
            "\n",
            "Epoch 224/500:   0%|          | 0/4 [00:00<?, ?it/s, loss=0.0728]\u001b[A\n",
            "Epoch 224/500:   0%|          | 0/4 [00:00<?, ?it/s, loss=0.0955]\u001b[A\n",
            "Epoch 224/500:   0%|          | 0/4 [00:00<?, ?it/s, loss=0.0612]\u001b[A\n",
            "Epoch 224/500:   0%|          | 0/4 [00:01<?, ?it/s, loss=0.0522]\u001b[A"
          ]
        },
        {
          "output_type": "stream",
          "name": "stdout",
          "text": [
            "Epoch 224/500, Train Loss: 0.0704, Validation Loss: 0.1071, F1 Score: 1.0000, Accuracy: 1.0000\n"
          ]
        },
        {
          "output_type": "stream",
          "name": "stderr",
          "text": [
            "Epoch 224/500:   0%|          | 0/4 [00:01<?, ?it/s, loss=0.0522]\n",
            "Epoch 225/500:   0%|          | 0/4 [00:00<?, ?it/s, loss=0.0278]"
          ]
        },
        {
          "output_type": "stream",
          "name": "stdout",
          "text": [
            "Epoch 225/500, Train Loss: 0.0560, Validation Loss: 0.0851, F1 Score: 1.0000, Accuracy: 1.0000\n"
          ]
        },
        {
          "output_type": "stream",
          "name": "stderr",
          "text": [
            "\n",
            "Epoch 225/500:   0%|          | 0/4 [00:01<?, ?it/s, loss=0.0278]\n",
            "\n",
            "Epoch 226/500:   0%|          | 0/4 [00:00<?, ?it/s, loss=0.0862]\u001b[A\n",
            "Epoch 226/500:   0%|          | 0/4 [00:00<?, ?it/s, loss=0.133] \u001b[A\n",
            "Epoch 226/500:   0%|          | 0/4 [00:00<?, ?it/s, loss=0.0931]\u001b[A\n",
            "Epoch 226/500:   0%|          | 0/4 [00:00<?, ?it/s, loss=0.0351]\u001b[A"
          ]
        },
        {
          "output_type": "stream",
          "name": "stdout",
          "text": [
            "Epoch 226/500, Train Loss: 0.0869, Validation Loss: 0.1000, F1 Score: 1.0000, Accuracy: 1.0000\n"
          ]
        },
        {
          "output_type": "stream",
          "name": "stderr",
          "text": [
            "Epoch 226/500:   0%|          | 0/4 [00:01<?, ?it/s, loss=0.0351]\n",
            "Epoch 227/500:   0%|          | 0/4 [00:00<?, ?it/s, loss=0.0507]"
          ]
        },
        {
          "output_type": "stream",
          "name": "stdout",
          "text": [
            "Epoch 227/500, Train Loss: 0.0632, Validation Loss: 0.0642, F1 Score: 1.0000, Accuracy: 1.0000\n"
          ]
        },
        {
          "output_type": "stream",
          "name": "stderr",
          "text": [
            "\n",
            "Epoch 227/500:   0%|          | 0/4 [00:01<?, ?it/s, loss=0.0507]\n",
            "\n",
            "Epoch 228/500:   0%|          | 0/4 [00:00<?, ?it/s, loss=0.0582]\u001b[A\n",
            "Epoch 228/500:   0%|          | 0/4 [00:00<?, ?it/s, loss=0.0987]\u001b[A\n",
            "Epoch 228/500:   0%|          | 0/4 [00:00<?, ?it/s, loss=0.0878]\u001b[A\n",
            "Epoch 228/500:   0%|          | 0/4 [00:00<?, ?it/s, loss=0.0829]\u001b[A"
          ]
        },
        {
          "output_type": "stream",
          "name": "stdout",
          "text": [
            "Epoch 228/500, Train Loss: 0.0819, Validation Loss: 0.1069, F1 Score: 0.9501, Accuracy: 0.9500\n"
          ]
        },
        {
          "output_type": "stream",
          "name": "stderr",
          "text": [
            "Epoch 228/500:   0%|          | 0/4 [00:01<?, ?it/s, loss=0.0829]\n",
            "Epoch 229/500:   0%|          | 0/4 [00:00<?, ?it/s, loss=0.104] "
          ]
        },
        {
          "output_type": "stream",
          "name": "stdout",
          "text": [
            "Epoch 229/500, Train Loss: 0.0912, Validation Loss: 0.1274, F1 Score: 0.9501, Accuracy: 0.9500\n"
          ]
        },
        {
          "output_type": "stream",
          "name": "stderr",
          "text": [
            "\n",
            "Epoch 229/500:   0%|          | 0/4 [00:01<?, ?it/s, loss=0.104]\n",
            "\n",
            "Epoch 230/500:   0%|          | 0/4 [00:00<?, ?it/s, loss=0.0443]\u001b[A\n",
            "Epoch 230/500:   0%|          | 0/4 [00:00<?, ?it/s, loss=0.07]  \u001b[A\n",
            "Epoch 230/500:   0%|          | 0/4 [00:00<?, ?it/s, loss=0.0474]\u001b[A\n",
            "Epoch 230/500:   0%|          | 0/4 [00:01<?, ?it/s, loss=0.041] \u001b[A"
          ]
        },
        {
          "output_type": "stream",
          "name": "stdout",
          "text": [
            "Epoch 230/500, Train Loss: 0.0507, Validation Loss: 0.0838, F1 Score: 1.0000, Accuracy: 1.0000\n"
          ]
        },
        {
          "output_type": "stream",
          "name": "stderr",
          "text": [
            "Epoch 230/500:   0%|          | 0/4 [00:01<?, ?it/s, loss=0.041]\n",
            "Epoch 231/500:   0%|          | 0/4 [00:00<?, ?it/s, loss=0.0831]"
          ]
        },
        {
          "output_type": "stream",
          "name": "stdout",
          "text": [
            "Epoch 231/500, Train Loss: 0.0890, Validation Loss: 0.0816, F1 Score: 1.0000, Accuracy: 1.0000\n"
          ]
        },
        {
          "output_type": "stream",
          "name": "stderr",
          "text": [
            "\n",
            "Epoch 231/500:   0%|          | 0/4 [00:01<?, ?it/s, loss=0.0831]\n",
            "\n",
            "Epoch 232/500:   0%|          | 0/4 [00:00<?, ?it/s, loss=0.0413]\u001b[A\n",
            "Epoch 232/500:   0%|          | 0/4 [00:00<?, ?it/s, loss=0.105] \u001b[A\n",
            "Epoch 232/500:   0%|          | 0/4 [00:00<?, ?it/s, loss=0.0299]\u001b[A\n",
            "Epoch 232/500:   0%|          | 0/4 [00:01<?, ?it/s, loss=0.0395]\u001b[A"
          ]
        },
        {
          "output_type": "stream",
          "name": "stdout",
          "text": [
            "Epoch 232/500, Train Loss: 0.0539, Validation Loss: 0.0829, F1 Score: 1.0000, Accuracy: 1.0000\n"
          ]
        },
        {
          "output_type": "stream",
          "name": "stderr",
          "text": [
            "Epoch 232/500:   0%|          | 0/4 [00:01<?, ?it/s, loss=0.0395]\n",
            "Epoch 233/500:   0%|          | 0/4 [00:01<?, ?it/s, loss=0.0689]"
          ]
        },
        {
          "output_type": "stream",
          "name": "stdout",
          "text": [
            "Epoch 233/500, Train Loss: 0.0956, Validation Loss: 0.0753, F1 Score: 1.0000, Accuracy: 1.0000\n"
          ]
        },
        {
          "output_type": "stream",
          "name": "stderr",
          "text": [
            "\n",
            "Epoch 233/500:   0%|          | 0/4 [00:01<?, ?it/s, loss=0.0689]\n",
            "\n",
            "Epoch 234/500:   0%|          | 0/4 [00:00<?, ?it/s, loss=0.0801]\u001b[A\n",
            "Epoch 234/500:   0%|          | 0/4 [00:00<?, ?it/s, loss=0.144] \u001b[A\n",
            "Epoch 234/500:   0%|          | 0/4 [00:00<?, ?it/s, loss=0.0715]\u001b[A\n",
            "Epoch 234/500:   0%|          | 0/4 [00:01<?, ?it/s, loss=0.0252]\u001b[A"
          ]
        },
        {
          "output_type": "stream",
          "name": "stdout",
          "text": [
            "Epoch 234/500, Train Loss: 0.0802, Validation Loss: 0.0891, F1 Score: 1.0000, Accuracy: 1.0000\n"
          ]
        },
        {
          "output_type": "stream",
          "name": "stderr",
          "text": [
            "Epoch 234/500:   0%|          | 0/4 [00:01<?, ?it/s, loss=0.0252]\n",
            "Epoch 235/500:   0%|          | 0/4 [00:00<?, ?it/s, loss=0.0808]"
          ]
        },
        {
          "output_type": "stream",
          "name": "stdout",
          "text": [
            "Epoch 235/500, Train Loss: 0.0652, Validation Loss: 0.0557, F1 Score: 1.0000, Accuracy: 1.0000\n",
            "Best model saved with F1 score: 0.0557\n"
          ]
        },
        {
          "output_type": "stream",
          "name": "stderr",
          "text": [
            "\n",
            "Epoch 235/500:   0%|          | 0/4 [00:01<?, ?it/s, loss=0.0808]\n",
            "\n",
            "Epoch 236/500:   0%|          | 0/4 [00:00<?, ?it/s, loss=0.0968]\u001b[A\n",
            "Epoch 236/500:   0%|          | 0/4 [00:00<?, ?it/s, loss=0.099] \u001b[A\n",
            "Epoch 236/500:   0%|          | 0/4 [00:01<?, ?it/s, loss=0.0576]\u001b[A\n",
            "Epoch 236/500:   0%|          | 0/4 [00:01<?, ?it/s, loss=0.111] \u001b[A"
          ]
        },
        {
          "output_type": "stream",
          "name": "stdout",
          "text": [
            "Epoch 236/500, Train Loss: 0.0910, Validation Loss: 0.0837, F1 Score: 1.0000, Accuracy: 1.0000\n"
          ]
        },
        {
          "output_type": "stream",
          "name": "stderr",
          "text": [
            "Epoch 236/500:   0%|          | 0/4 [00:01<?, ?it/s, loss=0.111]\n",
            "Epoch 237/500:   0%|          | 0/4 [00:00<?, ?it/s, loss=0.108]"
          ]
        },
        {
          "output_type": "stream",
          "name": "stdout",
          "text": [
            "Epoch 237/500, Train Loss: 0.1000, Validation Loss: 0.0756, F1 Score: 1.0000, Accuracy: 1.0000\n"
          ]
        },
        {
          "output_type": "stream",
          "name": "stderr",
          "text": [
            "\n",
            "Epoch 237/500:   0%|          | 0/4 [00:01<?, ?it/s, loss=0.108]\n",
            "\n",
            "Epoch 238/500:   0%|          | 0/4 [00:00<?, ?it/s, loss=0.0664]\u001b[A\n",
            "Epoch 238/500:   0%|          | 0/4 [00:00<?, ?it/s, loss=0.0791]\u001b[A\n",
            "Epoch 238/500:   0%|          | 0/4 [00:00<?, ?it/s, loss=0.0446]\u001b[A\n",
            "Epoch 238/500:   0%|          | 0/4 [00:00<?, ?it/s, loss=0.0932]\u001b[A"
          ]
        },
        {
          "output_type": "stream",
          "name": "stdout",
          "text": [
            "Epoch 238/500, Train Loss: 0.0708, Validation Loss: 0.0655, F1 Score: 1.0000, Accuracy: 1.0000\n"
          ]
        },
        {
          "output_type": "stream",
          "name": "stderr",
          "text": [
            "Epoch 238/500:   0%|          | 0/4 [00:01<?, ?it/s, loss=0.0932]\n",
            "Epoch 239/500:   0%|          | 0/4 [00:00<?, ?it/s, loss=0.0866]"
          ]
        },
        {
          "output_type": "stream",
          "name": "stdout",
          "text": [
            "Epoch 239/500, Train Loss: 0.0696, Validation Loss: 0.0959, F1 Score: 1.0000, Accuracy: 1.0000\n"
          ]
        },
        {
          "output_type": "stream",
          "name": "stderr",
          "text": [
            "\n",
            "Epoch 239/500:   0%|          | 0/4 [00:01<?, ?it/s, loss=0.0866]\n",
            "\n",
            "Epoch 240/500:   0%|          | 0/4 [00:00<?, ?it/s, loss=0.0513]\u001b[A\n",
            "Epoch 240/500:   0%|          | 0/4 [00:00<?, ?it/s, loss=0.101] \u001b[A\n",
            "Epoch 240/500:   0%|          | 0/4 [00:00<?, ?it/s, loss=0.0853]\u001b[A\n",
            "Epoch 240/500:   0%|          | 0/4 [00:00<?, ?it/s, loss=0.0758]\u001b[A"
          ]
        },
        {
          "output_type": "stream",
          "name": "stdout",
          "text": [
            "Epoch 240/500, Train Loss: 0.0783, Validation Loss: 0.0615, F1 Score: 1.0000, Accuracy: 1.0000\n"
          ]
        },
        {
          "output_type": "stream",
          "name": "stderr",
          "text": [
            "Epoch 240/500:   0%|          | 0/4 [00:01<?, ?it/s, loss=0.0758]\n",
            "Epoch 241/500:   0%|          | 0/4 [00:00<?, ?it/s, loss=0.0607]"
          ]
        },
        {
          "output_type": "stream",
          "name": "stdout",
          "text": [
            "Epoch 241/500, Train Loss: 0.0815, Validation Loss: 0.0928, F1 Score: 1.0000, Accuracy: 1.0000\n"
          ]
        },
        {
          "output_type": "stream",
          "name": "stderr",
          "text": [
            "\n",
            "Epoch 241/500:   0%|          | 0/4 [00:01<?, ?it/s, loss=0.0607]\n",
            "\n",
            "Epoch 242/500:   0%|          | 0/4 [00:00<?, ?it/s, loss=0.0571]\u001b[A\n",
            "Epoch 242/500:   0%|          | 0/4 [00:00<?, ?it/s, loss=0.0659]\u001b[A\n",
            "Epoch 242/500:   0%|          | 0/4 [00:00<?, ?it/s, loss=0.0875]\u001b[A\n",
            "Epoch 242/500:   0%|          | 0/4 [00:01<?, ?it/s, loss=0.0402]\u001b[A"
          ]
        },
        {
          "output_type": "stream",
          "name": "stdout",
          "text": [
            "Epoch 242/500, Train Loss: 0.0627, Validation Loss: 0.0675, F1 Score: 1.0000, Accuracy: 1.0000\n"
          ]
        },
        {
          "output_type": "stream",
          "name": "stderr",
          "text": [
            "Epoch 242/500:   0%|          | 0/4 [00:01<?, ?it/s, loss=0.0402]\n",
            "Epoch 243/500:   0%|          | 0/4 [00:01<?, ?it/s, loss=0.0998]"
          ]
        },
        {
          "output_type": "stream",
          "name": "stdout",
          "text": [
            "Epoch 243/500, Train Loss: 0.0700, Validation Loss: 0.0676, F1 Score: 1.0000, Accuracy: 1.0000\n"
          ]
        },
        {
          "output_type": "stream",
          "name": "stderr",
          "text": [
            "\n",
            "Epoch 243/500:   0%|          | 0/4 [00:01<?, ?it/s, loss=0.0998]\n",
            "\n",
            "Epoch 244/500:   0%|          | 0/4 [00:00<?, ?it/s, loss=0.0894]\u001b[A\n",
            "Epoch 244/500:   0%|          | 0/4 [00:00<?, ?it/s, loss=0.0989]\u001b[A\n",
            "Epoch 244/500:   0%|          | 0/4 [00:00<?, ?it/s, loss=0.0309]\u001b[A\n",
            "Epoch 244/500:   0%|          | 0/4 [00:01<?, ?it/s, loss=0.0581]\u001b[A"
          ]
        },
        {
          "output_type": "stream",
          "name": "stdout",
          "text": [
            "Epoch 244/500, Train Loss: 0.0693, Validation Loss: 0.0727, F1 Score: 1.0000, Accuracy: 1.0000\n"
          ]
        },
        {
          "output_type": "stream",
          "name": "stderr",
          "text": [
            "Epoch 244/500:   0%|          | 0/4 [00:01<?, ?it/s, loss=0.0581]\n",
            "Epoch 245/500:   0%|          | 0/4 [00:00<?, ?it/s, loss=0.0989]"
          ]
        },
        {
          "output_type": "stream",
          "name": "stdout",
          "text": [
            "Epoch 245/500, Train Loss: 0.0628, Validation Loss: 0.1013, F1 Score: 1.0000, Accuracy: 1.0000\n"
          ]
        },
        {
          "output_type": "stream",
          "name": "stderr",
          "text": [
            "\n",
            "Epoch 245/500:   0%|          | 0/4 [00:01<?, ?it/s, loss=0.0989]\n",
            "\n",
            "Epoch 246/500:   0%|          | 0/4 [00:00<?, ?it/s, loss=0.0511]\u001b[A\n",
            "Epoch 246/500:   0%|          | 0/4 [00:00<?, ?it/s, loss=0.0488]\u001b[A\n",
            "Epoch 246/500:   0%|          | 0/4 [00:00<?, ?it/s, loss=0.0378]\u001b[A\n",
            "Epoch 246/500:   0%|          | 0/4 [00:00<?, ?it/s, loss=0.0748]\u001b[A"
          ]
        },
        {
          "output_type": "stream",
          "name": "stdout",
          "text": [
            "Epoch 246/500, Train Loss: 0.0531, Validation Loss: 0.0715, F1 Score: 1.0000, Accuracy: 1.0000\n"
          ]
        },
        {
          "output_type": "stream",
          "name": "stderr",
          "text": [
            "Epoch 246/500:   0%|          | 0/4 [00:01<?, ?it/s, loss=0.0748]\n",
            "Epoch 247/500:   0%|          | 0/4 [00:00<?, ?it/s, loss=0.063] "
          ]
        },
        {
          "output_type": "stream",
          "name": "stdout",
          "text": [
            "Epoch 247/500, Train Loss: 0.0777, Validation Loss: 0.0962, F1 Score: 1.0000, Accuracy: 1.0000\n"
          ]
        },
        {
          "output_type": "stream",
          "name": "stderr",
          "text": [
            "\n",
            "Epoch 247/500:   0%|          | 0/4 [00:01<?, ?it/s, loss=0.063]\n",
            "\n",
            "Epoch 248/500:   0%|          | 0/4 [00:00<?, ?it/s, loss=0.0476]\u001b[A\n",
            "Epoch 248/500:   0%|          | 0/4 [00:00<?, ?it/s, loss=0.0561]\u001b[A\n",
            "Epoch 248/500:   0%|          | 0/4 [00:00<?, ?it/s, loss=0.0469]\u001b[A\n",
            "Epoch 248/500:   0%|          | 0/4 [00:00<?, ?it/s, loss=0.109] \u001b[A"
          ]
        },
        {
          "output_type": "stream",
          "name": "stdout",
          "text": [
            "Epoch 248/500, Train Loss: 0.0649, Validation Loss: 0.0793, F1 Score: 1.0000, Accuracy: 1.0000\n"
          ]
        },
        {
          "output_type": "stream",
          "name": "stderr",
          "text": [
            "Epoch 248/500:   0%|          | 0/4 [00:01<?, ?it/s, loss=0.109]\n",
            "Epoch 249/500:   0%|          | 0/4 [00:00<?, ?it/s, loss=0.0723]"
          ]
        },
        {
          "output_type": "stream",
          "name": "stdout",
          "text": [
            "Epoch 249/500, Train Loss: 0.0570, Validation Loss: 0.0674, F1 Score: 1.0000, Accuracy: 1.0000\n"
          ]
        },
        {
          "output_type": "stream",
          "name": "stderr",
          "text": [
            "\n",
            "Epoch 249/500:   0%|          | 0/4 [00:01<?, ?it/s, loss=0.0723]\n",
            "\n",
            "Epoch 250/500:   0%|          | 0/4 [00:00<?, ?it/s, loss=0.0747]\u001b[A\n",
            "Epoch 250/500:   0%|          | 0/4 [00:00<?, ?it/s, loss=0.0582]\u001b[A\n",
            "Epoch 250/500:   0%|          | 0/4 [00:00<?, ?it/s, loss=0.0677]\u001b[A\n",
            "Epoch 250/500:   0%|          | 0/4 [00:00<?, ?it/s, loss=0.066] \u001b[A"
          ]
        },
        {
          "output_type": "stream",
          "name": "stdout",
          "text": [
            "Epoch 250/500, Train Loss: 0.0666, Validation Loss: 0.0601, F1 Score: 1.0000, Accuracy: 1.0000\n"
          ]
        },
        {
          "output_type": "stream",
          "name": "stderr",
          "text": [
            "Epoch 250/500:   0%|          | 0/4 [00:01<?, ?it/s, loss=0.066]\n",
            "Epoch 251/500:   0%|          | 0/4 [00:00<?, ?it/s, loss=0.0681]"
          ]
        },
        {
          "output_type": "stream",
          "name": "stdout",
          "text": [
            "Epoch 251/500, Train Loss: 0.0753, Validation Loss: 0.0817, F1 Score: 1.0000, Accuracy: 1.0000\n"
          ]
        },
        {
          "output_type": "stream",
          "name": "stderr",
          "text": [
            "\n",
            "Epoch 251/500:   0%|          | 0/4 [00:01<?, ?it/s, loss=0.0681]\n",
            "\n",
            "Epoch 252/500:   0%|          | 0/4 [00:00<?, ?it/s, loss=0.0587]\u001b[A\n",
            "Epoch 252/500:   0%|          | 0/4 [00:00<?, ?it/s, loss=0.0792]\u001b[A\n",
            "Epoch 252/500:   0%|          | 0/4 [00:00<?, ?it/s, loss=0.0284]\u001b[A\n",
            "Epoch 252/500:   0%|          | 0/4 [00:00<?, ?it/s, loss=0.0408]\u001b[A"
          ]
        },
        {
          "output_type": "stream",
          "name": "stdout",
          "text": [
            "Epoch 252/500, Train Loss: 0.0518, Validation Loss: 0.0682, F1 Score: 1.0000, Accuracy: 1.0000\n"
          ]
        },
        {
          "output_type": "stream",
          "name": "stderr",
          "text": [
            "Epoch 252/500:   0%|          | 0/4 [00:01<?, ?it/s, loss=0.0408]\n",
            "Epoch 253/500:   0%|          | 0/4 [00:01<?, ?it/s, loss=0.089] "
          ]
        },
        {
          "output_type": "stream",
          "name": "stdout",
          "text": [
            "Epoch 253/500, Train Loss: 0.0740, Validation Loss: 0.0570, F1 Score: 1.0000, Accuracy: 1.0000\n"
          ]
        },
        {
          "output_type": "stream",
          "name": "stderr",
          "text": [
            "\n",
            "Epoch 253/500:   0%|          | 0/4 [00:01<?, ?it/s, loss=0.089]\n",
            "\n",
            "Epoch 254/500:   0%|          | 0/4 [00:00<?, ?it/s, loss=0.0583]\u001b[A\n",
            "Epoch 254/500:   0%|          | 0/4 [00:00<?, ?it/s, loss=0.132] \u001b[A\n",
            "Epoch 254/500:   0%|          | 0/4 [00:00<?, ?it/s, loss=0.0844]\u001b[A\n",
            "Epoch 254/500:   0%|          | 0/4 [00:01<?, ?it/s, loss=0.0804]\u001b[A"
          ]
        },
        {
          "output_type": "stream",
          "name": "stdout",
          "text": [
            "Epoch 254/500, Train Loss: 0.0888, Validation Loss: 0.0739, F1 Score: 1.0000, Accuracy: 1.0000\n"
          ]
        },
        {
          "output_type": "stream",
          "name": "stderr",
          "text": [
            "Epoch 254/500:   0%|          | 0/4 [00:01<?, ?it/s, loss=0.0804]\n",
            "Epoch 255/500:   0%|          | 0/4 [00:00<?, ?it/s, loss=0.0648]"
          ]
        },
        {
          "output_type": "stream",
          "name": "stdout",
          "text": [
            "Epoch 255/500, Train Loss: 0.0586, Validation Loss: 0.0709, F1 Score: 1.0000, Accuracy: 1.0000\n"
          ]
        },
        {
          "output_type": "stream",
          "name": "stderr",
          "text": [
            "\n",
            "Epoch 255/500:   0%|          | 0/4 [00:01<?, ?it/s, loss=0.0648]\n",
            "\n",
            "Epoch 256/500:   0%|          | 0/4 [00:00<?, ?it/s, loss=0.0552]\u001b[A\n",
            "Epoch 256/500:   0%|          | 0/4 [00:00<?, ?it/s, loss=0.105] \u001b[A\n",
            "Epoch 256/500:   0%|          | 0/4 [00:00<?, ?it/s, loss=0.058]\u001b[A\n",
            "Epoch 256/500:   0%|          | 0/4 [00:01<?, ?it/s, loss=0.0469]\u001b[A"
          ]
        },
        {
          "output_type": "stream",
          "name": "stdout",
          "text": [
            "Epoch 256/500, Train Loss: 0.0663, Validation Loss: 0.0759, F1 Score: 1.0000, Accuracy: 1.0000\n"
          ]
        },
        {
          "output_type": "stream",
          "name": "stderr",
          "text": [
            "Epoch 256/500:   0%|          | 0/4 [00:01<?, ?it/s, loss=0.0469]\n",
            "Epoch 257/500:   0%|          | 0/4 [00:00<?, ?it/s, loss=0.0681]"
          ]
        },
        {
          "output_type": "stream",
          "name": "stdout",
          "text": [
            "Epoch 257/500, Train Loss: 0.0829, Validation Loss: 0.0619, F1 Score: 1.0000, Accuracy: 1.0000\n"
          ]
        },
        {
          "output_type": "stream",
          "name": "stderr",
          "text": [
            "\n",
            "Epoch 257/500:   0%|          | 0/4 [00:01<?, ?it/s, loss=0.0681]\n",
            "\n",
            "Epoch 258/500:   0%|          | 0/4 [00:00<?, ?it/s, loss=0.0804]\u001b[A\n",
            "Epoch 258/500:   0%|          | 0/4 [00:00<?, ?it/s, loss=0.0928]\u001b[A\n",
            "Epoch 258/500:   0%|          | 0/4 [00:00<?, ?it/s, loss=0.0858]\u001b[A\n",
            "Epoch 258/500:   0%|          | 0/4 [00:00<?, ?it/s, loss=0.0555]\u001b[A"
          ]
        },
        {
          "output_type": "stream",
          "name": "stdout",
          "text": [
            "Epoch 258/500, Train Loss: 0.0786, Validation Loss: 0.0979, F1 Score: 1.0000, Accuracy: 1.0000\n"
          ]
        },
        {
          "output_type": "stream",
          "name": "stderr",
          "text": [
            "Epoch 258/500:   0%|          | 0/4 [00:01<?, ?it/s, loss=0.0555]\n",
            "Epoch 259/500:   0%|          | 0/4 [00:00<?, ?it/s, loss=0.0541]"
          ]
        },
        {
          "output_type": "stream",
          "name": "stdout",
          "text": [
            "Epoch 259/500, Train Loss: 0.0837, Validation Loss: 0.0865, F1 Score: 1.0000, Accuracy: 1.0000\n"
          ]
        },
        {
          "output_type": "stream",
          "name": "stderr",
          "text": [
            "\n",
            "Epoch 259/500:   0%|          | 0/4 [00:01<?, ?it/s, loss=0.0541]\n",
            "\n",
            "Epoch 260/500:   0%|          | 0/4 [00:00<?, ?it/s, loss=0.0674]\u001b[A\n",
            "Epoch 260/500:   0%|          | 0/4 [00:00<?, ?it/s, loss=0.0857]\u001b[A\n",
            "Epoch 260/500:   0%|          | 0/4 [00:00<?, ?it/s, loss=0.0196]\u001b[A\n",
            "Epoch 260/500:   0%|          | 0/4 [00:00<?, ?it/s, loss=0.0516]\u001b[A"
          ]
        },
        {
          "output_type": "stream",
          "name": "stdout",
          "text": [
            "Epoch 260/500, Train Loss: 0.0561, Validation Loss: 0.0698, F1 Score: 1.0000, Accuracy: 1.0000\n"
          ]
        },
        {
          "output_type": "stream",
          "name": "stderr",
          "text": [
            "Epoch 260/500:   0%|          | 0/4 [00:01<?, ?it/s, loss=0.0516]\n",
            "Epoch 261/500:   0%|          | 0/4 [00:00<?, ?it/s, loss=0.113]"
          ]
        },
        {
          "output_type": "stream",
          "name": "stdout",
          "text": [
            "Epoch 261/500, Train Loss: 0.0938, Validation Loss: 0.0677, F1 Score: 1.0000, Accuracy: 1.0000\n"
          ]
        },
        {
          "output_type": "stream",
          "name": "stderr",
          "text": [
            "\n",
            "Epoch 261/500:   0%|          | 0/4 [00:01<?, ?it/s, loss=0.113]\n",
            "\n",
            "Epoch 262/500:   0%|          | 0/4 [00:00<?, ?it/s, loss=0.0694]\u001b[A\n",
            "Epoch 262/500:   0%|          | 0/4 [00:00<?, ?it/s, loss=0.0657]\u001b[A\n",
            "Epoch 262/500:   0%|          | 0/4 [00:00<?, ?it/s, loss=0.0191]\u001b[A\n",
            "Epoch 262/500:   0%|          | 0/4 [00:00<?, ?it/s, loss=0.0691]\u001b[A"
          ]
        },
        {
          "output_type": "stream",
          "name": "stdout",
          "text": [
            "Epoch 262/500, Train Loss: 0.0558, Validation Loss: 0.0882, F1 Score: 1.0000, Accuracy: 1.0000\n"
          ]
        },
        {
          "output_type": "stream",
          "name": "stderr",
          "text": [
            "Epoch 262/500:   0%|          | 0/4 [00:01<?, ?it/s, loss=0.0691]\n",
            "Epoch 263/500:   0%|          | 0/4 [00:01<?, ?it/s, loss=0.0816]"
          ]
        },
        {
          "output_type": "stream",
          "name": "stdout",
          "text": [
            "Epoch 263/500, Train Loss: 0.0582, Validation Loss: 0.0682, F1 Score: 1.0000, Accuracy: 1.0000\n"
          ]
        },
        {
          "output_type": "stream",
          "name": "stderr",
          "text": [
            "\n",
            "Epoch 263/500:   0%|          | 0/4 [00:01<?, ?it/s, loss=0.0816]\n",
            "\n",
            "Epoch 264/500:   0%|          | 0/4 [00:00<?, ?it/s, loss=0.0551]\u001b[A\n",
            "Epoch 264/500:   0%|          | 0/4 [00:00<?, ?it/s, loss=0.0888]\u001b[A\n",
            "Epoch 264/500:   0%|          | 0/4 [00:00<?, ?it/s, loss=0.111] \u001b[A\n",
            "Epoch 264/500:   0%|          | 0/4 [00:01<?, ?it/s, loss=0.0635]\u001b[A"
          ]
        },
        {
          "output_type": "stream",
          "name": "stdout",
          "text": [
            "Epoch 264/500, Train Loss: 0.0795, Validation Loss: 0.0878, F1 Score: 1.0000, Accuracy: 1.0000\n"
          ]
        },
        {
          "output_type": "stream",
          "name": "stderr",
          "text": [
            "Epoch 264/500:   0%|          | 0/4 [00:01<?, ?it/s, loss=0.0635]\n",
            "Epoch 265/500:   0%|          | 0/4 [00:01<?, ?it/s, loss=0.0732]"
          ]
        },
        {
          "output_type": "stream",
          "name": "stdout",
          "text": [
            "Epoch 265/500, Train Loss: 0.0913, Validation Loss: 0.0615, F1 Score: 1.0000, Accuracy: 1.0000\n"
          ]
        },
        {
          "output_type": "stream",
          "name": "stderr",
          "text": [
            "\n",
            "Epoch 265/500:   0%|          | 0/4 [00:01<?, ?it/s, loss=0.0732]\n",
            "\n",
            "Epoch 266/500:   0%|          | 0/4 [00:00<?, ?it/s, loss=0.0541]\u001b[A\n",
            "Epoch 266/500:   0%|          | 0/4 [00:00<?, ?it/s, loss=0.0954]\u001b[A\n",
            "Epoch 266/500:   0%|          | 0/4 [00:00<?, ?it/s, loss=0.0947]\u001b[A\n",
            "Epoch 266/500:   0%|          | 0/4 [00:00<?, ?it/s, loss=0.0582]\u001b[A"
          ]
        },
        {
          "output_type": "stream",
          "name": "stdout",
          "text": [
            "Epoch 266/500, Train Loss: 0.0756, Validation Loss: 0.0872, F1 Score: 1.0000, Accuracy: 1.0000\n"
          ]
        },
        {
          "output_type": "stream",
          "name": "stderr",
          "text": [
            "Epoch 266/500:   0%|          | 0/4 [00:01<?, ?it/s, loss=0.0582]\n",
            "Epoch 267/500:   0%|          | 0/4 [00:00<?, ?it/s, loss=0.0928]"
          ]
        },
        {
          "output_type": "stream",
          "name": "stdout",
          "text": [
            "Epoch 267/500, Train Loss: 0.0873, Validation Loss: 0.0652, F1 Score: 1.0000, Accuracy: 1.0000\n"
          ]
        },
        {
          "output_type": "stream",
          "name": "stderr",
          "text": [
            "\n",
            "Epoch 267/500:   0%|          | 0/4 [00:01<?, ?it/s, loss=0.0928]\n",
            "\n",
            "Epoch 268/500:   0%|          | 0/4 [00:00<?, ?it/s, loss=0.0769]\u001b[A\n",
            "Epoch 268/500:   0%|          | 0/4 [00:00<?, ?it/s, loss=0.0748]\u001b[A\n",
            "Epoch 268/500:   0%|          | 0/4 [00:00<?, ?it/s, loss=0.095] \u001b[A\n",
            "Epoch 268/500:   0%|          | 0/4 [00:00<?, ?it/s, loss=0.0743]\u001b[A"
          ]
        },
        {
          "output_type": "stream",
          "name": "stdout",
          "text": [
            "Epoch 268/500, Train Loss: 0.0802, Validation Loss: 0.0982, F1 Score: 1.0000, Accuracy: 1.0000\n"
          ]
        },
        {
          "output_type": "stream",
          "name": "stderr",
          "text": [
            "Epoch 268/500:   0%|          | 0/4 [00:01<?, ?it/s, loss=0.0743]\n",
            "Epoch 269/500:   0%|          | 0/4 [00:00<?, ?it/s, loss=0.0657]"
          ]
        },
        {
          "output_type": "stream",
          "name": "stdout",
          "text": [
            "Epoch 269/500, Train Loss: 0.0655, Validation Loss: 0.0541, F1 Score: 1.0000, Accuracy: 1.0000\n",
            "Best model saved with F1 score: 0.0541\n"
          ]
        },
        {
          "output_type": "stream",
          "name": "stderr",
          "text": [
            "\n",
            "Epoch 269/500:   0%|          | 0/4 [00:01<?, ?it/s, loss=0.0657]\n",
            "\n",
            "Epoch 270/500:   0%|          | 0/4 [00:00<?, ?it/s, loss=0.0411]\u001b[A\n",
            "Epoch 270/500:   0%|          | 0/4 [00:00<?, ?it/s, loss=0.077] \u001b[A\n",
            "Epoch 270/500:   0%|          | 0/4 [00:00<?, ?it/s, loss=0.0671]\u001b[A\n",
            "Epoch 270/500:   0%|          | 0/4 [00:01<?, ?it/s, loss=0.0633]\u001b[A"
          ]
        },
        {
          "output_type": "stream",
          "name": "stdout",
          "text": [
            "Epoch 270/500, Train Loss: 0.0621, Validation Loss: 0.0572, F1 Score: 1.0000, Accuracy: 1.0000\n"
          ]
        },
        {
          "output_type": "stream",
          "name": "stderr",
          "text": [
            "Epoch 270/500:   0%|          | 0/4 [00:01<?, ?it/s, loss=0.0633]\n",
            "Epoch 271/500:   0%|          | 0/4 [00:00<?, ?it/s, loss=0.0615]"
          ]
        },
        {
          "output_type": "stream",
          "name": "stdout",
          "text": [
            "Epoch 271/500, Train Loss: 0.0635, Validation Loss: 0.0780, F1 Score: 1.0000, Accuracy: 1.0000\n"
          ]
        },
        {
          "output_type": "stream",
          "name": "stderr",
          "text": [
            "\n",
            "Epoch 271/500:   0%|          | 0/4 [00:01<?, ?it/s, loss=0.0615]\n",
            "\n",
            "Epoch 272/500:   0%|          | 0/4 [00:00<?, ?it/s, loss=0.0506]\u001b[A\n",
            "Epoch 272/500:   0%|          | 0/4 [00:00<?, ?it/s, loss=0.0818]\u001b[A\n",
            "Epoch 272/500:   0%|          | 0/4 [00:00<?, ?it/s, loss=0.0565]\u001b[A\n",
            "Epoch 272/500:   0%|          | 0/4 [00:01<?, ?it/s, loss=0.077] \u001b[A"
          ]
        },
        {
          "output_type": "stream",
          "name": "stdout",
          "text": [
            "Epoch 272/500, Train Loss: 0.0665, Validation Loss: 0.0913, F1 Score: 1.0000, Accuracy: 1.0000\n"
          ]
        },
        {
          "output_type": "stream",
          "name": "stderr",
          "text": [
            "Epoch 272/500:   0%|          | 0/4 [00:01<?, ?it/s, loss=0.077]\n",
            "Epoch 273/500:   0%|          | 0/4 [00:01<?, ?it/s, loss=0.0369]"
          ]
        },
        {
          "output_type": "stream",
          "name": "stdout",
          "text": [
            "Epoch 273/500, Train Loss: 0.0674, Validation Loss: 0.0458, F1 Score: 1.0000, Accuracy: 1.0000\n",
            "Best model saved with F1 score: 0.0458\n"
          ]
        },
        {
          "output_type": "stream",
          "name": "stderr",
          "text": [
            "\n",
            "Epoch 273/500:   0%|          | 0/4 [00:02<?, ?it/s, loss=0.0369]\n",
            "\n",
            "Epoch 274/500:   0%|          | 0/4 [00:00<?, ?it/s, loss=0.0329]\u001b[A\n",
            "Epoch 274/500:   0%|          | 0/4 [00:00<?, ?it/s, loss=0.0917]\u001b[A\n",
            "Epoch 274/500:   0%|          | 0/4 [00:01<?, ?it/s, loss=0.0535]\u001b[A\n",
            "Epoch 274/500:   0%|          | 0/4 [00:01<?, ?it/s, loss=0.0614]\u001b[A"
          ]
        },
        {
          "output_type": "stream",
          "name": "stdout",
          "text": [
            "Epoch 274/500, Train Loss: 0.0599, Validation Loss: 0.0480, F1 Score: 1.0000, Accuracy: 1.0000\n"
          ]
        },
        {
          "output_type": "stream",
          "name": "stderr",
          "text": [
            "Epoch 274/500:   0%|          | 0/4 [00:01<?, ?it/s, loss=0.0614]\n",
            "Epoch 275/500:   0%|          | 0/4 [00:00<?, ?it/s, loss=0.0858]"
          ]
        },
        {
          "output_type": "stream",
          "name": "stdout",
          "text": [
            "Epoch 275/500, Train Loss: 0.0825, Validation Loss: 0.0678, F1 Score: 1.0000, Accuracy: 1.0000\n"
          ]
        },
        {
          "output_type": "stream",
          "name": "stderr",
          "text": [
            "\n",
            "Epoch 275/500:   0%|          | 0/4 [00:01<?, ?it/s, loss=0.0858]\n",
            "\n",
            "Epoch 276/500:   0%|          | 0/4 [00:00<?, ?it/s, loss=0.0637]\u001b[A\n",
            "Epoch 276/500:   0%|          | 0/4 [00:00<?, ?it/s, loss=0.134] \u001b[A\n",
            "Epoch 276/500:   0%|          | 0/4 [00:00<?, ?it/s, loss=0.0731]\u001b[A\n",
            "Epoch 276/500:   0%|          | 0/4 [00:01<?, ?it/s, loss=0.0338]\u001b[A"
          ]
        },
        {
          "output_type": "stream",
          "name": "stdout",
          "text": [
            "Epoch 276/500, Train Loss: 0.0761, Validation Loss: 0.0615, F1 Score: 1.0000, Accuracy: 1.0000\n"
          ]
        },
        {
          "output_type": "stream",
          "name": "stderr",
          "text": [
            "Epoch 276/500:   0%|          | 0/4 [00:01<?, ?it/s, loss=0.0338]\n",
            "Epoch 277/500:   0%|          | 0/4 [00:00<?, ?it/s, loss=0.043] "
          ]
        },
        {
          "output_type": "stream",
          "name": "stdout",
          "text": [
            "Epoch 277/500, Train Loss: 0.0608, Validation Loss: 0.0422, F1 Score: 1.0000, Accuracy: 1.0000\n",
            "Best model saved with F1 score: 0.0422\n"
          ]
        },
        {
          "output_type": "stream",
          "name": "stderr",
          "text": [
            "\n",
            "Epoch 277/500:   0%|          | 0/4 [00:01<?, ?it/s, loss=0.043]\n",
            "\n",
            "Epoch 278/500:   0%|          | 0/4 [00:00<?, ?it/s, loss=0.0493]\u001b[A\n",
            "Epoch 278/500:   0%|          | 0/4 [00:00<?, ?it/s, loss=0.0852]\u001b[A\n",
            "Epoch 278/500:   0%|          | 0/4 [00:01<?, ?it/s, loss=0.0509]\u001b[A\n",
            "Epoch 278/500:   0%|          | 0/4 [00:01<?, ?it/s, loss=0.0891]\u001b[A"
          ]
        },
        {
          "output_type": "stream",
          "name": "stdout",
          "text": [
            "Epoch 278/500, Train Loss: 0.0686, Validation Loss: 0.0884, F1 Score: 1.0000, Accuracy: 1.0000\n"
          ]
        },
        {
          "output_type": "stream",
          "name": "stderr",
          "text": [
            "Epoch 278/500:   0%|          | 0/4 [00:01<?, ?it/s, loss=0.0891]\n",
            "Epoch 279/500:   0%|          | 0/4 [00:00<?, ?it/s, loss=0.0448]"
          ]
        },
        {
          "output_type": "stream",
          "name": "stdout",
          "text": [
            "Epoch 279/500, Train Loss: 0.0688, Validation Loss: 0.0735, F1 Score: 1.0000, Accuracy: 1.0000\n"
          ]
        },
        {
          "output_type": "stream",
          "name": "stderr",
          "text": [
            "\n",
            "Epoch 279/500:   0%|          | 0/4 [00:01<?, ?it/s, loss=0.0448]\n",
            "\n",
            "Epoch 280/500:   0%|          | 0/4 [00:00<?, ?it/s, loss=0.0835]\u001b[A\n",
            "Epoch 280/500:   0%|          | 0/4 [00:00<?, ?it/s, loss=0.0658]\u001b[A\n",
            "Epoch 280/500:   0%|          | 0/4 [00:00<?, ?it/s, loss=0.0731]\u001b[A\n",
            "Epoch 280/500:   0%|          | 0/4 [00:00<?, ?it/s, loss=0.0319]\u001b[A"
          ]
        },
        {
          "output_type": "stream",
          "name": "stdout",
          "text": [
            "Epoch 280/500, Train Loss: 0.0636, Validation Loss: 0.0628, F1 Score: 1.0000, Accuracy: 1.0000\n"
          ]
        },
        {
          "output_type": "stream",
          "name": "stderr",
          "text": [
            "Epoch 280/500:   0%|          | 0/4 [00:01<?, ?it/s, loss=0.0319]\n",
            "Epoch 281/500:   0%|          | 0/4 [00:00<?, ?it/s, loss=0.0374]"
          ]
        },
        {
          "output_type": "stream",
          "name": "stdout",
          "text": [
            "Epoch 281/500, Train Loss: 0.0639, Validation Loss: 0.0798, F1 Score: 1.0000, Accuracy: 1.0000\n"
          ]
        },
        {
          "output_type": "stream",
          "name": "stderr",
          "text": [
            "\n",
            "Epoch 281/500:   0%|          | 0/4 [00:01<?, ?it/s, loss=0.0374]\n",
            "\n",
            "Epoch 282/500:   0%|          | 0/4 [00:00<?, ?it/s, loss=0.0806]\u001b[A\n",
            "Epoch 282/500:   0%|          | 0/4 [00:00<?, ?it/s, loss=0.136] \u001b[A\n",
            "Epoch 282/500:   0%|          | 0/4 [00:00<?, ?it/s, loss=0.0315]\u001b[A\n",
            "Epoch 282/500:   0%|          | 0/4 [00:01<?, ?it/s, loss=0.0698]\u001b[A"
          ]
        },
        {
          "output_type": "stream",
          "name": "stdout",
          "text": [
            "Epoch 282/500, Train Loss: 0.0794, Validation Loss: 0.0816, F1 Score: 1.0000, Accuracy: 1.0000\n"
          ]
        },
        {
          "output_type": "stream",
          "name": "stderr",
          "text": [
            "Epoch 282/500:   0%|          | 0/4 [00:01<?, ?it/s, loss=0.0698]\n",
            "Epoch 283/500:   0%|          | 0/4 [00:01<?, ?it/s, loss=0.0759]"
          ]
        },
        {
          "output_type": "stream",
          "name": "stdout",
          "text": [
            "Epoch 283/500, Train Loss: 0.0812, Validation Loss: 0.0671, F1 Score: 1.0000, Accuracy: 1.0000\n"
          ]
        },
        {
          "output_type": "stream",
          "name": "stderr",
          "text": [
            "\n",
            "Epoch 283/500:   0%|          | 0/4 [00:01<?, ?it/s, loss=0.0759]\n",
            "\n",
            "Epoch 284/500:   0%|          | 0/4 [00:00<?, ?it/s, loss=0.0492]\u001b[A\n",
            "Epoch 284/500:   0%|          | 0/4 [00:00<?, ?it/s, loss=0.0554]\u001b[A\n",
            "Epoch 284/500:   0%|          | 0/4 [00:00<?, ?it/s, loss=0.126] \u001b[A\n",
            "Epoch 284/500:   0%|          | 0/4 [00:01<?, ?it/s, loss=0.0663]\u001b[A"
          ]
        },
        {
          "output_type": "stream",
          "name": "stdout",
          "text": [
            "Epoch 284/500, Train Loss: 0.0741, Validation Loss: 0.0764, F1 Score: 1.0000, Accuracy: 1.0000\n"
          ]
        },
        {
          "output_type": "stream",
          "name": "stderr",
          "text": [
            "Epoch 284/500:   0%|          | 0/4 [00:01<?, ?it/s, loss=0.0663]\n",
            "Epoch 285/500:   0%|          | 0/4 [00:00<?, ?it/s, loss=0.0838]"
          ]
        },
        {
          "output_type": "stream",
          "name": "stdout",
          "text": [
            "Epoch 285/500, Train Loss: 0.0591, Validation Loss: 0.0663, F1 Score: 1.0000, Accuracy: 1.0000\n"
          ]
        },
        {
          "output_type": "stream",
          "name": "stderr",
          "text": [
            "\n",
            "Epoch 285/500:   0%|          | 0/4 [00:01<?, ?it/s, loss=0.0838]\n",
            "\n",
            "Epoch 286/500:   0%|          | 0/4 [00:00<?, ?it/s, loss=0.0396]\u001b[A\n",
            "Epoch 286/500:   0%|          | 0/4 [00:00<?, ?it/s, loss=0.0896]\u001b[A\n",
            "Epoch 286/500:   0%|          | 0/4 [00:00<?, ?it/s, loss=0.0552]\u001b[A\n",
            "Epoch 286/500:   0%|          | 0/4 [00:01<?, ?it/s, loss=0.0587]\u001b[A"
          ]
        },
        {
          "output_type": "stream",
          "name": "stdout",
          "text": [
            "Epoch 286/500, Train Loss: 0.0608, Validation Loss: 0.0629, F1 Score: 1.0000, Accuracy: 1.0000\n"
          ]
        },
        {
          "output_type": "stream",
          "name": "stderr",
          "text": [
            "Epoch 286/500:   0%|          | 0/4 [00:01<?, ?it/s, loss=0.0587]\n",
            "Epoch 287/500:   0%|          | 0/4 [00:00<?, ?it/s, loss=0.0741]"
          ]
        },
        {
          "output_type": "stream",
          "name": "stdout",
          "text": [
            "Epoch 287/500, Train Loss: 0.0688, Validation Loss: 0.0616, F1 Score: 1.0000, Accuracy: 1.0000\n"
          ]
        },
        {
          "output_type": "stream",
          "name": "stderr",
          "text": [
            "\n",
            "Epoch 287/500:   0%|          | 0/4 [00:01<?, ?it/s, loss=0.0741]\n",
            "\n",
            "Epoch 288/500:   0%|          | 0/4 [00:00<?, ?it/s, loss=0.064]\u001b[A\n",
            "Epoch 288/500:   0%|          | 0/4 [00:00<?, ?it/s, loss=0.0999]\u001b[A\n",
            "Epoch 288/500:   0%|          | 0/4 [00:00<?, ?it/s, loss=0.0804]\u001b[A\n",
            "Epoch 288/500:   0%|          | 0/4 [00:00<?, ?it/s, loss=0.0618]\u001b[A"
          ]
        },
        {
          "output_type": "stream",
          "name": "stdout",
          "text": [
            "Epoch 288/500, Train Loss: 0.0765, Validation Loss: 0.0952, F1 Score: 1.0000, Accuracy: 1.0000\n"
          ]
        },
        {
          "output_type": "stream",
          "name": "stderr",
          "text": [
            "Epoch 288/500:   0%|          | 0/4 [00:01<?, ?it/s, loss=0.0618]\n",
            "Epoch 289/500:   0%|          | 0/4 [00:00<?, ?it/s, loss=0.0458]"
          ]
        },
        {
          "output_type": "stream",
          "name": "stdout",
          "text": [
            "Epoch 289/500, Train Loss: 0.0371, Validation Loss: 0.0604, F1 Score: 1.0000, Accuracy: 1.0000\n"
          ]
        },
        {
          "output_type": "stream",
          "name": "stderr",
          "text": [
            "\n",
            "Epoch 289/500:   0%|          | 0/4 [00:01<?, ?it/s, loss=0.0458]\n",
            "\n",
            "Epoch 290/500:   0%|          | 0/4 [00:00<?, ?it/s, loss=0.0443]\u001b[A\n",
            "Epoch 290/500:   0%|          | 0/4 [00:00<?, ?it/s, loss=0.0679]\u001b[A\n",
            "Epoch 290/500:   0%|          | 0/4 [00:00<?, ?it/s, loss=0.0792]\u001b[A\n",
            "Epoch 290/500:   0%|          | 0/4 [00:01<?, ?it/s, loss=0.0539]\u001b[A"
          ]
        },
        {
          "output_type": "stream",
          "name": "stdout",
          "text": [
            "Epoch 290/500, Train Loss: 0.0613, Validation Loss: 0.0423, F1 Score: 1.0000, Accuracy: 1.0000\n"
          ]
        },
        {
          "output_type": "stream",
          "name": "stderr",
          "text": [
            "Epoch 290/500:   0%|          | 0/4 [00:01<?, ?it/s, loss=0.0539]\n",
            "Epoch 291/500:   0%|          | 0/4 [00:00<?, ?it/s, loss=0.0441]"
          ]
        },
        {
          "output_type": "stream",
          "name": "stdout",
          "text": [
            "Epoch 291/500, Train Loss: 0.0722, Validation Loss: 0.0430, F1 Score: 1.0000, Accuracy: 1.0000\n"
          ]
        },
        {
          "output_type": "stream",
          "name": "stderr",
          "text": [
            "\n",
            "Epoch 291/500:   0%|          | 0/4 [00:01<?, ?it/s, loss=0.0441]\n",
            "\n",
            "Epoch 292/500:   0%|          | 0/4 [00:00<?, ?it/s, loss=0.0569]\u001b[A\n",
            "Epoch 292/500:   0%|          | 0/4 [00:00<?, ?it/s, loss=0.11]  \u001b[A\n",
            "Epoch 292/500:   0%|          | 0/4 [00:00<?, ?it/s, loss=0.0622]\u001b[A\n",
            "Epoch 292/500:   0%|          | 0/4 [00:01<?, ?it/s, loss=0.027] \u001b[A"
          ]
        },
        {
          "output_type": "stream",
          "name": "stdout",
          "text": [
            "Epoch 292/500, Train Loss: 0.0641, Validation Loss: 0.0794, F1 Score: 1.0000, Accuracy: 1.0000\n"
          ]
        },
        {
          "output_type": "stream",
          "name": "stderr",
          "text": [
            "Epoch 292/500:   0%|          | 0/4 [00:01<?, ?it/s, loss=0.027]\n",
            "Epoch 293/500:   0%|          | 0/4 [00:01<?, ?it/s, loss=0.0455]"
          ]
        },
        {
          "output_type": "stream",
          "name": "stdout",
          "text": [
            "Epoch 293/500, Train Loss: 0.0491, Validation Loss: 0.0620, F1 Score: 1.0000, Accuracy: 1.0000\n"
          ]
        },
        {
          "output_type": "stream",
          "name": "stderr",
          "text": [
            "\n",
            "Epoch 293/500:   0%|          | 0/4 [00:01<?, ?it/s, loss=0.0455]\n",
            "\n",
            "Epoch 294/500:   0%|          | 0/4 [00:00<?, ?it/s, loss=0.0618]\u001b[A\n",
            "Epoch 294/500:   0%|          | 0/4 [00:00<?, ?it/s, loss=0.0823]\u001b[A\n",
            "Epoch 294/500:   0%|          | 0/4 [00:00<?, ?it/s, loss=0.0958]\u001b[A\n",
            "Epoch 294/500:   0%|          | 0/4 [00:00<?, ?it/s, loss=0.0512]\u001b[A"
          ]
        },
        {
          "output_type": "stream",
          "name": "stdout",
          "text": [
            "Epoch 294/500, Train Loss: 0.0728, Validation Loss: 0.0405, F1 Score: 1.0000, Accuracy: 1.0000\n",
            "Best model saved with F1 score: 0.0405\n"
          ]
        },
        {
          "output_type": "stream",
          "name": "stderr",
          "text": [
            "Epoch 294/500:   0%|          | 0/4 [00:01<?, ?it/s, loss=0.0512]\n",
            "Epoch 295/500:   0%|          | 0/4 [00:01<?, ?it/s, loss=0.0389]"
          ]
        },
        {
          "output_type": "stream",
          "name": "stdout",
          "text": [
            "Epoch 295/500, Train Loss: 0.0472, Validation Loss: 0.0677, F1 Score: 1.0000, Accuracy: 1.0000\n"
          ]
        },
        {
          "output_type": "stream",
          "name": "stderr",
          "text": [
            "\n",
            "Epoch 295/500:   0%|          | 0/4 [00:01<?, ?it/s, loss=0.0389]\n",
            "\n",
            "Epoch 296/500:   0%|          | 0/4 [00:00<?, ?it/s, loss=0.0457]\u001b[A\n",
            "Epoch 296/500:   0%|          | 0/4 [00:00<?, ?it/s, loss=0.095] \u001b[A\n",
            "Epoch 296/500:   0%|          | 0/4 [00:00<?, ?it/s, loss=0.0162]\u001b[A\n",
            "Epoch 296/500:   0%|          | 0/4 [00:00<?, ?it/s, loss=0.0672]\u001b[A"
          ]
        },
        {
          "output_type": "stream",
          "name": "stdout",
          "text": [
            "Epoch 296/500, Train Loss: 0.0560, Validation Loss: 0.0399, F1 Score: 1.0000, Accuracy: 1.0000\n",
            "Best model saved with F1 score: 0.0399\n"
          ]
        },
        {
          "output_type": "stream",
          "name": "stderr",
          "text": [
            "Epoch 296/500:   0%|          | 0/4 [00:01<?, ?it/s, loss=0.0672]\n",
            "Epoch 297/500:   0%|          | 0/4 [00:01<?, ?it/s, loss=0.0494]"
          ]
        },
        {
          "output_type": "stream",
          "name": "stdout",
          "text": [
            "Epoch 297/500, Train Loss: 0.0591, Validation Loss: 0.0511, F1 Score: 1.0000, Accuracy: 1.0000\n"
          ]
        },
        {
          "output_type": "stream",
          "name": "stderr",
          "text": [
            "\n",
            "Epoch 297/500:   0%|          | 0/4 [00:01<?, ?it/s, loss=0.0494]\n",
            "\n",
            "Epoch 298/500:   0%|          | 0/4 [00:00<?, ?it/s, loss=0.0676]\u001b[A\n",
            "Epoch 298/500:   0%|          | 0/4 [00:00<?, ?it/s, loss=0.0887]\u001b[A\n",
            "Epoch 298/500:   0%|          | 0/4 [00:00<?, ?it/s, loss=0.0696]\u001b[A\n",
            "Epoch 298/500:   0%|          | 0/4 [00:00<?, ?it/s, loss=0.0776]\u001b[A"
          ]
        },
        {
          "output_type": "stream",
          "name": "stdout",
          "text": [
            "Epoch 298/500, Train Loss: 0.0759, Validation Loss: 0.0601, F1 Score: 1.0000, Accuracy: 1.0000\n"
          ]
        },
        {
          "output_type": "stream",
          "name": "stderr",
          "text": [
            "Epoch 298/500:   0%|          | 0/4 [00:01<?, ?it/s, loss=0.0776]\n",
            "Epoch 299/500:   0%|          | 0/4 [00:00<?, ?it/s, loss=0.0363]"
          ]
        },
        {
          "output_type": "stream",
          "name": "stdout",
          "text": [
            "Epoch 299/500, Train Loss: 0.0535, Validation Loss: 0.0803, F1 Score: 1.0000, Accuracy: 1.0000\n"
          ]
        },
        {
          "output_type": "stream",
          "name": "stderr",
          "text": [
            "\n",
            "Epoch 299/500:   0%|          | 0/4 [00:01<?, ?it/s, loss=0.0363]\n",
            "\n",
            "Epoch 300/500:   0%|          | 0/4 [00:00<?, ?it/s, loss=0.0754]\u001b[A\n",
            "Epoch 300/500:   0%|          | 0/4 [00:00<?, ?it/s, loss=0.105] \u001b[A\n",
            "Epoch 300/500:   0%|          | 0/4 [00:00<?, ?it/s, loss=0.0367]\u001b[A\n",
            "Epoch 300/500:   0%|          | 0/4 [00:00<?, ?it/s, loss=0.0648]\u001b[A"
          ]
        },
        {
          "output_type": "stream",
          "name": "stdout",
          "text": [
            "Epoch 300/500, Train Loss: 0.0705, Validation Loss: 0.1026, F1 Score: 1.0000, Accuracy: 1.0000\n"
          ]
        },
        {
          "output_type": "stream",
          "name": "stderr",
          "text": [
            "Epoch 300/500:   0%|          | 0/4 [00:01<?, ?it/s, loss=0.0648]\n",
            "Epoch 301/500:   0%|          | 0/4 [00:01<?, ?it/s, loss=0.0333]"
          ]
        },
        {
          "output_type": "stream",
          "name": "stdout",
          "text": [
            "Epoch 301/500, Train Loss: 0.0368, Validation Loss: 0.0681, F1 Score: 1.0000, Accuracy: 1.0000\n"
          ]
        },
        {
          "output_type": "stream",
          "name": "stderr",
          "text": [
            "\n",
            "Epoch 301/500:   0%|          | 0/4 [00:01<?, ?it/s, loss=0.0333]\n",
            "\n",
            "Epoch 302/500:   0%|          | 0/4 [00:00<?, ?it/s, loss=0.0405]\u001b[A\n",
            "Epoch 302/500:   0%|          | 0/4 [00:00<?, ?it/s, loss=0.0474]\u001b[A\n",
            "Epoch 302/500:   0%|          | 0/4 [00:01<?, ?it/s, loss=0.0416]\u001b[A\n",
            "Epoch 302/500:   0%|          | 0/4 [00:01<?, ?it/s, loss=0.0727]\u001b[A"
          ]
        },
        {
          "output_type": "stream",
          "name": "stdout",
          "text": [
            "Epoch 302/500, Train Loss: 0.0506, Validation Loss: 0.0615, F1 Score: 1.0000, Accuracy: 1.0000\n"
          ]
        },
        {
          "output_type": "stream",
          "name": "stderr",
          "text": [
            "Epoch 302/500:   0%|          | 0/4 [00:02<?, ?it/s, loss=0.0727]\n",
            "Epoch 303/500:   0%|          | 0/4 [00:00<?, ?it/s, loss=0.0656]"
          ]
        },
        {
          "output_type": "stream",
          "name": "stdout",
          "text": [
            "Epoch 303/500, Train Loss: 0.0758, Validation Loss: 0.0569, F1 Score: 1.0000, Accuracy: 1.0000\n"
          ]
        },
        {
          "output_type": "stream",
          "name": "stderr",
          "text": [
            "\n",
            "Epoch 303/500:   0%|          | 0/4 [00:01<?, ?it/s, loss=0.0656]\n",
            "\n",
            "Epoch 304/500:   0%|          | 0/4 [00:00<?, ?it/s, loss=0.0257]\u001b[A\n",
            "Epoch 304/500:   0%|          | 0/4 [00:00<?, ?it/s, loss=0.0561]\u001b[A\n",
            "Epoch 304/500:   0%|          | 0/4 [00:00<?, ?it/s, loss=0.0614]\u001b[A\n",
            "Epoch 304/500:   0%|          | 0/4 [00:01<?, ?it/s, loss=0.0294]\u001b[A"
          ]
        },
        {
          "output_type": "stream",
          "name": "stdout",
          "text": [
            "Epoch 304/500, Train Loss: 0.0432, Validation Loss: 0.0477, F1 Score: 1.0000, Accuracy: 1.0000\n"
          ]
        },
        {
          "output_type": "stream",
          "name": "stderr",
          "text": [
            "Epoch 304/500:   0%|          | 0/4 [00:01<?, ?it/s, loss=0.0294]\n",
            "Epoch 305/500:   0%|          | 0/4 [00:00<?, ?it/s, loss=0.0163]"
          ]
        },
        {
          "output_type": "stream",
          "name": "stdout",
          "text": [
            "Epoch 305/500, Train Loss: 0.0374, Validation Loss: 0.0848, F1 Score: 1.0000, Accuracy: 1.0000\n"
          ]
        },
        {
          "output_type": "stream",
          "name": "stderr",
          "text": [
            "\n",
            "Epoch 305/500:   0%|          | 0/4 [00:01<?, ?it/s, loss=0.0163]\n",
            "\n",
            "Epoch 306/500:   0%|          | 0/4 [00:00<?, ?it/s, loss=0.0752]\u001b[A\n",
            "Epoch 306/500:   0%|          | 0/4 [00:00<?, ?it/s, loss=0.09]  \u001b[A\n",
            "Epoch 306/500:   0%|          | 0/4 [00:00<?, ?it/s, loss=0.0603]\u001b[A\n",
            "Epoch 306/500:   0%|          | 0/4 [00:01<?, ?it/s, loss=0.025] \u001b[A"
          ]
        },
        {
          "output_type": "stream",
          "name": "stdout",
          "text": [
            "Epoch 306/500, Train Loss: 0.0626, Validation Loss: 0.0986, F1 Score: 1.0000, Accuracy: 1.0000\n"
          ]
        },
        {
          "output_type": "stream",
          "name": "stderr",
          "text": [
            "Epoch 306/500:   0%|          | 0/4 [00:01<?, ?it/s, loss=0.025]\n",
            "Epoch 307/500:   0%|          | 0/4 [00:00<?, ?it/s, loss=0.0503]"
          ]
        },
        {
          "output_type": "stream",
          "name": "stdout",
          "text": [
            "Epoch 307/500, Train Loss: 0.0541, Validation Loss: 0.0547, F1 Score: 1.0000, Accuracy: 1.0000\n"
          ]
        },
        {
          "output_type": "stream",
          "name": "stderr",
          "text": [
            "\n",
            "Epoch 307/500:   0%|          | 0/4 [00:01<?, ?it/s, loss=0.0503]\n",
            "\n",
            "Epoch 308/500:   0%|          | 0/4 [00:00<?, ?it/s, loss=0.0308]\u001b[A\n",
            "Epoch 308/500:   0%|          | 0/4 [00:00<?, ?it/s, loss=0.123] \u001b[A\n",
            "Epoch 308/500:   0%|          | 0/4 [00:00<?, ?it/s, loss=0.0608]\u001b[A\n",
            "Epoch 308/500:   0%|          | 0/4 [00:00<?, ?it/s, loss=0.0596]\u001b[A"
          ]
        },
        {
          "output_type": "stream",
          "name": "stdout",
          "text": [
            "Epoch 308/500, Train Loss: 0.0686, Validation Loss: 0.0584, F1 Score: 1.0000, Accuracy: 1.0000\n"
          ]
        },
        {
          "output_type": "stream",
          "name": "stderr",
          "text": [
            "Epoch 308/500:   0%|          | 0/4 [00:01<?, ?it/s, loss=0.0596]\n",
            "Epoch 309/500:   0%|          | 0/4 [00:00<?, ?it/s, loss=0.0382]"
          ]
        },
        {
          "output_type": "stream",
          "name": "stdout",
          "text": [
            "Epoch 309/500, Train Loss: 0.0622, Validation Loss: 0.0850, F1 Score: 1.0000, Accuracy: 1.0000\n"
          ]
        },
        {
          "output_type": "stream",
          "name": "stderr",
          "text": [
            "\n",
            "Epoch 309/500:   0%|          | 0/4 [00:01<?, ?it/s, loss=0.0382]\n",
            "\n",
            "Epoch 310/500:   0%|          | 0/4 [00:00<?, ?it/s, loss=0.047]\u001b[A\n",
            "Epoch 310/500:   0%|          | 0/4 [00:00<?, ?it/s, loss=0.0801]\u001b[A\n",
            "Epoch 310/500:   0%|          | 0/4 [00:00<?, ?it/s, loss=0.0119]\u001b[A\n",
            "Epoch 310/500:   0%|          | 0/4 [00:00<?, ?it/s, loss=0.0568]\u001b[A"
          ]
        },
        {
          "output_type": "stream",
          "name": "stdout",
          "text": [
            "Epoch 310/500, Train Loss: 0.0490, Validation Loss: 0.0816, F1 Score: 1.0000, Accuracy: 1.0000\n"
          ]
        },
        {
          "output_type": "stream",
          "name": "stderr",
          "text": [
            "Epoch 310/500:   0%|          | 0/4 [00:01<?, ?it/s, loss=0.0568]\n",
            "Epoch 311/500:   0%|          | 0/4 [00:01<?, ?it/s, loss=0.0284]"
          ]
        },
        {
          "output_type": "stream",
          "name": "stdout",
          "text": [
            "Epoch 311/500, Train Loss: 0.0433, Validation Loss: 0.0502, F1 Score: 1.0000, Accuracy: 1.0000\n"
          ]
        },
        {
          "output_type": "stream",
          "name": "stderr",
          "text": [
            "\n",
            "Epoch 311/500:   0%|          | 0/4 [00:01<?, ?it/s, loss=0.0284]\n",
            "\n",
            "Epoch 312/500:   0%|          | 0/4 [00:00<?, ?it/s, loss=0.0505]\u001b[A\n",
            "Epoch 312/500:   0%|          | 0/4 [00:00<?, ?it/s, loss=0.0726]\u001b[A\n",
            "Epoch 312/500:   0%|          | 0/4 [00:00<?, ?it/s, loss=0.0623]\u001b[A\n",
            "Epoch 312/500:   0%|          | 0/4 [00:01<?, ?it/s, loss=0.0561]\u001b[A"
          ]
        },
        {
          "output_type": "stream",
          "name": "stdout",
          "text": [
            "Epoch 312/500, Train Loss: 0.0604, Validation Loss: 0.0590, F1 Score: 1.0000, Accuracy: 1.0000\n"
          ]
        },
        {
          "output_type": "stream",
          "name": "stderr",
          "text": [
            "Epoch 312/500:   0%|          | 0/4 [00:01<?, ?it/s, loss=0.0561]\n",
            "Epoch 313/500:   0%|          | 0/4 [00:01<?, ?it/s, loss=0.063] "
          ]
        },
        {
          "output_type": "stream",
          "name": "stdout",
          "text": [
            "Epoch 313/500, Train Loss: 0.0709, Validation Loss: 0.1082, F1 Score: 0.9496, Accuracy: 0.9500\n"
          ]
        },
        {
          "output_type": "stream",
          "name": "stderr",
          "text": [
            "\n",
            "Epoch 313/500:   0%|          | 0/4 [00:01<?, ?it/s, loss=0.063]\n",
            "\n",
            "Epoch 314/500:   0%|          | 0/4 [00:00<?, ?it/s, loss=0.0323]\u001b[A\n",
            "Epoch 314/500:   0%|          | 0/4 [00:00<?, ?it/s, loss=0.0496]\u001b[A\n",
            "Epoch 314/500:   0%|          | 0/4 [00:00<?, ?it/s, loss=0.0176]\u001b[A\n",
            "Epoch 314/500:   0%|          | 0/4 [00:00<?, ?it/s, loss=0.041] \u001b[A"
          ]
        },
        {
          "output_type": "stream",
          "name": "stdout",
          "text": [
            "Epoch 314/500, Train Loss: 0.0351, Validation Loss: 0.0560, F1 Score: 1.0000, Accuracy: 1.0000\n"
          ]
        },
        {
          "output_type": "stream",
          "name": "stderr",
          "text": [
            "Epoch 314/500:   0%|          | 0/4 [00:01<?, ?it/s, loss=0.041]\n",
            "Epoch 315/500:   0%|          | 0/4 [00:00<?, ?it/s, loss=0.0633]"
          ]
        },
        {
          "output_type": "stream",
          "name": "stdout",
          "text": [
            "Epoch 315/500, Train Loss: 0.0557, Validation Loss: 0.0963, F1 Score: 0.9501, Accuracy: 0.9500\n"
          ]
        },
        {
          "output_type": "stream",
          "name": "stderr",
          "text": [
            "\n",
            "Epoch 315/500:   0%|          | 0/4 [00:01<?, ?it/s, loss=0.0633]\n",
            "\n",
            "Epoch 316/500:   0%|          | 0/4 [00:00<?, ?it/s, loss=0.0464]\u001b[A\n",
            "Epoch 316/500:   0%|          | 0/4 [00:00<?, ?it/s, loss=0.0835]\u001b[A\n",
            "Epoch 316/500:   0%|          | 0/4 [00:00<?, ?it/s, loss=0.0445]\u001b[A\n",
            "Epoch 316/500:   0%|          | 0/4 [00:01<?, ?it/s, loss=0.0545]\u001b[A"
          ]
        },
        {
          "output_type": "stream",
          "name": "stdout",
          "text": [
            "Epoch 316/500, Train Loss: 0.0572, Validation Loss: 0.0633, F1 Score: 1.0000, Accuracy: 1.0000\n"
          ]
        },
        {
          "output_type": "stream",
          "name": "stderr",
          "text": [
            "Epoch 316/500:   0%|          | 0/4 [00:01<?, ?it/s, loss=0.0545]\n",
            "Epoch 317/500:   0%|          | 0/4 [00:00<?, ?it/s, loss=0.0694]"
          ]
        },
        {
          "output_type": "stream",
          "name": "stdout",
          "text": [
            "Epoch 317/500, Train Loss: 0.0602, Validation Loss: 0.0525, F1 Score: 1.0000, Accuracy: 1.0000\n"
          ]
        },
        {
          "output_type": "stream",
          "name": "stderr",
          "text": [
            "\n",
            "Epoch 317/500:   0%|          | 0/4 [00:01<?, ?it/s, loss=0.0694]\n",
            "\n",
            "Epoch 318/500:   0%|          | 0/4 [00:00<?, ?it/s, loss=0.0543]\u001b[A\n",
            "Epoch 318/500:   0%|          | 0/4 [00:00<?, ?it/s, loss=0.0643]\u001b[A\n",
            "Epoch 318/500:   0%|          | 0/4 [00:00<?, ?it/s, loss=0.0509]\u001b[A\n",
            "Epoch 318/500:   0%|          | 0/4 [00:00<?, ?it/s, loss=0.0803]\u001b[A"
          ]
        },
        {
          "output_type": "stream",
          "name": "stdout",
          "text": [
            "Epoch 318/500, Train Loss: 0.0624, Validation Loss: 0.0663, F1 Score: 1.0000, Accuracy: 1.0000\n"
          ]
        },
        {
          "output_type": "stream",
          "name": "stderr",
          "text": [
            "Epoch 318/500:   0%|          | 0/4 [00:01<?, ?it/s, loss=0.0803]\n",
            "Epoch 319/500:   0%|          | 0/4 [00:00<?, ?it/s, loss=0.071] "
          ]
        },
        {
          "output_type": "stream",
          "name": "stdout",
          "text": [
            "Epoch 319/500, Train Loss: 0.0558, Validation Loss: 0.0524, F1 Score: 1.0000, Accuracy: 1.0000\n"
          ]
        },
        {
          "output_type": "stream",
          "name": "stderr",
          "text": [
            "\n",
            "Epoch 319/500:   0%|          | 0/4 [00:01<?, ?it/s, loss=0.071]\n",
            "\n",
            "Epoch 320/500:   0%|          | 0/4 [00:00<?, ?it/s, loss=0.0562]\u001b[A\n",
            "Epoch 320/500:   0%|          | 0/4 [00:00<?, ?it/s, loss=0.11]  \u001b[A\n",
            "Epoch 320/500:   0%|          | 0/4 [00:00<?, ?it/s, loss=0.0576]\u001b[A\n",
            "Epoch 320/500:   0%|          | 0/4 [00:01<?, ?it/s, loss=0.0461]\u001b[A"
          ]
        },
        {
          "output_type": "stream",
          "name": "stdout",
          "text": [
            "Epoch 320/500, Train Loss: 0.0674, Validation Loss: 0.0707, F1 Score: 1.0000, Accuracy: 1.0000\n"
          ]
        },
        {
          "output_type": "stream",
          "name": "stderr",
          "text": [
            "Epoch 320/500:   0%|          | 0/4 [00:01<?, ?it/s, loss=0.0461]\n",
            "Epoch 321/500:   0%|          | 0/4 [00:01<?, ?it/s, loss=0.0813]"
          ]
        },
        {
          "output_type": "stream",
          "name": "stdout",
          "text": [
            "Epoch 321/500, Train Loss: 0.0615, Validation Loss: 0.0585, F1 Score: 1.0000, Accuracy: 1.0000\n"
          ]
        },
        {
          "output_type": "stream",
          "name": "stderr",
          "text": [
            "\n",
            "Epoch 321/500:   0%|          | 0/4 [00:01<?, ?it/s, loss=0.0813]\n",
            "\n",
            "Epoch 322/500:   0%|          | 0/4 [00:00<?, ?it/s, loss=0.0534]\u001b[A\n",
            "Epoch 322/500:   0%|          | 0/4 [00:00<?, ?it/s, loss=0.0833]\u001b[A\n",
            "Epoch 322/500:   0%|          | 0/4 [00:00<?, ?it/s, loss=0.0205]\u001b[A\n",
            "Epoch 322/500:   0%|          | 0/4 [00:01<?, ?it/s, loss=0.0498]\u001b[A"
          ]
        },
        {
          "output_type": "stream",
          "name": "stdout",
          "text": [
            "Epoch 322/500, Train Loss: 0.0518, Validation Loss: 0.0550, F1 Score: 1.0000, Accuracy: 1.0000\n"
          ]
        },
        {
          "output_type": "stream",
          "name": "stderr",
          "text": [
            "Epoch 322/500:   0%|          | 0/4 [00:01<?, ?it/s, loss=0.0498]\n",
            "Epoch 323/500:   0%|          | 0/4 [00:01<?, ?it/s, loss=0.0511]"
          ]
        },
        {
          "output_type": "stream",
          "name": "stdout",
          "text": [
            "Epoch 323/500, Train Loss: 0.0443, Validation Loss: 0.0460, F1 Score: 1.0000, Accuracy: 1.0000\n"
          ]
        },
        {
          "output_type": "stream",
          "name": "stderr",
          "text": [
            "\n",
            "Epoch 323/500:   0%|          | 0/4 [00:01<?, ?it/s, loss=0.0511]\n",
            "\n",
            "Epoch 324/500:   0%|          | 0/4 [00:00<?, ?it/s, loss=0.0635]\u001b[A\n",
            "Epoch 324/500:   0%|          | 0/4 [00:00<?, ?it/s, loss=0.0417]\u001b[A\n",
            "Epoch 324/500:   0%|          | 0/4 [00:00<?, ?it/s, loss=0.0526]\u001b[A\n",
            "Epoch 324/500:   0%|          | 0/4 [00:00<?, ?it/s, loss=0.014] \u001b[A"
          ]
        },
        {
          "output_type": "stream",
          "name": "stdout",
          "text": [
            "Epoch 324/500, Train Loss: 0.0429, Validation Loss: 0.0553, F1 Score: 1.0000, Accuracy: 1.0000\n"
          ]
        },
        {
          "output_type": "stream",
          "name": "stderr",
          "text": [
            "Epoch 324/500:   0%|          | 0/4 [00:01<?, ?it/s, loss=0.014]\n",
            "Epoch 325/500:   0%|          | 0/4 [00:00<?, ?it/s, loss=0.0838]"
          ]
        },
        {
          "output_type": "stream",
          "name": "stdout",
          "text": [
            "Epoch 325/500, Train Loss: 0.0521, Validation Loss: 0.0725, F1 Score: 0.9501, Accuracy: 0.9500\n"
          ]
        },
        {
          "output_type": "stream",
          "name": "stderr",
          "text": [
            "\n",
            "Epoch 325/500:   0%|          | 0/4 [00:01<?, ?it/s, loss=0.0838]\n",
            "\n",
            "Epoch 326/500:   0%|          | 0/4 [00:00<?, ?it/s, loss=0.0541]\u001b[A\n",
            "Epoch 326/500:   0%|          | 0/4 [00:00<?, ?it/s, loss=0.0671]\u001b[A\n",
            "Epoch 326/500:   0%|          | 0/4 [00:00<?, ?it/s, loss=0.0415]\u001b[A\n",
            "Epoch 326/500:   0%|          | 0/4 [00:01<?, ?it/s, loss=0.0401]\u001b[A"
          ]
        },
        {
          "output_type": "stream",
          "name": "stdout",
          "text": [
            "Epoch 326/500, Train Loss: 0.0507, Validation Loss: 0.0344, F1 Score: 1.0000, Accuracy: 1.0000\n",
            "Best model saved with F1 score: 0.0344\n"
          ]
        },
        {
          "output_type": "stream",
          "name": "stderr",
          "text": [
            "Epoch 326/500:   0%|          | 0/4 [00:01<?, ?it/s, loss=0.0401]\n",
            "Epoch 327/500:   0%|          | 0/4 [00:01<?, ?it/s, loss=0.036] "
          ]
        },
        {
          "output_type": "stream",
          "name": "stdout",
          "text": [
            "Epoch 327/500, Train Loss: 0.0624, Validation Loss: 0.0425, F1 Score: 1.0000, Accuracy: 1.0000\n"
          ]
        },
        {
          "output_type": "stream",
          "name": "stderr",
          "text": [
            "\n",
            "Epoch 327/500:   0%|          | 0/4 [00:01<?, ?it/s, loss=0.036]\n",
            "\n",
            "Epoch 328/500:   0%|          | 0/4 [00:00<?, ?it/s, loss=0.0254]\u001b[A\n",
            "Epoch 328/500:   0%|          | 0/4 [00:00<?, ?it/s, loss=0.144] \u001b[A\n",
            "Epoch 328/500:   0%|          | 0/4 [00:00<?, ?it/s, loss=0.0419]\u001b[A\n",
            "Epoch 328/500:   0%|          | 0/4 [00:00<?, ?it/s, loss=0.0332]\u001b[A"
          ]
        },
        {
          "output_type": "stream",
          "name": "stdout",
          "text": [
            "Epoch 328/500, Train Loss: 0.0611, Validation Loss: 0.0465, F1 Score: 1.0000, Accuracy: 1.0000\n"
          ]
        },
        {
          "output_type": "stream",
          "name": "stderr",
          "text": [
            "Epoch 328/500:   0%|          | 0/4 [00:01<?, ?it/s, loss=0.0332]\n",
            "Epoch 329/500:   0%|          | 0/4 [00:00<?, ?it/s, loss=0.0782]"
          ]
        },
        {
          "output_type": "stream",
          "name": "stdout",
          "text": [
            "Epoch 329/500, Train Loss: 0.0513, Validation Loss: 0.0392, F1 Score: 1.0000, Accuracy: 1.0000\n"
          ]
        },
        {
          "output_type": "stream",
          "name": "stderr",
          "text": [
            "\n",
            "Epoch 329/500:   0%|          | 0/4 [00:01<?, ?it/s, loss=0.0782]\n",
            "\n",
            "Epoch 330/500:   0%|          | 0/4 [00:00<?, ?it/s, loss=0.0485]\u001b[A\n",
            "Epoch 330/500:   0%|          | 0/4 [00:00<?, ?it/s, loss=0.0753]\u001b[A\n",
            "Epoch 330/500:   0%|          | 0/4 [00:00<?, ?it/s, loss=0.0676]\u001b[A\n",
            "Epoch 330/500:   0%|          | 0/4 [00:00<?, ?it/s, loss=0.0299]\u001b[A"
          ]
        },
        {
          "output_type": "stream",
          "name": "stdout",
          "text": [
            "Epoch 330/500, Train Loss: 0.0553, Validation Loss: 0.0582, F1 Score: 1.0000, Accuracy: 1.0000\n"
          ]
        },
        {
          "output_type": "stream",
          "name": "stderr",
          "text": [
            "Epoch 330/500:   0%|          | 0/4 [00:01<?, ?it/s, loss=0.0299]\n",
            "Epoch 331/500:   0%|          | 0/4 [00:01<?, ?it/s, loss=0.0419]"
          ]
        },
        {
          "output_type": "stream",
          "name": "stdout",
          "text": [
            "Epoch 331/500, Train Loss: 0.0444, Validation Loss: 0.0679, F1 Score: 1.0000, Accuracy: 1.0000\n"
          ]
        },
        {
          "output_type": "stream",
          "name": "stderr",
          "text": [
            "\n",
            "Epoch 331/500:   0%|          | 0/4 [00:01<?, ?it/s, loss=0.0419]\n",
            "\n",
            "Epoch 332/500:   0%|          | 0/4 [00:00<?, ?it/s, loss=0.0451]\u001b[A\n",
            "Epoch 332/500:   0%|          | 0/4 [00:00<?, ?it/s, loss=0.0511]\u001b[A\n",
            "Epoch 332/500:   0%|          | 0/4 [00:00<?, ?it/s, loss=0.0267]\u001b[A\n",
            "Epoch 332/500:   0%|          | 0/4 [00:01<?, ?it/s, loss=0.0125]\u001b[A"
          ]
        },
        {
          "output_type": "stream",
          "name": "stdout",
          "text": [
            "Epoch 332/500, Train Loss: 0.0338, Validation Loss: 0.0188, F1 Score: 1.0000, Accuracy: 1.0000\n",
            "Best model saved with F1 score: 0.0188\n"
          ]
        },
        {
          "output_type": "stream",
          "name": "stderr",
          "text": [
            "Epoch 332/500:   0%|          | 0/4 [00:01<?, ?it/s, loss=0.0125]\n",
            "Epoch 333/500:   0%|          | 0/4 [00:01<?, ?it/s, loss=0.0174]"
          ]
        },
        {
          "output_type": "stream",
          "name": "stdout",
          "text": [
            "Epoch 333/500, Train Loss: 0.0375, Validation Loss: 0.0290, F1 Score: 1.0000, Accuracy: 1.0000\n"
          ]
        },
        {
          "output_type": "stream",
          "name": "stderr",
          "text": [
            "\n",
            "Epoch 333/500:   0%|          | 0/4 [00:01<?, ?it/s, loss=0.0174]\n",
            "\n",
            "Epoch 334/500:   0%|          | 0/4 [00:00<?, ?it/s, loss=0.0308]\u001b[A\n",
            "Epoch 334/500:   0%|          | 0/4 [00:00<?, ?it/s, loss=0.0469]\u001b[A\n",
            "Epoch 334/500:   0%|          | 0/4 [00:00<?, ?it/s, loss=0.0727]\u001b[A\n",
            "Epoch 334/500:   0%|          | 0/4 [00:00<?, ?it/s, loss=0.0467]\u001b[A"
          ]
        },
        {
          "output_type": "stream",
          "name": "stdout",
          "text": [
            "Epoch 334/500, Train Loss: 0.0493, Validation Loss: 0.0463, F1 Score: 1.0000, Accuracy: 1.0000\n"
          ]
        },
        {
          "output_type": "stream",
          "name": "stderr",
          "text": [
            "Epoch 334/500:   0%|          | 0/4 [00:01<?, ?it/s, loss=0.0467]\n",
            "Epoch 335/500:   0%|          | 0/4 [00:00<?, ?it/s, loss=0.0144]"
          ]
        },
        {
          "output_type": "stream",
          "name": "stdout",
          "text": [
            "Epoch 335/500, Train Loss: 0.0375, Validation Loss: 0.0336, F1 Score: 1.0000, Accuracy: 1.0000\n"
          ]
        },
        {
          "output_type": "stream",
          "name": "stderr",
          "text": [
            "\n",
            "Epoch 335/500:   0%|          | 0/4 [00:01<?, ?it/s, loss=0.0144]\n",
            "\n",
            "Epoch 336/500:   0%|          | 0/4 [00:00<?, ?it/s, loss=0.0562]\u001b[A\n",
            "Epoch 336/500:   0%|          | 0/4 [00:00<?, ?it/s, loss=0.114] \u001b[A\n",
            "Epoch 336/500:   0%|          | 0/4 [00:00<?, ?it/s, loss=0.0465]\u001b[A\n",
            "Epoch 336/500:   0%|          | 0/4 [00:01<?, ?it/s, loss=0.0501]\u001b[A"
          ]
        },
        {
          "output_type": "stream",
          "name": "stdout",
          "text": [
            "Epoch 336/500, Train Loss: 0.0668, Validation Loss: 0.0659, F1 Score: 1.0000, Accuracy: 1.0000\n"
          ]
        },
        {
          "output_type": "stream",
          "name": "stderr",
          "text": [
            "Epoch 336/500:   0%|          | 0/4 [00:01<?, ?it/s, loss=0.0501]\n",
            "Epoch 337/500:   0%|          | 0/4 [00:01<?, ?it/s, loss=0.0338]"
          ]
        },
        {
          "output_type": "stream",
          "name": "stdout",
          "text": [
            "Epoch 337/500, Train Loss: 0.0522, Validation Loss: 0.0623, F1 Score: 1.0000, Accuracy: 1.0000\n"
          ]
        },
        {
          "output_type": "stream",
          "name": "stderr",
          "text": [
            "\n",
            "Epoch 337/500:   0%|          | 0/4 [00:01<?, ?it/s, loss=0.0338]\n",
            "\n",
            "Epoch 338/500:   0%|          | 0/4 [00:00<?, ?it/s, loss=0.0542]\u001b[A\n",
            "Epoch 338/500:   0%|          | 0/4 [00:00<?, ?it/s, loss=0.036] \u001b[A\n",
            "Epoch 338/500:   0%|          | 0/4 [00:00<?, ?it/s, loss=0.0466]\u001b[A\n",
            "Epoch 338/500:   0%|          | 0/4 [00:01<?, ?it/s, loss=0.049] \u001b[A"
          ]
        },
        {
          "output_type": "stream",
          "name": "stdout",
          "text": [
            "Epoch 338/500, Train Loss: 0.0464, Validation Loss: 0.0876, F1 Score: 1.0000, Accuracy: 1.0000\n"
          ]
        },
        {
          "output_type": "stream",
          "name": "stderr",
          "text": [
            "Epoch 338/500:   0%|          | 0/4 [00:01<?, ?it/s, loss=0.049]\n",
            "Epoch 339/500:   0%|          | 0/4 [00:00<?, ?it/s, loss=0.0252]"
          ]
        },
        {
          "output_type": "stream",
          "name": "stdout",
          "text": [
            "Epoch 339/500, Train Loss: 0.0559, Validation Loss: 0.0555, F1 Score: 1.0000, Accuracy: 1.0000\n"
          ]
        },
        {
          "output_type": "stream",
          "name": "stderr",
          "text": [
            "\n",
            "Epoch 339/500:   0%|          | 0/4 [00:01<?, ?it/s, loss=0.0252]\n",
            "\n",
            "Epoch 340/500:   0%|          | 0/4 [00:00<?, ?it/s, loss=0.0595]\u001b[A\n",
            "Epoch 340/500:   0%|          | 0/4 [00:00<?, ?it/s, loss=0.0669]\u001b[A\n",
            "Epoch 340/500:   0%|          | 0/4 [00:00<?, ?it/s, loss=0.019] \u001b[A\n",
            "Epoch 340/500:   0%|          | 0/4 [00:01<?, ?it/s, loss=0.0391]\u001b[A"
          ]
        },
        {
          "output_type": "stream",
          "name": "stdout",
          "text": [
            "Epoch 340/500, Train Loss: 0.0461, Validation Loss: 0.0514, F1 Score: 1.0000, Accuracy: 1.0000\n"
          ]
        },
        {
          "output_type": "stream",
          "name": "stderr",
          "text": [
            "Epoch 340/500:   0%|          | 0/4 [00:01<?, ?it/s, loss=0.0391]\n",
            "Epoch 341/500:   0%|          | 0/4 [00:01<?, ?it/s, loss=0.0599]"
          ]
        },
        {
          "output_type": "stream",
          "name": "stdout",
          "text": [
            "Epoch 341/500, Train Loss: 0.0367, Validation Loss: 0.0565, F1 Score: 1.0000, Accuracy: 1.0000\n"
          ]
        },
        {
          "output_type": "stream",
          "name": "stderr",
          "text": [
            "\n",
            "Epoch 341/500:   0%|          | 0/4 [00:01<?, ?it/s, loss=0.0599]\n",
            "\n",
            "Epoch 342/500:   0%|          | 0/4 [00:00<?, ?it/s, loss=0.046]\u001b[A\n",
            "Epoch 342/500:   0%|          | 0/4 [00:00<?, ?it/s, loss=0.088]\u001b[A\n",
            "Epoch 342/500:   0%|          | 0/4 [00:00<?, ?it/s, loss=0.0542]\u001b[A\n",
            "Epoch 342/500:   0%|          | 0/4 [00:01<?, ?it/s, loss=0.0585]\u001b[A"
          ]
        },
        {
          "output_type": "stream",
          "name": "stdout",
          "text": [
            "Epoch 342/500, Train Loss: 0.0617, Validation Loss: 0.0807, F1 Score: 1.0000, Accuracy: 1.0000\n"
          ]
        },
        {
          "output_type": "stream",
          "name": "stderr",
          "text": [
            "Epoch 342/500:   0%|          | 0/4 [00:01<?, ?it/s, loss=0.0585]\n",
            "Epoch 343/500:   0%|          | 0/4 [00:00<?, ?it/s, loss=0.0957]"
          ]
        },
        {
          "output_type": "stream",
          "name": "stdout",
          "text": [
            "Epoch 343/500, Train Loss: 0.0670, Validation Loss: 0.0449, F1 Score: 1.0000, Accuracy: 1.0000\n"
          ]
        },
        {
          "output_type": "stream",
          "name": "stderr",
          "text": [
            "\n",
            "Epoch 343/500:   0%|          | 0/4 [00:01<?, ?it/s, loss=0.0957]\n",
            "\n",
            "Epoch 344/500:   0%|          | 0/4 [00:00<?, ?it/s, loss=0.063]\u001b[A\n",
            "Epoch 344/500:   0%|          | 0/4 [00:00<?, ?it/s, loss=0.1]  \u001b[A\n",
            "Epoch 344/500:   0%|          | 0/4 [00:00<?, ?it/s, loss=0.0612]\u001b[A\n",
            "Epoch 344/500:   0%|          | 0/4 [00:00<?, ?it/s, loss=0.0392]\u001b[A"
          ]
        },
        {
          "output_type": "stream",
          "name": "stdout",
          "text": [
            "Epoch 344/500, Train Loss: 0.0659, Validation Loss: 0.0646, F1 Score: 1.0000, Accuracy: 1.0000\n"
          ]
        },
        {
          "output_type": "stream",
          "name": "stderr",
          "text": [
            "Epoch 344/500:   0%|          | 0/4 [00:01<?, ?it/s, loss=0.0392]\n",
            "Epoch 345/500:   0%|          | 0/4 [00:00<?, ?it/s, loss=0.0481]"
          ]
        },
        {
          "output_type": "stream",
          "name": "stdout",
          "text": [
            "Epoch 345/500, Train Loss: 0.0630, Validation Loss: 0.0706, F1 Score: 1.0000, Accuracy: 1.0000\n"
          ]
        },
        {
          "output_type": "stream",
          "name": "stderr",
          "text": [
            "\n",
            "Epoch 345/500:   0%|          | 0/4 [00:01<?, ?it/s, loss=0.0481]\n",
            "\n",
            "Epoch 346/500:   0%|          | 0/4 [00:00<?, ?it/s, loss=0.0477]\u001b[A\n",
            "Epoch 346/500:   0%|          | 0/4 [00:00<?, ?it/s, loss=0.0847]\u001b[A\n",
            "Epoch 346/500:   0%|          | 0/4 [00:00<?, ?it/s, loss=0.0348]\u001b[A\n",
            "Epoch 346/500:   0%|          | 0/4 [00:00<?, ?it/s, loss=0.0789]\u001b[A"
          ]
        },
        {
          "output_type": "stream",
          "name": "stdout",
          "text": [
            "Epoch 346/500, Train Loss: 0.0615, Validation Loss: 0.0349, F1 Score: 1.0000, Accuracy: 1.0000\n"
          ]
        },
        {
          "output_type": "stream",
          "name": "stderr",
          "text": [
            "Epoch 346/500:   0%|          | 0/4 [00:01<?, ?it/s, loss=0.0789]\n",
            "Epoch 347/500:   0%|          | 0/4 [00:00<?, ?it/s, loss=0.0686]"
          ]
        },
        {
          "output_type": "stream",
          "name": "stdout",
          "text": [
            "Epoch 347/500, Train Loss: 0.0476, Validation Loss: 0.0672, F1 Score: 1.0000, Accuracy: 1.0000\n"
          ]
        },
        {
          "output_type": "stream",
          "name": "stderr",
          "text": [
            "\n",
            "Epoch 347/500:   0%|          | 0/4 [00:01<?, ?it/s, loss=0.0686]\n",
            "\n",
            "Epoch 348/500:   0%|          | 0/4 [00:00<?, ?it/s, loss=0.0658]\u001b[A\n",
            "Epoch 348/500:   0%|          | 0/4 [00:00<?, ?it/s, loss=0.0417]\u001b[A\n",
            "Epoch 348/500:   0%|          | 0/4 [00:00<?, ?it/s, loss=0.046] \u001b[A\n",
            "Epoch 348/500:   0%|          | 0/4 [00:01<?, ?it/s, loss=0.0504]\u001b[A"
          ]
        },
        {
          "output_type": "stream",
          "name": "stdout",
          "text": [
            "Epoch 348/500, Train Loss: 0.0510, Validation Loss: 0.0480, F1 Score: 1.0000, Accuracy: 1.0000\n"
          ]
        },
        {
          "output_type": "stream",
          "name": "stderr",
          "text": [
            "Epoch 348/500:   0%|          | 0/4 [00:01<?, ?it/s, loss=0.0504]\n",
            "Epoch 349/500:   0%|          | 0/4 [00:00<?, ?it/s, loss=0.0319]"
          ]
        },
        {
          "output_type": "stream",
          "name": "stdout",
          "text": [
            "Epoch 349/500, Train Loss: 0.0503, Validation Loss: 0.0496, F1 Score: 1.0000, Accuracy: 1.0000\n"
          ]
        },
        {
          "output_type": "stream",
          "name": "stderr",
          "text": [
            "\n",
            "Epoch 349/500:   0%|          | 0/4 [00:01<?, ?it/s, loss=0.0319]\n",
            "\n",
            "Epoch 350/500:   0%|          | 0/4 [00:00<?, ?it/s, loss=0.0519]\u001b[A\n",
            "Epoch 350/500:   0%|          | 0/4 [00:00<?, ?it/s, loss=0.039] \u001b[A\n",
            "Epoch 350/500:   0%|          | 0/4 [00:00<?, ?it/s, loss=0.0437]\u001b[A\n",
            "Epoch 350/500:   0%|          | 0/4 [00:01<?, ?it/s, loss=0.0551]\u001b[A"
          ]
        },
        {
          "output_type": "stream",
          "name": "stdout",
          "text": [
            "Epoch 350/500, Train Loss: 0.0474, Validation Loss: 0.0497, F1 Score: 1.0000, Accuracy: 1.0000\n"
          ]
        },
        {
          "output_type": "stream",
          "name": "stderr",
          "text": [
            "Epoch 350/500:   0%|          | 0/4 [00:01<?, ?it/s, loss=0.0551]\n",
            "Epoch 351/500:   0%|          | 0/4 [00:01<?, ?it/s, loss=0.0445]"
          ]
        },
        {
          "output_type": "stream",
          "name": "stdout",
          "text": [
            "Epoch 351/500, Train Loss: 0.0708, Validation Loss: 0.0656, F1 Score: 1.0000, Accuracy: 1.0000\n"
          ]
        },
        {
          "output_type": "stream",
          "name": "stderr",
          "text": [
            "\n",
            "Epoch 351/500:   0%|          | 0/4 [00:01<?, ?it/s, loss=0.0445]\n",
            "\n",
            "Epoch 352/500:   0%|          | 0/4 [00:00<?, ?it/s, loss=0.0312]\u001b[A\n",
            "Epoch 352/500:   0%|          | 0/4 [00:00<?, ?it/s, loss=0.0799]\u001b[A\n",
            "Epoch 352/500:   0%|          | 0/4 [00:00<?, ?it/s, loss=0.0471]\u001b[A\n",
            "Epoch 352/500:   0%|          | 0/4 [00:01<?, ?it/s, loss=0.0645]\u001b[A"
          ]
        },
        {
          "output_type": "stream",
          "name": "stdout",
          "text": [
            "Epoch 352/500, Train Loss: 0.0557, Validation Loss: 0.0504, F1 Score: 1.0000, Accuracy: 1.0000\n"
          ]
        },
        {
          "output_type": "stream",
          "name": "stderr",
          "text": [
            "Epoch 352/500:   0%|          | 0/4 [00:01<?, ?it/s, loss=0.0645]\n",
            "Epoch 353/500:   0%|          | 0/4 [00:00<?, ?it/s, loss=0.0485]"
          ]
        },
        {
          "output_type": "stream",
          "name": "stdout",
          "text": [
            "Epoch 353/500, Train Loss: 0.0481, Validation Loss: 0.0623, F1 Score: 1.0000, Accuracy: 1.0000\n"
          ]
        },
        {
          "output_type": "stream",
          "name": "stderr",
          "text": [
            "\n",
            "Epoch 353/500:   0%|          | 0/4 [00:01<?, ?it/s, loss=0.0485]\n",
            "\n",
            "Epoch 354/500:   0%|          | 0/4 [00:00<?, ?it/s, loss=0.0378]\u001b[A\n",
            "Epoch 354/500:   0%|          | 0/4 [00:00<?, ?it/s, loss=0.0653]\u001b[A\n",
            "Epoch 354/500:   0%|          | 0/4 [00:00<?, ?it/s, loss=0.0423]\u001b[A\n",
            "Epoch 354/500:   0%|          | 0/4 [00:00<?, ?it/s, loss=0.0386]\u001b[A"
          ]
        },
        {
          "output_type": "stream",
          "name": "stdout",
          "text": [
            "Epoch 354/500, Train Loss: 0.0460, Validation Loss: 0.0447, F1 Score: 1.0000, Accuracy: 1.0000\n"
          ]
        },
        {
          "output_type": "stream",
          "name": "stderr",
          "text": [
            "Epoch 354/500:   0%|          | 0/4 [00:01<?, ?it/s, loss=0.0386]\n",
            "Epoch 355/500:   0%|          | 0/4 [00:00<?, ?it/s, loss=0.0417]"
          ]
        },
        {
          "output_type": "stream",
          "name": "stdout",
          "text": [
            "Epoch 355/500, Train Loss: 0.0693, Validation Loss: 0.0526, F1 Score: 1.0000, Accuracy: 1.0000\n"
          ]
        },
        {
          "output_type": "stream",
          "name": "stderr",
          "text": [
            "\n",
            "Epoch 355/500:   0%|          | 0/4 [00:01<?, ?it/s, loss=0.0417]\n",
            "\n",
            "Epoch 356/500:   0%|          | 0/4 [00:00<?, ?it/s, loss=0.0378]\u001b[A\n",
            "Epoch 356/500:   0%|          | 0/4 [00:00<?, ?it/s, loss=0.0835]\u001b[A\n",
            "Epoch 356/500:   0%|          | 0/4 [00:00<?, ?it/s, loss=0.0346]\u001b[A\n",
            "Epoch 356/500:   0%|          | 0/4 [00:00<?, ?it/s, loss=0.062] \u001b[A"
          ]
        },
        {
          "output_type": "stream",
          "name": "stdout",
          "text": [
            "Epoch 356/500, Train Loss: 0.0545, Validation Loss: 0.0481, F1 Score: 1.0000, Accuracy: 1.0000\n"
          ]
        },
        {
          "output_type": "stream",
          "name": "stderr",
          "text": [
            "Epoch 356/500:   0%|          | 0/4 [00:01<?, ?it/s, loss=0.062]\n",
            "Epoch 357/500:   0%|          | 0/4 [00:00<?, ?it/s, loss=0.0358]"
          ]
        },
        {
          "output_type": "stream",
          "name": "stdout",
          "text": [
            "Epoch 357/500, Train Loss: 0.0377, Validation Loss: 0.0520, F1 Score: 1.0000, Accuracy: 1.0000\n"
          ]
        },
        {
          "output_type": "stream",
          "name": "stderr",
          "text": [
            "\n",
            "Epoch 357/500:   0%|          | 0/4 [00:01<?, ?it/s, loss=0.0358]\n",
            "\n",
            "Epoch 358/500:   0%|          | 0/4 [00:00<?, ?it/s, loss=0.0368]\u001b[A\n",
            "Epoch 358/500:   0%|          | 0/4 [00:00<?, ?it/s, loss=0.0734]\u001b[A\n",
            "Epoch 358/500:   0%|          | 0/4 [00:00<?, ?it/s, loss=0.0129]\u001b[A\n",
            "Epoch 358/500:   0%|          | 0/4 [00:00<?, ?it/s, loss=0.061] \u001b[A"
          ]
        },
        {
          "output_type": "stream",
          "name": "stdout",
          "text": [
            "Epoch 358/500, Train Loss: 0.0460, Validation Loss: 0.0675, F1 Score: 1.0000, Accuracy: 1.0000\n"
          ]
        },
        {
          "output_type": "stream",
          "name": "stderr",
          "text": [
            "Epoch 358/500:   0%|          | 0/4 [00:01<?, ?it/s, loss=0.061]\n",
            "Epoch 359/500:   0%|          | 0/4 [00:00<?, ?it/s, loss=0.031]"
          ]
        },
        {
          "output_type": "stream",
          "name": "stdout",
          "text": [
            "Epoch 359/500, Train Loss: 0.0575, Validation Loss: 0.0507, F1 Score: 1.0000, Accuracy: 1.0000\n"
          ]
        },
        {
          "output_type": "stream",
          "name": "stderr",
          "text": [
            "\n",
            "Epoch 359/500:   0%|          | 0/4 [00:01<?, ?it/s, loss=0.031]\n",
            "\n",
            "Epoch 360/500:   0%|          | 0/4 [00:00<?, ?it/s, loss=0.0411]\u001b[A\n",
            "Epoch 360/500:   0%|          | 0/4 [00:00<?, ?it/s, loss=0.0831]\u001b[A\n",
            "Epoch 360/500:   0%|          | 0/4 [00:00<?, ?it/s, loss=0.0498]\u001b[A\n",
            "Epoch 360/500:   0%|          | 0/4 [00:00<?, ?it/s, loss=0.05]  \u001b[A"
          ]
        },
        {
          "output_type": "stream",
          "name": "stdout",
          "text": [
            "Epoch 360/500, Train Loss: 0.0560, Validation Loss: 0.0437, F1 Score: 1.0000, Accuracy: 1.0000\n"
          ]
        },
        {
          "output_type": "stream",
          "name": "stderr",
          "text": [
            "Epoch 360/500:   0%|          | 0/4 [00:01<?, ?it/s, loss=0.05]\n",
            "Epoch 361/500:   0%|          | 0/4 [00:01<?, ?it/s, loss=0.0345]"
          ]
        },
        {
          "output_type": "stream",
          "name": "stdout",
          "text": [
            "Epoch 361/500, Train Loss: 0.0463, Validation Loss: 0.0409, F1 Score: 1.0000, Accuracy: 1.0000\n"
          ]
        },
        {
          "output_type": "stream",
          "name": "stderr",
          "text": [
            "\n",
            "Epoch 361/500:   0%|          | 0/4 [00:01<?, ?it/s, loss=0.0345]\n",
            "\n",
            "Epoch 362/500:   0%|          | 0/4 [00:00<?, ?it/s, loss=0.0375]\u001b[A\n",
            "Epoch 362/500:   0%|          | 0/4 [00:00<?, ?it/s, loss=0.0435]\u001b[A\n",
            "Epoch 362/500:   0%|          | 0/4 [00:00<?, ?it/s, loss=0.0403]\u001b[A\n",
            "Epoch 362/500:   0%|          | 0/4 [00:01<?, ?it/s, loss=0.0546]\u001b[A"
          ]
        },
        {
          "output_type": "stream",
          "name": "stdout",
          "text": [
            "Epoch 362/500, Train Loss: 0.0440, Validation Loss: 0.0349, F1 Score: 1.0000, Accuracy: 1.0000\n"
          ]
        },
        {
          "output_type": "stream",
          "name": "stderr",
          "text": [
            "Epoch 362/500:   0%|          | 0/4 [00:01<?, ?it/s, loss=0.0546]\n",
            "Epoch 363/500:   0%|          | 0/4 [00:00<?, ?it/s, loss=0.015] "
          ]
        },
        {
          "output_type": "stream",
          "name": "stdout",
          "text": [
            "Epoch 363/500, Train Loss: 0.0299, Validation Loss: 0.0446, F1 Score: 1.0000, Accuracy: 1.0000\n"
          ]
        },
        {
          "output_type": "stream",
          "name": "stderr",
          "text": [
            "\n",
            "Epoch 363/500:   0%|          | 0/4 [00:01<?, ?it/s, loss=0.015]\n",
            "\n",
            "Epoch 364/500:   0%|          | 0/4 [00:00<?, ?it/s, loss=0.0171]\u001b[A\n",
            "Epoch 364/500:   0%|          | 0/4 [00:00<?, ?it/s, loss=0.101] \u001b[A\n",
            "Epoch 364/500:   0%|          | 0/4 [00:00<?, ?it/s, loss=0.0512]\u001b[A\n",
            "Epoch 364/500:   0%|          | 0/4 [00:00<?, ?it/s, loss=0.0422]\u001b[A"
          ]
        },
        {
          "output_type": "stream",
          "name": "stdout",
          "text": [
            "Epoch 364/500, Train Loss: 0.0528, Validation Loss: 0.0475, F1 Score: 1.0000, Accuracy: 1.0000\n"
          ]
        },
        {
          "output_type": "stream",
          "name": "stderr",
          "text": [
            "Epoch 364/500:   0%|          | 0/4 [00:01<?, ?it/s, loss=0.0422]\n",
            "Epoch 365/500:   0%|          | 0/4 [00:00<?, ?it/s, loss=0.0743]"
          ]
        },
        {
          "output_type": "stream",
          "name": "stdout",
          "text": [
            "Epoch 365/500, Train Loss: 0.0599, Validation Loss: 0.0410, F1 Score: 1.0000, Accuracy: 1.0000\n"
          ]
        },
        {
          "output_type": "stream",
          "name": "stderr",
          "text": [
            "\n",
            "Epoch 365/500:   0%|          | 0/4 [00:01<?, ?it/s, loss=0.0743]\n",
            "\n",
            "Epoch 366/500:   0%|          | 0/4 [00:00<?, ?it/s, loss=0.0313]\u001b[A\n",
            "Epoch 366/500:   0%|          | 0/4 [00:00<?, ?it/s, loss=0.0316]\u001b[A\n",
            "Epoch 366/500:   0%|          | 0/4 [00:00<?, ?it/s, loss=0.0503]\u001b[A\n",
            "Epoch 366/500:   0%|          | 0/4 [00:00<?, ?it/s, loss=0.0168]\u001b[A"
          ]
        },
        {
          "output_type": "stream",
          "name": "stdout",
          "text": [
            "Epoch 366/500, Train Loss: 0.0325, Validation Loss: 0.0380, F1 Score: 1.0000, Accuracy: 1.0000\n"
          ]
        },
        {
          "output_type": "stream",
          "name": "stderr",
          "text": [
            "Epoch 366/500:   0%|          | 0/4 [00:01<?, ?it/s, loss=0.0168]\n",
            "Epoch 367/500:   0%|          | 0/4 [00:00<?, ?it/s, loss=0.0528]"
          ]
        },
        {
          "output_type": "stream",
          "name": "stdout",
          "text": [
            "Epoch 367/500, Train Loss: 0.0424, Validation Loss: 0.0543, F1 Score: 1.0000, Accuracy: 1.0000\n"
          ]
        },
        {
          "output_type": "stream",
          "name": "stderr",
          "text": [
            "\n",
            "Epoch 367/500:   0%|          | 0/4 [00:01<?, ?it/s, loss=0.0528]\n",
            "\n",
            "Epoch 368/500:   0%|          | 0/4 [00:00<?, ?it/s, loss=0.0451]\u001b[A\n",
            "Epoch 368/500:   0%|          | 0/4 [00:00<?, ?it/s, loss=0.0407]\u001b[A\n",
            "Epoch 368/500:   0%|          | 0/4 [00:00<?, ?it/s, loss=0.0241]\u001b[A\n",
            "Epoch 368/500:   0%|          | 0/4 [00:00<?, ?it/s, loss=0.0414]\u001b[A"
          ]
        },
        {
          "output_type": "stream",
          "name": "stdout",
          "text": [
            "Epoch 368/500, Train Loss: 0.0378, Validation Loss: 0.0382, F1 Score: 1.0000, Accuracy: 1.0000\n"
          ]
        },
        {
          "output_type": "stream",
          "name": "stderr",
          "text": [
            "Epoch 368/500:   0%|          | 0/4 [00:01<?, ?it/s, loss=0.0414]\n",
            "Epoch 369/500:   0%|          | 0/4 [00:00<?, ?it/s, loss=0.0696]"
          ]
        },
        {
          "output_type": "stream",
          "name": "stdout",
          "text": [
            "Epoch 369/500, Train Loss: 0.0617, Validation Loss: 0.0544, F1 Score: 1.0000, Accuracy: 1.0000\n"
          ]
        },
        {
          "output_type": "stream",
          "name": "stderr",
          "text": [
            "\n",
            "Epoch 369/500:   0%|          | 0/4 [00:01<?, ?it/s, loss=0.0696]\n",
            "\n",
            "Epoch 370/500:   0%|          | 0/4 [00:00<?, ?it/s, loss=0.0373]\u001b[A\n",
            "Epoch 370/500:   0%|          | 0/4 [00:00<?, ?it/s, loss=0.0442]\u001b[A\n",
            "Epoch 370/500:   0%|          | 0/4 [00:00<?, ?it/s, loss=0.0131]\u001b[A\n",
            "Epoch 370/500:   0%|          | 0/4 [00:01<?, ?it/s, loss=0.0433]\u001b[A"
          ]
        },
        {
          "output_type": "stream",
          "name": "stdout",
          "text": [
            "Epoch 370/500, Train Loss: 0.0345, Validation Loss: 0.0724, F1 Score: 1.0000, Accuracy: 1.0000\n"
          ]
        },
        {
          "output_type": "stream",
          "name": "stderr",
          "text": [
            "Epoch 370/500:   0%|          | 0/4 [00:01<?, ?it/s, loss=0.0433]\n",
            "Epoch 371/500:   0%|          | 0/4 [00:01<?, ?it/s, loss=0.0404]"
          ]
        },
        {
          "output_type": "stream",
          "name": "stdout",
          "text": [
            "Epoch 371/500, Train Loss: 0.0505, Validation Loss: 0.0500, F1 Score: 1.0000, Accuracy: 1.0000\n"
          ]
        },
        {
          "output_type": "stream",
          "name": "stderr",
          "text": [
            "\n",
            "Epoch 371/500:   0%|          | 0/4 [00:01<?, ?it/s, loss=0.0404]\n",
            "\n",
            "Epoch 372/500:   0%|          | 0/4 [00:00<?, ?it/s, loss=0.0416]\u001b[A\n",
            "Epoch 372/500:   0%|          | 0/4 [00:00<?, ?it/s, loss=0.11]  \u001b[A\n",
            "Epoch 372/500:   0%|          | 0/4 [00:00<?, ?it/s, loss=0.0579]\u001b[A\n",
            "Epoch 372/500:   0%|          | 0/4 [00:01<?, ?it/s, loss=0.0312]\u001b[A"
          ]
        },
        {
          "output_type": "stream",
          "name": "stdout",
          "text": [
            "Epoch 372/500, Train Loss: 0.0601, Validation Loss: 0.0602, F1 Score: 1.0000, Accuracy: 1.0000\n"
          ]
        },
        {
          "output_type": "stream",
          "name": "stderr",
          "text": [
            "Epoch 372/500:   0%|          | 0/4 [00:01<?, ?it/s, loss=0.0312]\n",
            "Epoch 373/500:   0%|          | 0/4 [00:01<?, ?it/s, loss=0.0144]"
          ]
        },
        {
          "output_type": "stream",
          "name": "stdout",
          "text": [
            "Epoch 373/500, Train Loss: 0.0506, Validation Loss: 0.0356, F1 Score: 1.0000, Accuracy: 1.0000\n"
          ]
        },
        {
          "output_type": "stream",
          "name": "stderr",
          "text": [
            "\n",
            "Epoch 373/500:   0%|          | 0/4 [00:01<?, ?it/s, loss=0.0144]\n",
            "\n",
            "Epoch 374/500:   0%|          | 0/4 [00:00<?, ?it/s, loss=0.0517]\u001b[A\n",
            "Epoch 374/500:   0%|          | 0/4 [00:00<?, ?it/s, loss=0.134] \u001b[A\n",
            "Epoch 374/500:   0%|          | 0/4 [00:00<?, ?it/s, loss=0.0148]\u001b[A\n",
            "Epoch 374/500:   0%|          | 0/4 [00:00<?, ?it/s, loss=0.0386]\u001b[A"
          ]
        },
        {
          "output_type": "stream",
          "name": "stdout",
          "text": [
            "Epoch 374/500, Train Loss: 0.0597, Validation Loss: 0.0498, F1 Score: 1.0000, Accuracy: 1.0000\n"
          ]
        },
        {
          "output_type": "stream",
          "name": "stderr",
          "text": [
            "Epoch 374/500:   0%|          | 0/4 [00:01<?, ?it/s, loss=0.0386]\n",
            "Epoch 375/500:   0%|          | 0/4 [00:00<?, ?it/s, loss=0.0603]"
          ]
        },
        {
          "output_type": "stream",
          "name": "stdout",
          "text": [
            "Epoch 375/500, Train Loss: 0.0443, Validation Loss: 0.0601, F1 Score: 1.0000, Accuracy: 1.0000\n"
          ]
        },
        {
          "output_type": "stream",
          "name": "stderr",
          "text": [
            "\n",
            "Epoch 375/500:   0%|          | 0/4 [00:01<?, ?it/s, loss=0.0603]\n",
            "\n",
            "Epoch 376/500:   0%|          | 0/4 [00:00<?, ?it/s, loss=0.0295]\u001b[A\n",
            "Epoch 376/500:   0%|          | 0/4 [00:00<?, ?it/s, loss=0.0672]\u001b[A\n",
            "Epoch 376/500:   0%|          | 0/4 [00:00<?, ?it/s, loss=0.043] \u001b[A\n",
            "Epoch 376/500:   0%|          | 0/4 [00:01<?, ?it/s, loss=0.00918]\u001b[A"
          ]
        },
        {
          "output_type": "stream",
          "name": "stdout",
          "text": [
            "Epoch 376/500, Train Loss: 0.0372, Validation Loss: 0.0483, F1 Score: 1.0000, Accuracy: 1.0000\n"
          ]
        },
        {
          "output_type": "stream",
          "name": "stderr",
          "text": [
            "Epoch 376/500:   0%|          | 0/4 [00:01<?, ?it/s, loss=0.00918]\n",
            "Epoch 377/500:   0%|          | 0/4 [00:00<?, ?it/s, loss=0.04]  "
          ]
        },
        {
          "output_type": "stream",
          "name": "stdout",
          "text": [
            "Epoch 377/500, Train Loss: 0.0427, Validation Loss: 0.0512, F1 Score: 1.0000, Accuracy: 1.0000\n"
          ]
        },
        {
          "output_type": "stream",
          "name": "stderr",
          "text": [
            "\n",
            "Epoch 377/500:   0%|          | 0/4 [00:01<?, ?it/s, loss=0.04]\n",
            "\n",
            "Epoch 378/500:   0%|          | 0/4 [00:00<?, ?it/s, loss=0.0406]\u001b[A\n",
            "Epoch 378/500:   0%|          | 0/4 [00:00<?, ?it/s, loss=0.0541]\u001b[A\n",
            "Epoch 378/500:   0%|          | 0/4 [00:00<?, ?it/s, loss=0.0582]\u001b[A\n",
            "Epoch 378/500:   0%|          | 0/4 [00:00<?, ?it/s, loss=0.0378]\u001b[A"
          ]
        },
        {
          "output_type": "stream",
          "name": "stdout",
          "text": [
            "Epoch 378/500, Train Loss: 0.0477, Validation Loss: 0.0589, F1 Score: 1.0000, Accuracy: 1.0000\n"
          ]
        },
        {
          "output_type": "stream",
          "name": "stderr",
          "text": [
            "Epoch 378/500:   0%|          | 0/4 [00:01<?, ?it/s, loss=0.0378]\n",
            "Epoch 379/500:   0%|          | 0/4 [00:00<?, ?it/s, loss=0.0778]"
          ]
        },
        {
          "output_type": "stream",
          "name": "stdout",
          "text": [
            "Epoch 379/500, Train Loss: 0.0669, Validation Loss: 0.0584, F1 Score: 1.0000, Accuracy: 1.0000\n"
          ]
        },
        {
          "output_type": "stream",
          "name": "stderr",
          "text": [
            "\n",
            "Epoch 379/500:   0%|          | 0/4 [00:01<?, ?it/s, loss=0.0778]\n",
            "\n",
            "Epoch 380/500:   0%|          | 0/4 [00:00<?, ?it/s, loss=0.0315]\u001b[A\n",
            "Epoch 380/500:   0%|          | 0/4 [00:00<?, ?it/s, loss=0.0261]\u001b[A\n",
            "Epoch 380/500:   0%|          | 0/4 [00:00<?, ?it/s, loss=0.0186]\u001b[A\n",
            "Epoch 380/500:   0%|          | 0/4 [00:00<?, ?it/s, loss=0.0397]\u001b[A"
          ]
        },
        {
          "output_type": "stream",
          "name": "stdout",
          "text": [
            "Epoch 380/500, Train Loss: 0.0290, Validation Loss: 0.0458, F1 Score: 1.0000, Accuracy: 1.0000\n"
          ]
        },
        {
          "output_type": "stream",
          "name": "stderr",
          "text": [
            "Epoch 380/500:   0%|          | 0/4 [00:01<?, ?it/s, loss=0.0397]\n",
            "Epoch 381/500:   0%|          | 0/4 [00:01<?, ?it/s, loss=0.0254]"
          ]
        },
        {
          "output_type": "stream",
          "name": "stdout",
          "text": [
            "Epoch 381/500, Train Loss: 0.0412, Validation Loss: 0.0659, F1 Score: 1.0000, Accuracy: 1.0000\n"
          ]
        },
        {
          "output_type": "stream",
          "name": "stderr",
          "text": [
            "\n",
            "Epoch 381/500:   0%|          | 0/4 [00:01<?, ?it/s, loss=0.0254]\n",
            "\n",
            "Epoch 382/500:   0%|          | 0/4 [00:00<?, ?it/s, loss=0.0154]\u001b[A\n",
            "Epoch 382/500:   0%|          | 0/4 [00:00<?, ?it/s, loss=0.0703]\u001b[A\n",
            "Epoch 382/500:   0%|          | 0/4 [00:00<?, ?it/s, loss=0.0195]\u001b[A\n",
            "Epoch 382/500:   0%|          | 0/4 [00:01<?, ?it/s, loss=0.0489]\u001b[A"
          ]
        },
        {
          "output_type": "stream",
          "name": "stdout",
          "text": [
            "Epoch 382/500, Train Loss: 0.0385, Validation Loss: 0.0511, F1 Score: 1.0000, Accuracy: 1.0000\n"
          ]
        },
        {
          "output_type": "stream",
          "name": "stderr",
          "text": [
            "Epoch 382/500:   0%|          | 0/4 [00:01<?, ?it/s, loss=0.0489]\n",
            "Epoch 383/500:   0%|          | 0/4 [00:01<?, ?it/s, loss=0.0152]"
          ]
        },
        {
          "output_type": "stream",
          "name": "stdout",
          "text": [
            "Epoch 383/500, Train Loss: 0.0251, Validation Loss: 0.0315, F1 Score: 1.0000, Accuracy: 1.0000\n"
          ]
        },
        {
          "output_type": "stream",
          "name": "stderr",
          "text": [
            "\n",
            "Epoch 383/500:   0%|          | 0/4 [00:01<?, ?it/s, loss=0.0152]\n",
            "\n",
            "Epoch 384/500:   0%|          | 0/4 [00:00<?, ?it/s, loss=0.0489]\u001b[A\n",
            "Epoch 384/500:   0%|          | 0/4 [00:00<?, ?it/s, loss=0.0484]\u001b[A\n",
            "Epoch 384/500:   0%|          | 0/4 [00:00<?, ?it/s, loss=0.0178]\u001b[A\n",
            "Epoch 384/500:   0%|          | 0/4 [00:01<?, ?it/s, loss=0.0462]\u001b[A"
          ]
        },
        {
          "output_type": "stream",
          "name": "stdout",
          "text": [
            "Epoch 384/500, Train Loss: 0.0403, Validation Loss: 0.0683, F1 Score: 1.0000, Accuracy: 1.0000\n"
          ]
        },
        {
          "output_type": "stream",
          "name": "stderr",
          "text": [
            "Epoch 384/500:   0%|          | 0/4 [00:01<?, ?it/s, loss=0.0462]\n",
            "Epoch 385/500:   0%|          | 0/4 [00:00<?, ?it/s, loss=0.0325]"
          ]
        },
        {
          "output_type": "stream",
          "name": "stdout",
          "text": [
            "Epoch 385/500, Train Loss: 0.0406, Validation Loss: 0.0488, F1 Score: 1.0000, Accuracy: 1.0000\n"
          ]
        },
        {
          "output_type": "stream",
          "name": "stderr",
          "text": [
            "\n",
            "Epoch 385/500:   0%|          | 0/4 [00:01<?, ?it/s, loss=0.0325]\n",
            "\n",
            "Epoch 386/500:   0%|          | 0/4 [00:00<?, ?it/s, loss=0.0367]\u001b[A\n",
            "Epoch 386/500:   0%|          | 0/4 [00:00<?, ?it/s, loss=0.0864]\u001b[A\n",
            "Epoch 386/500:   0%|          | 0/4 [00:00<?, ?it/s, loss=0.0369]\u001b[A\n",
            "Epoch 386/500:   0%|          | 0/4 [00:01<?, ?it/s, loss=0.0314]\u001b[A"
          ]
        },
        {
          "output_type": "stream",
          "name": "stdout",
          "text": [
            "Epoch 386/500, Train Loss: 0.0478, Validation Loss: 0.0348, F1 Score: 1.0000, Accuracy: 1.0000\n"
          ]
        },
        {
          "output_type": "stream",
          "name": "stderr",
          "text": [
            "Epoch 386/500:   0%|          | 0/4 [00:01<?, ?it/s, loss=0.0314]\n",
            "Epoch 387/500:   0%|          | 0/4 [00:00<?, ?it/s, loss=0.0232]"
          ]
        },
        {
          "output_type": "stream",
          "name": "stdout",
          "text": [
            "Epoch 387/500, Train Loss: 0.0423, Validation Loss: 0.0312, F1 Score: 1.0000, Accuracy: 1.0000\n"
          ]
        },
        {
          "output_type": "stream",
          "name": "stderr",
          "text": [
            "\n",
            "Epoch 387/500:   0%|          | 0/4 [00:01<?, ?it/s, loss=0.0232]\n",
            "\n",
            "Epoch 388/500:   0%|          | 0/4 [00:00<?, ?it/s, loss=0.0281]\u001b[A\n",
            "Epoch 388/500:   0%|          | 0/4 [00:00<?, ?it/s, loss=0.0449]\u001b[A\n",
            "Epoch 388/500:   0%|          | 0/4 [00:00<?, ?it/s, loss=0.0133]\u001b[A\n",
            "Epoch 388/500:   0%|          | 0/4 [00:01<?, ?it/s, loss=0.00874]\u001b[A"
          ]
        },
        {
          "output_type": "stream",
          "name": "stdout",
          "text": [
            "Epoch 388/500, Train Loss: 0.0238, Validation Loss: 0.0390, F1 Score: 1.0000, Accuracy: 1.0000\n"
          ]
        },
        {
          "output_type": "stream",
          "name": "stderr",
          "text": [
            "Epoch 388/500:   0%|          | 0/4 [00:01<?, ?it/s, loss=0.00874]\n",
            "Epoch 389/500:   0%|          | 0/4 [00:00<?, ?it/s, loss=0.0277]"
          ]
        },
        {
          "output_type": "stream",
          "name": "stdout",
          "text": [
            "Epoch 389/500, Train Loss: 0.0292, Validation Loss: 0.0321, F1 Score: 1.0000, Accuracy: 1.0000\n"
          ]
        },
        {
          "output_type": "stream",
          "name": "stderr",
          "text": [
            "\n",
            "Epoch 389/500:   0%|          | 0/4 [00:01<?, ?it/s, loss=0.0277]\n",
            "\n",
            "Epoch 390/500:   0%|          | 0/4 [00:00<?, ?it/s, loss=0.0196]\u001b[A\n",
            "Epoch 390/500:   0%|          | 0/4 [00:00<?, ?it/s, loss=0.0749]\u001b[A\n",
            "Epoch 390/500:   0%|          | 0/4 [00:00<?, ?it/s, loss=0.0433]\u001b[A\n",
            "Epoch 390/500:   0%|          | 0/4 [00:01<?, ?it/s, loss=0.047] \u001b[A"
          ]
        },
        {
          "output_type": "stream",
          "name": "stdout",
          "text": [
            "Epoch 390/500, Train Loss: 0.0462, Validation Loss: 0.0494, F1 Score: 1.0000, Accuracy: 1.0000\n"
          ]
        },
        {
          "output_type": "stream",
          "name": "stderr",
          "text": [
            "Epoch 390/500:   0%|          | 0/4 [00:01<?, ?it/s, loss=0.047]\n",
            "Epoch 391/500:   0%|          | 0/4 [00:01<?, ?it/s, loss=0.0248]"
          ]
        },
        {
          "output_type": "stream",
          "name": "stdout",
          "text": [
            "Epoch 391/500, Train Loss: 0.0612, Validation Loss: 0.0477, F1 Score: 1.0000, Accuracy: 1.0000\n"
          ]
        },
        {
          "output_type": "stream",
          "name": "stderr",
          "text": [
            "\n",
            "Epoch 391/500:   0%|          | 0/4 [00:01<?, ?it/s, loss=0.0248]\n",
            "\n",
            "Epoch 392/500:   0%|          | 0/4 [00:00<?, ?it/s, loss=0.0268]\u001b[A\n",
            "Epoch 392/500:   0%|          | 0/4 [00:00<?, ?it/s, loss=0.115] \u001b[A\n",
            "Epoch 392/500:   0%|          | 0/4 [00:00<?, ?it/s, loss=0.0323]\u001b[A\n",
            "Epoch 392/500:   0%|          | 0/4 [00:01<?, ?it/s, loss=0.0548]\u001b[A"
          ]
        },
        {
          "output_type": "stream",
          "name": "stdout",
          "text": [
            "Epoch 392/500, Train Loss: 0.0571, Validation Loss: 0.0427, F1 Score: 1.0000, Accuracy: 1.0000\n"
          ]
        },
        {
          "output_type": "stream",
          "name": "stderr",
          "text": [
            "Epoch 392/500:   0%|          | 0/4 [00:01<?, ?it/s, loss=0.0548]\n",
            "Epoch 393/500:   0%|          | 0/4 [00:01<?, ?it/s, loss=0.0528]"
          ]
        },
        {
          "output_type": "stream",
          "name": "stdout",
          "text": [
            "Epoch 393/500, Train Loss: 0.0396, Validation Loss: 0.0626, F1 Score: 1.0000, Accuracy: 1.0000\n"
          ]
        },
        {
          "output_type": "stream",
          "name": "stderr",
          "text": [
            "\n",
            "Epoch 393/500:   0%|          | 0/4 [00:01<?, ?it/s, loss=0.0528]\n",
            "\n",
            "Epoch 394/500:   0%|          | 0/4 [00:00<?, ?it/s, loss=0.0132]\u001b[A\n",
            "Epoch 394/500:   0%|          | 0/4 [00:00<?, ?it/s, loss=0.0545]\u001b[A\n",
            "Epoch 394/500:   0%|          | 0/4 [00:00<?, ?it/s, loss=0.032] \u001b[A\n",
            "Epoch 394/500:   0%|          | 0/4 [00:00<?, ?it/s, loss=0.042]\u001b[A"
          ]
        },
        {
          "output_type": "stream",
          "name": "stdout",
          "text": [
            "Epoch 394/500, Train Loss: 0.0354, Validation Loss: 0.0602, F1 Score: 1.0000, Accuracy: 1.0000\n"
          ]
        },
        {
          "output_type": "stream",
          "name": "stderr",
          "text": [
            "Epoch 394/500:   0%|          | 0/4 [00:01<?, ?it/s, loss=0.042]\n",
            "Epoch 395/500:   0%|          | 0/4 [00:00<?, ?it/s, loss=0.0585]"
          ]
        },
        {
          "output_type": "stream",
          "name": "stdout",
          "text": [
            "Epoch 395/500, Train Loss: 0.0537, Validation Loss: 0.0401, F1 Score: 1.0000, Accuracy: 1.0000\n"
          ]
        },
        {
          "output_type": "stream",
          "name": "stderr",
          "text": [
            "\n",
            "Epoch 395/500:   0%|          | 0/4 [00:01<?, ?it/s, loss=0.0585]\n",
            "\n",
            "Epoch 396/500:   0%|          | 0/4 [00:00<?, ?it/s, loss=0.0514]\u001b[A\n",
            "Epoch 396/500:   0%|          | 0/4 [00:00<?, ?it/s, loss=0.0784]\u001b[A\n",
            "Epoch 396/500:   0%|          | 0/4 [00:00<?, ?it/s, loss=0.0748]\u001b[A\n",
            "Epoch 396/500:   0%|          | 0/4 [00:01<?, ?it/s, loss=0.0376]\u001b[A"
          ]
        },
        {
          "output_type": "stream",
          "name": "stdout",
          "text": [
            "Epoch 396/500, Train Loss: 0.0606, Validation Loss: 0.0416, F1 Score: 1.0000, Accuracy: 1.0000\n"
          ]
        },
        {
          "output_type": "stream",
          "name": "stderr",
          "text": [
            "Epoch 396/500:   0%|          | 0/4 [00:01<?, ?it/s, loss=0.0376]\n",
            "Epoch 397/500:   0%|          | 0/4 [00:00<?, ?it/s, loss=0.0296]"
          ]
        },
        {
          "output_type": "stream",
          "name": "stdout",
          "text": [
            "Epoch 397/500, Train Loss: 0.0389, Validation Loss: 0.0381, F1 Score: 1.0000, Accuracy: 1.0000\n"
          ]
        },
        {
          "output_type": "stream",
          "name": "stderr",
          "text": [
            "\n",
            "Epoch 397/500:   0%|          | 0/4 [00:01<?, ?it/s, loss=0.0296]\n",
            "\n",
            "Epoch 398/500:   0%|          | 0/4 [00:00<?, ?it/s, loss=0.0327]\u001b[A\n",
            "Epoch 398/500:   0%|          | 0/4 [00:00<?, ?it/s, loss=0.0547]\u001b[A\n",
            "Epoch 398/500:   0%|          | 0/4 [00:00<?, ?it/s, loss=0.0318]\u001b[A\n",
            "Epoch 398/500:   0%|          | 0/4 [00:00<?, ?it/s, loss=0.0314]\u001b[A"
          ]
        },
        {
          "output_type": "stream",
          "name": "stdout",
          "text": [
            "Epoch 398/500, Train Loss: 0.0377, Validation Loss: 0.0528, F1 Score: 1.0000, Accuracy: 1.0000\n"
          ]
        },
        {
          "output_type": "stream",
          "name": "stderr",
          "text": [
            "Epoch 398/500:   0%|          | 0/4 [00:01<?, ?it/s, loss=0.0314]\n",
            "Epoch 399/500:   0%|          | 0/4 [00:00<?, ?it/s, loss=0.0204]"
          ]
        },
        {
          "output_type": "stream",
          "name": "stdout",
          "text": [
            "Epoch 399/500, Train Loss: 0.0258, Validation Loss: 0.0358, F1 Score: 1.0000, Accuracy: 1.0000\n"
          ]
        },
        {
          "output_type": "stream",
          "name": "stderr",
          "text": [
            "\n",
            "Epoch 399/500:   0%|          | 0/4 [00:01<?, ?it/s, loss=0.0204]\n",
            "\n",
            "Epoch 400/500:   0%|          | 0/4 [00:00<?, ?it/s, loss=0.0172]\u001b[A\n",
            "Epoch 400/500:   0%|          | 0/4 [00:00<?, ?it/s, loss=0.055] \u001b[A\n",
            "Epoch 400/500:   0%|          | 0/4 [00:00<?, ?it/s, loss=0.0561]\u001b[A\n",
            "Epoch 400/500:   0%|          | 0/4 [00:01<?, ?it/s, loss=0.0244]\u001b[A"
          ]
        },
        {
          "output_type": "stream",
          "name": "stdout",
          "text": [
            "Epoch 400/500, Train Loss: 0.0382, Validation Loss: 0.0491, F1 Score: 1.0000, Accuracy: 1.0000\n"
          ]
        },
        {
          "output_type": "stream",
          "name": "stderr",
          "text": [
            "Epoch 400/500:   0%|          | 0/4 [00:01<?, ?it/s, loss=0.0244]\n",
            "Epoch 401/500:   0%|          | 0/4 [00:01<?, ?it/s, loss=0.058] "
          ]
        },
        {
          "output_type": "stream",
          "name": "stdout",
          "text": [
            "Epoch 401/500, Train Loss: 0.0502, Validation Loss: 0.0491, F1 Score: 1.0000, Accuracy: 1.0000\n"
          ]
        },
        {
          "output_type": "stream",
          "name": "stderr",
          "text": [
            "\n",
            "Epoch 401/500:   0%|          | 0/4 [00:01<?, ?it/s, loss=0.058]\n",
            "\n",
            "Epoch 402/500:   0%|          | 0/4 [00:00<?, ?it/s, loss=0.0261]\u001b[A\n",
            "Epoch 402/500:   0%|          | 0/4 [00:00<?, ?it/s, loss=0.052] \u001b[A\n",
            "Epoch 402/500:   0%|          | 0/4 [00:00<?, ?it/s, loss=0.0139]\u001b[A\n",
            "Epoch 402/500:   0%|          | 0/4 [00:01<?, ?it/s, loss=0.0303]\u001b[A"
          ]
        },
        {
          "output_type": "stream",
          "name": "stdout",
          "text": [
            "Epoch 402/500, Train Loss: 0.0306, Validation Loss: 0.0494, F1 Score: 1.0000, Accuracy: 1.0000\n"
          ]
        },
        {
          "output_type": "stream",
          "name": "stderr",
          "text": [
            "Epoch 402/500:   0%|          | 0/4 [00:01<?, ?it/s, loss=0.0303]\n",
            "Epoch 403/500:   0%|          | 0/4 [00:01<?, ?it/s, loss=0.0424]"
          ]
        },
        {
          "output_type": "stream",
          "name": "stdout",
          "text": [
            "Epoch 403/500, Train Loss: 0.0505, Validation Loss: 0.0432, F1 Score: 1.0000, Accuracy: 1.0000\n"
          ]
        },
        {
          "output_type": "stream",
          "name": "stderr",
          "text": [
            "\n",
            "Epoch 403/500:   0%|          | 0/4 [00:01<?, ?it/s, loss=0.0424]\n",
            "\n",
            "Epoch 404/500:   0%|          | 0/4 [00:00<?, ?it/s, loss=0.0295]\u001b[A\n",
            "Epoch 404/500:   0%|          | 0/4 [00:00<?, ?it/s, loss=0.0454]\u001b[A\n",
            "Epoch 404/500:   0%|          | 0/4 [00:00<?, ?it/s, loss=0.0509]\u001b[A\n",
            "Epoch 404/500:   0%|          | 0/4 [00:01<?, ?it/s, loss=0.0306]\u001b[A"
          ]
        },
        {
          "output_type": "stream",
          "name": "stdout",
          "text": [
            "Epoch 404/500, Train Loss: 0.0391, Validation Loss: 0.0370, F1 Score: 1.0000, Accuracy: 1.0000\n"
          ]
        },
        {
          "output_type": "stream",
          "name": "stderr",
          "text": [
            "Epoch 404/500:   0%|          | 0/4 [00:01<?, ?it/s, loss=0.0306]\n",
            "Epoch 405/500:   0%|          | 0/4 [00:00<?, ?it/s, loss=0.0373]"
          ]
        },
        {
          "output_type": "stream",
          "name": "stdout",
          "text": [
            "Epoch 405/500, Train Loss: 0.0407, Validation Loss: 0.0512, F1 Score: 1.0000, Accuracy: 1.0000\n"
          ]
        },
        {
          "output_type": "stream",
          "name": "stderr",
          "text": [
            "\n",
            "Epoch 405/500:   0%|          | 0/4 [00:01<?, ?it/s, loss=0.0373]\n",
            "\n",
            "Epoch 406/500:   0%|          | 0/4 [00:00<?, ?it/s, loss=0.0288]\u001b[A\n",
            "Epoch 406/500:   0%|          | 0/4 [00:00<?, ?it/s, loss=0.0871]\u001b[A\n",
            "Epoch 406/500:   0%|          | 0/4 [00:00<?, ?it/s, loss=0.0328]\u001b[A\n",
            "Epoch 406/500:   0%|          | 0/4 [00:01<?, ?it/s, loss=0.0224]\u001b[A"
          ]
        },
        {
          "output_type": "stream",
          "name": "stdout",
          "text": [
            "Epoch 406/500, Train Loss: 0.0428, Validation Loss: 0.0366, F1 Score: 1.0000, Accuracy: 1.0000\n"
          ]
        },
        {
          "output_type": "stream",
          "name": "stderr",
          "text": [
            "Epoch 406/500:   0%|          | 0/4 [00:01<?, ?it/s, loss=0.0224]\n",
            "Epoch 407/500:   0%|          | 0/4 [00:00<?, ?it/s, loss=0.037] "
          ]
        },
        {
          "output_type": "stream",
          "name": "stdout",
          "text": [
            "Epoch 407/500, Train Loss: 0.0453, Validation Loss: 0.0441, F1 Score: 1.0000, Accuracy: 1.0000\n"
          ]
        },
        {
          "output_type": "stream",
          "name": "stderr",
          "text": [
            "\n",
            "Epoch 407/500:   0%|          | 0/4 [00:01<?, ?it/s, loss=0.037]\n",
            "\n",
            "Epoch 408/500:   0%|          | 0/4 [00:00<?, ?it/s, loss=0.0465]\u001b[A\n",
            "Epoch 408/500:   0%|          | 0/4 [00:00<?, ?it/s, loss=0.0714]\u001b[A\n",
            "Epoch 408/500:   0%|          | 0/4 [00:00<?, ?it/s, loss=0.0756]\u001b[A\n",
            "Epoch 408/500:   0%|          | 0/4 [00:01<?, ?it/s, loss=0.0371]\u001b[A"
          ]
        },
        {
          "output_type": "stream",
          "name": "stdout",
          "text": [
            "Epoch 408/500, Train Loss: 0.0577, Validation Loss: 0.0385, F1 Score: 1.0000, Accuracy: 1.0000\n"
          ]
        },
        {
          "output_type": "stream",
          "name": "stderr",
          "text": [
            "Epoch 408/500:   0%|          | 0/4 [00:01<?, ?it/s, loss=0.0371]\n",
            "Epoch 409/500:   0%|          | 0/4 [00:00<?, ?it/s, loss=0.0568]"
          ]
        },
        {
          "output_type": "stream",
          "name": "stdout",
          "text": [
            "Epoch 409/500, Train Loss: 0.0435, Validation Loss: 0.0945, F1 Score: 0.9501, Accuracy: 0.9500\n"
          ]
        },
        {
          "output_type": "stream",
          "name": "stderr",
          "text": [
            "\n",
            "Epoch 409/500:   0%|          | 0/4 [00:01<?, ?it/s, loss=0.0568]\n",
            "\n",
            "Epoch 410/500:   0%|          | 0/4 [00:00<?, ?it/s, loss=0.0385]\u001b[A\n",
            "Epoch 410/500:   0%|          | 0/4 [00:00<?, ?it/s, loss=0.0437]\u001b[A\n",
            "Epoch 410/500:   0%|          | 0/4 [00:00<?, ?it/s, loss=0.0194]\u001b[A\n",
            "Epoch 410/500:   0%|          | 0/4 [00:01<?, ?it/s, loss=0.0408]\u001b[A"
          ]
        },
        {
          "output_type": "stream",
          "name": "stdout",
          "text": [
            "Epoch 410/500, Train Loss: 0.0356, Validation Loss: 0.0366, F1 Score: 1.0000, Accuracy: 1.0000\n"
          ]
        },
        {
          "output_type": "stream",
          "name": "stderr",
          "text": [
            "Epoch 410/500:   0%|          | 0/4 [00:01<?, ?it/s, loss=0.0408]\n",
            "Epoch 411/500:   0%|          | 0/4 [00:00<?, ?it/s, loss=0.0409]"
          ]
        },
        {
          "output_type": "stream",
          "name": "stdout",
          "text": [
            "Epoch 411/500, Train Loss: 0.0404, Validation Loss: 0.0338, F1 Score: 1.0000, Accuracy: 1.0000\n"
          ]
        },
        {
          "output_type": "stream",
          "name": "stderr",
          "text": [
            "\n",
            "Epoch 411/500:   0%|          | 0/4 [00:01<?, ?it/s, loss=0.0409]\n",
            "\n",
            "Epoch 412/500:   0%|          | 0/4 [00:00<?, ?it/s, loss=0.0439]\u001b[A\n",
            "Epoch 412/500:   0%|          | 0/4 [00:00<?, ?it/s, loss=0.103] \u001b[A\n",
            "Epoch 412/500:   0%|          | 0/4 [00:00<?, ?it/s, loss=0.0488]\u001b[A\n",
            "Epoch 412/500:   0%|          | 0/4 [00:01<?, ?it/s, loss=0.0679]\u001b[A"
          ]
        },
        {
          "output_type": "stream",
          "name": "stdout",
          "text": [
            "Epoch 412/500, Train Loss: 0.0659, Validation Loss: 0.0380, F1 Score: 1.0000, Accuracy: 1.0000\n"
          ]
        },
        {
          "output_type": "stream",
          "name": "stderr",
          "text": [
            "Epoch 412/500:   0%|          | 0/4 [00:01<?, ?it/s, loss=0.0679]\n",
            "Epoch 413/500:   0%|          | 0/4 [00:01<?, ?it/s, loss=0.00709]"
          ]
        },
        {
          "output_type": "stream",
          "name": "stdout",
          "text": [
            "Epoch 413/500, Train Loss: 0.0209, Validation Loss: 0.0559, F1 Score: 1.0000, Accuracy: 1.0000\n"
          ]
        },
        {
          "output_type": "stream",
          "name": "stderr",
          "text": [
            "\n",
            "Epoch 413/500:   0%|          | 0/4 [00:01<?, ?it/s, loss=0.00709]\n",
            "\n",
            "Epoch 414/500:   0%|          | 0/4 [00:00<?, ?it/s, loss=0.0164]\u001b[A\n",
            "Epoch 414/500:   0%|          | 0/4 [00:00<?, ?it/s, loss=0.0493]\u001b[A\n",
            "Epoch 414/500:   0%|          | 0/4 [00:00<?, ?it/s, loss=0.0553]\u001b[A\n",
            "Epoch 414/500:   0%|          | 0/4 [00:00<?, ?it/s, loss=0.0535]\u001b[A"
          ]
        },
        {
          "output_type": "stream",
          "name": "stdout",
          "text": [
            "Epoch 414/500, Train Loss: 0.0436, Validation Loss: 0.0701, F1 Score: 1.0000, Accuracy: 1.0000\n"
          ]
        },
        {
          "output_type": "stream",
          "name": "stderr",
          "text": [
            "Epoch 414/500:   0%|          | 0/4 [00:01<?, ?it/s, loss=0.0535]\n",
            "Epoch 415/500:   0%|          | 0/4 [00:00<?, ?it/s, loss=0.0208]"
          ]
        },
        {
          "output_type": "stream",
          "name": "stdout",
          "text": [
            "Epoch 415/500, Train Loss: 0.0367, Validation Loss: 0.0512, F1 Score: 1.0000, Accuracy: 1.0000\n"
          ]
        },
        {
          "output_type": "stream",
          "name": "stderr",
          "text": [
            "\n",
            "Epoch 415/500:   0%|          | 0/4 [00:01<?, ?it/s, loss=0.0208]\n",
            "\n",
            "Epoch 416/500:   0%|          | 0/4 [00:00<?, ?it/s, loss=0.0342]\u001b[A\n",
            "Epoch 416/500:   0%|          | 0/4 [00:00<?, ?it/s, loss=0.0449]\u001b[A\n",
            "Epoch 416/500:   0%|          | 0/4 [00:00<?, ?it/s, loss=0.0284]\u001b[A\n",
            "Epoch 416/500:   0%|          | 0/4 [00:01<?, ?it/s, loss=0.0333]\u001b[A"
          ]
        },
        {
          "output_type": "stream",
          "name": "stdout",
          "text": [
            "Epoch 416/500, Train Loss: 0.0352, Validation Loss: 0.0316, F1 Score: 1.0000, Accuracy: 1.0000\n"
          ]
        },
        {
          "output_type": "stream",
          "name": "stderr",
          "text": [
            "Epoch 416/500:   0%|          | 0/4 [00:01<?, ?it/s, loss=0.0333]\n",
            "Epoch 417/500:   0%|          | 0/4 [00:00<?, ?it/s, loss=0.0252]"
          ]
        },
        {
          "output_type": "stream",
          "name": "stdout",
          "text": [
            "Epoch 417/500, Train Loss: 0.0318, Validation Loss: 0.0285, F1 Score: 1.0000, Accuracy: 1.0000\n"
          ]
        },
        {
          "output_type": "stream",
          "name": "stderr",
          "text": [
            "\n",
            "Epoch 417/500:   0%|          | 0/4 [00:01<?, ?it/s, loss=0.0252]\n",
            "\n",
            "Epoch 418/500:   0%|          | 0/4 [00:00<?, ?it/s, loss=0.0279]\u001b[A\n",
            "Epoch 418/500:   0%|          | 0/4 [00:00<?, ?it/s, loss=0.0527]\u001b[A\n",
            "Epoch 418/500:   0%|          | 0/4 [00:00<?, ?it/s, loss=0.0454]\u001b[A\n",
            "Epoch 418/500:   0%|          | 0/4 [00:00<?, ?it/s, loss=0.0153]\u001b[A"
          ]
        },
        {
          "output_type": "stream",
          "name": "stdout",
          "text": [
            "Epoch 418/500, Train Loss: 0.0353, Validation Loss: 0.0701, F1 Score: 1.0000, Accuracy: 1.0000\n"
          ]
        },
        {
          "output_type": "stream",
          "name": "stderr",
          "text": [
            "Epoch 418/500:   0%|          | 0/4 [00:01<?, ?it/s, loss=0.0153]\n",
            "Epoch 419/500:   0%|          | 0/4 [00:00<?, ?it/s, loss=0.0579]"
          ]
        },
        {
          "output_type": "stream",
          "name": "stdout",
          "text": [
            "Epoch 419/500, Train Loss: 0.0394, Validation Loss: 0.0675, F1 Score: 1.0000, Accuracy: 1.0000\n"
          ]
        },
        {
          "output_type": "stream",
          "name": "stderr",
          "text": [
            "\n",
            "Epoch 419/500:   0%|          | 0/4 [00:01<?, ?it/s, loss=0.0579]\n",
            "\n",
            "Epoch 420/500:   0%|          | 0/4 [00:00<?, ?it/s, loss=0.0299]\u001b[A\n",
            "Epoch 420/500:   0%|          | 0/4 [00:00<?, ?it/s, loss=0.0692]\u001b[A\n",
            "Epoch 420/500:   0%|          | 0/4 [00:00<?, ?it/s, loss=0.0753]\u001b[A\n",
            "Epoch 420/500:   0%|          | 0/4 [00:00<?, ?it/s, loss=0.0428]\u001b[A"
          ]
        },
        {
          "output_type": "stream",
          "name": "stdout",
          "text": [
            "Epoch 420/500, Train Loss: 0.0543, Validation Loss: 0.0424, F1 Score: 1.0000, Accuracy: 1.0000\n"
          ]
        },
        {
          "output_type": "stream",
          "name": "stderr",
          "text": [
            "Epoch 420/500:   0%|          | 0/4 [00:01<?, ?it/s, loss=0.0428]\n",
            "Epoch 421/500:   0%|          | 0/4 [00:00<?, ?it/s, loss=0.0146]"
          ]
        },
        {
          "output_type": "stream",
          "name": "stdout",
          "text": [
            "Epoch 421/500, Train Loss: 0.0342, Validation Loss: 0.0405, F1 Score: 1.0000, Accuracy: 1.0000\n"
          ]
        },
        {
          "output_type": "stream",
          "name": "stderr",
          "text": [
            "\n",
            "Epoch 421/500:   0%|          | 0/4 [00:01<?, ?it/s, loss=0.0146]\n",
            "\n",
            "Epoch 422/500:   0%|          | 0/4 [00:00<?, ?it/s, loss=0.0501]\u001b[A\n",
            "Epoch 422/500:   0%|          | 0/4 [00:00<?, ?it/s, loss=0.0465]\u001b[A\n",
            "Epoch 422/500:   0%|          | 0/4 [00:00<?, ?it/s, loss=0.0313]\u001b[A\n",
            "Epoch 422/500:   0%|          | 0/4 [00:01<?, ?it/s, loss=0.0438]\u001b[A"
          ]
        },
        {
          "output_type": "stream",
          "name": "stdout",
          "text": [
            "Epoch 422/500, Train Loss: 0.0429, Validation Loss: 0.0330, F1 Score: 1.0000, Accuracy: 1.0000\n"
          ]
        },
        {
          "output_type": "stream",
          "name": "stderr",
          "text": [
            "Epoch 422/500:   0%|          | 0/4 [00:01<?, ?it/s, loss=0.0438]\n",
            "Epoch 423/500:   0%|          | 0/4 [00:01<?, ?it/s, loss=0.0426]"
          ]
        },
        {
          "output_type": "stream",
          "name": "stdout",
          "text": [
            "Epoch 423/500, Train Loss: 0.0438, Validation Loss: 0.0745, F1 Score: 1.0000, Accuracy: 1.0000\n"
          ]
        },
        {
          "output_type": "stream",
          "name": "stderr",
          "text": [
            "\n",
            "Epoch 423/500:   0%|          | 0/4 [00:01<?, ?it/s, loss=0.0426]\n",
            "\n",
            "Epoch 424/500:   0%|          | 0/4 [00:00<?, ?it/s, loss=0.031]\u001b[A\n",
            "Epoch 424/500:   0%|          | 0/4 [00:00<?, ?it/s, loss=0.0529]\u001b[A\n",
            "Epoch 424/500:   0%|          | 0/4 [00:00<?, ?it/s, loss=0.0177]\u001b[A\n",
            "Epoch 424/500:   0%|          | 0/4 [00:01<?, ?it/s, loss=0.0288]\u001b[A"
          ]
        },
        {
          "output_type": "stream",
          "name": "stdout",
          "text": [
            "Epoch 424/500, Train Loss: 0.0326, Validation Loss: 0.0355, F1 Score: 1.0000, Accuracy: 1.0000\n"
          ]
        },
        {
          "output_type": "stream",
          "name": "stderr",
          "text": [
            "Epoch 424/500:   0%|          | 0/4 [00:01<?, ?it/s, loss=0.0288]\n",
            "Epoch 425/500:   0%|          | 0/4 [00:00<?, ?it/s, loss=0.03]  "
          ]
        },
        {
          "output_type": "stream",
          "name": "stdout",
          "text": [
            "Epoch 425/500, Train Loss: 0.0321, Validation Loss: 0.0320, F1 Score: 1.0000, Accuracy: 1.0000\n"
          ]
        },
        {
          "output_type": "stream",
          "name": "stderr",
          "text": [
            "\n",
            "Epoch 425/500:   0%|          | 0/4 [00:01<?, ?it/s, loss=0.03]\n",
            "\n",
            "Epoch 426/500:   0%|          | 0/4 [00:00<?, ?it/s, loss=0.0377]\u001b[A\n",
            "Epoch 426/500:   0%|          | 0/4 [00:00<?, ?it/s, loss=0.0347]\u001b[A\n",
            "Epoch 426/500:   0%|          | 0/4 [00:00<?, ?it/s, loss=0.0329]\u001b[A\n",
            "Epoch 426/500:   0%|          | 0/4 [00:00<?, ?it/s, loss=0.0285]\u001b[A"
          ]
        },
        {
          "output_type": "stream",
          "name": "stdout",
          "text": [
            "Epoch 426/500, Train Loss: 0.0334, Validation Loss: 0.0374, F1 Score: 1.0000, Accuracy: 1.0000\n"
          ]
        },
        {
          "output_type": "stream",
          "name": "stderr",
          "text": [
            "Epoch 426/500:   0%|          | 0/4 [00:01<?, ?it/s, loss=0.0285]\n",
            "Epoch 427/500:   0%|          | 0/4 [00:00<?, ?it/s, loss=0.0141]"
          ]
        },
        {
          "output_type": "stream",
          "name": "stdout",
          "text": [
            "Epoch 427/500, Train Loss: 0.0333, Validation Loss: 0.0311, F1 Score: 1.0000, Accuracy: 1.0000\n"
          ]
        },
        {
          "output_type": "stream",
          "name": "stderr",
          "text": [
            "\n",
            "Epoch 427/500:   0%|          | 0/4 [00:01<?, ?it/s, loss=0.0141]\n",
            "\n",
            "Epoch 428/500:   0%|          | 0/4 [00:00<?, ?it/s, loss=0.0238]\u001b[A\n",
            "Epoch 428/500:   0%|          | 0/4 [00:00<?, ?it/s, loss=0.104] \u001b[A\n",
            "Epoch 428/500:   0%|          | 0/4 [00:00<?, ?it/s, loss=0.0256]\u001b[A\n",
            "Epoch 428/500:   0%|          | 0/4 [00:01<?, ?it/s, loss=0.0418]\u001b[A"
          ]
        },
        {
          "output_type": "stream",
          "name": "stdout",
          "text": [
            "Epoch 428/500, Train Loss: 0.0488, Validation Loss: 0.0455, F1 Score: 1.0000, Accuracy: 1.0000\n"
          ]
        },
        {
          "output_type": "stream",
          "name": "stderr",
          "text": [
            "Epoch 428/500:   0%|          | 0/4 [00:01<?, ?it/s, loss=0.0418]\n",
            "Epoch 429/500:   0%|          | 0/4 [00:00<?, ?it/s, loss=0.0344]"
          ]
        },
        {
          "output_type": "stream",
          "name": "stdout",
          "text": [
            "Epoch 429/500, Train Loss: 0.0498, Validation Loss: 0.0238, F1 Score: 1.0000, Accuracy: 1.0000\n"
          ]
        },
        {
          "output_type": "stream",
          "name": "stderr",
          "text": [
            "\n",
            "Epoch 429/500:   0%|          | 0/4 [00:01<?, ?it/s, loss=0.0344]\n",
            "\n",
            "Epoch 430/500:   0%|          | 0/4 [00:00<?, ?it/s, loss=0.0384]\u001b[A\n",
            "Epoch 430/500:   0%|          | 0/4 [00:00<?, ?it/s, loss=0.0565]\u001b[A\n",
            "Epoch 430/500:   0%|          | 0/4 [00:00<?, ?it/s, loss=0.035] \u001b[A\n",
            "Epoch 430/500:   0%|          | 0/4 [00:00<?, ?it/s, loss=0.0195]\u001b[A"
          ]
        },
        {
          "output_type": "stream",
          "name": "stdout",
          "text": [
            "Epoch 430/500, Train Loss: 0.0373, Validation Loss: 0.0649, F1 Score: 1.0000, Accuracy: 1.0000\n"
          ]
        },
        {
          "output_type": "stream",
          "name": "stderr",
          "text": [
            "Epoch 430/500:   0%|          | 0/4 [00:01<?, ?it/s, loss=0.0195]\n",
            "Epoch 431/500:   0%|          | 0/4 [00:00<?, ?it/s, loss=0.0425]"
          ]
        },
        {
          "output_type": "stream",
          "name": "stdout",
          "text": [
            "Epoch 431/500, Train Loss: 0.0432, Validation Loss: 0.0412, F1 Score: 1.0000, Accuracy: 1.0000\n"
          ]
        },
        {
          "output_type": "stream",
          "name": "stderr",
          "text": [
            "\n",
            "Epoch 431/500:   0%|          | 0/4 [00:01<?, ?it/s, loss=0.0425]\n",
            "\n",
            "Epoch 432/500:   0%|          | 0/4 [00:00<?, ?it/s, loss=0.0354]\u001b[A\n",
            "Epoch 432/500:   0%|          | 0/4 [00:00<?, ?it/s, loss=0.0451]\u001b[A\n",
            "Epoch 432/500:   0%|          | 0/4 [00:00<?, ?it/s, loss=0.0262]\u001b[A\n",
            "Epoch 432/500:   0%|          | 0/4 [00:01<?, ?it/s, loss=0.0277]\u001b[A"
          ]
        },
        {
          "output_type": "stream",
          "name": "stdout",
          "text": [
            "Epoch 432/500, Train Loss: 0.0336, Validation Loss: 0.0413, F1 Score: 1.0000, Accuracy: 1.0000\n"
          ]
        },
        {
          "output_type": "stream",
          "name": "stderr",
          "text": [
            "Epoch 432/500:   0%|          | 0/4 [00:01<?, ?it/s, loss=0.0277]\n",
            "Epoch 433/500:   0%|          | 0/4 [00:01<?, ?it/s, loss=0.0344]"
          ]
        },
        {
          "output_type": "stream",
          "name": "stdout",
          "text": [
            "Epoch 433/500, Train Loss: 0.0504, Validation Loss: 0.0517, F1 Score: 1.0000, Accuracy: 1.0000\n"
          ]
        },
        {
          "output_type": "stream",
          "name": "stderr",
          "text": [
            "\n",
            "Epoch 433/500:   0%|          | 0/4 [00:01<?, ?it/s, loss=0.0344]\n",
            "\n",
            "Epoch 434/500:   0%|          | 0/4 [00:00<?, ?it/s, loss=0.0209]\u001b[A\n",
            "Epoch 434/500:   0%|          | 0/4 [00:00<?, ?it/s, loss=0.042] \u001b[A\n",
            "Epoch 434/500:   0%|          | 0/4 [00:00<?, ?it/s, loss=0.0367]\u001b[A\n",
            "Epoch 434/500:   0%|          | 0/4 [00:01<?, ?it/s, loss=0.028] \u001b[A"
          ]
        },
        {
          "output_type": "stream",
          "name": "stdout",
          "text": [
            "Epoch 434/500, Train Loss: 0.0319, Validation Loss: 0.0542, F1 Score: 1.0000, Accuracy: 1.0000\n"
          ]
        },
        {
          "output_type": "stream",
          "name": "stderr",
          "text": [
            "Epoch 434/500:   0%|          | 0/4 [00:01<?, ?it/s, loss=0.028]\n",
            "Epoch 435/500:   0%|          | 0/4 [00:00<?, ?it/s, loss=0.0137]"
          ]
        },
        {
          "output_type": "stream",
          "name": "stdout",
          "text": [
            "Epoch 435/500, Train Loss: 0.0249, Validation Loss: 0.0469, F1 Score: 1.0000, Accuracy: 1.0000\n"
          ]
        },
        {
          "output_type": "stream",
          "name": "stderr",
          "text": [
            "\n",
            "Epoch 435/500:   0%|          | 0/4 [00:01<?, ?it/s, loss=0.0137]\n",
            "\n",
            "Epoch 436/500:   0%|          | 0/4 [00:00<?, ?it/s, loss=0.0244]\u001b[A\n",
            "Epoch 436/500:   0%|          | 0/4 [00:00<?, ?it/s, loss=0.0138]\u001b[A\n",
            "Epoch 436/500:   0%|          | 0/4 [00:00<?, ?it/s, loss=0.0573]\u001b[A\n",
            "Epoch 436/500:   0%|          | 0/4 [00:01<?, ?it/s, loss=0.0307]\u001b[A"
          ]
        },
        {
          "output_type": "stream",
          "name": "stdout",
          "text": [
            "Epoch 436/500, Train Loss: 0.0316, Validation Loss: 0.0381, F1 Score: 1.0000, Accuracy: 1.0000\n"
          ]
        },
        {
          "output_type": "stream",
          "name": "stderr",
          "text": [
            "Epoch 436/500:   0%|          | 0/4 [00:01<?, ?it/s, loss=0.0307]\n",
            "Epoch 437/500:   0%|          | 0/4 [00:00<?, ?it/s, loss=0.0476]"
          ]
        },
        {
          "output_type": "stream",
          "name": "stdout",
          "text": [
            "Epoch 437/500, Train Loss: 0.0457, Validation Loss: 0.0226, F1 Score: 1.0000, Accuracy: 1.0000\n"
          ]
        },
        {
          "output_type": "stream",
          "name": "stderr",
          "text": [
            "\n",
            "Epoch 437/500:   0%|          | 0/4 [00:01<?, ?it/s, loss=0.0476]\n",
            "\n",
            "Epoch 438/500:   0%|          | 0/4 [00:00<?, ?it/s, loss=0.0747]\u001b[A\n",
            "Epoch 438/500:   0%|          | 0/4 [00:00<?, ?it/s, loss=0.0524]\u001b[A\n",
            "Epoch 438/500:   0%|          | 0/4 [00:00<?, ?it/s, loss=0.0326]\u001b[A\n",
            "Epoch 438/500:   0%|          | 0/4 [00:01<?, ?it/s, loss=0.0155]\u001b[A"
          ]
        },
        {
          "output_type": "stream",
          "name": "stdout",
          "text": [
            "Epoch 438/500, Train Loss: 0.0438, Validation Loss: 0.0472, F1 Score: 1.0000, Accuracy: 1.0000\n"
          ]
        },
        {
          "output_type": "stream",
          "name": "stderr",
          "text": [
            "Epoch 438/500:   0%|          | 0/4 [00:01<?, ?it/s, loss=0.0155]\n",
            "Epoch 439/500:   0%|          | 0/4 [00:00<?, ?it/s, loss=0.0181]"
          ]
        },
        {
          "output_type": "stream",
          "name": "stdout",
          "text": [
            "Epoch 439/500, Train Loss: 0.0349, Validation Loss: 0.0351, F1 Score: 1.0000, Accuracy: 1.0000\n"
          ]
        },
        {
          "output_type": "stream",
          "name": "stderr",
          "text": [
            "\n",
            "Epoch 439/500:   0%|          | 0/4 [00:01<?, ?it/s, loss=0.0181]\n",
            "\n",
            "Epoch 440/500:   0%|          | 0/4 [00:00<?, ?it/s, loss=0.0268]\u001b[A\n",
            "Epoch 440/500:   0%|          | 0/4 [00:00<?, ?it/s, loss=0.087] \u001b[A\n",
            "Epoch 440/500:   0%|          | 0/4 [00:00<?, ?it/s, loss=0.0377]\u001b[A\n",
            "Epoch 440/500:   0%|          | 0/4 [00:00<?, ?it/s, loss=0.025] \u001b[A"
          ]
        },
        {
          "output_type": "stream",
          "name": "stdout",
          "text": [
            "Epoch 440/500, Train Loss: 0.0441, Validation Loss: 0.0448, F1 Score: 1.0000, Accuracy: 1.0000\n"
          ]
        },
        {
          "output_type": "stream",
          "name": "stderr",
          "text": [
            "Epoch 440/500:   0%|          | 0/4 [00:01<?, ?it/s, loss=0.025]\n",
            "Epoch 441/500:   0%|          | 0/4 [00:00<?, ?it/s, loss=0.0315]"
          ]
        },
        {
          "output_type": "stream",
          "name": "stdout",
          "text": [
            "Epoch 441/500, Train Loss: 0.0546, Validation Loss: 0.0533, F1 Score: 1.0000, Accuracy: 1.0000\n"
          ]
        },
        {
          "output_type": "stream",
          "name": "stderr",
          "text": [
            "\n",
            "Epoch 441/500:   0%|          | 0/4 [00:01<?, ?it/s, loss=0.0315]\n",
            "\n",
            "Epoch 442/500:   0%|          | 0/4 [00:00<?, ?it/s, loss=0.0507]\u001b[A\n",
            "Epoch 442/500:   0%|          | 0/4 [00:00<?, ?it/s, loss=0.0469]\u001b[A\n",
            "Epoch 442/500:   0%|          | 0/4 [00:00<?, ?it/s, loss=0.0453]\u001b[A\n",
            "Epoch 442/500:   0%|          | 0/4 [00:01<?, ?it/s, loss=0.0388]\u001b[A"
          ]
        },
        {
          "output_type": "stream",
          "name": "stdout",
          "text": [
            "Epoch 442/500, Train Loss: 0.0454, Validation Loss: 0.0413, F1 Score: 1.0000, Accuracy: 1.0000\n"
          ]
        },
        {
          "output_type": "stream",
          "name": "stderr",
          "text": [
            "Epoch 442/500:   0%|          | 0/4 [00:01<?, ?it/s, loss=0.0388]\n",
            "Epoch 443/500:   0%|          | 0/4 [00:01<?, ?it/s, loss=0.0448]"
          ]
        },
        {
          "output_type": "stream",
          "name": "stdout",
          "text": [
            "Epoch 443/500, Train Loss: 0.0428, Validation Loss: 0.0414, F1 Score: 1.0000, Accuracy: 1.0000\n"
          ]
        },
        {
          "output_type": "stream",
          "name": "stderr",
          "text": [
            "\n",
            "Epoch 443/500:   0%|          | 0/4 [00:01<?, ?it/s, loss=0.0448]\n",
            "\n",
            "Epoch 444/500:   0%|          | 0/4 [00:00<?, ?it/s, loss=0.0368]\u001b[A\n",
            "Epoch 444/500:   0%|          | 0/4 [00:00<?, ?it/s, loss=0.0377]\u001b[A\n",
            "Epoch 444/500:   0%|          | 0/4 [00:00<?, ?it/s, loss=0.0282]\u001b[A\n",
            "Epoch 444/500:   0%|          | 0/4 [00:01<?, ?it/s, loss=0.04]  \u001b[A"
          ]
        },
        {
          "output_type": "stream",
          "name": "stdout",
          "text": [
            "Epoch 444/500, Train Loss: 0.0357, Validation Loss: 0.0507, F1 Score: 1.0000, Accuracy: 1.0000\n"
          ]
        },
        {
          "output_type": "stream",
          "name": "stderr",
          "text": [
            "Epoch 444/500:   0%|          | 0/4 [00:01<?, ?it/s, loss=0.04]\n",
            "Epoch 445/500:   0%|          | 0/4 [00:00<?, ?it/s, loss=0.00928]"
          ]
        },
        {
          "output_type": "stream",
          "name": "stdout",
          "text": [
            "Epoch 445/500, Train Loss: 0.0264, Validation Loss: 0.0688, F1 Score: 1.0000, Accuracy: 1.0000\n"
          ]
        },
        {
          "output_type": "stream",
          "name": "stderr",
          "text": [
            "\n",
            "Epoch 445/500:   0%|          | 0/4 [00:01<?, ?it/s, loss=0.00928]\n",
            "\n",
            "Epoch 446/500:   0%|          | 0/4 [00:00<?, ?it/s, loss=0.0184]\u001b[A\n",
            "Epoch 446/500:   0%|          | 0/4 [00:00<?, ?it/s, loss=0.064] \u001b[A\n",
            "Epoch 446/500:   0%|          | 0/4 [00:00<?, ?it/s, loss=0.0698]\u001b[A\n",
            "Epoch 446/500:   0%|          | 0/4 [00:00<?, ?it/s, loss=0.047] \u001b[A"
          ]
        },
        {
          "output_type": "stream",
          "name": "stdout",
          "text": [
            "Epoch 446/500, Train Loss: 0.0498, Validation Loss: 0.0415, F1 Score: 1.0000, Accuracy: 1.0000\n"
          ]
        },
        {
          "output_type": "stream",
          "name": "stderr",
          "text": [
            "Epoch 446/500:   0%|          | 0/4 [00:01<?, ?it/s, loss=0.047]\n",
            "Epoch 447/500:   0%|          | 0/4 [00:00<?, ?it/s, loss=0.0159]"
          ]
        },
        {
          "output_type": "stream",
          "name": "stdout",
          "text": [
            "Epoch 447/500, Train Loss: 0.0267, Validation Loss: 0.0155, F1 Score: 1.0000, Accuracy: 1.0000\n",
            "Best model saved with F1 score: 0.0155\n"
          ]
        },
        {
          "output_type": "stream",
          "name": "stderr",
          "text": [
            "\n",
            "Epoch 447/500:   0%|          | 0/4 [00:01<?, ?it/s, loss=0.0159]\n",
            "\n",
            "Epoch 448/500:   0%|          | 0/4 [00:00<?, ?it/s, loss=0.0277]\u001b[A\n",
            "Epoch 448/500:   0%|          | 0/4 [00:00<?, ?it/s, loss=0.0667]\u001b[A\n",
            "Epoch 448/500:   0%|          | 0/4 [00:01<?, ?it/s, loss=0.0515]\u001b[A\n",
            "Epoch 448/500:   0%|          | 0/4 [00:01<?, ?it/s, loss=0.0718]\u001b[A"
          ]
        },
        {
          "output_type": "stream",
          "name": "stdout",
          "text": [
            "Epoch 448/500, Train Loss: 0.0544, Validation Loss: 0.0648, F1 Score: 1.0000, Accuracy: 1.0000\n"
          ]
        },
        {
          "output_type": "stream",
          "name": "stderr",
          "text": [
            "Epoch 448/500:   0%|          | 0/4 [00:01<?, ?it/s, loss=0.0718]\n",
            "Epoch 449/500:   0%|          | 0/4 [00:00<?, ?it/s, loss=0.00604]"
          ]
        },
        {
          "output_type": "stream",
          "name": "stdout",
          "text": [
            "Epoch 449/500, Train Loss: 0.0453, Validation Loss: 0.0579, F1 Score: 1.0000, Accuracy: 1.0000\n"
          ]
        },
        {
          "output_type": "stream",
          "name": "stderr",
          "text": [
            "\n",
            "Epoch 449/500:   0%|          | 0/4 [00:01<?, ?it/s, loss=0.00604]\n",
            "\n",
            "Epoch 450/500:   0%|          | 0/4 [00:00<?, ?it/s, loss=0.0253]\u001b[A\n",
            "Epoch 450/500:   0%|          | 0/4 [00:00<?, ?it/s, loss=0.0667]\u001b[A\n",
            "Epoch 450/500:   0%|          | 0/4 [00:00<?, ?it/s, loss=0.0237]\u001b[A\n",
            "Epoch 450/500:   0%|          | 0/4 [00:00<?, ?it/s, loss=0.0371]\u001b[A"
          ]
        },
        {
          "output_type": "stream",
          "name": "stdout",
          "text": [
            "Epoch 450/500, Train Loss: 0.0382, Validation Loss: 0.0152, F1 Score: 1.0000, Accuracy: 1.0000\n",
            "Best model saved with F1 score: 0.0152\n"
          ]
        },
        {
          "output_type": "stream",
          "name": "stderr",
          "text": [
            "Epoch 450/500:   0%|          | 0/4 [00:01<?, ?it/s, loss=0.0371]\n",
            "Epoch 451/500:   0%|          | 0/4 [00:01<?, ?it/s, loss=0.0186]"
          ]
        },
        {
          "output_type": "stream",
          "name": "stdout",
          "text": [
            "Epoch 451/500, Train Loss: 0.0311, Validation Loss: 0.0399, F1 Score: 1.0000, Accuracy: 1.0000\n"
          ]
        },
        {
          "output_type": "stream",
          "name": "stderr",
          "text": [
            "\n",
            "Epoch 451/500:   0%|          | 0/4 [00:01<?, ?it/s, loss=0.0186]\n",
            "\n",
            "Epoch 452/500:   0%|          | 0/4 [00:00<?, ?it/s, loss=0.013]\u001b[A\n",
            "Epoch 452/500:   0%|          | 0/4 [00:00<?, ?it/s, loss=0.037]\u001b[A\n",
            "Epoch 452/500:   0%|          | 0/4 [00:00<?, ?it/s, loss=0.0362]\u001b[A\n",
            "Epoch 452/500:   0%|          | 0/4 [00:01<?, ?it/s, loss=0.0121]\u001b[A"
          ]
        },
        {
          "output_type": "stream",
          "name": "stdout",
          "text": [
            "Epoch 452/500, Train Loss: 0.0246, Validation Loss: 0.0479, F1 Score: 1.0000, Accuracy: 1.0000\n"
          ]
        },
        {
          "output_type": "stream",
          "name": "stderr",
          "text": [
            "Epoch 452/500:   0%|          | 0/4 [00:01<?, ?it/s, loss=0.0121]\n",
            "Epoch 453/500:   0%|          | 0/4 [00:01<?, ?it/s, loss=0.0357]"
          ]
        },
        {
          "output_type": "stream",
          "name": "stdout",
          "text": [
            "Epoch 453/500, Train Loss: 0.0296, Validation Loss: 0.0407, F1 Score: 1.0000, Accuracy: 1.0000\n"
          ]
        },
        {
          "output_type": "stream",
          "name": "stderr",
          "text": [
            "\n",
            "Epoch 453/500:   0%|          | 0/4 [00:01<?, ?it/s, loss=0.0357]\n",
            "\n",
            "Epoch 454/500:   0%|          | 0/4 [00:00<?, ?it/s, loss=0.0289]\u001b[A\n",
            "Epoch 454/500:   0%|          | 0/4 [00:00<?, ?it/s, loss=0.0504]\u001b[A\n",
            "Epoch 454/500:   0%|          | 0/4 [00:00<?, ?it/s, loss=0.0489]\u001b[A\n",
            "Epoch 454/500:   0%|          | 0/4 [00:01<?, ?it/s, loss=0.0413]\u001b[A"
          ]
        },
        {
          "output_type": "stream",
          "name": "stdout",
          "text": [
            "Epoch 454/500, Train Loss: 0.0424, Validation Loss: 0.0569, F1 Score: 1.0000, Accuracy: 1.0000\n"
          ]
        },
        {
          "output_type": "stream",
          "name": "stderr",
          "text": [
            "Epoch 454/500:   0%|          | 0/4 [00:01<?, ?it/s, loss=0.0413]\n",
            "Epoch 455/500:   0%|          | 0/4 [00:01<?, ?it/s, loss=0.0301]"
          ]
        },
        {
          "output_type": "stream",
          "name": "stdout",
          "text": [
            "Epoch 455/500, Train Loss: 0.0294, Validation Loss: 0.0374, F1 Score: 1.0000, Accuracy: 1.0000\n"
          ]
        },
        {
          "output_type": "stream",
          "name": "stderr",
          "text": [
            "\n",
            "Epoch 455/500:   0%|          | 0/4 [00:01<?, ?it/s, loss=0.0301]\n",
            "\n",
            "Epoch 456/500:   0%|          | 0/4 [00:00<?, ?it/s, loss=0.0296]\u001b[A\n",
            "Epoch 456/500:   0%|          | 0/4 [00:00<?, ?it/s, loss=0.0527]\u001b[A\n",
            "Epoch 456/500:   0%|          | 0/4 [00:00<?, ?it/s, loss=0.017] \u001b[A\n",
            "Epoch 456/500:   0%|          | 0/4 [00:01<?, ?it/s, loss=0.018]\u001b[A"
          ]
        },
        {
          "output_type": "stream",
          "name": "stdout",
          "text": [
            "Epoch 456/500, Train Loss: 0.0293, Validation Loss: 0.0261, F1 Score: 1.0000, Accuracy: 1.0000\n"
          ]
        },
        {
          "output_type": "stream",
          "name": "stderr",
          "text": [
            "Epoch 456/500:   0%|          | 0/4 [00:01<?, ?it/s, loss=0.018]\n",
            "Epoch 457/500:   0%|          | 0/4 [00:00<?, ?it/s, loss=0.0206]"
          ]
        },
        {
          "output_type": "stream",
          "name": "stdout",
          "text": [
            "Epoch 457/500, Train Loss: 0.0285, Validation Loss: 0.0268, F1 Score: 1.0000, Accuracy: 1.0000\n"
          ]
        },
        {
          "output_type": "stream",
          "name": "stderr",
          "text": [
            "\n",
            "Epoch 457/500:   0%|          | 0/4 [00:01<?, ?it/s, loss=0.0206]\n",
            "\n",
            "Epoch 458/500:   0%|          | 0/4 [00:00<?, ?it/s, loss=0.0225]\u001b[A\n",
            "Epoch 458/500:   0%|          | 0/4 [00:00<?, ?it/s, loss=0.128] \u001b[A\n",
            "Epoch 458/500:   0%|          | 0/4 [00:00<?, ?it/s, loss=0.0223]\u001b[A\n",
            "Epoch 458/500:   0%|          | 0/4 [00:01<?, ?it/s, loss=0.0222]\u001b[A"
          ]
        },
        {
          "output_type": "stream",
          "name": "stdout",
          "text": [
            "Epoch 458/500, Train Loss: 0.0488, Validation Loss: 0.0367, F1 Score: 1.0000, Accuracy: 1.0000\n"
          ]
        },
        {
          "output_type": "stream",
          "name": "stderr",
          "text": [
            "Epoch 458/500:   0%|          | 0/4 [00:01<?, ?it/s, loss=0.0222]\n",
            "Epoch 459/500:   0%|          | 0/4 [00:00<?, ?it/s, loss=0.0199]"
          ]
        },
        {
          "output_type": "stream",
          "name": "stdout",
          "text": [
            "Epoch 459/500, Train Loss: 0.0325, Validation Loss: 0.0410, F1 Score: 1.0000, Accuracy: 1.0000\n"
          ]
        },
        {
          "output_type": "stream",
          "name": "stderr",
          "text": [
            "\n",
            "Epoch 459/500:   0%|          | 0/4 [00:01<?, ?it/s, loss=0.0199]\n",
            "\n",
            "Epoch 460/500:   0%|          | 0/4 [00:00<?, ?it/s, loss=0.0318]\u001b[A\n",
            "Epoch 460/500:   0%|          | 0/4 [00:00<?, ?it/s, loss=0.034] \u001b[A\n",
            "Epoch 460/500:   0%|          | 0/4 [00:00<?, ?it/s, loss=0.028]\u001b[A\n",
            "Epoch 460/500:   0%|          | 0/4 [00:01<?, ?it/s, loss=0.0135]\u001b[A"
          ]
        },
        {
          "output_type": "stream",
          "name": "stdout",
          "text": [
            "Epoch 460/500, Train Loss: 0.0268, Validation Loss: 0.0414, F1 Score: 1.0000, Accuracy: 1.0000\n"
          ]
        },
        {
          "output_type": "stream",
          "name": "stderr",
          "text": [
            "Epoch 460/500:   0%|          | 0/4 [00:01<?, ?it/s, loss=0.0135]\n",
            "Epoch 461/500:   0%|          | 0/4 [00:01<?, ?it/s, loss=0.0434]"
          ]
        },
        {
          "output_type": "stream",
          "name": "stdout",
          "text": [
            "Epoch 461/500, Train Loss: 0.0316, Validation Loss: 0.0597, F1 Score: 1.0000, Accuracy: 1.0000\n"
          ]
        },
        {
          "output_type": "stream",
          "name": "stderr",
          "text": [
            "\n",
            "Epoch 461/500:   0%|          | 0/4 [00:01<?, ?it/s, loss=0.0434]\n",
            "\n",
            "Epoch 462/500:   0%|          | 0/4 [00:00<?, ?it/s, loss=0.0117]\u001b[A\n",
            "Epoch 462/500:   0%|          | 0/4 [00:00<?, ?it/s, loss=0.041] \u001b[A\n",
            "Epoch 462/500:   0%|          | 0/4 [00:00<?, ?it/s, loss=0.0425]\u001b[A\n",
            "Epoch 462/500:   0%|          | 0/4 [00:01<?, ?it/s, loss=0.0469]\u001b[A"
          ]
        },
        {
          "output_type": "stream",
          "name": "stdout",
          "text": [
            "Epoch 462/500, Train Loss: 0.0355, Validation Loss: 0.0410, F1 Score: 1.0000, Accuracy: 1.0000\n"
          ]
        },
        {
          "output_type": "stream",
          "name": "stderr",
          "text": [
            "Epoch 462/500:   0%|          | 0/4 [00:01<?, ?it/s, loss=0.0469]\n",
            "Epoch 463/500:   0%|          | 0/4 [00:01<?, ?it/s, loss=0.0244]"
          ]
        },
        {
          "output_type": "stream",
          "name": "stdout",
          "text": [
            "Epoch 463/500, Train Loss: 0.0333, Validation Loss: 0.0445, F1 Score: 1.0000, Accuracy: 1.0000\n"
          ]
        },
        {
          "output_type": "stream",
          "name": "stderr",
          "text": [
            "\n",
            "Epoch 463/500:   0%|          | 0/4 [00:01<?, ?it/s, loss=0.0244]\n",
            "\n",
            "Epoch 464/500:   0%|          | 0/4 [00:00<?, ?it/s, loss=0.0207]\u001b[A\n",
            "Epoch 464/500:   0%|          | 0/4 [00:00<?, ?it/s, loss=0.0522]\u001b[A\n",
            "Epoch 464/500:   0%|          | 0/4 [00:00<?, ?it/s, loss=0.0337]\u001b[A\n",
            "Epoch 464/500:   0%|          | 0/4 [00:01<?, ?it/s, loss=0.0255]\u001b[A"
          ]
        },
        {
          "output_type": "stream",
          "name": "stdout",
          "text": [
            "Epoch 464/500, Train Loss: 0.0330, Validation Loss: 0.0335, F1 Score: 1.0000, Accuracy: 1.0000\n"
          ]
        },
        {
          "output_type": "stream",
          "name": "stderr",
          "text": [
            "Epoch 464/500:   0%|          | 0/4 [00:01<?, ?it/s, loss=0.0255]\n",
            "Epoch 465/500:   0%|          | 0/4 [00:00<?, ?it/s, loss=0.0318]"
          ]
        },
        {
          "output_type": "stream",
          "name": "stdout",
          "text": [
            "Epoch 465/500, Train Loss: 0.0330, Validation Loss: 0.0392, F1 Score: 1.0000, Accuracy: 1.0000\n"
          ]
        },
        {
          "output_type": "stream",
          "name": "stderr",
          "text": [
            "\n",
            "Epoch 465/500:   0%|          | 0/4 [00:01<?, ?it/s, loss=0.0318]\n",
            "\n",
            "Epoch 466/500:   0%|          | 0/4 [00:00<?, ?it/s, loss=0.0664]\u001b[A\n",
            "Epoch 466/500:   0%|          | 0/4 [00:00<?, ?it/s, loss=0.0325]\u001b[A\n",
            "Epoch 466/500:   0%|          | 0/4 [00:00<?, ?it/s, loss=0.0111]\u001b[A\n",
            "Epoch 466/500:   0%|          | 0/4 [00:01<?, ?it/s, loss=0.0255]\u001b[A"
          ]
        },
        {
          "output_type": "stream",
          "name": "stdout",
          "text": [
            "Epoch 466/500, Train Loss: 0.0339, Validation Loss: 0.0326, F1 Score: 1.0000, Accuracy: 1.0000\n"
          ]
        },
        {
          "output_type": "stream",
          "name": "stderr",
          "text": [
            "Epoch 466/500:   0%|          | 0/4 [00:01<?, ?it/s, loss=0.0255]\n",
            "Epoch 467/500:   0%|          | 0/4 [00:00<?, ?it/s, loss=0.0359]"
          ]
        },
        {
          "output_type": "stream",
          "name": "stdout",
          "text": [
            "Epoch 467/500, Train Loss: 0.0387, Validation Loss: 0.0274, F1 Score: 1.0000, Accuracy: 1.0000\n"
          ]
        },
        {
          "output_type": "stream",
          "name": "stderr",
          "text": [
            "\n",
            "Epoch 467/500:   0%|          | 0/4 [00:01<?, ?it/s, loss=0.0359]\n",
            "\n",
            "Epoch 468/500:   0%|          | 0/4 [00:00<?, ?it/s, loss=0.0143]\u001b[A\n",
            "Epoch 468/500:   0%|          | 0/4 [00:00<?, ?it/s, loss=0.0198]\u001b[A\n",
            "Epoch 468/500:   0%|          | 0/4 [00:00<?, ?it/s, loss=0.0549]\u001b[A\n",
            "Epoch 468/500:   0%|          | 0/4 [00:01<?, ?it/s, loss=0.0168]\u001b[A"
          ]
        },
        {
          "output_type": "stream",
          "name": "stdout",
          "text": [
            "Epoch 468/500, Train Loss: 0.0265, Validation Loss: 0.0257, F1 Score: 1.0000, Accuracy: 1.0000\n"
          ]
        },
        {
          "output_type": "stream",
          "name": "stderr",
          "text": [
            "Epoch 468/500:   0%|          | 0/4 [00:01<?, ?it/s, loss=0.0168]\n",
            "Epoch 469/500:   0%|          | 0/4 [00:00<?, ?it/s, loss=0.0328]"
          ]
        },
        {
          "output_type": "stream",
          "name": "stdout",
          "text": [
            "Epoch 469/500, Train Loss: 0.0325, Validation Loss: 0.0347, F1 Score: 1.0000, Accuracy: 1.0000\n"
          ]
        },
        {
          "output_type": "stream",
          "name": "stderr",
          "text": [
            "\n",
            "Epoch 469/500:   0%|          | 0/4 [00:01<?, ?it/s, loss=0.0328]\n",
            "\n",
            "Epoch 470/500:   0%|          | 0/4 [00:00<?, ?it/s, loss=0.0226]\u001b[A\n",
            "Epoch 470/500:   0%|          | 0/4 [00:00<?, ?it/s, loss=0.0324]\u001b[A\n",
            "Epoch 470/500:   0%|          | 0/4 [00:00<?, ?it/s, loss=0.0215]\u001b[A\n",
            "Epoch 470/500:   0%|          | 0/4 [00:01<?, ?it/s, loss=0.0477]\u001b[A"
          ]
        },
        {
          "output_type": "stream",
          "name": "stdout",
          "text": [
            "Epoch 470/500, Train Loss: 0.0311, Validation Loss: 0.0337, F1 Score: 1.0000, Accuracy: 1.0000\n"
          ]
        },
        {
          "output_type": "stream",
          "name": "stderr",
          "text": [
            "Epoch 470/500:   0%|          | 0/4 [00:01<?, ?it/s, loss=0.0477]\n",
            "Epoch 471/500:   0%|          | 0/4 [00:00<?, ?it/s, loss=0.0292]"
          ]
        },
        {
          "output_type": "stream",
          "name": "stdout",
          "text": [
            "Epoch 471/500, Train Loss: 0.0418, Validation Loss: 0.0311, F1 Score: 1.0000, Accuracy: 1.0000\n"
          ]
        },
        {
          "output_type": "stream",
          "name": "stderr",
          "text": [
            "\n",
            "Epoch 471/500:   0%|          | 0/4 [00:01<?, ?it/s, loss=0.0292]\n",
            "\n",
            "Epoch 472/500:   0%|          | 0/4 [00:00<?, ?it/s, loss=0.022]\u001b[A\n",
            "Epoch 472/500:   0%|          | 0/4 [00:00<?, ?it/s, loss=0.0273]\u001b[A\n",
            "Epoch 472/500:   0%|          | 0/4 [00:00<?, ?it/s, loss=0.0355]\u001b[A\n",
            "Epoch 472/500:   0%|          | 0/4 [00:01<?, ?it/s, loss=0.0291]\u001b[A"
          ]
        },
        {
          "output_type": "stream",
          "name": "stdout",
          "text": [
            "Epoch 472/500, Train Loss: 0.0285, Validation Loss: 0.0259, F1 Score: 1.0000, Accuracy: 1.0000\n"
          ]
        },
        {
          "output_type": "stream",
          "name": "stderr",
          "text": [
            "Epoch 472/500:   0%|          | 0/4 [00:01<?, ?it/s, loss=0.0291]\n",
            "Epoch 473/500:   0%|          | 0/4 [00:01<?, ?it/s, loss=0.0252]"
          ]
        },
        {
          "output_type": "stream",
          "name": "stdout",
          "text": [
            "Epoch 473/500, Train Loss: 0.0317, Validation Loss: 0.0505, F1 Score: 1.0000, Accuracy: 1.0000\n"
          ]
        },
        {
          "output_type": "stream",
          "name": "stderr",
          "text": [
            "\n",
            "Epoch 473/500:   0%|          | 0/4 [00:01<?, ?it/s, loss=0.0252]\n",
            "\n",
            "Epoch 474/500:   0%|          | 0/4 [00:00<?, ?it/s, loss=0.0602]\u001b[A\n",
            "Epoch 474/500:   0%|          | 0/4 [00:00<?, ?it/s, loss=0.0579]\u001b[A\n",
            "Epoch 474/500:   0%|          | 0/4 [00:00<?, ?it/s, loss=0.00948]\u001b[A\n",
            "Epoch 474/500:   0%|          | 0/4 [00:00<?, ?it/s, loss=0.0252] \u001b[A"
          ]
        },
        {
          "output_type": "stream",
          "name": "stdout",
          "text": [
            "Epoch 474/500, Train Loss: 0.0382, Validation Loss: 0.0538, F1 Score: 1.0000, Accuracy: 1.0000\n"
          ]
        },
        {
          "output_type": "stream",
          "name": "stderr",
          "text": [
            "Epoch 474/500:   0%|          | 0/4 [00:01<?, ?it/s, loss=0.0252]\n",
            "Epoch 475/500:   0%|          | 0/4 [00:00<?, ?it/s, loss=0.0559]"
          ]
        },
        {
          "output_type": "stream",
          "name": "stdout",
          "text": [
            "Epoch 475/500, Train Loss: 0.0462, Validation Loss: 0.0358, F1 Score: 1.0000, Accuracy: 1.0000\n"
          ]
        },
        {
          "output_type": "stream",
          "name": "stderr",
          "text": [
            "\n",
            "Epoch 475/500:   0%|          | 0/4 [00:01<?, ?it/s, loss=0.0559]\n",
            "\n",
            "Epoch 476/500:   0%|          | 0/4 [00:00<?, ?it/s, loss=0.0303]\u001b[A\n",
            "Epoch 476/500:   0%|          | 0/4 [00:00<?, ?it/s, loss=0.0428]\u001b[A\n",
            "Epoch 476/500:   0%|          | 0/4 [00:00<?, ?it/s, loss=0.0559]\u001b[A\n",
            "Epoch 476/500:   0%|          | 0/4 [00:01<?, ?it/s, loss=0.0354]\u001b[A"
          ]
        },
        {
          "output_type": "stream",
          "name": "stdout",
          "text": [
            "Epoch 476/500, Train Loss: 0.0411, Validation Loss: 0.0506, F1 Score: 1.0000, Accuracy: 1.0000\n"
          ]
        },
        {
          "output_type": "stream",
          "name": "stderr",
          "text": [
            "Epoch 476/500:   0%|          | 0/4 [00:01<?, ?it/s, loss=0.0354]\n",
            "Epoch 477/500:   0%|          | 0/4 [00:00<?, ?it/s, loss=0.0242]"
          ]
        },
        {
          "output_type": "stream",
          "name": "stdout",
          "text": [
            "Epoch 477/500, Train Loss: 0.0317, Validation Loss: 0.0344, F1 Score: 1.0000, Accuracy: 1.0000\n"
          ]
        },
        {
          "output_type": "stream",
          "name": "stderr",
          "text": [
            "\n",
            "Epoch 477/500:   0%|          | 0/4 [00:01<?, ?it/s, loss=0.0242]\n",
            "\n",
            "Epoch 478/500:   0%|          | 0/4 [00:00<?, ?it/s, loss=0.0299]\u001b[A\n",
            "Epoch 478/500:   0%|          | 0/4 [00:00<?, ?it/s, loss=0.0352]\u001b[A\n",
            "Epoch 478/500:   0%|          | 0/4 [00:00<?, ?it/s, loss=0.0362]\u001b[A\n",
            "Epoch 478/500:   0%|          | 0/4 [00:00<?, ?it/s, loss=0.0511]\u001b[A"
          ]
        },
        {
          "output_type": "stream",
          "name": "stdout",
          "text": [
            "Epoch 478/500, Train Loss: 0.0381, Validation Loss: 0.0250, F1 Score: 1.0000, Accuracy: 1.0000\n"
          ]
        },
        {
          "output_type": "stream",
          "name": "stderr",
          "text": [
            "Epoch 478/500:   0%|          | 0/4 [00:01<?, ?it/s, loss=0.0511]\n",
            "Epoch 479/500:   0%|          | 0/4 [00:00<?, ?it/s, loss=0.0375]"
          ]
        },
        {
          "output_type": "stream",
          "name": "stdout",
          "text": [
            "Epoch 479/500, Train Loss: 0.0261, Validation Loss: 0.0348, F1 Score: 1.0000, Accuracy: 1.0000\n"
          ]
        },
        {
          "output_type": "stream",
          "name": "stderr",
          "text": [
            "\n",
            "Epoch 479/500:   0%|          | 0/4 [00:01<?, ?it/s, loss=0.0375]\n",
            "\n",
            "Epoch 480/500:   0%|          | 0/4 [00:00<?, ?it/s, loss=0.0207]\u001b[A\n",
            "Epoch 480/500:   0%|          | 0/4 [00:00<?, ?it/s, loss=0.0269]\u001b[A\n",
            "Epoch 480/500:   0%|          | 0/4 [00:00<?, ?it/s, loss=0.0308]\u001b[A\n",
            "Epoch 480/500:   0%|          | 0/4 [00:00<?, ?it/s, loss=0.0422]\u001b[A"
          ]
        },
        {
          "output_type": "stream",
          "name": "stdout",
          "text": [
            "Epoch 480/500, Train Loss: 0.0301, Validation Loss: 0.0287, F1 Score: 1.0000, Accuracy: 1.0000\n"
          ]
        },
        {
          "output_type": "stream",
          "name": "stderr",
          "text": [
            "Epoch 480/500:   0%|          | 0/4 [00:01<?, ?it/s, loss=0.0422]\n",
            "Epoch 481/500:   0%|          | 0/4 [00:00<?, ?it/s, loss=0.0233]"
          ]
        },
        {
          "output_type": "stream",
          "name": "stdout",
          "text": [
            "Epoch 481/500, Train Loss: 0.0297, Validation Loss: 0.0357, F1 Score: 1.0000, Accuracy: 1.0000\n"
          ]
        },
        {
          "output_type": "stream",
          "name": "stderr",
          "text": [
            "\n",
            "Epoch 481/500:   0%|          | 0/4 [00:01<?, ?it/s, loss=0.0233]\n",
            "\n",
            "Epoch 482/500:   0%|          | 0/4 [00:00<?, ?it/s, loss=0.0257]\u001b[A\n",
            "Epoch 482/500:   0%|          | 0/4 [00:00<?, ?it/s, loss=0.136] \u001b[A\n",
            "Epoch 482/500:   0%|          | 0/4 [00:00<?, ?it/s, loss=0.0259]\u001b[A\n",
            "Epoch 482/500:   0%|          | 0/4 [00:01<?, ?it/s, loss=0.0284]\u001b[A"
          ]
        },
        {
          "output_type": "stream",
          "name": "stdout",
          "text": [
            "Epoch 482/500, Train Loss: 0.0541, Validation Loss: 0.0206, F1 Score: 1.0000, Accuracy: 1.0000\n"
          ]
        },
        {
          "output_type": "stream",
          "name": "stderr",
          "text": [
            "Epoch 482/500:   0%|          | 0/4 [00:01<?, ?it/s, loss=0.0284]\n",
            "Epoch 483/500:   0%|          | 0/4 [00:01<?, ?it/s, loss=0.0241]"
          ]
        },
        {
          "output_type": "stream",
          "name": "stdout",
          "text": [
            "Epoch 483/500, Train Loss: 0.0382, Validation Loss: 0.0493, F1 Score: 1.0000, Accuracy: 1.0000\n"
          ]
        },
        {
          "output_type": "stream",
          "name": "stderr",
          "text": [
            "\n",
            "Epoch 483/500:   0%|          | 0/4 [00:01<?, ?it/s, loss=0.0241]\n",
            "\n",
            "Epoch 484/500:   0%|          | 0/4 [00:00<?, ?it/s, loss=0.0322]\u001b[A\n",
            "Epoch 484/500:   0%|          | 0/4 [00:00<?, ?it/s, loss=0.0336]\u001b[A\n",
            "Epoch 484/500:   0%|          | 0/4 [00:00<?, ?it/s, loss=0.0375]\u001b[A\n",
            "Epoch 484/500:   0%|          | 0/4 [00:01<?, ?it/s, loss=0.04]  \u001b[A"
          ]
        },
        {
          "output_type": "stream",
          "name": "stdout",
          "text": [
            "Epoch 484/500, Train Loss: 0.0358, Validation Loss: 0.0514, F1 Score: 1.0000, Accuracy: 1.0000\n"
          ]
        },
        {
          "output_type": "stream",
          "name": "stderr",
          "text": [
            "Epoch 484/500:   0%|          | 0/4 [00:01<?, ?it/s, loss=0.04]\n",
            "Epoch 485/500:   0%|          | 0/4 [00:00<?, ?it/s, loss=0.0453]"
          ]
        },
        {
          "output_type": "stream",
          "name": "stdout",
          "text": [
            "Epoch 485/500, Train Loss: 0.0307, Validation Loss: 0.0441, F1 Score: 1.0000, Accuracy: 1.0000\n"
          ]
        },
        {
          "output_type": "stream",
          "name": "stderr",
          "text": [
            "\n",
            "Epoch 485/500:   0%|          | 0/4 [00:01<?, ?it/s, loss=0.0453]\n",
            "\n",
            "Epoch 486/500:   0%|          | 0/4 [00:00<?, ?it/s, loss=0.01]\u001b[A\n",
            "Epoch 486/500:   0%|          | 0/4 [00:00<?, ?it/s, loss=0.0513]\u001b[A\n",
            "Epoch 486/500:   0%|          | 0/4 [00:00<?, ?it/s, loss=0.069] \u001b[A\n",
            "Epoch 486/500:   0%|          | 0/4 [00:00<?, ?it/s, loss=0.0375]\u001b[A"
          ]
        },
        {
          "output_type": "stream",
          "name": "stdout",
          "text": [
            "Epoch 486/500, Train Loss: 0.0420, Validation Loss: 0.0274, F1 Score: 1.0000, Accuracy: 1.0000\n"
          ]
        },
        {
          "output_type": "stream",
          "name": "stderr",
          "text": [
            "Epoch 486/500:   0%|          | 0/4 [00:01<?, ?it/s, loss=0.0375]\n",
            "Epoch 487/500:   0%|          | 0/4 [00:00<?, ?it/s, loss=0.0343]"
          ]
        },
        {
          "output_type": "stream",
          "name": "stdout",
          "text": [
            "Epoch 487/500, Train Loss: 0.0308, Validation Loss: 0.0317, F1 Score: 1.0000, Accuracy: 1.0000\n"
          ]
        },
        {
          "output_type": "stream",
          "name": "stderr",
          "text": [
            "\n",
            "Epoch 487/500:   0%|          | 0/4 [00:01<?, ?it/s, loss=0.0343]\n",
            "\n",
            "Epoch 488/500:   0%|          | 0/4 [00:00<?, ?it/s, loss=0.0114]\u001b[A\n",
            "Epoch 488/500:   0%|          | 0/4 [00:00<?, ?it/s, loss=0.0378]\u001b[A\n",
            "Epoch 488/500:   0%|          | 0/4 [00:00<?, ?it/s, loss=0.041] \u001b[A\n",
            "Epoch 488/500:   0%|          | 0/4 [00:01<?, ?it/s, loss=0.0107]\u001b[A"
          ]
        },
        {
          "output_type": "stream",
          "name": "stdout",
          "text": [
            "Epoch 488/500, Train Loss: 0.0252, Validation Loss: 0.0656, F1 Score: 1.0000, Accuracy: 1.0000\n"
          ]
        },
        {
          "output_type": "stream",
          "name": "stderr",
          "text": [
            "Epoch 488/500:   0%|          | 0/4 [00:01<?, ?it/s, loss=0.0107]\n",
            "Epoch 489/500:   0%|          | 0/4 [00:00<?, ?it/s, loss=0.036] "
          ]
        },
        {
          "output_type": "stream",
          "name": "stdout",
          "text": [
            "Epoch 489/500, Train Loss: 0.0474, Validation Loss: 0.0303, F1 Score: 1.0000, Accuracy: 1.0000\n"
          ]
        },
        {
          "output_type": "stream",
          "name": "stderr",
          "text": [
            "\n",
            "Epoch 489/500:   0%|          | 0/4 [00:01<?, ?it/s, loss=0.036]\n",
            "\n",
            "Epoch 490/500:   0%|          | 0/4 [00:00<?, ?it/s, loss=0.0366]\u001b[A\n",
            "Epoch 490/500:   0%|          | 0/4 [00:00<?, ?it/s, loss=0.0349]\u001b[A\n",
            "Epoch 490/500:   0%|          | 0/4 [00:00<?, ?it/s, loss=0.014] \u001b[A\n",
            "Epoch 490/500:   0%|          | 0/4 [00:01<?, ?it/s, loss=0.0288]\u001b[A"
          ]
        },
        {
          "output_type": "stream",
          "name": "stdout",
          "text": [
            "Epoch 490/500, Train Loss: 0.0286, Validation Loss: 0.0426, F1 Score: 1.0000, Accuracy: 1.0000\n"
          ]
        },
        {
          "output_type": "stream",
          "name": "stderr",
          "text": [
            "Epoch 490/500:   0%|          | 0/4 [00:01<?, ?it/s, loss=0.0288]\n",
            "Epoch 491/500:   0%|          | 0/4 [00:00<?, ?it/s, loss=0.014] "
          ]
        },
        {
          "output_type": "stream",
          "name": "stdout",
          "text": [
            "Epoch 491/500, Train Loss: 0.0293, Validation Loss: 0.0311, F1 Score: 1.0000, Accuracy: 1.0000\n"
          ]
        },
        {
          "output_type": "stream",
          "name": "stderr",
          "text": [
            "\n",
            "Epoch 491/500:   0%|          | 0/4 [00:01<?, ?it/s, loss=0.014]\n",
            "\n",
            "Epoch 492/500:   0%|          | 0/4 [00:00<?, ?it/s, loss=0.0153]\u001b[A\n",
            "Epoch 492/500:   0%|          | 0/4 [00:00<?, ?it/s, loss=0.0101]\u001b[A\n",
            "Epoch 492/500:   0%|          | 0/4 [00:00<?, ?it/s, loss=0.0238]\u001b[A\n",
            "Epoch 492/500:   0%|          | 0/4 [00:01<?, ?it/s, loss=0.0454]\u001b[A"
          ]
        },
        {
          "output_type": "stream",
          "name": "stdout",
          "text": [
            "Epoch 492/500, Train Loss: 0.0237, Validation Loss: 0.0378, F1 Score: 1.0000, Accuracy: 1.0000\n"
          ]
        },
        {
          "output_type": "stream",
          "name": "stderr",
          "text": [
            "Epoch 492/500:   0%|          | 0/4 [00:01<?, ?it/s, loss=0.0454]\n",
            "Epoch 493/500:   0%|          | 0/4 [00:01<?, ?it/s, loss=0.024] "
          ]
        },
        {
          "output_type": "stream",
          "name": "stdout",
          "text": [
            "Epoch 493/500, Train Loss: 0.0349, Validation Loss: 0.0290, F1 Score: 1.0000, Accuracy: 1.0000\n"
          ]
        },
        {
          "output_type": "stream",
          "name": "stderr",
          "text": [
            "\n",
            "Epoch 493/500:   0%|          | 0/4 [00:01<?, ?it/s, loss=0.024]\n",
            "\n",
            "Epoch 494/500:   0%|          | 0/4 [00:00<?, ?it/s, loss=0.0237]\u001b[A\n",
            "Epoch 494/500:   0%|          | 0/4 [00:00<?, ?it/s, loss=0.0387]\u001b[A\n",
            "Epoch 494/500:   0%|          | 0/4 [00:00<?, ?it/s, loss=0.0332]\u001b[A\n",
            "Epoch 494/500:   0%|          | 0/4 [00:01<?, ?it/s, loss=0.0467]\u001b[A"
          ]
        },
        {
          "output_type": "stream",
          "name": "stdout",
          "text": [
            "Epoch 494/500, Train Loss: 0.0356, Validation Loss: 0.0409, F1 Score: 1.0000, Accuracy: 1.0000\n"
          ]
        },
        {
          "output_type": "stream",
          "name": "stderr",
          "text": [
            "Epoch 494/500:   0%|          | 0/4 [00:01<?, ?it/s, loss=0.0467]\n",
            "Epoch 495/500:   0%|          | 0/4 [00:00<?, ?it/s, loss=0.025] "
          ]
        },
        {
          "output_type": "stream",
          "name": "stdout",
          "text": [
            "Epoch 495/500, Train Loss: 0.0432, Validation Loss: 0.0379, F1 Score: 1.0000, Accuracy: 1.0000\n"
          ]
        },
        {
          "output_type": "stream",
          "name": "stderr",
          "text": [
            "\n",
            "Epoch 495/500:   0%|          | 0/4 [00:01<?, ?it/s, loss=0.025]\n",
            "\n",
            "Epoch 496/500:   0%|          | 0/4 [00:00<?, ?it/s, loss=0.0242]\u001b[A\n",
            "Epoch 496/500:   0%|          | 0/4 [00:00<?, ?it/s, loss=0.0149]\u001b[A\n",
            "Epoch 496/500:   0%|          | 0/4 [00:00<?, ?it/s, loss=0.0305]\u001b[A\n",
            "Epoch 496/500:   0%|          | 0/4 [00:01<?, ?it/s, loss=0.0431]\u001b[A"
          ]
        },
        {
          "output_type": "stream",
          "name": "stdout",
          "text": [
            "Epoch 496/500, Train Loss: 0.0282, Validation Loss: 0.0433, F1 Score: 1.0000, Accuracy: 1.0000\n"
          ]
        },
        {
          "output_type": "stream",
          "name": "stderr",
          "text": [
            "Epoch 496/500:   0%|          | 0/4 [00:01<?, ?it/s, loss=0.0431]\n",
            "Epoch 497/500:   0%|          | 0/4 [00:00<?, ?it/s, loss=0.0365]"
          ]
        },
        {
          "output_type": "stream",
          "name": "stdout",
          "text": [
            "Epoch 497/500, Train Loss: 0.0430, Validation Loss: 0.0556, F1 Score: 1.0000, Accuracy: 1.0000\n"
          ]
        },
        {
          "output_type": "stream",
          "name": "stderr",
          "text": [
            "\n",
            "Epoch 497/500:   0%|          | 0/4 [00:01<?, ?it/s, loss=0.0365]\n",
            "\n",
            "Epoch 498/500:   0%|          | 0/4 [00:00<?, ?it/s, loss=0.018]\u001b[A\n",
            "Epoch 498/500:   0%|          | 0/4 [00:00<?, ?it/s, loss=0.0381]\u001b[A\n",
            "Epoch 498/500:   0%|          | 0/4 [00:00<?, ?it/s, loss=0.0334]\u001b[A\n",
            "Epoch 498/500:   0%|          | 0/4 [00:00<?, ?it/s, loss=0.0269]\u001b[A"
          ]
        },
        {
          "output_type": "stream",
          "name": "stdout",
          "text": [
            "Epoch 498/500, Train Loss: 0.0291, Validation Loss: 0.0501, F1 Score: 1.0000, Accuracy: 1.0000\n"
          ]
        },
        {
          "output_type": "stream",
          "name": "stderr",
          "text": [
            "Epoch 498/500:   0%|          | 0/4 [00:01<?, ?it/s, loss=0.0269]\n",
            "Epoch 499/500:   0%|          | 0/4 [00:00<?, ?it/s, loss=0.0374]"
          ]
        },
        {
          "output_type": "stream",
          "name": "stdout",
          "text": [
            "Epoch 499/500, Train Loss: 0.0377, Validation Loss: 0.0352, F1 Score: 1.0000, Accuracy: 1.0000\n"
          ]
        },
        {
          "output_type": "stream",
          "name": "stderr",
          "text": [
            "\n",
            "Epoch 499/500:   0%|          | 0/4 [00:01<?, ?it/s, loss=0.0374]\n",
            "\n",
            "Epoch 500/500:   0%|          | 0/4 [00:00<?, ?it/s, loss=0.00864]\u001b[A\n",
            "Epoch 500/500:   0%|          | 0/4 [00:00<?, ?it/s, loss=0.045]  \u001b[A\n",
            "Epoch 500/500:   0%|          | 0/4 [00:00<?, ?it/s, loss=0.0405]\u001b[A\n",
            "Epoch 500/500:   0%|          | 0/4 [00:01<?, ?it/s, loss=0.0108]\u001b[A"
          ]
        },
        {
          "output_type": "stream",
          "name": "stdout",
          "text": [
            "Epoch 500/500, Train Loss: 0.0262, Validation Loss: 0.0309, F1 Score: 1.0000, Accuracy: 1.0000\n"
          ]
        }
      ]
    },
    {
      "cell_type": "code",
      "source": [
        "# --- Plotting Learning Curves ---\n",
        "plt.figure(figsize=(12, 6))\n",
        "\n",
        "# Plot Loss\n",
        "plt.subplot(1, 2, 1)\n",
        "plt.plot(train_losses, label='Train Loss')\n",
        "plt.plot(val_losses, label='Validation Loss')\n",
        "plt.xlabel('Epoch')\n",
        "plt.ylabel('Loss')\n",
        "plt.title('Training and Validation Loss')\n",
        "plt.legend()\n",
        "\n",
        "# Plot Metrics\n",
        "plt.subplot(1, 2, 2)\n",
        "plt.plot(val_f1_scores, label='Validation F1 Score')\n",
        "plt.plot(val_accuracies, label='Validation Accuracy')\n",
        "plt.xlabel('Epoch')\n",
        "plt.ylabel('Metric Value')\n",
        "plt.title('Validation F1 Score and Accuracy')\n",
        "plt.legend()\n",
        "\n",
        "plt.tight_layout()\n",
        "plt.savefig(os.path.join(plots_save_dir, \"learning_curves_3_classes.png\")) # Сохраняем график\n",
        "plt.show()"
      ],
      "metadata": {
        "id": "IYX3MOF8LTxd",
        "colab": {
          "base_uri": "https://localhost:8080/"
        },
        "outputId": "74e95eac-f15f-4c1f-f379-f709dd787167"
      },
      "execution_count": null,
      "outputs": [
        {
          "output_type": "display_data",
          "data": {
            "text/plain": [
              "<Figure size 1200x600 with 2 Axes>"
            ],
            "image/png": "[encoded data removed]"
          },
          "metadata": {}
        }
      ]
    }
  ]
}